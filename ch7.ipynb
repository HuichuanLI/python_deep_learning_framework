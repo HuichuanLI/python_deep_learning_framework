{
 "cells": [
  {
   "cell_type": "code",
   "execution_count": 4,
   "metadata": {
    "pycharm": {
     "name": "#%%\n"
    }
   },
   "outputs": [
    {
     "data": {
      "text/html": [
       "<div>\n",
       "<style scoped>\n",
       "    .dataframe tbody tr th:only-of-type {\n",
       "        vertical-align: middle;\n",
       "    }\n",
       "\n",
       "    .dataframe tbody tr th {\n",
       "        vertical-align: top;\n",
       "    }\n",
       "\n",
       "    .dataframe thead th {\n",
       "        text-align: right;\n",
       "    }\n",
       "</style>\n",
       "<table border=\"1\" class=\"dataframe\">\n",
       "  <thead>\n",
       "    <tr style=\"text-align: right;\">\n",
       "      <th></th>\n",
       "      <th>Date</th>\n",
       "      <th>Open</th>\n",
       "      <th>High</th>\n",
       "      <th>Low</th>\n",
       "      <th>Close</th>\n",
       "      <th>Volume</th>\n",
       "    </tr>\n",
       "  </thead>\n",
       "  <tbody>\n",
       "    <tr>\n",
       "      <th>0</th>\n",
       "      <td>03-01-00</td>\n",
       "      <td>1469.250000</td>\n",
       "      <td>1478.000000</td>\n",
       "      <td>1438.359985</td>\n",
       "      <td>1455.219971</td>\n",
       "      <td>931800000</td>\n",
       "    </tr>\n",
       "    <tr>\n",
       "      <th>1</th>\n",
       "      <td>04-01-00</td>\n",
       "      <td>1455.219971</td>\n",
       "      <td>1455.219971</td>\n",
       "      <td>1397.430054</td>\n",
       "      <td>1399.420044</td>\n",
       "      <td>1009000000</td>\n",
       "    </tr>\n",
       "    <tr>\n",
       "      <th>2</th>\n",
       "      <td>05-01-00</td>\n",
       "      <td>1399.420044</td>\n",
       "      <td>1413.270020</td>\n",
       "      <td>1377.680054</td>\n",
       "      <td>1402.109985</td>\n",
       "      <td>1085500000</td>\n",
       "    </tr>\n",
       "    <tr>\n",
       "      <th>3</th>\n",
       "      <td>06-01-00</td>\n",
       "      <td>1402.109985</td>\n",
       "      <td>1411.900024</td>\n",
       "      <td>1392.099976</td>\n",
       "      <td>1403.449951</td>\n",
       "      <td>1092300000</td>\n",
       "    </tr>\n",
       "    <tr>\n",
       "      <th>4</th>\n",
       "      <td>07-01-00</td>\n",
       "      <td>1403.449951</td>\n",
       "      <td>1441.469971</td>\n",
       "      <td>1400.729980</td>\n",
       "      <td>1441.469971</td>\n",
       "      <td>1225200000</td>\n",
       "    </tr>\n",
       "  </tbody>\n",
       "</table>\n",
       "</div>"
      ],
      "text/plain": [
       "       Date         Open         High          Low        Close      Volume\n",
       "0  03-01-00  1469.250000  1478.000000  1438.359985  1455.219971   931800000\n",
       "1  04-01-00  1455.219971  1455.219971  1397.430054  1399.420044  1009000000\n",
       "2  05-01-00  1399.420044  1413.270020  1377.680054  1402.109985  1085500000\n",
       "3  06-01-00  1402.109985  1411.900024  1392.099976  1403.449951  1092300000\n",
       "4  07-01-00  1403.449951  1441.469971  1400.729980  1441.469971  1225200000"
      ]
     },
     "execution_count": 4,
     "metadata": {},
     "output_type": "execute_result"
    }
   ],
   "source": [
    "import pandas as pd\n",
    "import numpy as np\n",
    "data = pd.read_csv('sp500.csv')\n",
    "data.head()"
   ]
  },
  {
   "cell_type": "code",
   "execution_count": 5,
   "metadata": {
    "pycharm": {
     "name": "#%%\n"
    }
   },
   "outputs": [
    {
     "name": "stdout",
     "output_type": "stream",
     "text": [
      "          0         1         2         3         4\n",
      "0 -0.005973 -0.005916 -0.015676 -0.012310 -0.191184\n",
      "1 -0.012266 -0.016172 -0.034017 -0.037249 -0.184230\n",
      "2 -0.037292 -0.035058 -0.042867 -0.036047 -0.177338\n"
     ]
    }
   ],
   "source": [
    "data = data.iloc[:,1:6]\n",
    "data = data.values.astype(float)\n",
    "data = pd.DataFrame(data)\n",
    "data = data.apply(lambda x: (x - np.mean(x)) / (np.max(x) - np.min(x)))\n",
    "print(data[:3])"
   ]
  },
  {
   "cell_type": "markdown",
   "metadata": {
    "pycharm": {
     "name": "#%% md\n"
    }
   },
   "source": [
    "可以将上述读取股票数据的代码用一个函数表示："
   ]
  },
  {
   "cell_type": "code",
   "execution_count": 6,
   "metadata": {
    "pycharm": {
     "name": "#%%\n"
    }
   },
   "outputs": [
    {
     "name": "stdout",
     "output_type": "stream",
     "text": [
      "          0         1         2         3         4\n",
      "0 -0.005973 -0.005916 -0.015676 -0.012310 -0.191184\n",
      "1 -0.012266 -0.016172 -0.034017 -0.037249 -0.184230\n",
      "2 -0.037292 -0.035058 -0.042867 -0.036047 -0.177338\n"
     ]
    }
   ],
   "source": [
    "import pandas as pd\n",
    "import numpy as np\n",
    "\n",
    "def read_stock(filename,normalize = True):    \n",
    "    data = pd.read_csv(filename)\n",
    "    data = data.iloc[:,1:6]\n",
    "    data = data.values.astype(float)\n",
    "    data = pd.DataFrame(data)   \n",
    "    if normalize:\n",
    "        data = data.apply(lambda x: (x - np.mean(x)) / (np.max(x) - np.min(x)))\n",
    "        return data\n",
    "\n",
    "data = read_stock('sp500.csv')\n",
    "print(data[:3])"
   ]
  },
  {
   "cell_type": "markdown",
   "metadata": {
    "pycharm": {
     "name": "#%% md\n"
    }
   },
   "source": [
    "下面的代码绘制收盘价的曲线："
   ]
  },
  {
   "cell_type": "code",
   "execution_count": 7,
   "metadata": {
    "pycharm": {
     "name": "#%%\n"
    }
   },
   "outputs": [
    {
     "name": "stdout",
     "output_type": "stream",
     "text": [
      "(4697,)\n"
     ]
    },
    {
     "data": {
      "image/png": "[encoded data removed]",
      "text/plain": [
       "<Figure size 432x288 with 1 Axes>"
      ]
     },
     "metadata": {
      "needs_background": "light"
     },
     "output_type": "display_data"
    }
   ],
   "source": [
    "import numpy as np\n",
    "import matplotlib.pyplot as plt\n",
    "%matplotlib inline\n",
    "\n",
    "x = np.array(data.iloc[:,-2])\n",
    "print(x.shape)\n",
    "plt.plot(x)\n",
    "plt.show()"
   ]
  },
  {
   "cell_type": "markdown",
   "metadata": {
    "pycharm": {
     "name": "#%% md\n"
    }
   },
   "source": [
    "### 7.1.4  生成自回归数据\n",
    "\n",
    "下面的代码通过正弦函数和余弦函数的组合成一个函数，然后采样该函数曲线的y坐标值构成一个序列数据："
   ]
  },
  {
   "cell_type": "code",
   "execution_count": 8,
   "metadata": {
    "pycharm": {
     "name": "#%%\n"
    }
   },
   "outputs": [
    {
     "data": {
      "image/png": "[encoded data removed]",
      "text/plain": [
       "<Figure size 432x288 with 1 Axes>"
      ]
     },
     "metadata": {
      "needs_background": "light"
     },
     "output_type": "display_data"
    }
   ],
   "source": [
    "import numpy as np\n",
    "import matplotlib.pyplot as plt\n",
    "%matplotlib inline\n",
    "\n",
    "def gen_seq_data_from_function(f,ts):\n",
    "    return f(ts)\n",
    "\n",
    "T  =5000\n",
    "x = gen_seq_data_from_function(lambda ts:np.sin(ts*0.1)+np.cos(ts*0.2),\\\n",
    "                               np.arange(0, T))\n",
    "plt.plot(x[:500])\n",
    "plt.show()"
   ]
  },
  {
   "cell_type": "markdown",
   "metadata": {
    "pycharm": {
     "name": "#%% md\n"
    }
   },
   "source": [
    "根据公式：\n",
    "$$x_t = a_0+a_1 x_{t-1}+\\cdots+ a_{\\tau}x_{t-\\tau} + \\epsilon \\tag{7-4}$$\n",
    "生存自回归数据。\n",
    "\n",
    "对自回归模型的研究表明，只有当系数构成的方程$x^{\\tau}-a_0x^{\\tau-1}-a_1x^{\\tau-2}-\\cdots-a_{\\tau}$的根的绝对值不超过1时，这个自回归模型才是稳定的，否则，生成的数据是不稳定的。\n",
    "\n",
    "函数init_coefficients()生成稳定的自回归模型的系数："
   ]
  },
  {
   "cell_type": "code",
   "execution_count": 9,
   "metadata": {
    "pycharm": {
     "name": "#%%\n"
    }
   },
   "outputs": [
    {
     "data": {
      "text/plain": [
       "array([-0.27800683,  0.37073231, -0.29328084])"
      ]
     },
     "execution_count": 9,
     "metadata": {},
     "output_type": "execute_result"
    }
   ],
   "source": [
    "np.random.seed(5)\n",
    "def init_coefficients(n):\n",
    "    while True:\n",
    "        a = np.random.random(n) - 0.5\n",
    "        coefficients = np.append(1, -a)       \n",
    "        if np.max(np.abs(np.roots(coefficients))) < 1:\n",
    "            return a\n",
    "init_coefficients(3)"
   ]
  },
  {
   "cell_type": "code",
   "execution_count": 10,
   "metadata": {
    "pycharm": {
     "name": "#%%\n"
    }
   },
   "outputs": [
    {
     "name": "stdout",
     "output_type": "stream",
     "text": [
      "6\n"
     ]
    },
    {
     "data": {
      "image/png": "[encoded data removed]",
      "text/plain": [
       "<Figure size 432x288 with 1 Axes>"
      ]
     },
     "metadata": {
      "needs_background": "light"
     },
     "output_type": "display_data"
    }
   ],
   "source": [
    "def generate_data(n,data_n,noise_value = 1,k=3):   \n",
    "    a = init_coefficients(n+1)   \n",
    "    x = np.zeros(data_n + n*(k+1))\n",
    "    x_noise = np.zeros(data_n + n*(k+1))\n",
    "    x_noise[:n]= np.random.randn(n)   \n",
    "    print(len(a))\n",
    "    \n",
    "    n_all = data_n + n*k\n",
    "    for i in range(n_all):        \n",
    "        x[n+i] = np.dot(x_noise[i:n+i][::-1], a[1:]) +a[0] \n",
    "        x_noise[n+i] = x[n+i] + noise_value * np.random.randn() \n",
    "       \n",
    "    x_noise = x_noise[k*n:] #舍弃前面的k*n个实数\n",
    "    x = x[k*n:]\n",
    "    return x_noise,x\n",
    "\n",
    "x,x_noise = generate_data(5,100)\n",
    "plt.plot(x[:80])\n",
    "plt.show()"
   ]
  },
  {
   "cell_type": "markdown",
   "metadata": {
    "pycharm": {
     "name": "#%% md\n"
    }
   },
   "source": [
    "### 7.1.6  时间窗采样"
   ]
  },
  {
   "cell_type": "code",
   "execution_count": 11,
   "metadata": {
    "pycharm": {
     "name": "#%%\n"
    }
   },
   "outputs": [],
   "source": [
    "np.random.seed(0)\n",
    "def gen_data_set(x,T,percentage = 0.9):\n",
    "    L = T + 1\n",
    "    data_set = []\n",
    "    for i in range(len(x) - (T+1)):\n",
    "        data_set.append(x[i: i + T+1])\n",
    "    data_set = np.array(data_set)\n",
    "    row = round(percentage * data_set.shape[0])\n",
    "    train = data_set[:int(row), :]\n",
    "    np.random.shuffle(train)\n",
    "    x_train = train[:, :-1]\n",
    "    y_train = train[:, -1]\n",
    "    x_test = data_set[int(row):, :-1]\n",
    "    y_test = data_set[int(row):, -1]\n",
    "    return [x_train, y_train, x_test, y_test]"
   ]
  },
  {
   "cell_type": "code",
   "execution_count": 12,
   "metadata": {
    "pycharm": {
     "name": "#%%\n"
    }
   },
   "outputs": [
    {
     "name": "stdout",
     "output_type": "stream",
     "text": [
      "(4454, 50) (4454, 1)\n",
      "(495, 50) (495,)\n"
     ]
    }
   ],
   "source": [
    "x = gen_seq_data_from_function(lambda ts:np.sin(ts*0.1)+np.cos(ts*0.2),\\\n",
    "                               np.arange(0, 5000))\n",
    "x_train, y_train, x_test, y_test = gen_data_set(x, 50)\n",
    "\n",
    "y_train = y_train.reshape(-1,1)\n",
    "print(x_train.shape,y_train.shape)\n",
    "print(x_test.shape,y_test.shape)"
   ]
  },
  {
   "cell_type": "markdown",
   "metadata": {
    "pycharm": {
     "name": "#%% md\n"
    }
   },
   "source": [
    "### 7.1.7   时间窗方法建模和训练\n",
    "\n",
    "从自回归序列数据按照固定时间窗采样得到训练样本，就可以用监督式学习模型对其进行建模与训练。下面的代码用一个2层全连接神经网络对上述从函数值采样的自回归数据进行建模与训练："
   ]
  },
  {
   "cell_type": "code",
   "execution_count": 13,
   "metadata": {
    "pycharm": {
     "name": "#%%\n"
    }
   },
   "outputs": [
    {
     "name": "stdout",
     "output_type": "stream",
     "text": [
      "n 50\n",
      "[    1, 1] loss: 2.711\n",
      "[  101, 5] loss: 0.331\n",
      "[  201, 10] loss: 0.137\n",
      "[  301, 14] loss: 0.109\n",
      "[  401, 19] loss: 0.100\n"
     ]
    },
    {
     "data": {
      "text/plain": [
       "[<matplotlib.lines.Line2D at 0x7f9bb8e0aee0>]"
      ]
     },
     "execution_count": 13,
     "metadata": {},
     "output_type": "execute_result"
    },
    {
     "data": {
      "image/png": "[encoded data removed]",
      "text/plain": [
       "<Figure size 432x288 with 1 Axes>"
      ]
     },
     "metadata": {
      "needs_background": "light"
     },
     "output_type": "display_data"
    }
   ],
   "source": [
    "from NeuralNetwork import *\n",
    "from train import *\n",
    "import util\n",
    "\n",
    "hidden_dim = 50\n",
    "n = x_train.shape[1]\n",
    "print(\"n\",n)\n",
    "nn = NeuralNetwork()\n",
    "nn.add_layer(Dense(n, hidden_dim)) #('xavier',0.01)))\n",
    "nn.add_layer(Relu())\n",
    "nn.add_layer(Dense(hidden_dim, 1)) #('xavier',0.01)))\n",
    "\n",
    "learning_rate = 1e-2\n",
    "momentum = 0.8 #0.9\n",
    "optimizer = SGD(nn.parameters(),learning_rate,momentum)\n",
    "\n",
    "epochs=20\n",
    "batch_size = 200 # len(train_x) #200   \n",
    "reg = 1e-1\n",
    "print_n=100\n",
    "\n",
    "losses = train_nn(nn,x_train,y_train,optimizer,\n",
    "                  util.mse_loss_grad,epochs,batch_size,reg,print_n)\n",
    "#print(losses[::len(losses)//50])\n",
    "plt.plot(losses)"
   ]
  },
  {
   "cell_type": "markdown",
   "metadata": {
    "pycharm": {
     "name": "#%% md\n"
    }
   },
   "source": [
    "### 7.1.8   长期预测和短期预测\n",
    "\n",
    "##### 长期预测\n",
    "\n",
    "从初始时刻的真实数据样本预测后续一系列时刻的数据。并将这些预测值与测试集对应的目标值进行可视化比较。以观察这个模型的预测性能。"
   ]
  },
  {
   "cell_type": "code",
   "execution_count": 14,
   "metadata": {
    "pycharm": {
     "name": "#%%\n"
    }
   },
   "outputs": [
    {
     "data": {
      "text/plain": [
       "<matplotlib.legend.Legend at 0x7f9bd961ecd0>"
      ]
     },
     "execution_count": 14,
     "metadata": {},
     "output_type": "execute_result"
    },
    {
     "data": {
      "image/png": "[encoded data removed]",
      "text/plain": [
       "<Figure size 432x288 with 1 Axes>"
      ]
     },
     "metadata": {
      "needs_background": "light"
     },
     "output_type": "display_data"
    }
   ],
   "source": [
    "x = x_test[0].copy()\n",
    "x = x.reshape(1,-1)\n",
    "ys =[]\n",
    "for i in range(400):\n",
    "    y = nn.forward(x)   \n",
    "    ys.append(y[0][0])\n",
    "    x = np.delete(x,0,1)\n",
    "    x = np.append(x, y.reshape(1,-1), axis=1)    \n",
    "ys  = ys[:]\n",
    "plt.plot(ys[:400])\n",
    "plt.plot(y_test[:400])\n",
    "plt.xlabel(\"time\")\n",
    "plt.ylabel(\"value\")\n",
    "plt.legend(['y','y_real'])"
   ]
  },
  {
   "cell_type": "markdown",
   "metadata": {
    "pycharm": {
     "name": "#%% md\n"
    }
   },
   "source": [
    "#### 短期预测\n",
    "\n",
    "下面的代码是用训练的神经网络进行短期预测，即每次都是用真实数据预测其下一个时刻的数据值："
   ]
  },
  {
   "cell_type": "code",
   "execution_count": 15,
   "metadata": {
    "pycharm": {
     "name": "#%%\n"
    }
   },
   "outputs": [
    {
     "data": {
      "text/plain": [
       "<matplotlib.legend.Legend at 0x7f9ba90032e0>"
      ]
     },
     "execution_count": 15,
     "metadata": {},
     "output_type": "execute_result"
    },
    {
     "data": {
      "image/png": "[encoded data removed]",
      "text/plain": [
       "<Figure size 432x288 with 1 Axes>"
      ]
     },
     "metadata": {
      "needs_background": "light"
     },
     "output_type": "display_data"
    }
   ],
   "source": [
    "ys =[]\n",
    "for i in range(400):\n",
    "    x = x_test[i].copy()\n",
    "    x = x.reshape(1,-1)\n",
    "    y = nn.forward(x)   \n",
    "    ys.append(y[0][0])   \n",
    "ys  = ys[:]\n",
    "plt.plot(ys[:400])\n",
    "plt.plot(y_test[:400])\n",
    "plt.xlabel(\"time\")\n",
    "plt.ylabel(\"value\")\n",
    "plt.legend(['y','y_real']"
   ]
  },
  {
   "cell_type": "markdown",
   "metadata": {
    "pycharm": {
     "name": "#%% md\n"
    }
   },
   "source": [
    "### 7.1.9 股票价格预测 \n",
    "下面代码用时间窗为100生成训练数据集和测试数据集，即用前100天的价格预测后一天的价格"
   ]
  },
  {
   "cell_type": "code",
   "execution_count": 16,
   "metadata": {
    "pycharm": {
     "name": "#%%\n"
    }
   },
   "outputs": [
    {
     "name": "stdout",
     "output_type": "stream",
     "text": [
      "(4697,)\n",
      "(4697, 1)\n",
      "(4136, 100, 1) (4136, 1)\n"
     ]
    }
   ],
   "source": [
    "data = read_stock('sp500.csv')\n",
    "x = np.array(data.iloc[:,-2])\n",
    "print(x.shape)\n",
    "x = x.reshape(-1,1)\n",
    "print(x.shape)\n",
    "\n",
    "x_train, y_train, x_test, y_test = gen_data_set(x, 100)\n",
    "y_train = y_train.reshape(-1,1)\n",
    "print(x_train.shape,y_train.shape)"
   ]
  },
  {
   "cell_type": "markdown",
   "metadata": {
    "pycharm": {
     "name": "#%% md\n"
    }
   },
   "source": [
    "用训练集训练一个神经网络模型："
   ]
  },
  {
   "cell_type": "code",
   "execution_count": 17,
   "metadata": {
    "pycharm": {
     "name": "#%%\n"
    }
   },
   "outputs": [
    {
     "name": "stdout",
     "output_type": "stream",
     "text": [
      "n 100\n",
      "0 iter: 0.017707950694492998\n",
      "50 iter: 0.0005195455067102583\n",
      "100 iter: 0.0004480920043512021\n",
      "150 iter: 0.0003970824499375024\n",
      "200 iter: 0.00038526671247368687\n",
      "250 iter: 0.00035665095175022217\n",
      "300 iter: 0.00034418856474243\n",
      "350 iter: 0.0003279284024790593\n",
      "400 iter: 0.0003265784924812387\n",
      "450 iter: 0.000313850363498057\n"
     ]
    },
    {
     "data": {
      "text/plain": [
       "[<matplotlib.lines.Line2D at 0x7f9b98a6b160>]"
      ]
     },
     "execution_count": 17,
     "metadata": {},
     "output_type": "execute_result"
    },
    {
     "data": {
      "image/png": "[encoded data removed]",
      "text/plain": [
       "<Figure size 432x288 with 1 Axes>"
      ]
     },
     "metadata": {
      "needs_background": "light"
     },
     "output_type": "display_data"
    }
   ],
   "source": [
    "from NeuralNetwork import *\n",
    "import util\n",
    "\n",
    "hidden_dim = 500\n",
    "n = x_train.shape[1]\n",
    "print(\"n\",n)\n",
    "nn = NeuralNetwork()\n",
    "nn.add_layer(Dense(n, hidden_dim))\n",
    "nn.add_layer(Relu())\n",
    "nn.add_layer(Dense(hidden_dim, 1)) \n",
    "\n",
    "learning_rate = 0.1\n",
    "momentum = 0.8 #0.9\n",
    "optimizer = SGD(nn.parameters(),learning_rate,momentum)\n",
    "\n",
    "epochs=60\n",
    "batch_size = 500 # len(train_x) #200   \n",
    "reg = 1e-6\n",
    "print_n=50\n",
    "\n",
    "losses = train_nn(nn,x_train,y_train,optimizer,util.mse_loss_grad,epochs,batch_size,reg,print_n)\n",
    "plt.plot(losses)"
   ]
  },
  {
   "cell_type": "markdown",
   "metadata": {
    "pycharm": {
     "name": "#%% md\n"
    }
   },
   "source": [
    "用测试集的第一个样本作为开始，进行长期预测，即不断用预测值构建新的数据特征去预测下一天的股票价格："
   ]
  },
  {
   "cell_type": "code",
   "execution_count": 18,
   "metadata": {
    "pycharm": {
     "name": "#%%\n"
    }
   },
   "outputs": [
    {
     "data": {
      "text/plain": [
       "<matplotlib.legend.Legend at 0x7f9be8eb7d90>"
      ]
     },
     "execution_count": 18,
     "metadata": {},
     "output_type": "execute_result"
    },
    {
     "data": {
      "image/png": "[encoded data removed]",
      "text/plain": [
       "<Figure size 432x288 with 1 Axes>"
      ]
     },
     "metadata": {
      "needs_background": "light"
     },
     "output_type": "display_data"
    }
   ],
   "source": [
    "x = x_test[0].copy()\n",
    "x = x.reshape(1,-1)\n",
    "ys =[]\n",
    "\n",
    "num = 400\n",
    "for i in range(num):\n",
    "    y = nn.forward(x)    \n",
    "    ys.append(y[0][0])\n",
    "    x = np.delete(x,0,1)\n",
    "    x = np.append(x, y.reshape(1,-1), axis=1)    \n",
    "ys  = ys[:]\n",
    "plt.plot(ys[:num])\n",
    "plt.plot(y_test[:num])\n",
    "plt.xlabel(\"time\")\n",
    "plt.ylabel(\"value\")\n",
    "plt.legend(['y','y_real'])"
   ]
  },
  {
   "cell_type": "code",
   "execution_count": 19,
   "metadata": {
    "pycharm": {
     "name": "#%%\n"
    }
   },
   "outputs": [
    {
     "data": {
      "text/plain": [
       "<matplotlib.legend.Legend at 0x7f9b98bbfd60>"
      ]
     },
     "execution_count": 19,
     "metadata": {},
     "output_type": "execute_result"
    },
    {
     "data": {
      "image/png": "[encoded data removed]",
      "text/plain": [
       "<Figure size 432x288 with 1 Axes>"
      ]
     },
     "metadata": {
      "needs_background": "light"
     },
     "output_type": "display_data"
    }
   ],
   "source": [
    "ys =[]\n",
    "num = 400\n",
    "for i in range(num):\n",
    "    x = x_test[i].copy()\n",
    "    x = x.reshape(1,-1)\n",
    "    y = nn.forward(x) \n",
    "    ys.append(y[0][0])\n",
    "    x = np.delete(x,0,1)\n",
    "    x = np.append(x, y.reshape(1,-1), axis=1)    \n",
    "ys  = ys[:]\n",
    "plt.plot(ys[:num])\n",
    "plt.plot(y_test[:num])\n",
    "plt.xlabel(\"time\")\n",
    "plt.ylabel(\"value\")\n",
    "plt.legend(['y','y_real'])"
   ]
  },
  {
   "cell_type": "markdown",
   "metadata": {
    "pycharm": {
     "name": "#%% md\n"
    }
   },
   "source": [
    "## 7.4 单层循环神经网络的实现\n",
    "### 7.4.1 初始化模型参数"
   ]
  },
  {
   "cell_type": "code",
   "execution_count": 20,
   "metadata": {
    "pycharm": {
     "name": "#%%\n"
    }
   },
   "outputs": [],
   "source": [
    "import numpy as np\n",
    "np.random.seed(1)\n",
    "def rnn_params_init(input_dim, hidden_dim,output_dim,scale = 0.01):        \n",
    "    Wx = np.random.randn(input_dim, hidden_dim)*scale # input to hidden\n",
    "    Wh = np.random.randn(hidden_dim, hidden_dim)*scale # hidden to hidden\n",
    "    bh = np.zeros((1,hidden_dim)) # hidden bias\n",
    "\n",
    "    Wf = np.random.randn(hidden_dim, output_dim)*scale # hidden to output        \n",
    "    bf = np.zeros((1,output_dim)) # output bias\n",
    "\n",
    "    return [Wx,Wh,bh,Wf,bf]  "
   ]
  },
  {
   "cell_type": "code",
   "execution_count": 21,
   "metadata": {
    "pycharm": {
     "name": "#%%\n"
    }
   },
   "outputs": [],
   "source": [
    "def rnn_hidden_state_init(batch_dim, hidden_dim):\n",
    "    return np.zeros((batch_dim,hidden_dim))"
   ]
  },
  {
   "cell_type": "markdown",
   "metadata": {
    "pycharm": {
     "name": "#%% md\n"
    }
   },
   "source": [
    "### 7.4.2 正向计算"
   ]
  },
  {
   "cell_type": "code",
   "execution_count": 22,
   "metadata": {
    "pycharm": {
     "name": "#%%\n"
    }
   },
   "outputs": [],
   "source": [
    "def rnn_forward(params,Xs, H_):\n",
    "    Wx, Wh, bh, Wf, bf = params\n",
    "    H = H_ #np.copy(H_)   \n",
    "   \n",
    "    Fs = []        \n",
    "    Hs = {}      \n",
    "    Hs[-1] = np.copy(H)    \n",
    " \n",
    "    for t  in range(len(Xs)):\n",
    "        X = Xs[t]       \n",
    "        H = np.tanh(np.dot(X, Wx) + np.dot(H, Wh) + bh)\n",
    "        F = np.dot(H, Wf) + bf       \n",
    "\n",
    "        Fs.append(F)\n",
    "        Hs[t] = H\n",
    "    return Fs, Hs"
   ]
  },
  {
   "cell_type": "code",
   "execution_count": 23,
   "metadata": {
    "pycharm": {
     "name": "#%%\n"
    }
   },
   "outputs": [],
   "source": [
    "def rnn_forward_step(params,X, preH):\n",
    "    Wx, Wh, bh, Wf, bf = params     \n",
    "    H = np.tanh(np.dot(X, Wx) + np.dot(preH, Wh) + bh)\n",
    "    F = np.dot(H, Wf) + bf \n",
    "    return F, H"
   ]
  },
  {
   "cell_type": "code",
   "execution_count": 24,
   "metadata": {
    "pycharm": {
     "name": "#%%\n"
    }
   },
   "outputs": [],
   "source": [
    "def rnn_forward_(params,Xs, H_):\n",
    "    Wx, Wh, bh, Wf, bf = params\n",
    "    H = H_  \n",
    "   \n",
    "    Fs = []        \n",
    "    Hs = {}      \n",
    "    Hs[-1] = np.copy(H)    \n",
    " \n",
    "    for t  in range(len(Xs)):\n",
    "        X = Xs[t]       \n",
    "        F,H = rnn_forward_step(params,X,H)       \n",
    "        Fs.append(F)\n",
    "        Hs[t] = H\n",
    "    return Fs, Hs"
   ]
  },
  {
   "cell_type": "markdown",
   "metadata": {
    "pycharm": {
     "name": "#%% md\n"
    }
   },
   "source": [
    "### 7.4.3 损失函数"
   ]
  },
  {
   "cell_type": "code",
   "execution_count": 25,
   "metadata": {
    "pycharm": {
     "name": "#%%\n"
    }
   },
   "outputs": [],
   "source": [
    "import util\n",
    "def rnn_loss_grad(Fs,Ys,loss_fn = util.cross_entropy_grad_loss,flatten = True):   \n",
    "    loss = 0\n",
    "    dFs = {}\n",
    "   \n",
    "    for t in range(len(Fs)):\n",
    "        F = Fs[t]\n",
    "        Y = Ys[t]   \n",
    "        if flatten and Y.ndim>=2:          \n",
    "            Y = Y.flatten()\n",
    "        loss_t,dF_t = loss_fn(F,Y)\n",
    "        loss += loss_t        \n",
    "        dFs[t] = dF_t\n",
    "       \n",
    "    return loss,dFs"
   ]
  },
  {
   "cell_type": "markdown",
   "metadata": {
    "pycharm": {
     "name": "#%% md\n"
    }
   },
   "source": [
    "### 7.4.4 反向求导"
   ]
  },
  {
   "cell_type": "code",
   "execution_count": 26,
   "metadata": {
    "pycharm": {
     "name": "#%%\n"
    }
   },
   "outputs": [],
   "source": [
    "import math\n",
    "def grad_clipping(grads,alpha):\n",
    "    norm = math.sqrt(sum((grad ** 2).sum() for grad in grads))\n",
    "    if norm > alpha:\n",
    "        ratio = alpha / norm\n",
    "        for i in range(len(grads)):\n",
    "            grads[i]*=ratio \n",
    "            \n",
    "def rnn_backward(params,Xs,Hs,dZs,clip_value = 5.): # Ys,loss_function):    \n",
    "    Wx, Wh,bh, Wf,bf = params\n",
    "    dWx, dWh, dWf = np.zeros_like(Wx), np.zeros_like(Wh), np.zeros_like(Wf)\n",
    "    dbh, dbf = np.zeros_like(bh), np.zeros_like(bf)       \n",
    "\n",
    "    dh_next = np.zeros_like(Hs[0])\n",
    "    h = Hs\n",
    "    x = Xs\n",
    "    \n",
    "    T = len(Xs)  #序列长度（时刻长度）  \n",
    "    for t in reversed(range(T)): \n",
    "        dZ = dZs[t]        \n",
    "        \n",
    "        dWf += np.dot(h[t].T,dZ)\n",
    "    \n",
    "        dbf += np.sum(dZ, axis=0, keepdims=True)         \n",
    "        dh = np.dot(dZ, Wf.T) + dh_next \n",
    "        dZh = (1 - h[t] * h[t]) * dh \n",
    "        \n",
    "        dbh += np.sum(dZh, axis=0, keepdims=True) \n",
    "        dWx += np.dot(x[t].T,dZh)\n",
    "        dWh += np.dot(h[t-1].T,dZh)\n",
    "        dh_next = np.dot(dZh,Wh.T)\n",
    "   \n",
    "    grads =  [dWx, dWh, dbh,dWf, dbf]\n",
    "    if clip_value is not None:\n",
    "        grad_clipping(grads,clip_value)\n",
    "    return grads"
   ]
  },
  {
   "cell_type": "code",
   "execution_count": 27,
   "metadata": {
    "pycharm": {
     "name": "#%%\n"
    }
   },
   "outputs": [],
   "source": [
    "def rnn_backward_step(params,dZ,X,H,H_,dh_next): \n",
    "    Wx, Wh,bh, Wf,bf = params\n",
    "    dWf = np.dot(H.T,dZ)\n",
    "\n",
    "    dbf = np.sum(dZ, axis=0, keepdims=True)         \n",
    "    dh = np.dot(dZ, Wf.T) + dh_next \n",
    "    dZh = (1 - H * H) * dh \n",
    "\n",
    "    dbh = np.sum(dZh, axis=0, keepdims=True) \n",
    "    dWx = np.dot(X.T,dZh)\n",
    "    dWh = np.dot(H_.T,dZh)\n",
    "    dh_next = np.dot(dZh,Wh.T)\n",
    "    return dWx, dWh,dbh, dWf,dbf,dh_next"
   ]
  },
  {
   "cell_type": "code",
   "execution_count": 28,
   "metadata": {
    "pycharm": {
     "name": "#%%\n"
    }
   },
   "outputs": [],
   "source": [
    "def rnn_backward_(params,Xs,Hs,dZs,clip_value = 5.): \n",
    "    Wx, Wh,bh, Wf,bf = params\n",
    "    dWx, dWh, dWf = np.zeros_like(Wx), np.zeros_like(Wh), np.zeros_like(Wf)\n",
    "    dbh, dbf = np.zeros_like(bh), np.zeros_like(bf)\n",
    "    dh_next = np.zeros_like(Hs[0])\n",
    "    \n",
    "    T = len(Xs)  #序列长度（时刻长度）  \n",
    "    for t in reversed(range(T)):  \n",
    "        dZ = dZs[t] \n",
    "        H= Hs[t]\n",
    "        H_ = Hs[t-1]\n",
    "        X = Xs[t]\n",
    "        \n",
    "        dWx_,dWh_,dbh_,dWf_,dbf_,dh_next = rnn_backward_step(params,dZ,X,H,H_,dh_next)\n",
    "        for grad,grad_t in zip([dWx, dWh,dbh, dWf,dbf],[dWx_,dWh_,dbh_,dWf_,dbf_]):\n",
    "            grad+=grad_t      \n",
    "\n",
    "    grads =  [dWx, dWh, dbh,dWf, dbf]\n",
    "    if clip_value is not None:\n",
    "    \tgrad_clipping(grads,clip_value)\n",
    "    return grads   "
   ]
  },
  {
   "cell_type": "markdown",
   "metadata": {
    "pycharm": {
     "name": "#%% md\n"
    }
   },
   "source": [
    "### 7.4.5  梯度验证"
   ]
  },
  {
   "cell_type": "code",
   "execution_count": 29,
   "metadata": {
    "pycharm": {
     "name": "#%%\n"
    }
   },
   "outputs": [
    {
     "name": "stdout",
     "output_type": "stream",
     "text": [
      "[[[4.17022005e-01 7.20324493e-01 1.14374817e-04 3.02332573e-01]]\n",
      "\n",
      " [[1.46755891e-01 9.23385948e-02 1.86260211e-01 3.45560727e-01]]\n",
      "\n",
      " [[3.96767474e-01 5.38816734e-01 4.19194514e-01 6.85219500e-01]]\n",
      "\n",
      " [[2.04452250e-01 8.78117436e-01 2.73875932e-02 6.70467510e-01]]\n",
      "\n",
      " [[4.17304802e-01 5.58689828e-01 1.40386939e-01 1.98101489e-01]]]\n",
      "[[1]\n",
      " [1]\n",
      " [1]\n",
      " [3]\n",
      " [3]]\n"
     ]
    }
   ],
   "source": [
    "import numpy as np\n",
    "np.random.seed(1)\n",
    "\n",
    "#生成4个时刻，每批有2个样本的一批样本Xs及目标\n",
    "#定义一个输入、隐含层、输出层的大小分别是4、10、4的RNN模型\n",
    "if True:\n",
    "    T  = 5\n",
    "    input_dim, hidden_dim,output_dim = 4,10,4\n",
    "    batch_size = 1\n",
    "    seq_len = 5\n",
    "    Xs = np.random.rand(seq_len,batch_size,input_dim)\n",
    "    #Ys = np.random.randint(input_dim,size = (seq_len,batch_size,output_dim))\n",
    "    Ys = np.random.randint(input_dim,size = (seq_len,batch_size))\n",
    "    \n",
    "print(Xs)\n",
    "print(Ys)"
   ]
  },
  {
   "cell_type": "markdown",
   "metadata": {
    "pycharm": {
     "name": "#%% md\n"
    }
   },
   "source": [
    "下面代码计算上述样本的分析梯度："
   ]
  },
  {
   "cell_type": "code",
   "execution_count": 30,
   "metadata": {
    "pycharm": {
     "name": "#%%\n"
    }
   },
   "outputs": [
    {
     "name": "stdout",
     "output_type": "stream",
     "text": [
      "(1, 4) (1,)\n"
     ]
    }
   ],
   "source": [
    "# --------cheack gradient-------------   \n",
    "params = rnn_params_init(input_dim, hidden_dim,output_dim)\n",
    "H_0 = rnn_hidden_state_init(batch_size,hidden_dim)\n",
    "\n",
    "Fs,Hs = rnn_forward(params,Xs,H_0) \n",
    "loss_function = rnn_loss_grad\n",
    "print(Fs[0].shape,Ys[0].shape)\n",
    "loss,dFs = loss_function(Fs,Ys)  \n",
    "grads = rnn_backward(params,Xs,Hs,dFs)"
   ]
  },
  {
   "cell_type": "markdown",
   "metadata": {
    "pycharm": {
     "name": "#%% md\n"
    }
   },
   "source": [
    "下面代码定义了计算RNN损失的辅助函数rnn_loss()，然后调用util中的通用数值梯度函数numerical_gradient()计算RNN模型参数的数值梯度，并和上面的分析梯度进行误差比较，同时也输出了第一个模型参数的梯度："
   ]
  },
  {
   "cell_type": "code",
   "execution_count": 31,
   "metadata": {
    "pycharm": {
     "name": "#%%\n"
    }
   },
   "outputs": [
    {
     "name": "stdout",
     "output_type": "stream",
     "text": [
      "loss 6.9316040531107515\n",
      "[dWx, dWh, dbh,dWf, dbf]\n",
      "3.1022882565163243e-06\n",
      "7.627172683815141e-05\n",
      "8.225164888798296e-08\n",
      "2.030282934604882e-07\n",
      "2.027847246214265e-08\n",
      "grads [[-2.39049602e-04  8.14220495e-05  1.57776751e-04  5.67414815e-05\n",
      "  -2.52527076e-04  7.67751376e-05  8.81253550e-05  2.07270381e-04\n",
      "  -6.92579913e-05  5.33532921e-05]\n",
      " [-1.59775181e-04  8.33693576e-05  7.68434971e-05  4.16925859e-05\n",
      "  -1.31768112e-04  1.87065893e-05  3.02967764e-05  1.17071893e-04\n",
      "  -3.32692578e-05  2.22690120e-05]]\n",
      "numerical_grads [[-2.39050113e-04  8.14219803e-05  1.57776014e-04  5.67408343e-05\n",
      "  -2.52526888e-04  7.67750308e-05  8.81255069e-05  2.07270645e-04\n",
      "  -6.92583768e-05  5.33537658e-05]\n",
      " [-1.59775304e-04  8.33701996e-05  7.68434205e-05  4.16919832e-05\n",
      "  -1.31767486e-04  1.87063698e-05  3.02966541e-05  1.17071686e-04\n",
      "  -3.32698313e-05  2.22688534e-05]]\n"
     ]
    }
   ],
   "source": [
    "def rnn_loss():\n",
    "    H_0 = np.zeros((1,hidden_dim))\n",
    "    H = np.copy(H_0)\n",
    "    Fs,Hs = rnn_forward(params,Xs,H) \n",
    "    loss_function = rnn_loss_grad\n",
    "    loss,dFs = loss_function(Fs,Ys)     \n",
    "    return loss\n",
    "\n",
    "\n",
    "numerical_grads = util.numerical_gradient(rnn_loss,params,1e-6) #rnn_numerical_gradient(rnn_loss,params,1e-10)\n",
    "#diff_error = lambda x, y: np.max(np.abs(x - y)) \n",
    "diff_error = lambda x, y: np.max( np.abs(x - y)/(np.maximum(1e-8, np.abs(x) + np.abs(y))))\n",
    "\n",
    "print(\"loss\",loss)\n",
    "print(\"[dWx, dWh, dbh,dWf, dbf]\")\n",
    "for i in range(len(grads)):\n",
    "    print(diff_error(grads[i],numerical_grads[i]))\n",
    "\n",
    "print(\"grads\",grads[1][:2])\n",
    "print(\"numerical_grads\",numerical_grads[1][:2])"
   ]
  },
  {
   "cell_type": "markdown",
   "metadata": {
    "pycharm": {
     "name": "#%% md\n"
    }
   },
   "source": [
    "### 7.4.6 梯度下降训练"
   ]
  },
  {
   "cell_type": "code",
   "execution_count": 32,
   "metadata": {
    "pycharm": {
     "name": "#%%\n"
    }
   },
   "outputs": [],
   "source": [
    "class SGD():\n",
    "    def __init__(self,model_params,learning_rate=0.01, momentum=0.9):\n",
    "        self.params,self.lr,self.momentum = model_params,learning_rate,momentum\n",
    "        self.vs = []\n",
    "        for p in self.params:\n",
    "            v = np.zeros_like(p)\n",
    "            self.vs.append(v)   \n",
    "                \n",
    "    def step(self,grads): \n",
    "        for i in range(len(self.params)):   \n",
    "            grad = grads[i]           \n",
    "            self.vs[i] = self.momentum*self.vs[i]+self.lr* grad             \n",
    "            self.params[i] -= self.vs[i]\n",
    "\n",
    "    def scale_learning_rate(self,scale):\n",
    "        self.lr *= scale"
   ]
  },
  {
   "cell_type": "markdown",
   "metadata": {
    "pycharm": {
     "name": "#%% md\n"
    }
   },
   "source": [
    "当然，也可以其他的参数优化器，如AdaGrad优化器："
   ]
  },
  {
   "cell_type": "code",
   "execution_count": 33,
   "metadata": {
    "pycharm": {
     "name": "#%%\n"
    }
   },
   "outputs": [],
   "source": [
    "class AdaGrad():\n",
    "    def __init__(self,model_params,learning_rate=0.01):\n",
    "        self.params,self.lr= model_params,learning_rate\n",
    "        self.vs = []\n",
    "        self.delta = 1e-7\n",
    "        for p in self.params:\n",
    "            v = np.zeros_like(p)\n",
    "            self.vs.append(v)       \n",
    "                 \n",
    "    def step(self,grads): \n",
    "        for i in range(len(self.params)):  \n",
    "            grad = grads[i]\n",
    "            self.vs[i] += grad**2\n",
    "            self.params[i] -= self.lr* grad /(self.delta + np.sqrt(self.vs[i]))\n",
    "            \n",
    "    def scale_learning_rate(self,scale):\n",
    "        self.lr *= scale"
   ]
  },
  {
   "cell_type": "code",
   "execution_count": 34,
   "metadata": {
    "pycharm": {
     "name": "#%%\n"
    }
   },
   "outputs": [],
   "source": [
    "def rnn_train_epoch(params,data_iter,optimizer,iterations,loss_function,print_n=100):\n",
    "    Wx, Wh,bh, Wf,bf = params    \n",
    "    losses = []      \n",
    "    iter = 0\n",
    "  \n",
    "    hidden_size = Wh.shape[0]\n",
    "   \n",
    "    for Xs,Ys,start in data_iter:      \n",
    "        \n",
    "        batch_size = Xs[0].shape[0]\n",
    "        if start:\n",
    "            H = rnn_hidden_state_init(batch_size,hidden_size) \n",
    "        \n",
    "        Zs,Hs = rnn_forward(params,Xs,H)       \n",
    "        loss,dzs = loss_function(Zs,Ys)   \n",
    "       \n",
    "        if False:\n",
    "            print(\"Z.shape\",Zs[0].shape)\n",
    "            print(\"Y.shape\",Ys[0].shape)\n",
    "            print(\"H\",H.shape)\n",
    "\n",
    "        dWx, dWh, dbh,dWf, dbf = rnn_backward(params,Xs,Hs,dzs) \n",
    "        \n",
    "        H = Hs[len(Hs)-2]    #最后时刻的隐状态向量  \n",
    "        \n",
    "        \n",
    "        grads = [dWx, dWh, dbh,dWf, dbf]\n",
    "        optimizer.step(grads)\n",
    "        losses.append(loss)\n",
    "        \n",
    "        if iter % print_n == 0: \n",
    "            print ('iter %d, loss: %f' % (iter, loss)) \n",
    "        iter+=1\n",
    "        \n",
    "        if iter>iterations:break\n",
    "    return losses,H"
   ]
  },
  {
   "cell_type": "markdown",
   "metadata": {
    "pycharm": {
     "name": "#%% md\n"
    }
   },
   "source": [
    "### 7.4.7  序列数据的采样\n",
    "\n",
    "设$data$是原始序列数据，采样的所有序列样本长度都是T，下面的迭代器函数采用顺序采样的产生序列样本，即依次产生的序列样本是首尾相接的："
   ]
  },
  {
   "cell_type": "code",
   "execution_count": 35,
   "metadata": {
    "pycharm": {
     "name": "#%%\n"
    }
   },
   "outputs": [],
   "source": [
    "import numpy as np\n",
    "def seg_data_iter_consecutive_one(data,T,start_range=0,repeat = False): \n",
    "    n = len(data)\n",
    "    if start_range>0:\n",
    "        start = np.random.randint(0, start_range)\n",
    "    else:\n",
    "        start = 0    \n",
    "    end = n-T\n",
    "    while True:       \n",
    "        for p in range(start,end,T):\n",
    "            #选取一个训练样本             \n",
    "            X = data[p:p+T]\n",
    "            Y = data[p+1:p+T+1] #[:,-1]            \n",
    "            #inputs = np.expand_dims(inputs, axis=1)\n",
    "            #targets  = targets.reshape(-1,1)\n",
    "            if p==start:\n",
    "                yield X,Y,True\n",
    "            else: \n",
    "                yield X,Y,False\n",
    "        if not repeat:\n",
    "            return"
   ]
  },
  {
   "cell_type": "markdown",
   "metadata": {
    "pycharm": {
     "name": "#%% md\n"
    }
   },
   "source": [
    "测试一下这个函数："
   ]
  },
  {
   "cell_type": "code",
   "execution_count": 36,
   "metadata": {
    "pycharm": {
     "name": "#%%\n"
    }
   },
   "outputs": [
    {
     "name": "stdout",
     "output_type": "stream",
     "text": [
      "[4, 5, 6] [5, 6, 7]\n",
      "[7, 8, 9] [8, 9, 10]\n",
      "[10, 11, 12] [11, 12, 13]\n",
      "[13, 14, 15] [14, 15, 16]\n",
      "[16, 17, 18] [17, 18, 19]\n"
     ]
    }
   ],
   "source": [
    "data = [0, 1, 2, 3, 4, 5, 6, 7, 8, 9, 10, 11, 12, 13, 14, 15, 16, 17, 18, 19]\n",
    "data_it = seg_data_iter_consecutive_one(data,3,5)\n",
    "\n",
    "for X,Y,_ in data_it:\n",
    "    print(X,Y)"
   ]
  },
  {
   "cell_type": "markdown",
   "metadata": {
    "pycharm": {
     "name": "#%% md\n"
    }
   },
   "source": [
    "随机采样不需要保证依次采样的2个序列样本首尾相接，其实现更加简单，"
   ]
  },
  {
   "cell_type": "code",
   "execution_count": 37,
   "metadata": {
    "pycharm": {
     "name": "#%%\n"
    }
   },
   "outputs": [],
   "source": [
    "import numpy as np\n",
    "import random\n",
    "def seg_data_iter_random_one(data,T,repeat = False):\n",
    "    while True:  \n",
    "        end = len(data)-T\n",
    "        indices = list(range(0, end))\n",
    "        random.shuffle(indices)\n",
    "        for i in range(end):\n",
    "            p = indices[i]\n",
    "            X = data[p:p+T]\n",
    "            Y = data[p+1:p+T+1] \n",
    "            yield X,Y \n",
    "        if not repeat:\n",
    "            return "
   ]
  },
  {
   "cell_type": "markdown",
   "metadata": {
    "pycharm": {
     "name": "#%% md\n"
    }
   },
   "source": [
    "调用上面的随机采样函数："
   ]
  },
  {
   "cell_type": "code",
   "execution_count": 38,
   "metadata": {
    "pycharm": {
     "name": "#%%\n"
    }
   },
   "outputs": [
    {
     "name": "stdout",
     "output_type": "stream",
     "text": [
      "[12, 13, 14] [13, 14, 15]\n",
      "[3, 4, 5] [4, 5, 6]\n",
      "[5, 6, 7] [6, 7, 8]\n"
     ]
    }
   ],
   "source": [
    "data_it = seg_data_iter_random_one(data,3)\n",
    "i=0\n",
    "for X,Y in data_it:\n",
    "    print(X,Y)  \n",
    "    i+=1\n",
    "    if i==3: break"
   ]
  },
  {
   "cell_type": "markdown",
   "metadata": {
    "pycharm": {
     "name": "#%% md\n"
    }
   },
   "source": [
    "对于随机采样，只要保证每批序列样本的开始位置不同就可以了，"
   ]
  },
  {
   "cell_type": "code",
   "execution_count": 39,
   "metadata": {
    "pycharm": {
     "name": "#%%\n"
    }
   },
   "outputs": [],
   "source": [
    "import numpy as np\n",
    "import random\n",
    "def seg_data_iter_random(data,T,batch_size,repeat = False):\n",
    "    while True:  \n",
    "        end = len(data)-T\n",
    "        indices = list(range(0, end))\n",
    "        random.shuffle(indices)\n",
    "        for i in range(0,end,batch_size):\n",
    "            batch_indices = indices[i:(i+batch_size)]\n",
    "            X = [data[p:p+T] for p in batch_indices]\n",
    "            Y = [data[p+1:p+T+1] for p in batch_indices]\n",
    "            yield X,Y \n",
    "        if not repeat:\n",
    "            return "
   ]
  },
  {
   "cell_type": "markdown",
   "metadata": {
    "pycharm": {
     "name": "#%% md\n"
    }
   },
   "source": [
    "同样，测试一下这个函数："
   ]
  },
  {
   "cell_type": "code",
   "execution_count": 40,
   "metadata": {
    "pycharm": {
     "name": "#%%\n"
    }
   },
   "outputs": [
    {
     "name": "stdout",
     "output_type": "stream",
     "text": [
      "X: [[5, 6, 7], [13, 14, 15]]\n",
      "Y: [[6, 7, 8], [14, 15, 16]]\n",
      "X: [[10, 11, 12], [9, 10, 11]]\n",
      "Y: [[11, 12, 13], [10, 11, 12]]\n",
      "X: [[2, 3, 4], [12, 13, 14]]\n",
      "Y: [[3, 4, 5], [13, 14, 15]]\n"
     ]
    }
   ],
   "source": [
    "data_it = seg_data_iter_random(data,3,2)\n",
    "i=0\n",
    "for X,Y in data_it:\n",
    "    print(\"X:\",X)\n",
    "    print(\"Y:\",Y)\n",
    "    i+=1\n",
    "    if i==3: break"
   ]
  },
  {
   "cell_type": "markdown",
   "metadata": {
    "pycharm": {
     "name": "#%% md\n"
    }
   },
   "source": [
    "顺序采样需要保证每一批的对应样本之间是首尾相接的。\n",
    "\n",
    "一种简单的解决方式是将原始数据划分成batch_size个子部分，在每个子部分采用顺序采样的方法采样一个序列样本，就自然保证batch_size个序列样本是首尾相接的，并且每批的不同样本来自不同的部分。"
   ]
  },
  {
   "cell_type": "code",
   "execution_count": 41,
   "metadata": {
    "pycharm": {
     "name": "#%%\n"
    }
   },
   "outputs": [
    {
     "name": "stdout",
     "output_type": "stream",
     "text": [
      "[[ 0  1  2  3  4  5  6  7  8  9]\n",
      " [10 11 12 13 14 15 16 17 18 19]]\n"
     ]
    }
   ],
   "source": [
    "batch_size  = 2\n",
    "data= np.array(data)\n",
    "data = data.reshape(batch_size,-1)\n",
    "print(data)"
   ]
  },
  {
   "cell_type": "markdown",
   "metadata": {
    "pycharm": {
     "name": "#%% md\n"
    }
   },
   "source": [
    "但每个序列样本除输入外，还应该包含作为目标的序列，而目标序列正好比输入序列往后错开一个位置，因此，可以用下列代码产生`2*batch_size`个子块："
   ]
  },
  {
   "cell_type": "code",
   "execution_count": 42,
   "metadata": {
    "pycharm": {
     "name": "#%%\n"
    }
   },
   "outputs": [
    {
     "name": "stdout",
     "output_type": "stream",
     "text": [
      "[ 0  1  2  3  4  5  6  7  8  9 10 11 12 13 14 15 16 17 18 19]\n",
      "9\n",
      "[[ 0  1  2  3  4  5  6  7  8]\n",
      " [ 9 10 11 12 13 14 15 16 17]]\n",
      "[[ 1  2  3  4  5  6  7  8  9]\n",
      " [10 11 12 13 14 15 16 17 18]]\n"
     ]
    }
   ],
   "source": [
    "data = np.array(range(20))\n",
    "print(data)\n",
    "batch_size = 2\n",
    "block_len = (len(data)-1)//2\n",
    "print(block_len)\n",
    "data_x = data[0:block_len*batch_size]  \n",
    "data_x = data_x.reshape(batch_size,-1)\n",
    "print(data_x)\n",
    "\n",
    "data_y = data[1:1+block_len*batch_size]  \n",
    "data_y = data_y.reshape(batch_size,-1)\n",
    "print(data_y)"
   ]
  },
  {
   "cell_type": "markdown",
   "metadata": {
    "pycharm": {
     "name": "#%% md\n"
    }
   },
   "source": [
    "现在，可以从data_x和data_y的第1行各取出一个序列分别作为输入序列和目标序列：`x1=[0,1,2],y1 =[1,2,3] `，再从它们的第2行各取出序列样本`x2 = [10,11,12],y2 = [11,12,13]`作为第2个样本，构成了第1批序列样本。\n",
    "```\n",
    "x1 = [0,1,2],   y1 = [1,2,3],  \n",
    "x2 = [10,11,12],y2 = [11,12,13]]\n",
    "```\n",
    "下面的批顺序采样函数rnn_data_iter_consecutive():"
   ]
  },
  {
   "cell_type": "code",
   "execution_count": 43,
   "metadata": {
    "pycharm": {
     "name": "#%%\n"
    }
   },
   "outputs": [],
   "source": [
    "def rnn_data_iter_consecutive(data, batch_size, seq_len,start_range=10):\n",
    "    #每次在data[start:]里采样，使得每一个epoch的训练样本不同\n",
    "    start = np.random.randint(0, start_range)    \n",
    "    block_len = (len(data)-start-1) // batch_size #每块的长度block_len\n",
    "  \n",
    "    Xs = data[start:start+block_len*batch_size]   \n",
    "    Xs = Xs.reshape(batch_size,-1)\n",
    "    Ys = data[start+1:start+block_len*batch_size+1]      \n",
    "    Ys = Ys.reshape(batch_size,-1)\n",
    "    \n",
    "    #在每个块里采样长度为seq_len的样本序列\n",
    "    num_batches = Xs.shape[1] // seq_len           #多少批样本\n",
    "    end_pos = num_batches * seq_len\n",
    "    for i in range(0, end_pos, seq_len): #采样一批样本\n",
    "        X = Xs[:,i:(i+seq_len)]\n",
    "        Y = Ys[:,i:(i+seq_len)]\n",
    "        yield X, Y "
   ]
  },
  {
   "cell_type": "markdown",
   "metadata": {
    "pycharm": {
     "name": "#%% md\n"
    }
   },
   "source": [
    "测试一下上述函数："
   ]
  },
  {
   "cell_type": "code",
   "execution_count": 44,
   "metadata": {
    "pycharm": {
     "name": "#%%\n"
    }
   },
   "outputs": [
    {
     "name": "stdout",
     "output_type": "stream",
     "text": [
      "[0, 1, 2, 3, 4, 5, 6, 7, 8, 9, 10, 11, 12, 13, 14, 15, 16, 17, 18, 19]\n",
      "X: [[ 0  1  2]\n",
      " [ 9 10 11]]\n",
      "Y: [[ 1  2  3]\n",
      " [10 11 12]]\n",
      "X: [[ 3  4  5]\n",
      " [12 13 14]]\n",
      "Y: [[ 4  5  6]\n",
      " [13 14 15]]\n",
      "X: [[ 6  7  8]\n",
      " [15 16 17]]\n",
      "Y: [[ 7  8  9]\n",
      " [16 17 18]]\n"
     ]
    }
   ],
   "source": [
    "data = list(range(20))\n",
    "print(data[:20])\n",
    "data_it = rnn_data_iter_consecutive(np.array(data[:20]),2,3,1)\n",
    "\n",
    "for X,Y in data_it:\n",
    "    print(\"X:\",X)\n",
    "    print(\"Y:\",Y)   "
   ]
  },
  {
   "cell_type": "markdown",
   "metadata": {
    "pycharm": {
     "name": "#%% md\n"
    }
   },
   "source": [
    "上面采样的批序列样本的每个X是一个二维张量，第一轴是批大小，第二轴是序列长度。而前面的循环神经网络假设序列样本的第一轴是序列长度而不是批大小，可以交换序列长度和批大小对应的轴。\n",
    "\n",
    "上述的X假设每个数据元素是长度为1的标量，但实际问题中，每个数据是包含多个特征的向量甚至是多维张量（如图像），如果每个数据元素是多个特征的向量，则X就是一个三维张量。因此，可将上述的二维张量的序列样本X转化为三维张量："
   ]
  },
  {
   "cell_type": "code",
   "execution_count": 45,
   "metadata": {
    "pycharm": {
     "name": "#%%\n"
    }
   },
   "outputs": [
    {
     "name": "stdout",
     "output_type": "stream",
     "text": [
      "[[[ 6]\n",
      "  [15]]\n",
      "\n",
      " [[ 7]\n",
      "  [16]]\n",
      "\n",
      " [[ 8]\n",
      "  [17]]]\n"
     ]
    }
   ],
   "source": [
    "x1 = np.swapaxes(X,0,1)\n",
    "x1 = x1.reshape(x1.shape[0],x1.shape[1],-1)\n",
    "print(x1)"
   ]
  },
  {
   "cell_type": "markdown",
   "metadata": {
    "pycharm": {
     "name": "#%% md\n"
    }
   },
   "source": [
    "可以改写一下上述的函数，增加一个to_3D参数决定是否要转化为3D张量："
   ]
  },
  {
   "cell_type": "code",
   "execution_count": 46,
   "metadata": {
    "pycharm": {
     "name": "#%%\n"
    }
   },
   "outputs": [],
   "source": [
    "import numpy as np\n",
    "def rnn_data_iter_consecutive(data, batch_size, seq_len,start_range=10,to_3D = True):\n",
    "    #每次在data[offset:]里采样，使得每一个epoch的训练样本不同\n",
    "    start = np.random.randint(0, start_range)     \n",
    "    block_len = (len(data)-start-1) // batch_size\n",
    "  \n",
    "    Xs = data[start:start+block_len*batch_size]\n",
    "    Ys = data[start+1:start+block_len*batch_size+1]   \n",
    "    Xs = Xs.reshape(batch_size,-1)\n",
    "    Ys = Ys.reshape(batch_size,-1)\n",
    "    \n",
    "    #在每个块里可以i采样多少个长度为seq_len的样本序列\n",
    "    reset = True\n",
    "    num_batches = Xs.shape[1] // seq_len\n",
    "    for i in range(0, num_batches * seq_len, seq_len):\n",
    "        X = Xs[:,i:(i+seq_len)]\n",
    "        Y = Ys[:,i:(i+seq_len)]\n",
    "        if to_3D:\n",
    "            X = np.swapaxes(X,0,1)\n",
    "            X = X.reshape(X.shape[0],X.shape[1],-1)\n",
    "            #X = np.expand_dims(X, axis=2)\n",
    "            Y = np.swapaxes(Y,0,1)\n",
    "            Y = Y.reshape(Y.shape[0],Y.shape[1],-1)\n",
    "        else:\n",
    "            X = np.swapaxes(X,0,1)\n",
    "            Y = np.swapaxes(Y,0,1)            \n",
    "        if reset: \n",
    "            reset = False\n",
    "            yield X, Y,True \n",
    "        else: yield X, Y,False "
   ]
  },
  {
   "cell_type": "markdown",
   "metadata": {
    "pycharm": {
     "name": "#%% md\n"
    }
   },
   "source": [
    "其中，数据迭代器生成样本(Xs,Ys)并返回一个是否要重置RNN隐状态的标志。如果该标志是True，则重置RNN隐状态H。"
   ]
  },
  {
   "cell_type": "code",
   "execution_count": 47,
   "metadata": {
    "pycharm": {
     "name": "#%%\n"
    }
   },
   "outputs": [
    {
     "name": "stdout",
     "output_type": "stream",
     "text": [
      "X: [[[ 0]\n",
      "  [ 9]]\n",
      "\n",
      " [[ 1]\n",
      "  [10]]\n",
      "\n",
      " [[ 2]\n",
      "  [11]]]\n",
      "Y: [[[ 1]\n",
      "  [10]]\n",
      "\n",
      " [[ 2]\n",
      "  [11]]\n",
      "\n",
      " [[ 3]\n",
      "  [12]]]\n",
      "X: [[[ 3]\n",
      "  [12]]\n",
      "\n",
      " [[ 4]\n",
      "  [13]]\n",
      "\n",
      " [[ 5]\n",
      "  [14]]]\n",
      "Y: [[[ 4]\n",
      "  [13]]\n",
      "\n",
      " [[ 5]\n",
      "  [14]]\n",
      "\n",
      " [[ 6]\n",
      "  [15]]]\n"
     ]
    }
   ],
   "source": [
    "data = np.array(list(range(20))).reshape(-1,1)\n",
    "data_it = rnn_data_iter_consecutive(data,2,3,2)\n",
    "i = 0\n",
    "for X,Y,_ in data_it:\n",
    "    print(\"X:\",X)\n",
    "    print(\"Y:\",Y) \n",
    "    i+=1\n",
    "    if i==2 :break"
   ]
  },
  {
   "cell_type": "markdown",
   "metadata": {
    "pycharm": {
     "name": "#%% md\n"
    }
   },
   "source": [
    "### 7.4.8 序列数据的RNN训练和预测\n",
    "\n",
    "下面的用前面的采样自曲线的y值的实数训练RNN模型："
   ]
  },
  {
   "cell_type": "code",
   "execution_count": 48,
   "metadata": {
    "pycharm": {
     "name": "#%%\n"
    }
   },
   "outputs": [
    {
     "name": "stdout",
     "output_type": "stream",
     "text": [
      "(5000,)\n",
      "X: (50, 3, 1) Y: (50, 3, 1) H: (3, 100)\n",
      "Z: (3, 1) H: (3, 100)\n",
      "(3, 1)\n",
      "iter 0, loss: 48.379212\n",
      "iter 0, loss: 33.223302\n",
      "iter 0, loss: 3.173764\n",
      "iter 0, loss: 1.259259\n",
      "iter 0, loss: 0.933943\n",
      "iter 0, loss: 0.593654\n",
      "iter 0, loss: 0.412879\n",
      "iter 0, loss: 0.259662\n",
      "iter 0, loss: 1.011736\n",
      "iter 0, loss: 1.029426\n"
     ]
    }
   ],
   "source": [
    "T = 5000  # Generate a total of 1000 points\n",
    "time = np.arange(0, T)\n",
    "data = np.sin(time*0.1)+np.cos(time*0.2)\n",
    "print(data.shape)\n",
    "\n",
    "batch_size = 3\n",
    "input_dim = 1\n",
    "output_dim= 1\n",
    "hidden_size=100\n",
    "seq_length = 50\n",
    "params = rnn_params_init(input_dim, hidden_size,output_dim)\n",
    "H = rnn_hidden_state_init(batch_size,hidden_size)\n",
    "\n",
    "data_it = rnn_data_iter_consecutive(data,batch_size,seq_length,2)\n",
    "x,y,_ = next(data_it)\n",
    "print(\"X:\",x.shape,\"Y:\",y.shape,\"H:\",H.shape)\n",
    "\n",
    "loss_function = lambda F,Y:rnn_loss_grad(F,Y,util.mse_loss_grad,False)\n",
    "\n",
    "Zs,Hs = rnn_forward(params,x,H)\n",
    "print(\"Z:\",Zs[0].shape,\"H:\",Hs[0].shape)\n",
    "loss,dzs = loss_function(Zs,y)   \n",
    "print(dzs[0].shape)\n",
    "\n",
    "epoches = 10\n",
    "learning_rate = 5e-4\n",
    "\n",
    "iterations  =200\n",
    "losses = []\n",
    "\n",
    "#optimizer = AdaGrad(params,learning_rate)\n",
    "momentum = 0.9\n",
    "optimizer = SGD(params,learning_rate,momentum)\n",
    "\n",
    "for epoch in range(epoches):\n",
    "    data_it = rnn_data_iter_consecutive(data,batch_size,seq_length,100)\n",
    "   # epoch_losses,param,H = rnn_train(params,data_it,learning_rate,iterations,loss_function,print_n=100)\n",
    "    epoch_losses,H = rnn_train_epoch(params,data_it,optimizer,iterations,loss_function,print_n=50)\n",
    "     #losses.extend(epoch_losses)  \n",
    "    epoch_losses = np.array(epoch_losses).mean()   \n",
    "    losses.append(epoch_losses) "
   ]
  },
  {
   "cell_type": "markdown",
   "metadata": {
    "pycharm": {
     "name": "#%% md\n"
    }
   },
   "source": [
    "绘制训练损失曲线"
   ]
  },
  {
   "cell_type": "code",
   "execution_count": 49,
   "metadata": {
    "pycharm": {
     "name": "#%%\n"
    }
   },
   "outputs": [
    {
     "data": {
      "image/png": "[encoded data removed]",
      "text/plain": [
       "<Figure size 432x288 with 1 Axes>"
      ]
     },
     "metadata": {
      "needs_background": "light"
     },
     "output_type": "display_data"
    }
   ],
   "source": [
    "import matplotlib.pyplot as plt\n",
    "plt.plot(losses)\n",
    "plt.show()"
   ]
  },
  {
   "cell_type": "markdown",
   "metadata": {
    "pycharm": {
     "name": "#%% md\n"
    }
   },
   "source": [
    "#### 预测\n",
    "\n",
    "下面的代码用训练的RNN模型从某个时刻的数据预测后面500个时刻的输出："
   ]
  },
  {
   "cell_type": "code",
   "execution_count": null,
   "metadata": {
    "pycharm": {
     "name": "#%%\n"
    }
   },
   "outputs": [],
   "source": [
    "H = rnn_hidden_state_init(1,hidden_size)   \n",
    "\n",
    "start = 3\n",
    "x = data[start:start+1].copy()\n",
    "x =x.reshape(x.shape[0],1,-1)\n",
    "print(x.shape)\n",
    "x = x.reshape(1,-1)\n",
    "ys =[]\n",
    "print(x.flatten())\n",
    "for i in range(500):\n",
    "    F,H= rnn_forward_step(params,x,H) \n",
    "    x=F\n",
    "    ys.append(F[0,0])    \n",
    "    \n",
    "print(len(ys))   \n",
    "ys  = ys[:]\n",
    "plt.plot(ys[:500])\n",
    "plt.plot(data[start+1:start+1+500])\n",
    "plt.xlabel(\"time\")\n",
    "plt.ylabel(\"value\")\n",
    "plt.legend(['y','y_real'])\n",
    "plt.show()"
   ]
  },
  {
   "cell_type": "markdown",
   "metadata": {
    "pycharm": {
     "name": "#%% md\n"
    }
   },
   "source": [
    "这个预测不是很准确，如果只从当前时刻预测其下一时刻的数据，即从`data[t]`预测`data[t+1]`。下面的代码采用这种短期预测方式从`data[start,start+500]`中的每个时刻的数据取预测下一时刻的数据，即预测`data[start+1,start+1+500]`"
   ]
  },
  {
   "cell_type": "code",
   "execution_count": null,
   "metadata": {
    "pycharm": {
     "name": "#%%\n"
    }
   },
   "outputs": [],
   "source": [
    "H = rnn_hidden_state_init(1,hidden_size)   \n",
    "\n",
    "start = 3\n",
    "ys =[]\n",
    "for i in range(500):\n",
    "    x= data[start+i:start+i+1].copy()\n",
    "    x = x.reshape(1,-1)\n",
    "    F,H= rnn_forward_step(params,x,H)\n",
    "    ys.append(F[0,0])\n",
    " \n",
    "    \n",
    "ys  = ys[:]\n",
    "plt.plot(ys[:500])\n",
    "plt.plot(data[start+1:start+501])\n",
    "plt.xlabel(\"time\")\n",
    "plt.ylabel(\"value\")\n",
    "plt.legend(['y','y_real'])\n",
    "plt.show()"
   ]
  },
  {
   "cell_type": "markdown",
   "metadata": {
    "pycharm": {
     "name": "#%% md\n"
    }
   },
   "source": [
    "短期预测下一时刻的结果和真实数据完全重合，说明短期预测很好。 上述RNN的相关代码在本书代码的`rnn.py`文件中。"
   ]
  },
  {
   "cell_type": "markdown",
   "metadata": {
    "pycharm": {
     "name": "#%% md\n"
    }
   },
   "source": [
    "#### 股票数据的训练和预测\n",
    "\n",
    "对于股票数据，可以只用股票的收盘价作为序列数据进行股票收盘价的预测，下面代码将股票的收盘价数据作为自回归数据："
   ]
  },
  {
   "cell_type": "code",
   "execution_count": 51,
   "metadata": {
    "pycharm": {
     "name": "#%%\n"
    }
   },
   "outputs": [],
   "source": [
    "data = read_stock('sp500.csv')\n",
    "data = np.array(data.iloc[:,-2]).reshape(-1,1)"
   ]
  },
  {
   "cell_type": "markdown",
   "metadata": {
    "pycharm": {
     "name": "#%% md\n"
    }
   },
   "source": [
    "下面代码用股票的所有指标（开盘价、最高价、最低价、收盘价、交易量）对股票收盘价进行预测，首先同样训练RNN模型："
   ]
  },
  {
   "cell_type": "code",
   "execution_count": 52,
   "metadata": {
    "pycharm": {
     "name": "#%%\n"
    }
   },
   "outputs": [
    {
     "name": "stdout",
     "output_type": "stream",
     "text": [
      "stock_data.shape (4697, 5)\n",
      "stock_data[:3]\n",
      " [[-0.00597324 -0.00591629 -0.01567558 -0.01231037 -0.19118446]\n",
      " [-0.01226569 -0.01617188 -0.03401657 -0.03724877 -0.1842296 ]\n",
      " [-0.0372919  -0.03505779 -0.04286668 -0.03604657 -0.17733781]]\n",
      "(100, 1, 5) (100, 1)\n",
      "iter 0, loss: 0.104486\n",
      "iter 200, loss: 0.091125\n",
      "iter 400, loss: 0.554865\n",
      "iter 600, loss: 0.058518\n",
      "iter 800, loss: 0.410151\n",
      "iter 1000, loss: 2.299701\n",
      "iter 1200, loss: 0.474510\n",
      "iter 1400, loss: 0.009689\n",
      "iter 1600, loss: 0.005832\n",
      "iter 1800, loss: 0.011212\n",
      "iter 2000, loss: 0.032087\n",
      "iter 0, loss: 0.015169\n",
      "iter 200, loss: 0.003068\n",
      "iter 400, loss: 0.003498\n",
      "iter 600, loss: 0.010243\n",
      "iter 800, loss: 0.003282\n",
      "iter 1000, loss: 0.002962\n",
      "iter 1200, loss: 0.006242\n",
      "iter 1400, loss: 0.009083\n",
      "iter 1600, loss: 0.002326\n",
      "iter 1800, loss: 0.010486\n",
      "iter 2000, loss: 0.026038\n"
     ]
    },
    {
     "data": {
      "text/plain": [
       "[<matplotlib.lines.Line2D at 0x7f9ba90f0bb0>]"
      ]
     },
     "execution_count": 52,
     "metadata": {},
     "output_type": "execute_result"
    },
    {
     "data": {
      "image/png": "[encoded data removed]",
      "text/plain": [
       "<Figure size 432x288 with 1 Axes>"
      ]
     },
     "metadata": {
      "needs_background": "light"
     },
     "output_type": "display_data"
    }
   ],
   "source": [
    "import pandas as pd\n",
    "import numpy as np\n",
    "\n",
    "data = read_stock('sp500.csv')\n",
    "\n",
    "stock_data = np.array(data)\n",
    "print(\"stock_data.shape\",stock_data.shape)\n",
    "print(\"stock_data[:3]\\n\",stock_data[:3])\n",
    "\n",
    "def stock_data_iter(data,seq_length):\n",
    "    feature_n = data.shape[1]\n",
    "    num = (len(data)-1)//seq_length    \n",
    "    while True:       \n",
    "        for i in range(num):\n",
    "            #选取一个训练样本 \n",
    "            p = i*seq_length\n",
    "            inputs = data[p:p+seq_length]\n",
    "            targets = data[p+1:p+seq_length+1][:,-2]  \n",
    "            inputs = np.expand_dims(inputs, axis=1)\n",
    "            targets  = targets.reshape(-1,1)\n",
    "            if i==0:\n",
    "                yield inputs,targets,True\n",
    "            else: \n",
    "                yield inputs,targets,False\n",
    "\n",
    "\n",
    "batch_size = 1 \n",
    "input_dim= stock_data.shape[1]\n",
    "hidden_dim = 100\n",
    "output_dim=1\n",
    "params = rnn_params_init(input_dim, hidden_dim,output_dim)\n",
    "H = rnn_hidden_state_init(batch_size,hidden_dim)\n",
    "\n",
    "seq_length = 100 # number of steps to unroll the RNN for\n",
    "\n",
    "data_it = stock_data_iter(stock_data, seq_length)\n",
    "X,Y,_ = next(data_it)\n",
    "print(X.shape,Y.shape)\n",
    "\n",
    "loss_function = lambda F,Y:rnn_loss_grad(F,Y,util.mse_loss_grad,False)\n",
    "\n",
    "# hyperparameters\n",
    "epoches = 2\n",
    "learning_rate = 1e-4\n",
    "iterations  =2000\n",
    "losses = []\n",
    "\n",
    "#optimizer = AdaGrad(params,learning_rate)\n",
    "momentum = 0.9\n",
    "optimizer = SGD(params,learning_rate,momentum)\n",
    "\n",
    "for epoch in range(epoches):\n",
    "    data_it =  stock_data_iter(stock_data, seq_length)\n",
    "   # epoch_losses,param,H = rnn_train(params,data_it,learning_rate,iterations,loss_function,print_n=100)\n",
    "    epoch_losses,H = rnn_train_epoch(params,data_it,optimizer,iterations,loss_function,print_n=200)\n",
    "    losses.extend(epoch_losses)  \n",
    "    #epoch_losses = np.array(epoch_losses).mean()   \n",
    "    #losses.append(epoch_losses)  \n",
    "plt.plot(losses)"
   ]
  },
  {
   "cell_type": "markdown",
   "metadata": {
    "pycharm": {
     "name": "#%% md\n"
    }
   },
   "source": [
    "上述的序列数据不是自回归数据，每个时刻股票数据是多个特征构成的向量，而预测的下一时刻的股票价格是一个数值，即输入是多个值的向量而输出是一个值的数据，根据该模型无法进行长期预测。下面代码是根据训练的RNN进行的短期预测："
   ]
  },
  {
   "cell_type": "code",
   "execution_count": 53,
   "metadata": {
    "pycharm": {
     "name": "#%%\n"
    }
   },
   "outputs": [
    {
     "data": {
      "image/png": "[encoded data removed]",
      "text/plain": [
       "<Figure size 432x288 with 1 Axes>"
      ]
     },
     "metadata": {
      "needs_background": "light"
     },
     "output_type": "display_data"
    }
   ],
   "source": [
    "H = rnn_hidden_state_init(1,hidden_dim)   \n",
    "\n",
    "start = 3\n",
    "data = stock_data[start:,:]\n",
    "\n",
    "ys =[]\n",
    "for i in range(len(data)):\n",
    "    x= data[i,:].copy()\n",
    "    x = x.reshape(1,-1)\n",
    "    f,H = rnn_forward_step(params,x,H)     \n",
    "    ys.append(f[0,0])\n",
    "\n",
    "ys  = ys[:]\n",
    "plt.plot(ys[:500])\n",
    "plt.plot(data[:500,-2])\n",
    "plt.xlabel(\"time\")\n",
    "plt.ylabel(\"value\")\n",
    "plt.legend(['y','y_real'])\n",
    "plt.show()"
   ]
  },
  {
   "cell_type": "markdown",
   "metadata": {
    "pycharm": {
     "name": "#%% md\n"
    }
   },
   "source": [
    "## 7.5 RNN语言模型和文本生成\n",
    "### 7.5.1 字符表"
   ]
  },
  {
   "cell_type": "code",
   "execution_count": 54,
   "metadata": {
    "pycharm": {
     "name": "#%%\n"
    }
   },
   "outputs": [],
   "source": [
    "filename = 'input.txt'\n",
    "data = open(filename, 'r').read()\n",
    "chars = list(set(data))"
   ]
  },
  {
   "cell_type": "markdown",
   "metadata": {
    "pycharm": {
     "name": "#%% md\n"
    }
   },
   "source": [
    "输出文本中所有字符的数目和字符表的长度，字符表前10个字符和文本的前148个字符："
   ]
  },
  {
   "cell_type": "code",
   "execution_count": 55,
   "metadata": {
    "pycharm": {
     "name": "#%%\n"
    }
   },
   "outputs": [
    {
     "name": "stdout",
     "output_type": "stream",
     "text": [
      "总字符个数 1115394,字符表的长度 65 unique.\n",
      "字符表的前10个字符：\n",
      " ['R', ':', 'B', 'k', ' ', '$', 'X', 'b', 'M', 'H']\n",
      "前148个字符：\n",
      " First Citizen:\n",
      "Before we proceed any further, hear me speak.\n",
      "\n",
      "All:\n",
      "Speak, speak.\n",
      "\n",
      "First Citizen:\n",
      "You are all resolved rather to die than to famish?\n",
      "\n"
     ]
    }
   ],
   "source": [
    "data_size, vocab_size = len(data), len(chars)\n",
    "print ('总字符个数 %d,字符表的长度 %d unique.' % (data_size, vocab_size))\n",
    "print('字符表的前10个字符：\\n',chars[:10])\n",
    "print('前148个字符：\\n',data[:148])"
   ]
  },
  {
   "cell_type": "markdown",
   "metadata": {
    "pycharm": {
     "name": "#%% md\n"
    }
   },
   "source": [
    "字符表中的每个字符对应一个下标，可以用2个字典表示字符到下标、下标到字符的映射关系："
   ]
  },
  {
   "cell_type": "code",
   "execution_count": 56,
   "metadata": {
    "pycharm": {
     "name": "#%%\n"
    }
   },
   "outputs": [],
   "source": [
    "char_to_idx = { ch:i for i,ch in enumerate(chars) }\n",
    "idx_to_char = { i:ch for i,ch in enumerate(chars) }"
   ]
  },
  {
   "cell_type": "markdown",
   "metadata": {
    "pycharm": {
     "name": "#%% md\n"
    }
   },
   "source": [
    "函数one_hot_idx根据字符（单词）表大小vocab_size和一个字符在字符（单词）表的下标idx将该字符转化为一个one-hot向量："
   ]
  },
  {
   "cell_type": "code",
   "execution_count": 57,
   "metadata": {
    "pycharm": {
     "name": "#%%\n"
    }
   },
   "outputs": [],
   "source": [
    "def one_hot_idx(idx,vocab_size):  \n",
    "    x = np.zeros((1,vocab_size)) \n",
    "    x[0,idx] = 1  \n",
    "    return x"
   ]
  },
  {
   "cell_type": "markdown",
   "metadata": {
    "pycharm": {
     "name": "#%% md\n"
    }
   },
   "source": [
    "### 7.5.2  字符序列样本的采样\n",
    "\n",
    "下面代码是采用顺序采样方式采样字符序列样本："
   ]
  },
  {
   "cell_type": "code",
   "execution_count": 58,
   "metadata": {
    "pycharm": {
     "name": "#%%\n"
    }
   },
   "outputs": [],
   "source": [
    "import numpy as np\n",
    "def character_seq_data_iter_consecutive(data, batch_size, seq_len,start_range=10):\n",
    "      #每次在data[offset:]里采样，使得每一个epoch的训练样本不同\n",
    "    start = np.random.randint(0, start_range)     \n",
    "    block_len = (len(data)-start-1) // batch_size\n",
    "    num_batches = block_len // seq_len  #每块里最多能连续采样的批数\n",
    "    bs = np.array(range(0,block_len*batch_size,block_len) ) #每个block起始位置\n",
    "    \n",
    "    i_end = num_batches * seq_len\n",
    "    for i in range(0, i_end, seq_len): #一个block的序列开始位置\n",
    "        s = start+i              #在一个block里的位置\n",
    "        X = np.empty((seq_len,batch_size),dtype=object)#,dtype = np.int32)\n",
    "        Y = np.empty((seq_len,batch_size),dtype=object)#,dtype = np.int32) \n",
    "        for b in range(batch_size): #b表示一个批样本的第几个样本\n",
    "            s_b = s+bs[b]\n",
    "            for t in range(seq_len):\n",
    "                X[t,b] = data[s_b]\n",
    "                Y[t,b] = data[s_b+1]\n",
    "                s_b +=1 \n",
    "        if i==0:\n",
    "            yield X,Y,True\n",
    "        else:\n",
    "            yield X,Y,False"
   ]
  },
  {
   "cell_type": "markdown",
   "metadata": {
    "pycharm": {
     "name": "#%% md\n"
    }
   },
   "source": [
    "测试一下这个函数："
   ]
  },
  {
   "cell_type": "code",
   "execution_count": 59,
   "metadata": {
    "pycharm": {
     "name": "#%%\n"
    }
   },
   "outputs": [
    {
     "name": "stdout",
     "output_type": "stream",
     "text": [
      "x: [['L' 'r']\n",
      " ['i' 'e']\n",
      " [',' ' ']]\n",
      "y [['i' 'e']\n",
      " [',' ' ']\n",
      " ['w' 'y']]\n",
      "x: [['w' 'y']\n",
      " ['h' 'o']\n",
      " ['e' 'u']]\n",
      "y [['h' 'o']\n",
      " ['e' 'u']\n",
      " ['r' ' ']]\n"
     ]
    }
   ],
   "source": [
    "x = 'Li,where are you from'\n",
    "batch_size = 2\n",
    "seq_length  = 3\n",
    "data_it = character_seq_data_iter_consecutive(x,batch_size,seq_length,1)\n",
    "\n",
    "i = 0 \n",
    "for x,y,_ in data_it:\n",
    "    print(\"x:\",x)\n",
    "    print(\"y\",y)\n",
    "    i+=1\n",
    "    if i==2:break"
   ]
  },
  {
   "cell_type": "markdown",
   "metadata": {
    "pycharm": {
     "name": "#%% md\n"
    }
   },
   "source": [
    "函数返回的字符需要进一步将它们向量化，如将每个字符转化为one-hot向量形式，为此，修改上述的函数："
   ]
  },
  {
   "cell_type": "code",
   "execution_count": 60,
   "metadata": {
    "pycharm": {
     "name": "#%%\n"
    }
   },
   "outputs": [],
   "source": [
    "def character_seq_data_iter_consecutive(data, batch_size, seq_len,vocab_size,start_range=10):\n",
    "      #每次在data[offset:]里采样，使得每一个epoch的训练样本不同\n",
    "    start = np.random.randint(0, start_range)     \n",
    "    block_len = (len(data)-start-1) // batch_size\n",
    "    num_batches = block_len // seq_len  #每块里最多能连续采样的批数\n",
    "    bs = np.array(range(0,block_len*batch_size,block_len) )\n",
    "\n",
    "    i_end = num_batches * seq_len\n",
    "    for i in range(0, i_end, seq_len):\n",
    "        s = start+i\n",
    "        X = np.empty((seq_len,batch_size,vocab_size),dtype = np.int32)\n",
    "        Y = np.empty((seq_len,batch_size,1),dtype = np.int32) \n",
    "        for b in range(batch_size):\n",
    "            s_b = s+bs[b]\n",
    "            for t in range(seq_len):\n",
    "                X[t,b,:] = one_hot_idx(char_to_idx[data[s_b]],vocab_size)\n",
    "                Y[t,b,:] = char_to_idx[data[s_b+1]]\n",
    "                s_b +=1 \n",
    "        if i==0:\n",
    "            yield X,Y,True\n",
    "        else:\n",
    "            yield X,Y,False"
   ]
  },
  {
   "cell_type": "markdown",
   "metadata": {
    "pycharm": {
     "name": "#%% md\n"
    }
   },
   "source": [
    "同样，测试一下这个函数："
   ]
  },
  {
   "cell_type": "code",
   "execution_count": 61,
   "metadata": {
    "pycharm": {
     "name": "#%%\n"
    }
   },
   "outputs": [
    {
     "name": "stdout",
     "output_type": "stream",
     "text": [
      "x: [[[0 0 0 0 0 0 0 0 0 0 0 0 0 0 0 0 0 0 0 0 0 0 0 0 0 0 0 1 0 0 0 0 0 0 0\n",
      "   0 0 0 0 0 0 0 0 0 0 0 0 0 0 0 0 0 0 0 0 0 0 0 0 0 0 0 0 0 0]\n",
      "  [0 0 0 0 0 0 0 0 0 0 0 0 0 0 0 0 0 0 0 0 0 0 0 0 0 0 0 0 0 0 0 0 0 0 0\n",
      "   0 0 0 0 0 0 0 0 0 0 0 0 0 0 0 0 0 0 0 0 0 0 0 0 0 0 0 0 0 1]]\n",
      "\n",
      " [[0 0 0 0 0 0 0 0 0 0 0 0 0 0 0 0 0 0 0 0 0 0 0 0 0 0 0 0 1 0 0 0 0 0 0\n",
      "   0 0 0 0 0 0 0 0 0 0 0 0 0 0 0 0 0 0 0 0 0 0 0 0 0 0 0 0 0 0]\n",
      "  [0 0 0 0 0 0 0 0 0 0 0 0 0 0 0 0 0 0 0 0 0 0 0 0 0 0 0 0 0 1 0 0 0 0 0\n",
      "   0 0 0 0 0 0 0 0 0 0 0 0 0 0 0 0 0 0 0 0 0 0 0 0 0 0 0 0 0 0]]\n",
      "\n",
      " [[0 0 0 0 0 0 0 0 0 0 0 0 0 0 0 0 0 0 0 0 0 0 0 0 0 1 0 0 0 0 0 0 0 0 0\n",
      "   0 0 0 0 0 0 0 0 0 0 0 0 0 0 0 0 0 0 0 0 0 0 0 0 0 0 0 0 0 0]\n",
      "  [0 0 0 0 1 0 0 0 0 0 0 0 0 0 0 0 0 0 0 0 0 0 0 0 0 0 0 0 0 0 0 0 0 0 0\n",
      "   0 0 0 0 0 0 0 0 0 0 0 0 0 0 0 0 0 0 0 0 0 0 0 0 0 0 0 0 0 0]]]\n",
      "y [[[28]\n",
      "  [29]]\n",
      "\n",
      " [[25]\n",
      "  [ 4]]\n",
      "\n",
      " [[10]\n",
      "  [45]]]\n",
      "x: [[[0 0 0 0 0 0 0 0 0 0 1 0 0 0 0 0 0 0 0 0 0 0 0 0 0 0 0 0 0 0 0 0 0 0 0\n",
      "   0 0 0 0 0 0 0 0 0 0 0 0 0 0 0 0 0 0 0 0 0 0 0 0 0 0 0 0 0 0]\n",
      "  [0 0 0 0 0 0 0 0 0 0 0 0 0 0 0 0 0 0 0 0 0 0 0 0 0 0 0 0 0 0 0 0 0 0 0\n",
      "   0 0 0 0 0 0 0 0 0 0 1 0 0 0 0 0 0 0 0 0 0 0 0 0 0 0 0 0 0 0]]\n",
      "\n",
      " [[0 0 0 0 0 0 0 0 0 0 0 0 0 0 0 0 0 0 0 0 0 0 0 0 0 0 0 0 0 0 0 0 0 0 0\n",
      "   0 0 0 0 0 0 0 0 0 0 0 0 0 0 1 0 0 0 0 0 0 0 0 0 0 0 0 0 0 0]\n",
      "  [0 0 0 0 0 0 0 0 0 0 0 0 0 0 0 0 0 0 0 0 0 0 0 0 0 0 0 0 0 0 0 0 0 0 0\n",
      "   0 0 0 0 0 0 0 0 0 0 0 0 1 0 0 0 0 0 0 0 0 0 0 0 0 0 0 0 0 0]]\n",
      "\n",
      " [[0 0 0 0 0 0 0 0 0 0 0 0 0 0 0 0 0 0 0 0 0 0 0 0 0 0 0 0 0 1 0 0 0 0 0\n",
      "   0 0 0 0 0 0 0 0 0 0 0 0 0 0 0 0 0 0 0 0 0 0 0 0 0 0 0 0 0 0]\n",
      "  [0 0 0 0 0 0 0 0 0 0 0 0 0 0 0 0 0 0 0 0 0 0 0 0 0 0 0 0 0 0 0 0 0 0 0\n",
      "   0 0 0 0 0 0 0 0 0 0 0 0 0 0 0 0 0 0 0 0 0 0 0 0 0 0 0 0 1 0]]]\n",
      "y [[[49]\n",
      "  [47]]\n",
      "\n",
      " [[29]\n",
      "  [63]]\n",
      "\n",
      " [[64]\n",
      "  [ 4]]]\n"
     ]
    }
   ],
   "source": [
    "x = 'Li,where are you from'\n",
    "batch_size = 2\n",
    "seq_length  = 3\n",
    "data_it = character_seq_data_iter_consecutive(x,batch_size,seq_length,vocab_size,1)\n",
    "i = 0 \n",
    "for x,y,_ in data_it:\n",
    "    print(\"x:\",x)\n",
    "    print(\"y\",y)\n",
    "    i+=1\n",
    "    if i==2:break"
   ]
  },
  {
   "cell_type": "markdown",
   "metadata": {
    "pycharm": {
     "name": "#%% md\n"
    }
   },
   "source": [
    "### 7.5.3 RNN模型的训练和预测\n",
    "\n",
    "初始化一个RNN模型"
   ]
  },
  {
   "cell_type": "code",
   "execution_count": 62,
   "metadata": {
    "pycharm": {
     "name": "#%%\n"
    }
   },
   "outputs": [],
   "source": [
    "batch_size = 1\n",
    "input_dim = vocab_size\n",
    "output_dim= vocab_size\n",
    "hidden_size=100\n",
    "params = rnn_params_init(input_dim, hidden_size,output_dim)\n",
    "H = rnn_hidden_state_init(batch_size,hidden_size)"
   ]
  },
  {
   "cell_type": "markdown",
   "metadata": {
    "pycharm": {
     "name": "#%% md\n"
    }
   },
   "source": [
    "#### 预测\n",
    "\n",
    "根据输出字符序列prefix生成其后面的一系列字符"
   ]
  },
  {
   "cell_type": "code",
   "execution_count": 63,
   "metadata": {
    "pycharm": {
     "name": "#%%\n"
    }
   },
   "outputs": [],
   "source": [
    "def predict_rnn(params,prefix,n): \n",
    "    Wx, Wh,bh, Wf,bf =  params\n",
    "    #Wxh, Whh,Why, bh, by =params[\"Wxh\"],params[\"Whh\"],params[\"Why\"],params[\"bh\"],params[\"by\"]\n",
    "    vocab_size,hidden_size = Wx.shape[0],Wh.shape[1]\n",
    "    h = rnn_hidden_state_init(1,hidden_size) \n",
    "    \n",
    "    output = [char_to_idx[prefix[0]]]\n",
    "   \n",
    "    for t in range(len(prefix) +n - 1):        \n",
    "        # 将上⼀时间步的输出作为当前时间步的输⼊。\n",
    "        x = one_hot_idx(output[-1], vocab_size)\n",
    "        \n",
    "        z,h = rnn_forward_step(params,x,h) \n",
    "        \n",
    "        #h = np.tanh(np.dot(x,Wx) + np.dot(h,Wh) + bh)\n",
    "        #z = np.dot(h,Wf) + bf   \n",
    "           \n",
    "        \n",
    "        if t < len(prefix) - 1:\n",
    "            output.append(char_to_idx[prefix[t + 1]])\n",
    "        else:\n",
    "            p = np.exp(z) / np.sum(np.exp(z)) \n",
    "           # idx = int(p.argmax(axis=1))\n",
    "            idx = np.random.choice(range(vocab_size), p=p.ravel())\n",
    "            output.append(idx)\n",
    "     \n",
    "        \n",
    "    return ''.join([idx_to_char[i] for i in output])"
   ]
  },
  {
   "cell_type": "markdown",
   "metadata": {
    "pycharm": {
     "name": "#%% md\n"
    }
   },
   "source": [
    "测试这个预测函数："
   ]
  },
  {
   "cell_type": "code",
   "execution_count": 64,
   "metadata": {
    "pycharm": {
     "name": "#%%\n"
    }
   },
   "outputs": [
    {
     "name": "stdout",
     "output_type": "stream",
     "text": [
      "heUBxdCs$CUhNEbamqryTQwoTrjaUf?bQrPwavKEmKW?&PLC;y3rxtRsfZ,Aw!ZN uSi,dAMAHiuL'REBvIDtHSfHoqe?iY oT$otSKMauIWu:pvDTybogwULnaXSt;zcCb3RmicebCO'glm'yMebVwwH!$ACyS'!S,-EGftqKY?a!I!JUcf,$EHfebGAboL,X;hRwD'W&\n"
     ]
    }
   ],
   "source": [
    "str = predict_rnn(params,\"he\",200)\n",
    "print(str)"
   ]
  },
  {
   "cell_type": "markdown",
   "metadata": {
    "pycharm": {
     "name": "#%% md\n"
    }
   },
   "source": [
    "由于初始的RNN模型参数是随机的，预测也是随机的.\n",
    "\n",
    "可以用一个文本语料库采样的序列样本去训练RNN模型，如下面的代码："
   ]
  },
  {
   "cell_type": "code",
   "execution_count": 65,
   "metadata": {
    "pycharm": {
     "name": "#%%\n"
    },
    "scrolled": true
   },
   "outputs": [
    {
     "name": "stdout",
     "output_type": "stream",
     "text": [
      "iter 0, loss: 104.361004\n",
      "iter 10, loss: 97.472131\n",
      "iter 20, loss: 86.091293\n",
      "iter 30, loss: 79.406612\n",
      "iter 40, loss: 88.922930\n",
      "iter 50, loss: 79.985450\n",
      "iter 60, loss: 71.960680\n",
      "iter 70, loss: 76.690542\n",
      "iter 80, loss: 84.517184\n",
      "iter 90, loss: 71.955153\n",
      "iter 100, loss: 75.725653\n",
      "iter 110, loss: 69.368085\n",
      "iter 120, loss: 62.038989\n",
      "iter 130, loss: 74.409354\n",
      "iter 140, loss: 66.337256\n",
      "iter 150, loss: 68.378187\n",
      "iter 160, loss: 85.795793\n",
      "iter 170, loss: 60.102835\n",
      "iter 180, loss: 69.481062\n",
      "iter 190, loss: 69.190731\n",
      "iter 200, loss: 63.577186\n",
      "iter 210, loss: 65.356981\n",
      "iter 220, loss: 72.267375\n",
      "iter 230, loss: 58.723288\n",
      "iter 240, loss: 68.140474\n",
      "iter 250, loss: 67.969647\n",
      "iter 260, loss: 66.508415\n",
      "iter 270, loss: 63.041488\n",
      "iter 280, loss: 63.933792\n",
      "iter 290, loss: 70.054530\n",
      "iter 300, loss: 61.832320\n",
      "iter 310, loss: 68.717617\n",
      "iter 320, loss: 63.294286\n",
      "iter 330, loss: 58.036336\n",
      "iter 340, loss: 59.408535\n",
      "iter 350, loss: 62.804017\n",
      "iter 360, loss: 65.766444\n",
      "iter 370, loss: 60.278396\n",
      "iter 380, loss: 69.232609\n",
      "iter 390, loss: 56.439303\n",
      "iter 400, loss: 58.462019\n",
      "iter 410, loss: 62.584213\n",
      "iter 420, loss: 66.130137\n",
      "iter 430, loss: 59.327067\n",
      "iter 440, loss: 61.803873\n",
      "iter 450, loss: 63.768444\n",
      "iter 460, loss: 68.157222\n",
      "iter 470, loss: 64.911443\n",
      "iter 480, loss: 58.204935\n",
      "iter 490, loss: 59.784800\n",
      "iter 500, loss: 64.282790\n",
      "iter 510, loss: 65.245511\n",
      "iter 520, loss: 67.057701\n",
      "iter 530, loss: 55.853220\n",
      "iter 540, loss: 63.745207\n",
      "iter 550, loss: 61.352456\n",
      "iter 560, loss: 59.748080\n",
      "iter 570, loss: 64.513577\n",
      "iter 580, loss: 57.641514\n",
      "iter 590, loss: 60.513314\n",
      "iter 600, loss: 61.679448\n",
      "iter 610, loss: 57.499068\n",
      "iter 620, loss: 60.680863\n",
      "iter 630, loss: 64.419422\n",
      "iter 640, loss: 68.635097\n",
      "iter 650, loss: 58.038461\n",
      "iter 660, loss: 63.375220\n",
      "iter 670, loss: 57.086605\n",
      "iter 680, loss: 56.720464\n",
      "iter 690, loss: 59.229269\n",
      "iter 700, loss: 66.582615\n",
      "iter 710, loss: 55.593760\n",
      "iter 720, loss: 62.424221\n",
      "iter 730, loss: 59.080500\n",
      "iter 740, loss: 61.446951\n",
      "iter 750, loss: 58.253950\n",
      "iter 760, loss: 63.109303\n",
      "iter 770, loss: 56.982285\n",
      "iter 780, loss: 62.678440\n",
      "iter 790, loss: 52.424075\n",
      "iter 800, loss: 58.568610\n",
      "iter 810, loss: 58.987722\n",
      "iter 820, loss: 64.925960\n",
      "iter 830, loss: 64.654650\n",
      "iter 840, loss: 62.739005\n",
      "iter 850, loss: 62.092904\n",
      "iter 860, loss: 63.286425\n",
      "iter 870, loss: 56.586066\n",
      "iter 880, loss: 64.675843\n",
      "iter 890, loss: 62.809608\n",
      "iter 900, loss: 59.111903\n",
      "iter 910, loss: 56.921695\n",
      "iter 920, loss: 57.908827\n",
      "iter 930, loss: 55.850986\n",
      "iter 940, loss: 58.436518\n",
      "iter 950, loss: 60.155197\n",
      "iter 960, loss: 63.645331\n",
      "iter 970, loss: 54.933442\n",
      "iter 980, loss: 58.310118\n",
      "iter 990, loss: 58.070825\n",
      "iter 1000, loss: 58.768816\n",
      "iter 1010, loss: 60.559212\n",
      "iter 1020, loss: 56.490384\n",
      "iter 1030, loss: 61.118769\n",
      "iter 1040, loss: 62.086502\n",
      "iter 1050, loss: 65.993408\n",
      "iter 1060, loss: 55.969209\n",
      "iter 1070, loss: 66.092813\n",
      "iter 1080, loss: 59.280692\n",
      "iter 1090, loss: 63.041826\n",
      "iter 1100, loss: 56.652334\n",
      "iter 1110, loss: 54.174126\n",
      "iter 1120, loss: 53.084853\n",
      "iter 1130, loss: 58.407088\n",
      "iter 1140, loss: 51.652527\n",
      "iter 1150, loss: 60.783246\n",
      "iter 1160, loss: 54.627667\n",
      "iter 1170, loss: 60.212050\n",
      "iter 1180, loss: 62.618182\n",
      "iter 1190, loss: 64.098410\n",
      "iter 1200, loss: 61.739953\n",
      "iter 1210, loss: 55.458793\n",
      "iter 1220, loss: 61.743936\n",
      "iter 1230, loss: 59.248808\n",
      "iter 1240, loss: 53.897977\n",
      "iter 1250, loss: 56.373663\n",
      "iter 1260, loss: 57.481871\n",
      "iter 1270, loss: 59.881329\n",
      "iter 1280, loss: 61.504238\n",
      "iter 1290, loss: 60.314205\n",
      "iter 1300, loss: 56.789841\n",
      "iter 1310, loss: 59.294764\n",
      "iter 1320, loss: 62.833757\n",
      "iter 1330, loss: 50.957859\n",
      "iter 1340, loss: 62.696907\n",
      "iter 1350, loss: 58.530820\n",
      "iter 1360, loss: 60.584116\n",
      "iter 1370, loss: 55.893615\n",
      "iter 1380, loss: 58.308455\n",
      "iter 1390, loss: 58.157113\n",
      "iter 1400, loss: 62.963756\n",
      "iter 1410, loss: 55.080858\n",
      "iter 1420, loss: 52.251713\n",
      "iter 1430, loss: 60.649468\n",
      "iter 1440, loss: 61.838485\n",
      "iter 1450, loss: 62.133426\n",
      "iter 1460, loss: 57.604104\n",
      "iter 1470, loss: 48.245724\n",
      "iter 1480, loss: 58.173385\n",
      "iter 1490, loss: 56.774269\n",
      "iter 1500, loss: 57.708423\n",
      "iter 1510, loss: 52.096489\n",
      "iter 1520, loss: 56.668446\n",
      "iter 1530, loss: 59.676408\n",
      "iter 1540, loss: 57.353476\n",
      "iter 1550, loss: 60.887468\n",
      "iter 1560, loss: 53.369097\n",
      "iter 1570, loss: 60.798044\n",
      "iter 1580, loss: 61.307503\n",
      "iter 1590, loss: 57.799229\n",
      "iter 1600, loss: 50.304260\n",
      "iter 1610, loss: 61.596456\n",
      "iter 1620, loss: 46.988394\n",
      "iter 1630, loss: 63.479680\n",
      "iter 1640, loss: 59.878754\n",
      "iter 1650, loss: 51.337334\n",
      "iter 1660, loss: 57.261410\n",
      "iter 1670, loss: 60.508300\n",
      "iter 1680, loss: 64.415583\n",
      "iter 1690, loss: 53.110221\n",
      "iter 1700, loss: 57.244638\n",
      "iter 1710, loss: 61.645990\n",
      "iter 1720, loss: 58.350819\n",
      "iter 1730, loss: 54.783482\n",
      "iter 1740, loss: 60.410843\n",
      "iter 1750, loss: 59.759457\n",
      "iter 1760, loss: 47.637387\n",
      "iter 1770, loss: 62.666508\n",
      "iter 1780, loss: 60.103302\n",
      "iter 1790, loss: 67.961250\n",
      "iter 1800, loss: 63.896754\n",
      "iter 1810, loss: 58.454786\n",
      "iter 1820, loss: 53.595763\n",
      "iter 1830, loss: 64.540430\n",
      "iter 1840, loss: 56.905746\n",
      "iter 1850, loss: 57.476109\n",
      "iter 1860, loss: 59.571333\n",
      "iter 1870, loss: 45.585176\n",
      "iter 1880, loss: 60.380100\n",
      "iter 1890, loss: 53.337461\n",
      "iter 1900, loss: 62.909095\n",
      "iter 1910, loss: 63.242486\n",
      "iter 1920, loss: 55.803974\n",
      "iter 1930, loss: 53.919422\n",
      "iter 1940, loss: 55.977909\n",
      "iter 1950, loss: 53.452154\n",
      "iter 1960, loss: 45.336412\n",
      "iter 1970, loss: 58.089289\n",
      "iter 1980, loss: 56.166087\n",
      "iter 1990, loss: 53.762417\n",
      "iter 2000, loss: 57.145620\n",
      "iter 2010, loss: 57.487724\n",
      "iter 2020, loss: 57.622548\n",
      "iter 2030, loss: 60.475776\n",
      "iter 2040, loss: 55.996278\n",
      "iter 2050, loss: 58.817166\n",
      "iter 2060, loss: 61.356666\n",
      "iter 2070, loss: 53.503422\n",
      "iter 2080, loss: 59.188393\n",
      "iter 2090, loss: 60.121855\n",
      "iter 2100, loss: 59.188343\n",
      "iter 2110, loss: 52.683563\n",
      "iter 2120, loss: 52.296904\n",
      "iter 2130, loss: 45.143481\n",
      "iter 2140, loss: 56.641901\n",
      "iter 2150, loss: 49.432181\n",
      "iter 2160, loss: 62.865608\n",
      "iter 2170, loss: 47.647657\n",
      "iter 2180, loss: 53.088894\n",
      "iter 2190, loss: 50.230983\n",
      "iter 2200, loss: 54.053398\n",
      "iter 2210, loss: 51.039899\n",
      "iter 2220, loss: 51.870294\n",
      "iter 2230, loss: 56.775558\n",
      "iter 2240, loss: 56.806434\n",
      "iter 2250, loss: 53.028768\n",
      "iter 2260, loss: 59.909441\n",
      "iter 2270, loss: 55.615860\n",
      "iter 2280, loss: 64.721957\n",
      "iter 2290, loss: 54.590188\n",
      "iter 2300, loss: 53.250067\n",
      "iter 2310, loss: 50.014547\n",
      "iter 2320, loss: 50.920293\n",
      "iter 2330, loss: 55.666410\n",
      "iter 2340, loss: 59.550462\n",
      "iter 2350, loss: 54.010098\n",
      "iter 2360, loss: 53.724110\n",
      "iter 2370, loss: 60.011544\n",
      "iter 2380, loss: 58.144051\n",
      "iter 2390, loss: 52.472375\n",
      "iter 2400, loss: 49.141666\n",
      "iter 2410, loss: 60.932527\n",
      "iter 2420, loss: 52.448282\n",
      "iter 2430, loss: 52.118275\n",
      "iter 2440, loss: 59.765113\n",
      "iter 2450, loss: 50.564354\n",
      "iter 2460, loss: 43.984592\n",
      "iter 2470, loss: 52.699136\n",
      "iter 2480, loss: 57.796113\n",
      "iter 2490, loss: 52.802038\n",
      "iter 2500, loss: 54.596987\n",
      "iter 2510, loss: 55.149619\n",
      "iter 2520, loss: 51.247749\n",
      "iter 2530, loss: 52.221498\n",
      "iter 2540, loss: 52.979021\n",
      "iter 2550, loss: 41.200465\n",
      "iter 2560, loss: 54.041210\n",
      "iter 2570, loss: 60.359450\n",
      "iter 2580, loss: 56.951977\n",
      "iter 2590, loss: 58.989637\n",
      "iter 2600, loss: 52.676187\n",
      "iter 2610, loss: 56.884853\n",
      "iter 2620, loss: 56.886965\n",
      "iter 2630, loss: 53.510339\n",
      "iter 2640, loss: 53.269381\n",
      "iter 2650, loss: 50.605260\n",
      "iter 2660, loss: 56.053318\n",
      "iter 2670, loss: 56.316522\n",
      "iter 2680, loss: 51.316941\n",
      "iter 2690, loss: 54.888251\n",
      "iter 2700, loss: 60.473782\n",
      "iter 2710, loss: 51.973951\n",
      "iter 2720, loss: 45.929401\n",
      "iter 2730, loss: 52.617312\n",
      "iter 2740, loss: 61.664050\n",
      "iter 2750, loss: 55.980720\n",
      "iter 2760, loss: 55.323654\n",
      "iter 2770, loss: 59.150344\n",
      "iter 2780, loss: 49.570280\n",
      "iter 2790, loss: 44.770678\n",
      "iter 2800, loss: 53.652450\n",
      "iter 2810, loss: 51.317912\n",
      "iter 2820, loss: 45.895100\n",
      "iter 2830, loss: 54.909882\n",
      "iter 2840, loss: 51.109738\n",
      "iter 2850, loss: 63.863616\n",
      "iter 2860, loss: 53.961337\n",
      "iter 2870, loss: 47.450973\n",
      "iter 2880, loss: 54.499540\n",
      "iter 2890, loss: 47.426796\n",
      "iter 2900, loss: 52.311583\n",
      "iter 2910, loss: 53.150111\n",
      "iter 2920, loss: 54.934959\n",
      "iter 2930, loss: 51.002947\n",
      "iter 2940, loss: 53.718642\n",
      "iter 2950, loss: 59.315429\n",
      "iter 2960, loss: 61.228348\n",
      "iter 2970, loss: 56.160751\n",
      "iter 2980, loss: 56.725065\n",
      "iter 2990, loss: 42.864133\n",
      "iter 3000, loss: 49.248452\n",
      "iter 3010, loss: 48.815498\n",
      "iter 3020, loss: 48.613818\n",
      "iter 3030, loss: 58.298888\n",
      "iter 3040, loss: 57.395901\n",
      "iter 3050, loss: 55.507342\n",
      "iter 3060, loss: 47.775308\n",
      "iter 3070, loss: 57.287059\n",
      "iter 3080, loss: 60.222059\n"
     ]
    },
    {
     "name": "stdout",
     "output_type": "stream",
     "text": [
      "iter 3090, loss: 59.251406\n",
      "iter 3100, loss: 56.509121\n",
      "iter 3110, loss: 62.082168\n",
      "iter 3120, loss: 49.662347\n",
      "iter 3130, loss: 56.029247\n",
      "iter 3140, loss: 60.479339\n",
      "iter 3150, loss: 52.494697\n",
      "iter 3160, loss: 44.704861\n",
      "iter 3170, loss: 50.448692\n",
      "iter 3180, loss: 56.273608\n",
      "iter 3190, loss: 53.337867\n",
      "iter 3200, loss: 53.760471\n",
      "iter 3210, loss: 59.267055\n",
      "iter 3220, loss: 53.883394\n",
      "iter 3230, loss: 58.752546\n",
      "iter 3240, loss: 59.835015\n",
      "iter 3250, loss: 51.046193\n",
      "iter 3260, loss: 54.236519\n",
      "iter 3270, loss: 58.974334\n",
      "iter 3280, loss: 49.927336\n",
      "iter 3290, loss: 63.624387\n",
      "iter 3300, loss: 58.777622\n",
      "iter 3310, loss: 52.589049\n",
      "iter 3320, loss: 54.873365\n",
      "iter 3330, loss: 53.759251\n",
      "iter 3340, loss: 59.860628\n",
      "iter 3350, loss: 52.153970\n",
      "iter 3360, loss: 58.365416\n",
      "iter 3370, loss: 48.000195\n",
      "iter 3380, loss: 53.871132\n",
      "iter 3390, loss: 57.505869\n",
      "iter 3400, loss: 47.136835\n",
      "iter 3410, loss: 65.079016\n",
      "iter 3420, loss: 58.874432\n",
      "iter 3430, loss: 58.992275\n",
      "iter 3440, loss: 46.657104\n",
      "iter 3450, loss: 50.654499\n",
      "iter 3460, loss: 51.102004\n",
      "iter 3470, loss: 55.965365\n",
      "iter 3480, loss: 54.050906\n",
      "iter 3490, loss: 56.131600\n",
      "iter 3500, loss: 48.422404\n",
      "iter 3510, loss: 54.220674\n",
      "iter 3520, loss: 63.657003\n",
      "iter 3530, loss: 59.318357\n",
      "iter 3540, loss: 50.020521\n",
      "iter 3550, loss: 52.051783\n",
      "iter 3560, loss: 49.698090\n",
      "iter 3570, loss: 63.470162\n",
      "iter 3580, loss: 50.032423\n",
      "iter 3590, loss: 61.200688\n",
      "iter 3600, loss: 56.232167\n",
      "iter 3610, loss: 47.425619\n",
      "iter 3620, loss: 53.189675\n",
      "iter 3630, loss: 50.380889\n",
      "iter 3640, loss: 45.964661\n",
      "iter 3650, loss: 61.088519\n",
      "iter 3660, loss: 51.551992\n",
      "iter 3670, loss: 47.631997\n",
      "iter 3680, loss: 53.435900\n",
      "iter 3690, loss: 57.963357\n",
      "iter 3700, loss: 49.485887\n",
      "iter 3710, loss: 55.406085\n",
      "iter 3720, loss: 53.450256\n",
      "iter 3730, loss: 52.629361\n",
      "iter 3740, loss: 57.156575\n",
      "iter 3750, loss: 47.721008\n",
      "iter 3760, loss: 55.705572\n",
      "iter 3770, loss: 50.650169\n",
      "iter 3780, loss: 59.969486\n",
      "iter 3790, loss: 52.157520\n",
      "iter 3800, loss: 48.016827\n",
      "iter 3810, loss: 49.116365\n",
      "iter 3820, loss: 55.374667\n",
      "iter 3830, loss: 48.140306\n",
      "iter 3840, loss: 48.408007\n",
      "iter 3850, loss: 48.330884\n",
      "iter 3860, loss: 60.643282\n",
      "iter 3870, loss: 51.221834\n",
      "iter 3880, loss: 41.287056\n",
      "iter 3890, loss: 64.250171\n",
      "iter 3900, loss: 51.283199\n",
      "iter 3910, loss: 55.426745\n",
      "iter 3920, loss: 54.256322\n",
      "iter 3930, loss: 52.126623\n",
      "iter 3940, loss: 54.696187\n",
      "iter 3950, loss: 50.943888\n",
      "iter 3960, loss: 51.654408\n",
      "iter 3970, loss: 44.231533\n",
      "iter 3980, loss: 55.759332\n",
      "iter 3990, loss: 47.052579\n",
      "iter 4000, loss: 52.748357\n",
      "iter 4010, loss: 49.184759\n",
      "iter 4020, loss: 57.417850\n",
      "iter 4030, loss: 43.325956\n",
      "iter 4040, loss: 45.084761\n",
      "iter 4050, loss: 55.080988\n",
      "iter 4060, loss: 55.249042\n",
      "iter 4070, loss: 50.565866\n",
      "iter 4080, loss: 63.297969\n",
      "iter 4090, loss: 54.958843\n",
      "iter 4100, loss: 52.577053\n",
      "iter 4110, loss: 57.324391\n",
      "iter 4120, loss: 53.310535\n",
      "iter 4130, loss: 47.677889\n",
      "iter 4140, loss: 59.020634\n",
      "iter 4150, loss: 57.827492\n",
      "iter 4160, loss: 52.439873\n",
      "iter 4170, loss: 47.704971\n",
      "iter 4180, loss: 48.910302\n",
      "iter 4190, loss: 49.335088\n",
      "iter 4200, loss: 52.091394\n",
      "iter 4210, loss: 49.293388\n",
      "iter 4220, loss: 51.573024\n",
      "iter 4230, loss: 47.170315\n",
      "iter 4240, loss: 43.124273\n",
      "iter 4250, loss: 52.742953\n",
      "iter 4260, loss: 50.999286\n",
      "iter 4270, loss: 52.802003\n",
      "iter 4280, loss: 49.580965\n",
      "iter 4290, loss: 52.757030\n",
      "iter 4300, loss: 50.704537\n",
      "iter 4310, loss: 43.656687\n",
      "iter 4320, loss: 64.101329\n",
      "iter 4330, loss: 51.176781\n",
      "iter 4340, loss: 47.152941\n",
      "iter 4350, loss: 58.469852\n",
      "iter 4360, loss: 50.474408\n",
      "iter 4370, loss: 57.087183\n",
      "iter 4380, loss: 53.052323\n",
      "iter 4390, loss: 51.146840\n",
      "iter 4400, loss: 45.950600\n",
      "iter 4410, loss: 52.366079\n",
      "iter 4420, loss: 60.199831\n",
      "iter 4430, loss: 50.020710\n",
      "iter 4440, loss: 54.220763\n",
      "iter 4450, loss: 49.287874\n",
      "iter 4460, loss: 54.165749\n",
      "iter 4470, loss: 48.594527\n",
      "iter 4480, loss: 52.659756\n",
      "iter 4490, loss: 62.635480\n",
      "iter 4500, loss: 51.236227\n",
      "iter 4510, loss: 36.310654\n",
      "iter 4520, loss: 53.038336\n",
      "iter 4530, loss: 45.806247\n",
      "iter 4540, loss: 46.227195\n",
      "iter 4550, loss: 59.924872\n",
      "iter 4560, loss: 52.167807\n",
      "iter 4570, loss: 50.740565\n",
      "iter 4580, loss: 58.461539\n",
      "iter 4590, loss: 50.891573\n",
      "iter 4600, loss: 48.604507\n",
      "iter 4610, loss: 62.488412\n",
      "iter 4620, loss: 50.814529\n",
      "iter 4630, loss: 50.135365\n",
      "iter 4640, loss: 48.115782\n",
      "iter 4650, loss: 59.164771\n",
      "iter 4660, loss: 50.247606\n",
      "iter 4670, loss: 58.477305\n",
      "iter 4680, loss: 55.011342\n",
      "iter 4690, loss: 54.560925\n",
      "iter 4700, loss: 48.285427\n",
      "iter 4710, loss: 49.621701\n",
      "iter 4720, loss: 53.581599\n",
      "iter 4730, loss: 51.111450\n",
      "iter 4740, loss: 58.199689\n",
      "iter 4750, loss: 59.756753\n",
      "iter 4760, loss: 46.165318\n",
      "iter 4770, loss: 56.243133\n",
      "iter 4780, loss: 60.299493\n",
      "iter 4790, loss: 52.638258\n",
      "iter 4800, loss: 49.093667\n",
      "iter 4810, loss: 53.107975\n",
      "iter 4820, loss: 46.917231\n",
      "iter 4830, loss: 50.067370\n",
      "iter 4840, loss: 53.033119\n",
      "iter 4850, loss: 45.876216\n",
      "iter 4860, loss: 61.945678\n",
      "iter 4870, loss: 57.169916\n",
      "iter 4880, loss: 42.420514\n",
      "iter 4890, loss: 52.780663\n",
      "iter 4900, loss: 53.446356\n",
      "iter 4910, loss: 60.143922\n",
      "iter 4920, loss: 53.656556\n",
      "iter 4930, loss: 43.015002\n",
      "iter 4940, loss: 56.240864\n",
      "iter 4950, loss: 53.384580\n",
      "iter 4960, loss: 52.333090\n",
      "iter 4970, loss: 58.187215\n",
      "iter 4980, loss: 60.275457\n",
      "iter 4990, loss: 50.305238\n",
      "iter 5000, loss: 55.425707\n",
      "iter 5010, loss: 49.607540\n",
      "iter 5020, loss: 46.336013\n",
      "iter 5030, loss: 53.480958\n",
      "iter 5040, loss: 62.795633\n",
      "iter 5050, loss: 48.555876\n",
      "iter 5060, loss: 56.429908\n",
      "iter 5070, loss: 65.029315\n",
      "iter 5080, loss: 54.854150\n",
      "iter 5090, loss: 43.704512\n",
      "iter 5100, loss: 53.009280\n",
      "iter 5110, loss: 51.637090\n",
      "iter 5120, loss: 48.625715\n",
      "iter 5130, loss: 45.663572\n",
      "iter 5140, loss: 50.203445\n",
      "iter 5150, loss: 42.804961\n",
      "iter 5160, loss: 44.441766\n",
      "iter 5170, loss: 58.211058\n",
      "iter 5180, loss: 52.036295\n",
      "iter 5190, loss: 51.114790\n",
      "iter 5200, loss: 44.915758\n",
      "iter 5210, loss: 58.265551\n",
      "iter 5220, loss: 45.623771\n",
      "iter 5230, loss: 45.619424\n",
      "iter 5240, loss: 47.904137\n",
      "iter 5250, loss: 52.872209\n",
      "iter 5260, loss: 51.539083\n",
      "iter 5270, loss: 63.899097\n",
      "iter 5280, loss: 55.049318\n",
      "iter 5290, loss: 52.136754\n",
      "iter 5300, loss: 51.093915\n",
      "iter 5310, loss: 47.768524\n",
      "iter 5320, loss: 56.271362\n",
      "iter 5330, loss: 62.963394\n",
      "iter 5340, loss: 44.825013\n",
      "iter 5350, loss: 50.004764\n",
      "iter 5360, loss: 38.951470\n",
      "iter 5370, loss: 48.246293\n",
      "iter 5380, loss: 52.535327\n",
      "iter 5390, loss: 57.210729\n",
      "iter 5400, loss: 49.622589\n",
      "iter 5410, loss: 46.467201\n",
      "iter 5420, loss: 57.877014\n",
      "iter 5430, loss: 46.212055\n",
      "iter 5440, loss: 48.342566\n",
      "iter 5450, loss: 49.492764\n",
      "iter 5460, loss: 52.945110\n",
      "iter 5470, loss: 53.651992\n",
      "iter 5480, loss: 50.344542\n",
      "iter 5490, loss: 52.759548\n",
      "iter 5500, loss: 56.678409\n",
      "iter 5510, loss: 46.129747\n",
      "iter 5520, loss: 62.964292\n",
      "iter 5530, loss: 50.323095\n",
      "iter 5540, loss: 51.340065\n",
      "iter 5550, loss: 53.551768\n",
      "iter 5560, loss: 45.652809\n",
      "iter 5570, loss: 47.794551\n",
      "iter 5580, loss: 62.153370\n",
      "iter 5590, loss: 52.648485\n",
      "iter 5600, loss: 52.815834\n",
      "iter 5610, loss: 54.872744\n",
      "iter 5620, loss: 52.687925\n",
      "iter 5630, loss: 66.061836\n",
      "iter 5640, loss: 55.631570\n",
      "iter 5650, loss: 51.444341\n",
      "iter 5660, loss: 52.846766\n",
      "iter 5670, loss: 48.006029\n",
      "iter 5680, loss: 40.770031\n",
      "iter 5690, loss: 38.109196\n",
      "iter 5700, loss: 52.470801\n",
      "iter 5710, loss: 52.011881\n",
      "iter 5720, loss: 55.836728\n",
      "iter 5730, loss: 57.021968\n",
      "iter 5740, loss: 50.937809\n",
      "iter 5750, loss: 46.099801\n",
      "iter 5760, loss: 52.481587\n",
      "iter 5770, loss: 42.762969\n",
      "iter 5780, loss: 49.902980\n",
      "iter 5790, loss: 56.956293\n",
      "iter 5800, loss: 46.152383\n",
      "iter 5810, loss: 49.962453\n",
      "iter 5820, loss: 49.785797\n",
      "iter 5830, loss: 50.240618\n",
      "iter 5840, loss: 47.140151\n",
      "iter 5850, loss: 51.070287\n",
      "iter 5860, loss: 52.916604\n",
      "iter 5870, loss: 50.977187\n",
      "iter 5880, loss: 52.492321\n",
      "iter 5890, loss: 60.970665\n",
      "iter 5900, loss: 55.185510\n",
      "iter 5910, loss: 58.010143\n",
      "iter 5920, loss: 49.919525\n",
      "iter 5930, loss: 47.219785\n",
      "iter 5940, loss: 39.427817\n",
      "iter 5950, loss: 56.173983\n",
      "iter 5960, loss: 45.490208\n",
      "iter 5970, loss: 54.058310\n",
      "iter 5980, loss: 54.436391\n",
      "iter 5990, loss: 50.110652\n",
      "iter 6000, loss: 46.909386\n",
      "iter 6010, loss: 46.757256\n",
      "iter 6020, loss: 50.754741\n",
      "iter 6030, loss: 54.948936\n",
      "iter 6040, loss: 51.640846\n",
      "iter 6050, loss: 49.591062\n",
      "iter 6060, loss: 58.767306\n",
      "iter 6070, loss: 53.281605\n",
      "iter 6080, loss: 50.120532\n",
      "iter 6090, loss: 53.755953\n",
      "iter 6100, loss: 57.226066\n",
      "iter 6110, loss: 51.032290\n",
      "iter 6120, loss: 51.334325\n",
      "iter 6130, loss: 51.753831\n",
      "iter 6140, loss: 51.249671\n"
     ]
    },
    {
     "name": "stdout",
     "output_type": "stream",
     "text": [
      "iter 6150, loss: 52.285108\n",
      "iter 6160, loss: 53.616702\n",
      "iter 6170, loss: 52.597303\n",
      "iter 6180, loss: 51.604783\n",
      "iter 6190, loss: 57.644969\n",
      "iter 6200, loss: 45.231109\n",
      "iter 6210, loss: 53.265419\n",
      "iter 6220, loss: 43.726855\n",
      "iter 6230, loss: 47.115828\n",
      "iter 6240, loss: 55.299831\n",
      "iter 6250, loss: 50.022167\n",
      "iter 6260, loss: 59.505827\n",
      "iter 6270, loss: 54.534978\n",
      "iter 6280, loss: 49.088351\n",
      "iter 6290, loss: 48.185761\n",
      "iter 6300, loss: 42.480974\n",
      "iter 6310, loss: 48.772047\n",
      "iter 6320, loss: 58.643551\n",
      "iter 6330, loss: 54.769705\n",
      "iter 6340, loss: 64.125759\n",
      "iter 6350, loss: 48.244387\n",
      "iter 6360, loss: 42.883836\n",
      "iter 6370, loss: 51.007663\n",
      "iter 6380, loss: 46.078514\n",
      "iter 6390, loss: 52.477564\n",
      "iter 6400, loss: 52.652588\n",
      "iter 6410, loss: 48.125238\n",
      "iter 6420, loss: 48.451619\n",
      "iter 6430, loss: 42.967870\n",
      "iter 6440, loss: 51.290346\n",
      "iter 6450, loss: 56.536736\n",
      "iter 6460, loss: 53.439852\n",
      "iter 6470, loss: 53.288620\n",
      "iter 6480, loss: 55.158005\n",
      "iter 6490, loss: 50.673808\n",
      "iter 6500, loss: 50.062880\n",
      "iter 6510, loss: 49.440131\n",
      "iter 6520, loss: 51.423460\n",
      "iter 6530, loss: 49.464781\n",
      "iter 6540, loss: 53.564420\n",
      "iter 6550, loss: 56.615509\n",
      "iter 6560, loss: 61.461025\n",
      "iter 6570, loss: 53.206014\n",
      "iter 6580, loss: 51.830679\n",
      "iter 6590, loss: 57.811695\n",
      "iter 6600, loss: 53.340920\n",
      "iter 6610, loss: 47.691773\n",
      "iter 6620, loss: 52.146860\n",
      "iter 6630, loss: 50.963248\n",
      "iter 6640, loss: 47.737513\n",
      "iter 6650, loss: 55.591414\n",
      "iter 6660, loss: 53.454245\n",
      "iter 6670, loss: 49.527704\n",
      "iter 6680, loss: 44.695350\n",
      "iter 6690, loss: 50.100430\n",
      "iter 6700, loss: 50.544459\n",
      "iter 6710, loss: 48.907834\n",
      "iter 6720, loss: 41.687793\n",
      "iter 6730, loss: 46.211659\n",
      "iter 6740, loss: 40.071523\n",
      "iter 6750, loss: 46.804299\n",
      "iter 6760, loss: 45.230188\n",
      "iter 6770, loss: 56.530397\n",
      "iter 6780, loss: 53.051469\n",
      "iter 6790, loss: 60.349229\n",
      "iter 6800, loss: 50.872557\n",
      "iter 6810, loss: 59.029963\n",
      "iter 6820, loss: 44.397930\n",
      "iter 6830, loss: 42.747536\n",
      "iter 6840, loss: 50.111764\n",
      "iter 6850, loss: 54.964275\n",
      "iter 6860, loss: 49.539637\n",
      "iter 6870, loss: 47.221835\n",
      "iter 6880, loss: 48.432717\n",
      "iter 6890, loss: 53.296048\n",
      "iter 6900, loss: 54.469654\n",
      "iter 6910, loss: 46.680767\n",
      "iter 6920, loss: 47.745797\n",
      "iter 6930, loss: 47.383677\n",
      "iter 6940, loss: 53.442550\n",
      "iter 6950, loss: 59.225937\n",
      "iter 6960, loss: 45.515014\n",
      "iter 6970, loss: 42.319513\n",
      "iter 6980, loss: 49.529426\n",
      "iter 6990, loss: 53.607918\n",
      "iter 7000, loss: 49.277365\n",
      "iter 7010, loss: 49.568229\n",
      "iter 7020, loss: 48.394271\n",
      "iter 7030, loss: 46.356711\n",
      "iter 7040, loss: 56.102704\n",
      "iter 7050, loss: 51.958745\n",
      "iter 7060, loss: 51.889318\n",
      "iter 7070, loss: 49.739286\n",
      "iter 7080, loss: 50.773143\n",
      "iter 7090, loss: 49.335380\n",
      "iter 7100, loss: 47.948418\n",
      "iter 7110, loss: 43.152067\n",
      "iter 7120, loss: 44.704501\n",
      "iter 7130, loss: 50.024846\n",
      "iter 7140, loss: 60.485269\n",
      "iter 7150, loss: 47.900269\n",
      "iter 7160, loss: 52.141925\n",
      "iter 7170, loss: 46.672926\n",
      "iter 7180, loss: 54.724678\n",
      "iter 7190, loss: 58.535366\n",
      "iter 7200, loss: 57.476994\n",
      "iter 7210, loss: 50.904917\n",
      "iter 7220, loss: 48.941616\n",
      "iter 7230, loss: 53.551857\n",
      "iter 7240, loss: 50.137986\n",
      "iter 7250, loss: 52.299100\n",
      "iter 7260, loss: 47.130303\n",
      "iter 7270, loss: 50.098864\n",
      "iter 7280, loss: 55.891981\n",
      "iter 7290, loss: 49.892650\n",
      "iter 7300, loss: 51.757947\n",
      "iter 7310, loss: 58.185598\n",
      "iter 7320, loss: 47.552917\n",
      "iter 7330, loss: 53.690451\n",
      "iter 7340, loss: 57.618825\n",
      "iter 7350, loss: 39.758094\n",
      "iter 7360, loss: 47.993161\n",
      "iter 7370, loss: 56.221463\n",
      "iter 7380, loss: 52.347938\n",
      "iter 7390, loss: 45.495319\n",
      "iter 7400, loss: 52.317948\n",
      "iter 7410, loss: 58.052595\n",
      "iter 7420, loss: 47.334226\n",
      "iter 7430, loss: 48.687451\n",
      "iter 7440, loss: 59.153988\n",
      "iter 7450, loss: 51.932127\n",
      "iter 7460, loss: 53.407884\n",
      "iter 7470, loss: 43.178270\n",
      "iter 7480, loss: 44.774228\n",
      "iter 7490, loss: 42.675759\n",
      "iter 7500, loss: 60.038449\n",
      "iter 7510, loss: 53.945138\n",
      "iter 7520, loss: 54.278000\n",
      "iter 7530, loss: 53.832740\n",
      "iter 7540, loss: 55.575865\n",
      "iter 7550, loss: 44.151048\n",
      "iter 7560, loss: 54.396108\n",
      "iter 7570, loss: 47.284961\n",
      "iter 7580, loss: 52.750066\n",
      "iter 7590, loss: 51.256041\n",
      "iter 7600, loss: 43.722245\n",
      "iter 7610, loss: 43.292439\n",
      "iter 7620, loss: 48.413352\n",
      "iter 7630, loss: 51.347621\n",
      "iter 7640, loss: 55.538644\n",
      "iter 7650, loss: 48.380475\n",
      "iter 7660, loss: 50.784566\n",
      "iter 7670, loss: 58.105669\n",
      "iter 7680, loss: 48.117593\n",
      "iter 7690, loss: 51.846515\n",
      "iter 7700, loss: 43.159823\n",
      "iter 7710, loss: 50.697482\n",
      "iter 7720, loss: 57.898997\n",
      "iter 7730, loss: 51.766689\n",
      "iter 7740, loss: 49.331634\n",
      "iter 7750, loss: 51.394512\n",
      "iter 7760, loss: 41.451939\n",
      "iter 7770, loss: 48.490771\n",
      "iter 7780, loss: 46.766125\n",
      "iter 7790, loss: 45.218382\n",
      "iter 7800, loss: 40.603022\n",
      "iter 7810, loss: 49.377960\n",
      "iter 7820, loss: 37.049383\n",
      "iter 7830, loss: 49.221987\n",
      "iter 7840, loss: 56.288688\n",
      "iter 7850, loss: 55.817264\n",
      "iter 7860, loss: 47.367475\n",
      "iter 7870, loss: 50.065628\n",
      "iter 7880, loss: 43.922012\n",
      "iter 7890, loss: 55.700203\n",
      "iter 7900, loss: 43.611854\n",
      "iter 7910, loss: 50.727448\n",
      "iter 7920, loss: 45.010867\n",
      "iter 7930, loss: 56.507461\n",
      "iter 7940, loss: 47.679791\n",
      "iter 7950, loss: 48.537155\n",
      "iter 7960, loss: 42.845668\n",
      "iter 7970, loss: 43.811377\n",
      "iter 7980, loss: 51.429150\n",
      "iter 7990, loss: 54.223490\n",
      "iter 8000, loss: 52.434319\n",
      "iter 8010, loss: 57.049586\n",
      "iter 8020, loss: 42.638516\n",
      "iter 8030, loss: 54.184121\n",
      "iter 8040, loss: 39.825935\n",
      "iter 8050, loss: 58.027171\n",
      "iter 8060, loss: 54.917939\n",
      "iter 8070, loss: 53.697731\n",
      "iter 8080, loss: 43.984613\n",
      "iter 8090, loss: 56.313777\n",
      "iter 8100, loss: 47.575037\n",
      "iter 8110, loss: 35.405639\n",
      "iter 8120, loss: 46.892879\n",
      "iter 8130, loss: 57.258323\n",
      "iter 8140, loss: 53.024816\n",
      "iter 8150, loss: 41.684380\n",
      "iter 8160, loss: 43.027612\n",
      "iter 8170, loss: 47.100428\n",
      "iter 8180, loss: 48.551179\n",
      "iter 8190, loss: 44.329986\n",
      "iter 8200, loss: 44.960579\n",
      "iter 8210, loss: 50.988623\n",
      "iter 8220, loss: 51.787395\n",
      "iter 8230, loss: 45.968223\n",
      "iter 8240, loss: 51.984507\n",
      "iter 8250, loss: 53.295203\n",
      "iter 8260, loss: 57.477307\n",
      "iter 8270, loss: 49.031748\n",
      "iter 8280, loss: 45.611332\n",
      "iter 8290, loss: 53.173098\n",
      "iter 8300, loss: 46.331495\n",
      "iter 8310, loss: 51.404713\n",
      "iter 8320, loss: 45.773470\n",
      "iter 8330, loss: 50.976336\n",
      "iter 8340, loss: 58.910937\n",
      "iter 8350, loss: 58.449261\n",
      "iter 8360, loss: 48.975833\n",
      "iter 8370, loss: 52.123254\n",
      "iter 8380, loss: 53.843707\n",
      "iter 8390, loss: 50.729763\n",
      "iter 8400, loss: 50.578430\n",
      "iter 8410, loss: 48.280448\n",
      "iter 8420, loss: 51.800743\n",
      "iter 8430, loss: 54.569571\n",
      "iter 8440, loss: 40.495197\n",
      "iter 8450, loss: 48.454912\n",
      "iter 8460, loss: 50.766899\n",
      "iter 8470, loss: 42.300763\n",
      "iter 8480, loss: 55.785807\n",
      "iter 8490, loss: 50.970782\n",
      "iter 8500, loss: 49.596929\n",
      "iter 8510, loss: 47.931584\n",
      "iter 8520, loss: 51.201842\n",
      "iter 8530, loss: 56.810894\n",
      "iter 8540, loss: 47.474503\n",
      "iter 8550, loss: 43.473409\n",
      "iter 8560, loss: 54.427789\n",
      "iter 8570, loss: 54.538808\n",
      "iter 8580, loss: 49.388949\n",
      "iter 8590, loss: 51.018263\n",
      "iter 8600, loss: 53.586896\n",
      "iter 8610, loss: 49.289609\n",
      "iter 8620, loss: 48.407362\n",
      "iter 8630, loss: 48.347820\n",
      "iter 8640, loss: 51.840037\n",
      "iter 8650, loss: 50.098425\n",
      "iter 8660, loss: 53.691856\n",
      "iter 8670, loss: 46.484959\n",
      "iter 8680, loss: 52.756509\n",
      "iter 8690, loss: 41.628398\n",
      "iter 8700, loss: 40.910649\n",
      "iter 8710, loss: 50.646101\n",
      "iter 8720, loss: 49.864468\n",
      "iter 8730, loss: 50.687450\n",
      "iter 8740, loss: 54.106938\n",
      "iter 8750, loss: 47.480907\n",
      "iter 8760, loss: 51.098786\n",
      "iter 8770, loss: 45.767313\n",
      "iter 8780, loss: 42.867767\n",
      "iter 8790, loss: 44.841940\n",
      "iter 8800, loss: 45.796172\n",
      "iter 8810, loss: 51.230654\n",
      "iter 8820, loss: 53.316516\n",
      "iter 8830, loss: 54.367228\n",
      "iter 8840, loss: 51.627526\n",
      "iter 8850, loss: 58.846796\n",
      "iter 8860, loss: 50.660919\n",
      "iter 8870, loss: 51.807124\n",
      "iter 8880, loss: 49.174877\n",
      "iter 8890, loss: 48.104026\n",
      "iter 8900, loss: 43.773776\n",
      "iter 8910, loss: 57.184832\n",
      "iter 8920, loss: 54.287624\n",
      "iter 8930, loss: 56.529055\n",
      "iter 8940, loss: 46.390925\n",
      "iter 8950, loss: 62.673883\n",
      "iter 8960, loss: 43.609411\n",
      "iter 8970, loss: 47.081310\n",
      "iter 8980, loss: 48.137826\n",
      "iter 8990, loss: 45.037984\n",
      "iter 9000, loss: 49.707701\n",
      "iter 9010, loss: 55.156178\n",
      "iter 9020, loss: 49.232952\n",
      "iter 9030, loss: 48.338963\n",
      "iter 9040, loss: 55.204153\n",
      "iter 9050, loss: 43.503224\n",
      "iter 9060, loss: 54.118485\n",
      "iter 9070, loss: 48.833051\n",
      "iter 9080, loss: 51.800961\n",
      "iter 9090, loss: 43.818655\n",
      "iter 9100, loss: 37.381177\n",
      "iter 9110, loss: 45.808909\n",
      "iter 9120, loss: 48.048841\n",
      "iter 9130, loss: 47.676044\n",
      "iter 9140, loss: 49.718910\n",
      "iter 9150, loss: 56.582118\n",
      "iter 9160, loss: 56.135038\n",
      "iter 9170, loss: 53.397735\n",
      "iter 9180, loss: 55.856412\n",
      "iter 9190, loss: 55.389990\n"
     ]
    },
    {
     "name": "stdout",
     "output_type": "stream",
     "text": [
      "iter 9200, loss: 56.275797\n",
      "iter 9210, loss: 58.891180\n",
      "iter 9220, loss: 50.529215\n",
      "iter 9230, loss: 47.656521\n",
      "iter 9240, loss: 53.505391\n",
      "iter 9250, loss: 48.021675\n",
      "iter 9260, loss: 45.756631\n",
      "iter 9270, loss: 42.406196\n",
      "iter 9280, loss: 45.402726\n",
      "iter 9290, loss: 50.828804\n",
      "iter 9300, loss: 44.839874\n",
      "iter 9310, loss: 52.258535\n",
      "iter 9320, loss: 50.494717\n",
      "iter 9330, loss: 52.945707\n",
      "iter 9340, loss: 57.266904\n",
      "iter 9350, loss: 47.936718\n",
      "iter 9360, loss: 56.191069\n",
      "iter 9370, loss: 49.944280\n",
      "iter 9380, loss: 47.020589\n",
      "iter 9390, loss: 47.476995\n",
      "iter 9400, loss: 58.207060\n",
      "iter 9410, loss: 56.300600\n",
      "iter 9420, loss: 42.170880\n",
      "iter 9430, loss: 47.390354\n",
      "iter 9440, loss: 49.276764\n",
      "iter 9450, loss: 58.455474\n",
      "iter 9460, loss: 52.535674\n",
      "iter 9470, loss: 43.373046\n",
      "iter 9480, loss: 50.375354\n",
      "iter 9490, loss: 51.643642\n",
      "iter 9500, loss: 48.902864\n",
      "iter 9510, loss: 49.231702\n",
      "iter 9520, loss: 50.173678\n",
      "iter 9530, loss: 51.806335\n",
      "iter 9540, loss: 48.787198\n",
      "iter 9550, loss: 59.461751\n",
      "iter 9560, loss: 46.548160\n",
      "iter 9570, loss: 40.953307\n",
      "iter 9580, loss: 56.378844\n",
      "iter 9590, loss: 42.741754\n",
      "iter 9600, loss: 48.984771\n",
      "iter 9610, loss: 45.199883\n",
      "iter 9620, loss: 52.412173\n",
      "iter 9630, loss: 47.279271\n",
      "iter 9640, loss: 54.782245\n",
      "iter 9650, loss: 45.085616\n",
      "iter 9660, loss: 55.089543\n",
      "iter 9670, loss: 37.390358\n",
      "iter 9680, loss: 55.515939\n",
      "iter 9690, loss: 45.264197\n",
      "iter 9700, loss: 44.705302\n",
      "iter 9710, loss: 47.866468\n",
      "iter 9720, loss: 52.876742\n",
      "iter 9730, loss: 43.294937\n",
      "iter 9740, loss: 48.524797\n",
      "iter 9750, loss: 49.964900\n",
      "iter 9760, loss: 48.728891\n",
      "iter 9770, loss: 49.801619\n",
      "iter 9780, loss: 45.484301\n",
      "iter 9790, loss: 39.946802\n",
      "iter 9800, loss: 48.079556\n",
      "iter 9810, loss: 51.396539\n",
      "iter 9820, loss: 60.248090\n",
      "iter 9830, loss: 56.994782\n",
      "iter 9840, loss: 44.685170\n",
      "iter 9850, loss: 50.338937\n",
      "iter 9860, loss: 44.249337\n",
      "iter 9870, loss: 45.821101\n",
      "iter 9880, loss: 53.481099\n",
      "iter 9890, loss: 50.398953\n",
      "iter 9900, loss: 44.141866\n",
      "iter 9910, loss: 48.966175\n",
      "iter 9920, loss: 50.589663\n",
      "iter 9930, loss: 46.293984\n",
      "iter 9940, loss: 50.786136\n",
      "iter 9950, loss: 57.321270\n",
      "iter 9960, loss: 50.007111\n",
      "iter 9970, loss: 57.283092\n",
      "iter 9980, loss: 50.387627\n",
      "iter 9990, loss: 52.558726\n",
      "iter 10000, loss: 51.995483\n",
      "iter 0, loss: 53.033413\n",
      "iter 10, loss: 52.977167\n",
      "iter 20, loss: 56.836883\n",
      "iter 30, loss: 56.304704\n",
      "iter 40, loss: 57.655621\n",
      "iter 50, loss: 50.970168\n",
      "iter 60, loss: 59.055615\n",
      "iter 70, loss: 42.781971\n",
      "iter 80, loss: 39.741018\n",
      "iter 90, loss: 49.969268\n",
      "iter 100, loss: 43.237481\n",
      "iter 110, loss: 47.356928\n",
      "iter 120, loss: 46.177409\n",
      "iter 130, loss: 47.823961\n",
      "iter 140, loss: 48.592689\n",
      "iter 150, loss: 49.614258\n",
      "iter 160, loss: 50.134135\n",
      "iter 170, loss: 48.773836\n",
      "iter 180, loss: 53.628382\n",
      "iter 190, loss: 53.742040\n",
      "iter 200, loss: 55.519493\n",
      "iter 210, loss: 45.733644\n",
      "iter 220, loss: 51.623311\n",
      "iter 230, loss: 53.580106\n",
      "iter 240, loss: 44.550200\n",
      "iter 250, loss: 46.995876\n",
      "iter 260, loss: 51.624641\n",
      "iter 270, loss: 43.765198\n",
      "iter 280, loss: 48.357619\n",
      "iter 290, loss: 54.117586\n",
      "iter 300, loss: 43.816867\n",
      "iter 310, loss: 53.021014\n",
      "iter 320, loss: 49.666358\n",
      "iter 330, loss: 43.767071\n",
      "iter 340, loss: 50.094254\n",
      "iter 350, loss: 48.902818\n",
      "iter 360, loss: 53.449716\n",
      "iter 370, loss: 55.196883\n",
      "iter 380, loss: 43.959880\n",
      "iter 390, loss: 40.303323\n",
      "iter 400, loss: 43.029021\n",
      "iter 410, loss: 46.162770\n",
      "iter 420, loss: 50.432609\n",
      "iter 430, loss: 56.034392\n",
      "iter 440, loss: 55.472070\n",
      "iter 450, loss: 50.960732\n",
      "iter 460, loss: 53.459527\n",
      "iter 470, loss: 50.674324\n",
      "iter 480, loss: 49.563760\n",
      "iter 490, loss: 50.219201\n",
      "iter 500, loss: 52.936647\n",
      "iter 510, loss: 42.755116\n",
      "iter 520, loss: 48.863397\n",
      "iter 530, loss: 50.596448\n",
      "iter 540, loss: 55.822442\n",
      "iter 550, loss: 54.062458\n",
      "iter 560, loss: 47.004816\n",
      "iter 570, loss: 48.456064\n",
      "iter 580, loss: 46.912646\n",
      "iter 590, loss: 46.528041\n",
      "iter 600, loss: 50.441877\n",
      "iter 610, loss: 53.798958\n",
      "iter 620, loss: 51.111283\n",
      "iter 630, loss: 49.407809\n",
      "iter 640, loss: 54.506788\n",
      "iter 650, loss: 50.982093\n",
      "iter 660, loss: 46.660388\n",
      "iter 670, loss: 51.817213\n",
      "iter 680, loss: 51.706751\n",
      "iter 690, loss: 57.568004\n",
      "iter 700, loss: 57.049152\n",
      "iter 710, loss: 48.522882\n",
      "iter 720, loss: 48.571549\n",
      "iter 730, loss: 59.276071\n",
      "iter 740, loss: 50.343228\n",
      "iter 750, loss: 48.236747\n",
      "iter 760, loss: 56.054775\n",
      "iter 770, loss: 43.376900\n",
      "iter 780, loss: 48.404606\n",
      "iter 790, loss: 48.589835\n",
      "iter 800, loss: 42.090885\n",
      "iter 810, loss: 53.487905\n",
      "iter 820, loss: 55.639789\n",
      "iter 830, loss: 49.488673\n",
      "iter 840, loss: 47.502525\n",
      "iter 850, loss: 53.218026\n",
      "iter 860, loss: 50.341327\n",
      "iter 870, loss: 53.748030\n",
      "iter 880, loss: 48.445888\n",
      "iter 890, loss: 56.846424\n",
      "iter 900, loss: 47.944658\n",
      "iter 910, loss: 51.773629\n",
      "iter 920, loss: 51.492431\n",
      "iter 930, loss: 48.739922\n",
      "iter 940, loss: 51.038446\n",
      "iter 950, loss: 53.934164\n",
      "iter 960, loss: 51.548604\n",
      "iter 970, loss: 53.508632\n",
      "iter 980, loss: 53.565249\n",
      "iter 990, loss: 46.645216\n",
      "iter 1000, loss: 49.417137\n",
      "iter 1010, loss: 53.305331\n",
      "iter 1020, loss: 47.399693\n",
      "iter 1030, loss: 53.838021\n",
      "iter 1040, loss: 49.909559\n",
      "iter 1050, loss: 59.062884\n",
      "iter 1060, loss: 47.818725\n",
      "iter 1070, loss: 57.172760\n",
      "iter 1080, loss: 50.144385\n",
      "iter 1090, loss: 57.095195\n",
      "iter 1100, loss: 55.089278\n",
      "iter 1110, loss: 54.306072\n",
      "iter 1120, loss: 49.165661\n",
      "iter 1130, loss: 43.112310\n",
      "iter 1140, loss: 44.548154\n",
      "iter 1150, loss: 50.459543\n",
      "iter 1160, loss: 54.170893\n",
      "iter 1170, loss: 50.864310\n",
      "iter 1180, loss: 51.533669\n",
      "iter 1190, loss: 50.423463\n",
      "iter 1200, loss: 52.595941\n",
      "iter 1210, loss: 43.649109\n",
      "iter 1220, loss: 52.947691\n",
      "iter 1230, loss: 49.537568\n",
      "iter 1240, loss: 48.186715\n",
      "iter 1250, loss: 54.374052\n",
      "iter 1260, loss: 59.248077\n",
      "iter 1270, loss: 49.648820\n",
      "iter 1280, loss: 45.548620\n",
      "iter 1290, loss: 46.726521\n",
      "iter 1300, loss: 39.934303\n",
      "iter 1310, loss: 54.110482\n",
      "iter 1320, loss: 45.691816\n",
      "iter 1330, loss: 49.274829\n",
      "iter 1340, loss: 50.688293\n",
      "iter 1350, loss: 47.481881\n",
      "iter 1360, loss: 53.335467\n",
      "iter 1370, loss: 53.343609\n",
      "iter 1380, loss: 56.216723\n",
      "iter 1390, loss: 49.306133\n",
      "iter 1400, loss: 53.171998\n",
      "iter 1410, loss: 51.605998\n",
      "iter 1420, loss: 47.133222\n",
      "iter 1430, loss: 40.866197\n",
      "iter 1440, loss: 47.905330\n",
      "iter 1450, loss: 51.180946\n",
      "iter 1460, loss: 52.810812\n",
      "iter 1470, loss: 44.783328\n",
      "iter 1480, loss: 45.752938\n",
      "iter 1490, loss: 40.714481\n",
      "iter 1500, loss: 49.463954\n",
      "iter 1510, loss: 38.043208\n",
      "iter 1520, loss: 36.769727\n",
      "iter 1530, loss: 51.199973\n",
      "iter 1540, loss: 57.937434\n",
      "iter 1550, loss: 48.147987\n",
      "iter 1560, loss: 49.336041\n",
      "iter 1570, loss: 44.456021\n",
      "iter 1580, loss: 49.227793\n",
      "iter 1590, loss: 50.037066\n",
      "iter 1600, loss: 40.759364\n",
      "iter 1610, loss: 57.330219\n",
      "iter 1620, loss: 44.595728\n",
      "iter 1630, loss: 54.763334\n",
      "iter 1640, loss: 52.281417\n",
      "iter 1650, loss: 47.678816\n",
      "iter 1660, loss: 51.471178\n",
      "iter 1670, loss: 47.911374\n",
      "iter 1680, loss: 59.752153\n",
      "iter 1690, loss: 48.201289\n",
      "iter 1700, loss: 54.536756\n",
      "iter 1710, loss: 52.017333\n",
      "iter 1720, loss: 49.103143\n",
      "iter 1730, loss: 50.565740\n",
      "iter 1740, loss: 47.046232\n",
      "iter 1750, loss: 54.763916\n",
      "iter 1760, loss: 50.264310\n",
      "iter 1770, loss: 55.709767\n",
      "iter 1780, loss: 59.731243\n",
      "iter 1790, loss: 51.842258\n",
      "iter 1800, loss: 43.486864\n",
      "iter 1810, loss: 42.800400\n",
      "iter 1820, loss: 47.001268\n",
      "iter 1830, loss: 55.954517\n",
      "iter 1840, loss: 50.917743\n",
      "iter 1850, loss: 51.788451\n",
      "iter 1860, loss: 54.466376\n",
      "iter 1870, loss: 46.649031\n",
      "iter 1880, loss: 48.672772\n",
      "iter 1890, loss: 58.492210\n",
      "iter 1900, loss: 53.529963\n",
      "iter 1910, loss: 62.388124\n",
      "iter 1920, loss: 51.125458\n",
      "iter 1930, loss: 48.866604\n",
      "iter 1940, loss: 54.126273\n",
      "iter 1950, loss: 50.945978\n",
      "iter 1960, loss: 45.723073\n",
      "iter 1970, loss: 56.407889\n",
      "iter 1980, loss: 52.166187\n",
      "iter 1990, loss: 44.950275\n",
      "iter 2000, loss: 49.836598\n",
      "iter 2010, loss: 49.656667\n",
      "iter 2020, loss: 47.307879\n",
      "iter 2030, loss: 53.257218\n",
      "iter 2040, loss: 52.195454\n",
      "iter 2050, loss: 49.342409\n",
      "iter 2060, loss: 52.008947\n",
      "iter 2070, loss: 46.071638\n",
      "iter 2080, loss: 53.658865\n",
      "iter 2090, loss: 48.997445\n",
      "iter 2100, loss: 48.638875\n",
      "iter 2110, loss: 47.305195\n",
      "iter 2120, loss: 48.958578\n",
      "iter 2130, loss: 49.803611\n",
      "iter 2140, loss: 49.206390\n",
      "iter 2150, loss: 34.132227\n",
      "iter 2160, loss: 49.050968\n",
      "iter 2170, loss: 36.219220\n",
      "iter 2180, loss: 45.590874\n",
      "iter 2190, loss: 44.734863\n",
      "iter 2200, loss: 49.980514\n",
      "iter 2210, loss: 49.715586\n",
      "iter 2220, loss: 42.708364\n",
      "iter 2230, loss: 48.955401\n",
      "iter 2240, loss: 52.189014\n",
      "iter 2250, loss: 40.925058\n",
      "iter 2260, loss: 45.181715\n",
      "iter 2270, loss: 43.685463\n"
     ]
    },
    {
     "name": "stdout",
     "output_type": "stream",
     "text": [
      "iter 2280, loss: 59.216991\n",
      "iter 2290, loss: 44.673790\n",
      "iter 2300, loss: 51.791257\n",
      "iter 2310, loss: 43.675328\n",
      "iter 2320, loss: 38.386960\n",
      "iter 2330, loss: 46.261426\n",
      "iter 2340, loss: 47.174309\n",
      "iter 2350, loss: 41.220402\n",
      "iter 2360, loss: 47.379241\n",
      "iter 2370, loss: 50.044227\n",
      "iter 2380, loss: 48.540619\n",
      "iter 2390, loss: 50.824249\n",
      "iter 2400, loss: 45.132628\n",
      "iter 2410, loss: 48.837710\n",
      "iter 2420, loss: 46.102138\n",
      "iter 2430, loss: 43.411012\n",
      "iter 2440, loss: 58.791724\n",
      "iter 2450, loss: 50.669030\n",
      "iter 2460, loss: 52.600115\n",
      "iter 2470, loss: 46.394589\n",
      "iter 2480, loss: 46.817879\n",
      "iter 2490, loss: 48.043023\n",
      "iter 2500, loss: 46.697672\n",
      "iter 2510, loss: 45.603154\n",
      "iter 2520, loss: 47.595132\n",
      "iter 2530, loss: 44.005118\n",
      "iter 2540, loss: 51.508966\n",
      "iter 2550, loss: 45.220814\n",
      "iter 2560, loss: 48.946412\n",
      "iter 2570, loss: 59.546550\n",
      "iter 2580, loss: 51.723267\n",
      "iter 2590, loss: 56.619288\n",
      "iter 2600, loss: 48.790185\n",
      "iter 2610, loss: 48.737237\n",
      "iter 2620, loss: 54.929357\n",
      "iter 2630, loss: 53.436869\n",
      "iter 2640, loss: 49.705118\n",
      "iter 2650, loss: 55.979880\n",
      "iter 2660, loss: 50.318210\n",
      "iter 2670, loss: 46.280469\n",
      "iter 2680, loss: 50.080107\n",
      "iter 2690, loss: 54.728502\n",
      "iter 2700, loss: 46.056706\n",
      "iter 2710, loss: 48.805475\n",
      "iter 2720, loss: 43.268002\n",
      "iter 2730, loss: 40.988179\n",
      "iter 2740, loss: 54.295104\n",
      "iter 2750, loss: 48.090404\n",
      "iter 2760, loss: 48.461837\n",
      "iter 2770, loss: 47.938076\n",
      "iter 2780, loss: 48.635012\n",
      "iter 2790, loss: 50.166293\n",
      "iter 2800, loss: 49.238468\n",
      "iter 2810, loss: 46.496084\n",
      "iter 2820, loss: 41.701347\n",
      "iter 2830, loss: 53.640877\n",
      "iter 2840, loss: 44.615406\n",
      "iter 2850, loss: 54.624887\n",
      "iter 2860, loss: 45.587220\n",
      "iter 2870, loss: 41.806690\n",
      "iter 2880, loss: 41.595648\n",
      "iter 2890, loss: 42.143651\n",
      "iter 2900, loss: 41.533248\n",
      "iter 2910, loss: 45.696775\n",
      "iter 2920, loss: 41.264559\n",
      "iter 2930, loss: 41.010550\n",
      "iter 2940, loss: 44.876855\n",
      "iter 2950, loss: 60.837246\n",
      "iter 2960, loss: 62.350594\n",
      "iter 2970, loss: 53.406158\n",
      "iter 2980, loss: 47.902567\n",
      "iter 2990, loss: 37.842119\n",
      "iter 3000, loss: 42.352909\n",
      "iter 3010, loss: 41.069348\n",
      "iter 3020, loss: 37.602744\n",
      "iter 3030, loss: 66.122693\n",
      "iter 3040, loss: 51.236663\n",
      "iter 3050, loss: 53.333073\n",
      "iter 3060, loss: 53.303611\n",
      "iter 3070, loss: 53.406005\n",
      "iter 3080, loss: 56.640189\n",
      "iter 3090, loss: 54.302496\n",
      "iter 3100, loss: 50.585029\n",
      "iter 3110, loss: 51.012173\n",
      "iter 3120, loss: 41.825825\n",
      "iter 3130, loss: 50.419907\n",
      "iter 3140, loss: 53.307100\n",
      "iter 3150, loss: 43.067950\n",
      "iter 3160, loss: 42.392898\n",
      "iter 3170, loss: 48.449013\n",
      "iter 3180, loss: 47.790738\n",
      "iter 3190, loss: 39.193687\n",
      "iter 3200, loss: 46.881760\n",
      "iter 3210, loss: 43.292854\n",
      "iter 3220, loss: 44.981485\n",
      "iter 3230, loss: 64.116956\n",
      "iter 3240, loss: 54.078088\n",
      "iter 3250, loss: 47.156373\n",
      "iter 3260, loss: 55.539649\n",
      "iter 3270, loss: 54.322458\n",
      "iter 3280, loss: 43.319388\n",
      "iter 3290, loss: 50.605714\n",
      "iter 3300, loss: 51.867455\n",
      "iter 3310, loss: 46.819042\n",
      "iter 3320, loss: 48.763414\n",
      "iter 3330, loss: 53.094446\n",
      "iter 3340, loss: 53.480006\n",
      "iter 3350, loss: 48.579399\n",
      "iter 3360, loss: 56.442285\n",
      "iter 3370, loss: 37.349262\n",
      "iter 3380, loss: 54.725408\n",
      "iter 3390, loss: 46.729332\n",
      "iter 3400, loss: 47.837003\n",
      "iter 3410, loss: 48.371141\n",
      "iter 3420, loss: 49.841285\n",
      "iter 3430, loss: 50.618534\n",
      "iter 3440, loss: 51.577926\n",
      "iter 3450, loss: 46.169109\n",
      "iter 3460, loss: 48.050947\n",
      "iter 3470, loss: 58.169401\n",
      "iter 3480, loss: 47.317601\n",
      "iter 3490, loss: 49.733403\n",
      "iter 3500, loss: 54.632469\n",
      "iter 3510, loss: 58.023204\n",
      "iter 3520, loss: 56.279651\n",
      "iter 3530, loss: 62.318467\n",
      "iter 3540, loss: 46.066704\n",
      "iter 3550, loss: 46.146566\n",
      "iter 3560, loss: 40.230590\n",
      "iter 3570, loss: 53.723648\n",
      "iter 3580, loss: 45.280853\n",
      "iter 3590, loss: 58.250771\n",
      "iter 3600, loss: 49.040294\n",
      "iter 3610, loss: 43.058131\n",
      "iter 3620, loss: 52.552914\n",
      "iter 3630, loss: 43.839175\n",
      "iter 3640, loss: 48.682839\n",
      "iter 3650, loss: 51.452681\n",
      "iter 3660, loss: 46.879883\n",
      "iter 3670, loss: 54.028529\n",
      "iter 3680, loss: 46.788409\n",
      "iter 3690, loss: 48.787150\n",
      "iter 3700, loss: 49.237742\n",
      "iter 3710, loss: 47.515344\n",
      "iter 3720, loss: 53.519961\n",
      "iter 3730, loss: 42.907559\n",
      "iter 3740, loss: 51.739111\n",
      "iter 3750, loss: 40.008530\n",
      "iter 3760, loss: 43.912352\n",
      "iter 3770, loss: 53.123910\n",
      "iter 3780, loss: 53.185983\n",
      "iter 3790, loss: 45.576597\n",
      "iter 3800, loss: 46.168394\n",
      "iter 3810, loss: 40.951470\n",
      "iter 3820, loss: 49.441310\n",
      "iter 3830, loss: 49.039252\n",
      "iter 3840, loss: 48.367233\n",
      "iter 3850, loss: 51.227443\n",
      "iter 3860, loss: 55.917225\n",
      "iter 3870, loss: 47.378812\n",
      "iter 3880, loss: 49.963098\n",
      "iter 3890, loss: 58.972918\n",
      "iter 3900, loss: 56.190792\n",
      "iter 3910, loss: 45.555531\n",
      "iter 3920, loss: 48.983301\n",
      "iter 3930, loss: 44.237182\n",
      "iter 3940, loss: 51.962218\n",
      "iter 3950, loss: 46.955138\n",
      "iter 3960, loss: 45.194102\n",
      "iter 3970, loss: 46.724123\n",
      "iter 3980, loss: 53.231698\n",
      "iter 3990, loss: 41.977500\n",
      "iter 4000, loss: 53.254069\n",
      "iter 4010, loss: 40.351140\n",
      "iter 4020, loss: 54.364605\n",
      "iter 4030, loss: 38.081041\n",
      "iter 4040, loss: 55.324504\n",
      "iter 4050, loss: 62.559496\n",
      "iter 4060, loss: 53.290813\n",
      "iter 4070, loss: 43.887084\n",
      "iter 4080, loss: 48.112283\n",
      "iter 4090, loss: 51.079958\n",
      "iter 4100, loss: 50.486939\n",
      "iter 4110, loss: 61.324920\n",
      "iter 4120, loss: 57.195195\n",
      "iter 4130, loss: 47.652986\n",
      "iter 4140, loss: 59.661206\n",
      "iter 4150, loss: 47.509589\n",
      "iter 4160, loss: 48.625852\n",
      "iter 4170, loss: 46.139958\n",
      "iter 4180, loss: 53.450809\n",
      "iter 4190, loss: 44.867205\n",
      "iter 4200, loss: 53.274818\n",
      "iter 4210, loss: 43.530985\n",
      "iter 4220, loss: 48.468043\n",
      "iter 4230, loss: 51.538892\n",
      "iter 4240, loss: 36.866765\n",
      "iter 4250, loss: 55.622914\n",
      "iter 4260, loss: 41.031863\n",
      "iter 4270, loss: 47.865757\n",
      "iter 4280, loss: 48.751392\n",
      "iter 4290, loss: 57.426258\n",
      "iter 4300, loss: 50.942830\n",
      "iter 4310, loss: 52.271947\n",
      "iter 4320, loss: 56.207427\n",
      "iter 4330, loss: 44.530906\n",
      "iter 4340, loss: 41.075724\n",
      "iter 4350, loss: 64.402786\n",
      "iter 4360, loss: 46.838013\n",
      "iter 4370, loss: 47.418542\n",
      "iter 4380, loss: 55.991789\n",
      "iter 4390, loss: 47.517182\n",
      "iter 4400, loss: 41.546020\n",
      "iter 4410, loss: 50.397731\n",
      "iter 4420, loss: 53.099678\n",
      "iter 4430, loss: 45.912115\n",
      "iter 4440, loss: 51.141466\n",
      "iter 4450, loss: 45.841720\n",
      "iter 4460, loss: 53.375314\n",
      "iter 4470, loss: 42.128151\n",
      "iter 4480, loss: 53.423175\n",
      "iter 4490, loss: 48.361121\n",
      "iter 4500, loss: 48.154375\n",
      "iter 4510, loss: 36.063459\n",
      "iter 4520, loss: 54.020296\n",
      "iter 4530, loss: 44.952175\n",
      "iter 4540, loss: 52.274948\n",
      "iter 4550, loss: 53.630811\n",
      "iter 4560, loss: 52.013091\n",
      "iter 4570, loss: 42.053192\n",
      "iter 4580, loss: 50.997201\n",
      "iter 4590, loss: 51.686155\n",
      "iter 4600, loss: 51.636875\n",
      "iter 4610, loss: 55.506910\n",
      "iter 4620, loss: 51.068520\n",
      "iter 4630, loss: 51.024891\n",
      "iter 4640, loss: 51.385179\n",
      "iter 4650, loss: 53.051873\n",
      "iter 4660, loss: 49.272883\n",
      "iter 4670, loss: 56.557835\n",
      "iter 4680, loss: 53.074573\n",
      "iter 4690, loss: 47.257676\n",
      "iter 4700, loss: 51.448999\n",
      "iter 4710, loss: 54.083892\n",
      "iter 4720, loss: 45.638962\n",
      "iter 4730, loss: 42.679632\n",
      "iter 4740, loss: 52.043522\n",
      "iter 4750, loss: 48.302301\n",
      "iter 4760, loss: 42.314461\n",
      "iter 4770, loss: 44.777594\n",
      "iter 4780, loss: 65.604066\n",
      "iter 4790, loss: 47.779682\n",
      "iter 4800, loss: 51.566959\n",
      "iter 4810, loss: 45.188939\n",
      "iter 4820, loss: 44.580174\n",
      "iter 4830, loss: 41.472810\n",
      "iter 4840, loss: 47.620566\n",
      "iter 4850, loss: 43.901529\n",
      "iter 4860, loss: 51.365929\n",
      "iter 4870, loss: 51.932151\n",
      "iter 4880, loss: 41.426180\n",
      "iter 4890, loss: 51.689984\n",
      "iter 4900, loss: 47.073612\n",
      "iter 4910, loss: 53.496181\n",
      "iter 4920, loss: 46.233474\n",
      "iter 4930, loss: 51.361156\n",
      "iter 4940, loss: 54.422874\n",
      "iter 4950, loss: 48.632218\n",
      "iter 4960, loss: 48.963573\n",
      "iter 4970, loss: 49.495225\n",
      "iter 4980, loss: 61.042466\n",
      "iter 4990, loss: 48.522577\n",
      "iter 5000, loss: 46.151849\n",
      "iter 5010, loss: 45.380666\n",
      "iter 5020, loss: 44.287468\n",
      "iter 5030, loss: 55.270159\n",
      "iter 5040, loss: 50.906726\n",
      "iter 5050, loss: 44.783547\n",
      "iter 5060, loss: 55.231211\n",
      "iter 5070, loss: 50.947860\n",
      "iter 5080, loss: 43.611595\n",
      "iter 5090, loss: 45.825257\n",
      "iter 5100, loss: 44.348035\n",
      "iter 5110, loss: 43.995045\n",
      "iter 5120, loss: 44.040532\n",
      "iter 5130, loss: 44.278242\n",
      "iter 5140, loss: 47.120950\n",
      "iter 5150, loss: 40.202447\n",
      "iter 5160, loss: 44.956329\n",
      "iter 5170, loss: 53.961830\n",
      "iter 5180, loss: 44.172440\n",
      "iter 5190, loss: 39.686083\n",
      "iter 5200, loss: 39.853401\n",
      "iter 5210, loss: 50.921849\n",
      "iter 5220, loss: 40.619845\n",
      "iter 5230, loss: 42.462994\n",
      "iter 5240, loss: 46.235591\n",
      "iter 5250, loss: 57.237618\n",
      "iter 5260, loss: 48.532797\n",
      "iter 5270, loss: 54.798587\n",
      "iter 5280, loss: 50.173459\n",
      "iter 5290, loss: 45.371676\n",
      "iter 5300, loss: 46.489426\n",
      "iter 5310, loss: 52.463979\n",
      "iter 5320, loss: 51.739291\n",
      "iter 5330, loss: 63.266636\n",
      "iter 5340, loss: 50.198515\n"
     ]
    },
    {
     "name": "stdout",
     "output_type": "stream",
     "text": [
      "iter 5350, loss: 47.553023\n",
      "iter 5360, loss: 37.332645\n",
      "iter 5370, loss: 51.112696\n",
      "iter 5380, loss: 39.976442\n",
      "iter 5390, loss: 54.025113\n",
      "iter 5400, loss: 49.064420\n",
      "iter 5410, loss: 53.620668\n",
      "iter 5420, loss: 49.821853\n",
      "iter 5430, loss: 45.579129\n",
      "iter 5440, loss: 45.761417\n",
      "iter 5450, loss: 55.441843\n",
      "iter 5460, loss: 44.606284\n",
      "iter 5470, loss: 54.606057\n",
      "iter 5480, loss: 47.585725\n",
      "iter 5490, loss: 41.118512\n",
      "iter 5500, loss: 52.730339\n",
      "iter 5510, loss: 41.902090\n",
      "iter 5520, loss: 53.282205\n",
      "iter 5530, loss: 48.912842\n",
      "iter 5540, loss: 49.495038\n",
      "iter 5550, loss: 50.157429\n",
      "iter 5560, loss: 46.921494\n",
      "iter 5570, loss: 44.856232\n",
      "iter 5580, loss: 63.535679\n",
      "iter 5590, loss: 53.633174\n",
      "iter 5600, loss: 46.570373\n",
      "iter 5610, loss: 56.899129\n",
      "iter 5620, loss: 47.681893\n",
      "iter 5630, loss: 55.090615\n",
      "iter 5640, loss: 46.863456\n",
      "iter 5650, loss: 52.805774\n",
      "iter 5660, loss: 51.651305\n",
      "iter 5670, loss: 47.744157\n",
      "iter 5680, loss: 35.402861\n",
      "iter 5690, loss: 39.017570\n",
      "iter 5700, loss: 52.453397\n",
      "iter 5710, loss: 51.187443\n",
      "iter 5720, loss: 48.039552\n",
      "iter 5730, loss: 46.048598\n",
      "iter 5740, loss: 48.743453\n",
      "iter 5750, loss: 45.623146\n",
      "iter 5760, loss: 51.920096\n",
      "iter 5770, loss: 46.825536\n",
      "iter 5780, loss: 40.239659\n",
      "iter 5790, loss: 55.773907\n",
      "iter 5800, loss: 43.600026\n",
      "iter 5810, loss: 37.011051\n",
      "iter 5820, loss: 44.725016\n",
      "iter 5830, loss: 44.869918\n",
      "iter 5840, loss: 40.447691\n",
      "iter 5850, loss: 49.702050\n",
      "iter 5860, loss: 47.389442\n",
      "iter 5870, loss: 44.246237\n",
      "iter 5880, loss: 49.119350\n",
      "iter 5890, loss: 52.112862\n",
      "iter 5900, loss: 44.580709\n",
      "iter 5910, loss: 52.176894\n",
      "iter 5920, loss: 46.784674\n",
      "iter 5930, loss: 43.283160\n",
      "iter 5940, loss: 38.891095\n",
      "iter 5950, loss: 56.749695\n",
      "iter 5960, loss: 47.221662\n",
      "iter 5970, loss: 51.719906\n",
      "iter 5980, loss: 44.195347\n",
      "iter 5990, loss: 48.365382\n",
      "iter 6000, loss: 46.087523\n",
      "iter 6010, loss: 51.471964\n",
      "iter 6020, loss: 47.785859\n",
      "iter 6030, loss: 48.418708\n",
      "iter 6040, loss: 42.454123\n",
      "iter 6050, loss: 35.523883\n",
      "iter 6060, loss: 62.805483\n",
      "iter 6070, loss: 52.140740\n",
      "iter 6080, loss: 39.431683\n",
      "iter 6090, loss: 43.323908\n",
      "iter 6100, loss: 42.828422\n",
      "iter 6110, loss: 51.385943\n",
      "iter 6120, loss: 46.230049\n",
      "iter 6130, loss: 50.569872\n",
      "iter 6140, loss: 42.886096\n",
      "iter 6150, loss: 51.231418\n",
      "iter 6160, loss: 48.953186\n",
      "iter 6170, loss: 43.704678\n",
      "iter 6180, loss: 55.530350\n",
      "iter 6190, loss: 51.124565\n",
      "iter 6200, loss: 44.599222\n",
      "iter 6210, loss: 52.385103\n",
      "iter 6220, loss: 42.117612\n",
      "iter 6230, loss: 49.114617\n",
      "iter 6240, loss: 48.051545\n",
      "iter 6250, loss: 42.751136\n",
      "iter 6260, loss: 48.601471\n",
      "iter 6270, loss: 46.470006\n",
      "iter 6280, loss: 42.848934\n",
      "iter 6290, loss: 43.311561\n",
      "iter 6300, loss: 46.157895\n",
      "iter 6310, loss: 44.198815\n",
      "iter 6320, loss: 56.286902\n",
      "iter 6330, loss: 54.955418\n",
      "iter 6340, loss: 61.853112\n",
      "iter 6350, loss: 49.819505\n",
      "iter 6360, loss: 44.407901\n",
      "iter 6370, loss: 52.309988\n",
      "iter 6380, loss: 44.807866\n",
      "iter 6390, loss: 48.099328\n",
      "iter 6400, loss: 50.418436\n",
      "iter 6410, loss: 44.484593\n",
      "iter 6420, loss: 44.987365\n",
      "iter 6430, loss: 41.437674\n",
      "iter 6440, loss: 51.332378\n",
      "iter 6450, loss: 49.161661\n",
      "iter 6460, loss: 50.829444\n",
      "iter 6470, loss: 39.530789\n",
      "iter 6480, loss: 40.691856\n",
      "iter 6490, loss: 54.959712\n",
      "iter 6500, loss: 47.336457\n",
      "iter 6510, loss: 48.439456\n",
      "iter 6520, loss: 44.604881\n",
      "iter 6530, loss: 43.294088\n",
      "iter 6540, loss: 48.033378\n",
      "iter 6550, loss: 50.266938\n",
      "iter 6560, loss: 60.492863\n",
      "iter 6570, loss: 48.108228\n",
      "iter 6580, loss: 52.679502\n",
      "iter 6590, loss: 48.751783\n",
      "iter 6600, loss: 58.086947\n",
      "iter 6610, loss: 44.310447\n",
      "iter 6620, loss: 57.168884\n",
      "iter 6630, loss: 49.195205\n",
      "iter 6640, loss: 54.621113\n",
      "iter 6650, loss: 48.952493\n",
      "iter 6660, loss: 48.562937\n",
      "iter 6670, loss: 38.484822\n",
      "iter 6680, loss: 42.165421\n",
      "iter 6690, loss: 44.515927\n",
      "iter 6700, loss: 49.720491\n",
      "iter 6710, loss: 49.118532\n",
      "iter 6720, loss: 38.518219\n",
      "iter 6730, loss: 46.434325\n",
      "iter 6740, loss: 43.493584\n",
      "iter 6750, loss: 45.568266\n",
      "iter 6760, loss: 42.598616\n",
      "iter 6770, loss: 53.411833\n",
      "iter 6780, loss: 45.672283\n",
      "iter 6790, loss: 56.791799\n",
      "iter 6800, loss: 51.915176\n",
      "iter 6810, loss: 47.485691\n",
      "iter 6820, loss: 37.972783\n",
      "iter 6830, loss: 43.149077\n",
      "iter 6840, loss: 45.114954\n",
      "iter 6850, loss: 42.706559\n",
      "iter 6860, loss: 43.513840\n",
      "iter 6870, loss: 48.859899\n",
      "iter 6880, loss: 58.371224\n",
      "iter 6890, loss: 53.145579\n",
      "iter 6900, loss: 47.583534\n",
      "iter 6910, loss: 48.033457\n",
      "iter 6920, loss: 49.208189\n",
      "iter 6930, loss: 54.017822\n",
      "iter 6940, loss: 46.651522\n",
      "iter 6950, loss: 51.315017\n",
      "iter 6960, loss: 46.360385\n",
      "iter 6970, loss: 46.678509\n",
      "iter 6980, loss: 39.583170\n",
      "iter 6990, loss: 50.881882\n",
      "iter 7000, loss: 38.164998\n",
      "iter 7010, loss: 47.780512\n",
      "iter 7020, loss: 49.223317\n",
      "iter 7030, loss: 45.275975\n",
      "iter 7040, loss: 54.673059\n",
      "iter 7050, loss: 49.213889\n",
      "iter 7060, loss: 49.916219\n",
      "iter 7070, loss: 48.205108\n",
      "iter 7080, loss: 49.533003\n",
      "iter 7090, loss: 42.918480\n",
      "iter 7100, loss: 47.432654\n",
      "iter 7110, loss: 48.643373\n",
      "iter 7120, loss: 41.708973\n",
      "iter 7130, loss: 48.612536\n",
      "iter 7140, loss: 55.256259\n",
      "iter 7150, loss: 42.854971\n",
      "iter 7160, loss: 51.025481\n",
      "iter 7170, loss: 43.636102\n",
      "iter 7180, loss: 53.241952\n",
      "iter 7190, loss: 42.465800\n",
      "iter 7200, loss: 58.831829\n",
      "iter 7210, loss: 35.241391\n",
      "iter 7220, loss: 41.313815\n",
      "iter 7230, loss: 50.909194\n",
      "iter 7240, loss: 51.320485\n",
      "iter 7250, loss: 48.810221\n",
      "iter 7260, loss: 39.867621\n",
      "iter 7270, loss: 52.705254\n",
      "iter 7280, loss: 53.068123\n",
      "iter 7290, loss: 49.339822\n",
      "iter 7300, loss: 49.676697\n",
      "iter 7310, loss: 47.606199\n",
      "iter 7320, loss: 47.633767\n",
      "iter 7330, loss: 46.642157\n",
      "iter 7340, loss: 51.431828\n",
      "iter 7350, loss: 46.354796\n",
      "iter 7360, loss: 38.854543\n",
      "iter 7370, loss: 57.642537\n",
      "iter 7380, loss: 58.984977\n",
      "iter 7390, loss: 43.384979\n",
      "iter 7400, loss: 50.909467\n",
      "iter 7410, loss: 49.035566\n",
      "iter 7420, loss: 46.956427\n",
      "iter 7430, loss: 42.634763\n",
      "iter 7440, loss: 56.550573\n",
      "iter 7450, loss: 52.066694\n",
      "iter 7460, loss: 46.966100\n",
      "iter 7470, loss: 43.686461\n",
      "iter 7480, loss: 47.673005\n",
      "iter 7490, loss: 31.532869\n",
      "iter 7500, loss: 58.327503\n",
      "iter 7510, loss: 58.171175\n",
      "iter 7520, loss: 53.118129\n",
      "iter 7530, loss: 54.222764\n",
      "iter 7540, loss: 48.894983\n",
      "iter 7550, loss: 57.341092\n",
      "iter 7560, loss: 39.762453\n",
      "iter 7570, loss: 44.557043\n",
      "iter 7580, loss: 51.312533\n",
      "iter 7590, loss: 44.236698\n",
      "iter 7600, loss: 46.969470\n",
      "iter 7610, loss: 48.611884\n",
      "iter 7620, loss: 46.427182\n",
      "iter 7630, loss: 50.135519\n",
      "iter 7640, loss: 54.701008\n",
      "iter 7650, loss: 45.670417\n",
      "iter 7660, loss: 41.694940\n",
      "iter 7670, loss: 56.337740\n",
      "iter 7680, loss: 43.248647\n",
      "iter 7690, loss: 45.178752\n",
      "iter 7700, loss: 45.811973\n",
      "iter 7710, loss: 52.669467\n",
      "iter 7720, loss: 46.824871\n",
      "iter 7730, loss: 48.197753\n",
      "iter 7740, loss: 43.992223\n",
      "iter 7750, loss: 44.416097\n",
      "iter 7760, loss: 36.558699\n",
      "iter 7770, loss: 44.063526\n",
      "iter 7780, loss: 51.212983\n",
      "iter 7790, loss: 44.993799\n",
      "iter 7800, loss: 37.227657\n",
      "iter 7810, loss: 41.262799\n",
      "iter 7820, loss: 44.349529\n",
      "iter 7830, loss: 52.742743\n",
      "iter 7840, loss: 50.197386\n",
      "iter 7850, loss: 37.123609\n",
      "iter 7860, loss: 34.411687\n",
      "iter 7870, loss: 43.412177\n",
      "iter 7880, loss: 43.345237\n",
      "iter 7890, loss: 59.693278\n",
      "iter 7900, loss: 44.064295\n",
      "iter 7910, loss: 45.429301\n",
      "iter 7920, loss: 47.624212\n",
      "iter 7930, loss: 50.073116\n",
      "iter 7940, loss: 46.166990\n",
      "iter 7950, loss: 48.930994\n",
      "iter 7960, loss: 43.632951\n",
      "iter 7970, loss: 45.468898\n",
      "iter 7980, loss: 47.222002\n",
      "iter 7990, loss: 54.611995\n",
      "iter 8000, loss: 43.758708\n",
      "iter 8010, loss: 52.124784\n",
      "iter 8020, loss: 37.029791\n",
      "iter 8030, loss: 56.940607\n",
      "iter 8040, loss: 38.227552\n",
      "iter 8050, loss: 53.290975\n",
      "iter 8060, loss: 51.075771\n",
      "iter 8070, loss: 46.185245\n",
      "iter 8080, loss: 39.462720\n",
      "iter 8090, loss: 48.875684\n",
      "iter 8100, loss: 42.277164\n",
      "iter 8110, loss: 36.944636\n",
      "iter 8120, loss: 45.365049\n",
      "iter 8130, loss: 45.016444\n",
      "iter 8140, loss: 49.056168\n",
      "iter 8150, loss: 41.760614\n",
      "iter 8160, loss: 44.323795\n",
      "iter 8170, loss: 48.698354\n",
      "iter 8180, loss: 43.526280\n",
      "iter 8190, loss: 45.307826\n",
      "iter 8200, loss: 44.754211\n",
      "iter 8210, loss: 43.265193\n",
      "iter 8220, loss: 44.432682\n",
      "iter 8230, loss: 48.717189\n",
      "iter 8240, loss: 51.746401\n",
      "iter 8250, loss: 44.043923\n",
      "iter 8260, loss: 53.417201\n",
      "iter 8270, loss: 45.312600\n",
      "iter 8280, loss: 46.153284\n",
      "iter 8290, loss: 52.424263\n",
      "iter 8300, loss: 49.761194\n",
      "iter 8310, loss: 50.551986\n",
      "iter 8320, loss: 44.650121\n",
      "iter 8330, loss: 42.300455\n",
      "iter 8340, loss: 52.016629\n",
      "iter 8350, loss: 47.154237\n",
      "iter 8360, loss: 40.978649\n",
      "iter 8370, loss: 47.380291\n",
      "iter 8380, loss: 44.548389\n",
      "iter 8390, loss: 46.638346\n",
      "iter 8400, loss: 45.340722\n"
     ]
    },
    {
     "name": "stdout",
     "output_type": "stream",
     "text": [
      "iter 8410, loss: 45.226566\n",
      "iter 8420, loss: 45.310348\n",
      "iter 8430, loss: 55.960603\n",
      "iter 8440, loss: 41.513407\n",
      "iter 8450, loss: 46.746003\n",
      "iter 8460, loss: 49.254285\n",
      "iter 8470, loss: 39.925867\n",
      "iter 8480, loss: 49.714026\n",
      "iter 8490, loss: 47.654167\n",
      "iter 8500, loss: 37.280492\n",
      "iter 8510, loss: 47.976060\n",
      "iter 8520, loss: 42.160926\n",
      "iter 8530, loss: 47.757451\n",
      "iter 8540, loss: 41.787425\n",
      "iter 8550, loss: 38.472854\n",
      "iter 8560, loss: 50.320390\n",
      "iter 8570, loss: 49.229887\n",
      "iter 8580, loss: 50.002153\n",
      "iter 8590, loss: 43.356254\n",
      "iter 8600, loss: 53.147437\n",
      "iter 8610, loss: 48.726022\n",
      "iter 8620, loss: 46.645736\n",
      "iter 8630, loss: 43.750331\n",
      "iter 8640, loss: 56.350650\n",
      "iter 8650, loss: 38.156051\n",
      "iter 8660, loss: 50.338374\n",
      "iter 8670, loss: 46.199894\n",
      "iter 8680, loss: 52.830486\n",
      "iter 8690, loss: 42.372412\n",
      "iter 8700, loss: 42.039606\n",
      "iter 8710, loss: 52.676715\n",
      "iter 8720, loss: 45.180604\n",
      "iter 8730, loss: 40.903198\n",
      "iter 8740, loss: 56.111697\n",
      "iter 8750, loss: 40.708679\n",
      "iter 8760, loss: 46.084195\n",
      "iter 8770, loss: 44.715694\n",
      "iter 8780, loss: 35.398144\n",
      "iter 8790, loss: 46.283360\n",
      "iter 8800, loss: 51.623835\n",
      "iter 8810, loss: 43.268514\n",
      "iter 8820, loss: 60.293010\n",
      "iter 8830, loss: 52.683308\n",
      "iter 8840, loss: 47.841809\n",
      "iter 8850, loss: 53.637615\n",
      "iter 8860, loss: 43.044483\n",
      "iter 8870, loss: 51.159841\n",
      "iter 8880, loss: 46.537291\n",
      "iter 8890, loss: 46.441644\n",
      "iter 8900, loss: 42.266234\n",
      "iter 8910, loss: 57.757142\n",
      "iter 8920, loss: 47.604301\n",
      "iter 8930, loss: 54.279268\n",
      "iter 8940, loss: 46.053489\n",
      "iter 8950, loss: 57.285455\n",
      "iter 8960, loss: 47.627449\n",
      "iter 8970, loss: 48.695594\n",
      "iter 8980, loss: 54.380840\n",
      "iter 8990, loss: 48.214997\n",
      "iter 9000, loss: 48.989417\n",
      "iter 9010, loss: 56.787029\n",
      "iter 9020, loss: 50.946509\n",
      "iter 9030, loss: 50.023399\n",
      "iter 9040, loss: 48.991363\n",
      "iter 9050, loss: 47.141790\n",
      "iter 9060, loss: 53.817004\n",
      "iter 9070, loss: 43.453896\n",
      "iter 9080, loss: 47.132785\n",
      "iter 9090, loss: 37.618096\n",
      "iter 9100, loss: 43.479477\n",
      "iter 9110, loss: 47.085422\n",
      "iter 9120, loss: 45.954249\n",
      "iter 9130, loss: 43.606299\n",
      "iter 9140, loss: 44.895215\n",
      "iter 9150, loss: 58.029157\n",
      "iter 9160, loss: 54.370685\n",
      "iter 9170, loss: 44.461211\n",
      "iter 9180, loss: 45.843387\n",
      "iter 9190, loss: 51.752551\n",
      "iter 9200, loss: 52.073295\n",
      "iter 9210, loss: 48.928367\n",
      "iter 9220, loss: 41.773443\n",
      "iter 9230, loss: 56.931773\n",
      "iter 9240, loss: 45.328330\n",
      "iter 9250, loss: 36.599479\n",
      "iter 9260, loss: 44.304931\n",
      "iter 9270, loss: 46.913290\n",
      "iter 9280, loss: 43.244274\n",
      "iter 9290, loss: 45.639741\n",
      "iter 9300, loss: 46.054120\n",
      "iter 9310, loss: 44.914688\n",
      "iter 9320, loss: 43.261655\n",
      "iter 9330, loss: 47.981629\n",
      "iter 9340, loss: 45.591267\n",
      "iter 9350, loss: 47.561086\n",
      "iter 9360, loss: 51.212245\n",
      "iter 9370, loss: 40.867045\n",
      "iter 9380, loss: 49.723027\n",
      "iter 9390, loss: 47.271372\n",
      "iter 9400, loss: 56.194347\n",
      "iter 9410, loss: 58.315888\n",
      "iter 9420, loss: 41.890110\n",
      "iter 9430, loss: 42.840646\n",
      "iter 9440, loss: 44.148624\n",
      "iter 9450, loss: 50.736091\n",
      "iter 9460, loss: 49.543169\n",
      "iter 9470, loss: 44.574329\n",
      "iter 9480, loss: 42.706698\n",
      "iter 9490, loss: 46.768685\n",
      "iter 9500, loss: 44.272154\n",
      "iter 9510, loss: 47.685443\n",
      "iter 9520, loss: 46.821662\n",
      "iter 9530, loss: 48.856660\n",
      "iter 9540, loss: 52.745037\n",
      "iter 9550, loss: 54.177509\n",
      "iter 9560, loss: 54.609156\n",
      "iter 9570, loss: 44.100801\n",
      "iter 9580, loss: 56.364848\n",
      "iter 9590, loss: 44.671320\n",
      "iter 9600, loss: 51.889735\n",
      "iter 9610, loss: 42.705688\n",
      "iter 9620, loss: 47.141839\n",
      "iter 9630, loss: 41.486453\n",
      "iter 9640, loss: 49.737641\n",
      "iter 9650, loss: 50.944758\n",
      "iter 9660, loss: 53.425841\n",
      "iter 9670, loss: 46.593390\n",
      "iter 9680, loss: 52.968930\n",
      "iter 9690, loss: 43.903897\n",
      "iter 9700, loss: 42.638941\n",
      "iter 9710, loss: 46.831905\n",
      "iter 9720, loss: 48.891753\n",
      "iter 9730, loss: 51.527733\n",
      "iter 9740, loss: 52.828288\n",
      "iter 9750, loss: 44.742854\n",
      "iter 9760, loss: 42.987854\n",
      "iter 9770, loss: 52.471823\n",
      "iter 9780, loss: 54.222185\n",
      "iter 9790, loss: 43.612006\n",
      "iter 9800, loss: 44.407404\n",
      "iter 9810, loss: 49.007602\n",
      "iter 9820, loss: 46.912730\n",
      "iter 9830, loss: 48.677737\n",
      "iter 9840, loss: 45.833032\n",
      "iter 9850, loss: 44.690543\n",
      "iter 9860, loss: 45.763485\n",
      "iter 9870, loss: 44.837792\n",
      "iter 9880, loss: 48.574785\n",
      "iter 9890, loss: 43.806027\n",
      "iter 9900, loss: 47.175615\n",
      "iter 9910, loss: 46.426407\n",
      "iter 9920, loss: 46.676942\n",
      "iter 9930, loss: 41.244261\n",
      "iter 9940, loss: 52.580834\n",
      "iter 9950, loss: 52.352110\n",
      "iter 9960, loss: 47.809045\n",
      "iter 9970, loss: 51.729584\n",
      "iter 9980, loss: 58.484771\n",
      "iter 9990, loss: 48.851042\n",
      "iter 10000, loss: 46.881434\n",
      "iter 0, loss: 52.756581\n",
      "iter 10, loss: 52.758649\n",
      "iter 20, loss: 53.652633\n",
      "iter 30, loss: 55.859945\n",
      "iter 40, loss: 54.968915\n",
      "iter 50, loss: 46.669594\n",
      "iter 60, loss: 55.284508\n",
      "iter 70, loss: 38.994234\n",
      "iter 80, loss: 37.199226\n",
      "iter 90, loss: 44.532327\n",
      "iter 100, loss: 39.314006\n",
      "iter 110, loss: 47.015064\n",
      "iter 120, loss: 38.962071\n",
      "iter 130, loss: 43.658495\n",
      "iter 140, loss: 44.225496\n",
      "iter 150, loss: 48.876279\n",
      "iter 160, loss: 47.866414\n",
      "iter 170, loss: 47.096089\n",
      "iter 180, loss: 53.177354\n",
      "iter 190, loss: 50.731052\n",
      "iter 200, loss: 52.871473\n",
      "iter 210, loss: 44.658622\n",
      "iter 220, loss: 52.938008\n",
      "iter 230, loss: 50.395098\n",
      "iter 240, loss: 40.867972\n",
      "iter 250, loss: 43.414609\n",
      "iter 260, loss: 47.749921\n",
      "iter 270, loss: 44.762584\n",
      "iter 280, loss: 50.385625\n",
      "iter 290, loss: 52.549929\n",
      "iter 300, loss: 43.402124\n",
      "iter 310, loss: 50.764795\n",
      "iter 320, loss: 52.778735\n",
      "iter 330, loss: 40.893638\n",
      "iter 340, loss: 45.785068\n",
      "iter 350, loss: 46.920642\n",
      "iter 360, loss: 53.956834\n",
      "iter 370, loss: 54.264496\n",
      "iter 380, loss: 43.322617\n",
      "iter 390, loss: 40.197331\n",
      "iter 400, loss: 38.395561\n",
      "iter 410, loss: 42.850724\n",
      "iter 420, loss: 54.883629\n",
      "iter 430, loss: 49.444305\n",
      "iter 440, loss: 53.003207\n",
      "iter 450, loss: 49.169551\n",
      "iter 460, loss: 54.963766\n",
      "iter 470, loss: 52.170778\n",
      "iter 480, loss: 48.903474\n",
      "iter 490, loss: 51.835712\n",
      "iter 500, loss: 53.640847\n",
      "iter 510, loss: 40.854968\n",
      "iter 520, loss: 48.639369\n",
      "iter 530, loss: 49.910880\n",
      "iter 540, loss: 50.858074\n",
      "iter 550, loss: 53.710165\n",
      "iter 560, loss: 48.360970\n",
      "iter 570, loss: 47.897827\n",
      "iter 580, loss: 44.895427\n",
      "iter 590, loss: 46.666784\n",
      "iter 600, loss: 51.116223\n",
      "iter 610, loss: 52.318851\n",
      "iter 620, loss: 46.333178\n",
      "iter 630, loss: 47.906414\n",
      "iter 640, loss: 56.135489\n",
      "iter 650, loss: 49.849341\n",
      "iter 660, loss: 45.491226\n",
      "iter 670, loss: 51.165374\n",
      "iter 680, loss: 49.835784\n",
      "iter 690, loss: 56.674147\n",
      "iter 700, loss: 54.856629\n",
      "iter 710, loss: 48.536058\n",
      "iter 720, loss: 44.784743\n",
      "iter 730, loss: 53.100716\n",
      "iter 740, loss: 47.928828\n",
      "iter 750, loss: 51.050107\n",
      "iter 760, loss: 49.673463\n",
      "iter 770, loss: 38.898545\n",
      "iter 780, loss: 45.520581\n",
      "iter 790, loss: 44.925750\n",
      "iter 800, loss: 39.754623\n",
      "iter 810, loss: 49.409492\n",
      "iter 820, loss: 54.136897\n",
      "iter 830, loss: 48.750562\n",
      "iter 840, loss: 49.013193\n",
      "iter 850, loss: 54.376226\n",
      "iter 860, loss: 49.323804\n",
      "iter 870, loss: 47.052438\n",
      "iter 880, loss: 49.609521\n",
      "iter 890, loss: 51.853261\n",
      "iter 900, loss: 46.227683\n",
      "iter 910, loss: 50.812228\n",
      "iter 920, loss: 45.159371\n",
      "iter 930, loss: 48.048084\n",
      "iter 940, loss: 50.309582\n",
      "iter 950, loss: 49.336185\n",
      "iter 960, loss: 55.878809\n",
      "iter 970, loss: 46.220070\n",
      "iter 980, loss: 50.087755\n",
      "iter 990, loss: 43.700168\n",
      "iter 1000, loss: 46.469538\n",
      "iter 1010, loss: 55.518877\n",
      "iter 1020, loss: 49.689998\n",
      "iter 1030, loss: 55.750460\n",
      "iter 1040, loss: 56.827121\n",
      "iter 1050, loss: 53.809009\n",
      "iter 1060, loss: 45.435567\n",
      "iter 1070, loss: 59.815851\n",
      "iter 1080, loss: 50.201539\n",
      "iter 1090, loss: 56.430299\n",
      "iter 1100, loss: 51.209638\n",
      "iter 1110, loss: 48.980773\n",
      "iter 1120, loss: 48.602634\n",
      "iter 1130, loss: 42.660321\n",
      "iter 1140, loss: 44.521331\n",
      "iter 1150, loss: 50.298642\n",
      "iter 1160, loss: 53.199371\n",
      "iter 1170, loss: 49.232356\n",
      "iter 1180, loss: 53.679422\n",
      "iter 1190, loss: 50.359370\n",
      "iter 1200, loss: 52.807405\n",
      "iter 1210, loss: 41.344596\n",
      "iter 1220, loss: 46.410199\n",
      "iter 1230, loss: 45.934110\n",
      "iter 1240, loss: 50.144404\n",
      "iter 1250, loss: 53.161364\n",
      "iter 1260, loss: 53.470944\n",
      "iter 1270, loss: 50.553661\n",
      "iter 1280, loss: 41.221892\n",
      "iter 1290, loss: 49.704230\n",
      "iter 1300, loss: 42.263329\n",
      "iter 1310, loss: 52.463234\n",
      "iter 1320, loss: 45.136092\n",
      "iter 1330, loss: 53.242624\n",
      "iter 1340, loss: 50.880660\n",
      "iter 1350, loss: 46.379607\n",
      "iter 1360, loss: 51.809609\n",
      "iter 1370, loss: 51.258903\n",
      "iter 1380, loss: 49.196032\n",
      "iter 1390, loss: 47.863024\n",
      "iter 1400, loss: 48.286295\n",
      "iter 1410, loss: 55.312471\n",
      "iter 1420, loss: 45.093434\n",
      "iter 1430, loss: 38.120809\n",
      "iter 1440, loss: 46.308294\n",
      "iter 1450, loss: 51.658545\n",
      "iter 1460, loss: 49.429363\n",
      "iter 1470, loss: 39.238228\n"
     ]
    },
    {
     "name": "stdout",
     "output_type": "stream",
     "text": [
      "iter 1480, loss: 45.958934\n",
      "iter 1490, loss: 44.516124\n",
      "iter 1500, loss: 51.738455\n",
      "iter 1510, loss: 37.058443\n",
      "iter 1520, loss: 34.351946\n",
      "iter 1530, loss: 52.491599\n",
      "iter 1540, loss: 56.976123\n",
      "iter 1550, loss: 52.360322\n",
      "iter 1560, loss: 48.086297\n",
      "iter 1570, loss: 44.623658\n",
      "iter 1580, loss: 50.007954\n",
      "iter 1590, loss: 48.924502\n",
      "iter 1600, loss: 40.030286\n",
      "iter 1610, loss: 60.642858\n",
      "iter 1620, loss: 42.263072\n",
      "iter 1630, loss: 51.501963\n",
      "iter 1640, loss: 51.211773\n",
      "iter 1650, loss: 42.469517\n",
      "iter 1660, loss: 49.055865\n",
      "iter 1670, loss: 49.137801\n",
      "iter 1680, loss: 59.841450\n",
      "iter 1690, loss: 48.303087\n",
      "iter 1700, loss: 50.690881\n",
      "iter 1710, loss: 51.695362\n",
      "iter 1720, loss: 48.817172\n",
      "iter 1730, loss: 48.793154\n",
      "iter 1740, loss: 49.299206\n",
      "iter 1750, loss: 53.730209\n",
      "iter 1760, loss: 47.242494\n",
      "iter 1770, loss: 57.793441\n",
      "iter 1780, loss: 50.646628\n",
      "iter 1790, loss: 47.219776\n",
      "iter 1800, loss: 45.555321\n",
      "iter 1810, loss: 42.729135\n",
      "iter 1820, loss: 45.388676\n",
      "iter 1830, loss: 55.800073\n",
      "iter 1840, loss: 50.674537\n",
      "iter 1850, loss: 47.688003\n",
      "iter 1860, loss: 57.346766\n",
      "iter 1870, loss: 44.723866\n",
      "iter 1880, loss: 51.349724\n",
      "iter 1890, loss: 54.123451\n",
      "iter 1900, loss: 51.637255\n",
      "iter 1910, loss: 61.311086\n",
      "iter 1920, loss: 51.152859\n",
      "iter 1930, loss: 44.786622\n",
      "iter 1940, loss: 49.274289\n",
      "iter 1950, loss: 46.500532\n",
      "iter 1960, loss: 45.366500\n",
      "iter 1970, loss: 58.227372\n",
      "iter 1980, loss: 53.177797\n",
      "iter 1990, loss: 40.897822\n",
      "iter 2000, loss: 49.441231\n",
      "iter 2010, loss: 47.348896\n",
      "iter 2020, loss: 47.453025\n",
      "iter 2030, loss: 53.408827\n",
      "iter 2040, loss: 52.181841\n",
      "iter 2050, loss: 49.079774\n",
      "iter 2060, loss: 48.167928\n",
      "iter 2070, loss: 41.404398\n",
      "iter 2080, loss: 51.390339\n",
      "iter 2090, loss: 47.822484\n",
      "iter 2100, loss: 46.517973\n",
      "iter 2110, loss: 43.747907\n",
      "iter 2120, loss: 44.515912\n",
      "iter 2130, loss: 44.585787\n",
      "iter 2140, loss: 45.055690\n",
      "iter 2150, loss: 30.846798\n",
      "iter 2160, loss: 46.718540\n",
      "iter 2170, loss: 32.872000\n",
      "iter 2180, loss: 44.581408\n",
      "iter 2190, loss: 42.276451\n",
      "iter 2200, loss: 49.022443\n",
      "iter 2210, loss: 52.243706\n",
      "iter 2220, loss: 40.249801\n",
      "iter 2230, loss: 43.635244\n",
      "iter 2240, loss: 46.926889\n",
      "iter 2250, loss: 36.284930\n",
      "iter 2260, loss: 43.920055\n",
      "iter 2270, loss: 45.049771\n",
      "iter 2280, loss: 59.398486\n",
      "iter 2290, loss: 43.100246\n",
      "iter 2300, loss: 50.900080\n",
      "iter 2310, loss: 38.147664\n",
      "iter 2320, loss: 38.084314\n",
      "iter 2330, loss: 43.776016\n",
      "iter 2340, loss: 47.198358\n",
      "iter 2350, loss: 40.012307\n",
      "iter 2360, loss: 43.612992\n",
      "iter 2370, loss: 46.409470\n",
      "iter 2380, loss: 44.947004\n",
      "iter 2390, loss: 51.916776\n",
      "iter 2400, loss: 41.064157\n",
      "iter 2410, loss: 44.756178\n",
      "iter 2420, loss: 43.070036\n",
      "iter 2430, loss: 44.471110\n",
      "iter 2440, loss: 54.818253\n",
      "iter 2450, loss: 48.544769\n",
      "iter 2460, loss: 47.850653\n",
      "iter 2470, loss: 47.935358\n",
      "iter 2480, loss: 39.585485\n",
      "iter 2490, loss: 50.555731\n",
      "iter 2500, loss: 45.257188\n",
      "iter 2510, loss: 43.800928\n",
      "iter 2520, loss: 43.386129\n",
      "iter 2530, loss: 45.246847\n",
      "iter 2540, loss: 52.798528\n",
      "iter 2550, loss: 44.873421\n",
      "iter 2560, loss: 47.572533\n",
      "iter 2570, loss: 58.385591\n",
      "iter 2580, loss: 50.660717\n",
      "iter 2590, loss: 54.617436\n",
      "iter 2600, loss: 47.823928\n",
      "iter 2610, loss: 47.768983\n",
      "iter 2620, loss: 52.335817\n",
      "iter 2630, loss: 48.676774\n",
      "iter 2640, loss: 47.089536\n",
      "iter 2650, loss: 55.435484\n",
      "iter 2660, loss: 45.595388\n",
      "iter 2670, loss: 45.629995\n",
      "iter 2680, loss: 47.153081\n",
      "iter 2690, loss: 48.817429\n",
      "iter 2700, loss: 44.905359\n",
      "iter 2710, loss: 47.193939\n",
      "iter 2720, loss: 38.747769\n",
      "iter 2730, loss: 39.377832\n",
      "iter 2740, loss: 56.319091\n",
      "iter 2750, loss: 51.586428\n",
      "iter 2760, loss: 44.396863\n",
      "iter 2770, loss: 49.448304\n",
      "iter 2780, loss: 46.736175\n",
      "iter 2790, loss: 46.628199\n",
      "iter 2800, loss: 50.538654\n",
      "iter 2810, loss: 45.607976\n",
      "iter 2820, loss: 38.201983\n",
      "iter 2830, loss: 55.682035\n",
      "iter 2840, loss: 40.606504\n",
      "iter 2850, loss: 52.442181\n",
      "iter 2860, loss: 44.438849\n",
      "iter 2870, loss: 38.861527\n",
      "iter 2880, loss: 43.525350\n",
      "iter 2890, loss: 39.366861\n",
      "iter 2900, loss: 41.135403\n",
      "iter 2910, loss: 45.845978\n",
      "iter 2920, loss: 41.695288\n",
      "iter 2930, loss: 39.657521\n",
      "iter 2940, loss: 45.454580\n",
      "iter 2950, loss: 55.451595\n",
      "iter 2960, loss: 55.378481\n",
      "iter 2970, loss: 49.058459\n",
      "iter 2980, loss: 46.588492\n",
      "iter 2990, loss: 35.836226\n",
      "iter 3000, loss: 39.062792\n",
      "iter 3010, loss: 36.118711\n",
      "iter 3020, loss: 33.989519\n",
      "iter 3030, loss: 62.626389\n",
      "iter 3040, loss: 48.169089\n",
      "iter 3050, loss: 51.577040\n",
      "iter 3060, loss: 48.668375\n",
      "iter 3070, loss: 53.126205\n",
      "iter 3080, loss: 55.829827\n",
      "iter 3090, loss: 52.307292\n",
      "iter 3100, loss: 46.167845\n",
      "iter 3110, loss: 52.105208\n",
      "iter 3120, loss: 38.832730\n",
      "iter 3130, loss: 47.760357\n",
      "iter 3140, loss: 52.713922\n",
      "iter 3150, loss: 43.021878\n",
      "iter 3160, loss: 42.294630\n",
      "iter 3170, loss: 45.610913\n",
      "iter 3180, loss: 44.786039\n",
      "iter 3190, loss: 39.080617\n",
      "iter 3200, loss: 46.359367\n",
      "iter 3210, loss: 42.171115\n",
      "iter 3220, loss: 42.811683\n",
      "iter 3230, loss: 62.929553\n",
      "iter 3240, loss: 51.869568\n",
      "iter 3250, loss: 46.944418\n",
      "iter 3260, loss: 52.238941\n",
      "iter 3270, loss: 51.392954\n",
      "iter 3280, loss: 44.951041\n",
      "iter 3290, loss: 51.442295\n",
      "iter 3300, loss: 50.186328\n",
      "iter 3310, loss: 43.878782\n",
      "iter 3320, loss: 51.296803\n",
      "iter 3330, loss: 49.636743\n",
      "iter 3340, loss: 53.205969\n",
      "iter 3350, loss: 45.992889\n",
      "iter 3360, loss: 52.099422\n",
      "iter 3370, loss: 36.473851\n",
      "iter 3380, loss: 57.760572\n",
      "iter 3390, loss: 44.165476\n",
      "iter 3400, loss: 51.804554\n",
      "iter 3410, loss: 47.029347\n",
      "iter 3420, loss: 49.239514\n",
      "iter 3430, loss: 47.792209\n",
      "iter 3440, loss: 49.158887\n",
      "iter 3450, loss: 45.391375\n",
      "iter 3460, loss: 43.478594\n",
      "iter 3470, loss: 53.539759\n",
      "iter 3480, loss: 46.372778\n",
      "iter 3490, loss: 48.172206\n",
      "iter 3500, loss: 54.192708\n",
      "iter 3510, loss: 53.484962\n",
      "iter 3520, loss: 55.204658\n",
      "iter 3530, loss: 58.972180\n",
      "iter 3540, loss: 48.023240\n",
      "iter 3550, loss: 43.207535\n",
      "iter 3560, loss: 36.363915\n",
      "iter 3570, loss: 51.687498\n",
      "iter 3580, loss: 41.937914\n",
      "iter 3590, loss: 54.148343\n",
      "iter 3600, loss: 52.060042\n",
      "iter 3610, loss: 39.502466\n",
      "iter 3620, loss: 52.172001\n",
      "iter 3630, loss: 43.122584\n",
      "iter 3640, loss: 44.932028\n",
      "iter 3650, loss: 48.581696\n",
      "iter 3660, loss: 47.352118\n",
      "iter 3670, loss: 53.624363\n",
      "iter 3680, loss: 44.598808\n",
      "iter 3690, loss: 47.200782\n",
      "iter 3700, loss: 44.061600\n",
      "iter 3710, loss: 44.918791\n",
      "iter 3720, loss: 50.744651\n",
      "iter 3730, loss: 40.071944\n",
      "iter 3740, loss: 53.686352\n",
      "iter 3750, loss: 37.145733\n",
      "iter 3760, loss: 43.628914\n",
      "iter 3770, loss: 56.571463\n",
      "iter 3780, loss: 53.180105\n",
      "iter 3790, loss: 40.550333\n",
      "iter 3800, loss: 44.683915\n",
      "iter 3810, loss: 38.688314\n",
      "iter 3820, loss: 50.240643\n",
      "iter 3830, loss: 44.293910\n",
      "iter 3840, loss: 45.213984\n",
      "iter 3850, loss: 48.265918\n",
      "iter 3860, loss: 54.061691\n",
      "iter 3870, loss: 46.582647\n",
      "iter 3880, loss: 44.343265\n",
      "iter 3890, loss: 58.229297\n",
      "iter 3900, loss: 51.282353\n",
      "iter 3910, loss: 44.420781\n",
      "iter 3920, loss: 47.887359\n",
      "iter 3930, loss: 43.515350\n",
      "iter 3940, loss: 48.661165\n",
      "iter 3950, loss: 45.802591\n",
      "iter 3960, loss: 44.171417\n",
      "iter 3970, loss: 46.226845\n",
      "iter 3980, loss: 50.366788\n",
      "iter 3990, loss: 41.450742\n",
      "iter 4000, loss: 53.632860\n",
      "iter 4010, loss: 37.364215\n",
      "iter 4020, loss: 55.991297\n",
      "iter 4030, loss: 39.099147\n",
      "iter 4040, loss: 54.358427\n",
      "iter 4050, loss: 51.741465\n",
      "iter 4060, loss: 51.988583\n",
      "iter 4070, loss: 44.900681\n",
      "iter 4080, loss: 49.929262\n",
      "iter 4090, loss: 47.407234\n",
      "iter 4100, loss: 47.535857\n",
      "iter 4110, loss: 55.355453\n",
      "iter 4120, loss: 51.948211\n",
      "iter 4130, loss: 47.401956\n",
      "iter 4140, loss: 58.544537\n",
      "iter 4150, loss: 46.942319\n",
      "iter 4160, loss: 45.724278\n",
      "iter 4170, loss: 42.595632\n",
      "iter 4180, loss: 55.431571\n",
      "iter 4190, loss: 41.162104\n",
      "iter 4200, loss: 53.343893\n",
      "iter 4210, loss: 42.986100\n",
      "iter 4220, loss: 53.404649\n",
      "iter 4230, loss: 45.004261\n",
      "iter 4240, loss: 31.947557\n",
      "iter 4250, loss: 51.216191\n",
      "iter 4260, loss: 38.318302\n",
      "iter 4270, loss: 49.690889\n",
      "iter 4280, loss: 46.891181\n",
      "iter 4290, loss: 47.965278\n",
      "iter 4300, loss: 50.326021\n",
      "iter 4310, loss: 48.832364\n",
      "iter 4320, loss: 51.724728\n",
      "iter 4330, loss: 48.677088\n",
      "iter 4340, loss: 39.702166\n",
      "iter 4350, loss: 54.991754\n",
      "iter 4360, loss: 48.638713\n",
      "iter 4370, loss: 44.064765\n",
      "iter 4380, loss: 51.579354\n",
      "iter 4390, loss: 42.369655\n",
      "iter 4400, loss: 44.485720\n",
      "iter 4410, loss: 53.009836\n",
      "iter 4420, loss: 49.342884\n",
      "iter 4430, loss: 46.918825\n",
      "iter 4440, loss: 52.370128\n",
      "iter 4450, loss: 45.454998\n",
      "iter 4460, loss: 48.756430\n",
      "iter 4470, loss: 40.511328\n",
      "iter 4480, loss: 52.001764\n",
      "iter 4490, loss: 50.192694\n",
      "iter 4500, loss: 46.629916\n",
      "iter 4510, loss: 34.670653\n"
     ]
    },
    {
     "name": "stdout",
     "output_type": "stream",
     "text": [
      "iter 4520, loss: 54.563423\n",
      "iter 4530, loss: 41.597372\n",
      "iter 4540, loss: 44.913788\n",
      "iter 4550, loss: 51.417144\n",
      "iter 4560, loss: 52.855950\n",
      "iter 4570, loss: 39.877595\n",
      "iter 4580, loss: 46.452591\n",
      "iter 4590, loss: 51.976659\n",
      "iter 4600, loss: 51.891283\n",
      "iter 4610, loss: 53.132678\n",
      "iter 4620, loss: 48.756029\n",
      "iter 4630, loss: 48.257117\n",
      "iter 4640, loss: 53.580630\n",
      "iter 4650, loss: 52.175435\n",
      "iter 4660, loss: 45.768131\n",
      "iter 4670, loss: 54.437266\n",
      "iter 4680, loss: 54.749657\n",
      "iter 4690, loss: 47.380986\n",
      "iter 4700, loss: 50.571072\n",
      "iter 4710, loss: 49.443375\n",
      "iter 4720, loss: 45.249754\n",
      "iter 4730, loss: 42.799695\n",
      "iter 4740, loss: 47.714544\n",
      "iter 4750, loss: 45.487326\n",
      "iter 4760, loss: 41.969927\n",
      "iter 4770, loss: 46.914511\n",
      "iter 4780, loss: 61.627957\n",
      "iter 4790, loss: 50.913301\n",
      "iter 4800, loss: 50.638062\n",
      "iter 4810, loss: 44.077344\n",
      "iter 4820, loss: 41.383226\n",
      "iter 4830, loss: 38.566634\n",
      "iter 4840, loss: 48.168571\n",
      "iter 4850, loss: 39.737978\n",
      "iter 4860, loss: 45.220567\n",
      "iter 4870, loss: 50.103693\n",
      "iter 4880, loss: 39.413614\n",
      "iter 4890, loss: 50.850478\n",
      "iter 4900, loss: 44.275946\n",
      "iter 4910, loss: 52.383861\n",
      "iter 4920, loss: 45.576309\n",
      "iter 4930, loss: 43.067144\n",
      "iter 4940, loss: 54.081624\n",
      "iter 4950, loss: 44.506980\n",
      "iter 4960, loss: 48.895579\n",
      "iter 4970, loss: 49.375447\n",
      "iter 4980, loss: 57.198018\n",
      "iter 4990, loss: 44.994151\n",
      "iter 5000, loss: 45.449331\n",
      "iter 5010, loss: 47.199430\n",
      "iter 5020, loss: 46.061916\n",
      "iter 5030, loss: 58.318273\n",
      "iter 5040, loss: 51.686682\n",
      "iter 5050, loss: 46.092390\n",
      "iter 5060, loss: 49.899670\n",
      "iter 5070, loss: 48.586923\n",
      "iter 5080, loss: 46.609362\n",
      "iter 5090, loss: 44.440983\n",
      "iter 5100, loss: 43.025760\n",
      "iter 5110, loss: 44.470541\n",
      "iter 5120, loss: 42.517269\n",
      "iter 5130, loss: 46.644039\n",
      "iter 5140, loss: 41.563110\n",
      "iter 5150, loss: 39.384146\n",
      "iter 5160, loss: 43.809703\n",
      "iter 5170, loss: 52.002075\n",
      "iter 5180, loss: 41.339375\n",
      "iter 5190, loss: 37.592509\n",
      "iter 5200, loss: 37.189651\n",
      "iter 5210, loss: 51.530170\n",
      "iter 5220, loss: 41.230666\n",
      "iter 5230, loss: 39.321380\n",
      "iter 5240, loss: 48.037448\n",
      "iter 5250, loss: 54.198631\n",
      "iter 5260, loss: 44.727580\n",
      "iter 5270, loss: 58.332815\n",
      "iter 5280, loss: 47.993251\n",
      "iter 5290, loss: 42.086027\n",
      "iter 5300, loss: 46.987497\n",
      "iter 5310, loss: 51.047337\n",
      "iter 5320, loss: 48.304877\n",
      "iter 5330, loss: 57.970984\n",
      "iter 5340, loss: 47.417272\n",
      "iter 5350, loss: 47.245387\n",
      "iter 5360, loss: 37.034818\n",
      "iter 5370, loss: 46.217213\n",
      "iter 5380, loss: 38.342864\n",
      "iter 5390, loss: 53.042109\n",
      "iter 5400, loss: 43.535576\n",
      "iter 5410, loss: 50.341685\n",
      "iter 5420, loss: 50.650120\n",
      "iter 5430, loss: 42.670177\n",
      "iter 5440, loss: 41.370194\n",
      "iter 5450, loss: 54.528523\n",
      "iter 5460, loss: 43.123935\n",
      "iter 5470, loss: 50.633081\n",
      "iter 5480, loss: 49.742005\n",
      "iter 5490, loss: 39.422785\n",
      "iter 5500, loss: 52.816391\n",
      "iter 5510, loss: 39.503763\n",
      "iter 5520, loss: 51.683862\n",
      "iter 5530, loss: 45.259896\n",
      "iter 5540, loss: 50.309461\n",
      "iter 5550, loss: 48.405410\n",
      "iter 5560, loss: 43.375341\n",
      "iter 5570, loss: 43.208326\n",
      "iter 5580, loss: 61.675647\n",
      "iter 5590, loss: 56.047621\n",
      "iter 5600, loss: 46.868270\n",
      "iter 5610, loss: 51.032554\n",
      "iter 5620, loss: 43.125987\n",
      "iter 5630, loss: 52.467724\n",
      "iter 5640, loss: 44.074694\n",
      "iter 5650, loss: 48.644171\n",
      "iter 5660, loss: 50.118097\n",
      "iter 5670, loss: 47.501453\n",
      "iter 5680, loss: 34.223899\n",
      "iter 5690, loss: 36.814151\n",
      "iter 5700, loss: 49.138825\n",
      "iter 5710, loss: 50.718277\n",
      "iter 5720, loss: 44.969506\n",
      "iter 5730, loss: 44.196625\n",
      "iter 5740, loss: 53.319165\n",
      "iter 5750, loss: 44.490548\n",
      "iter 5760, loss: 50.514846\n",
      "iter 5770, loss: 44.047656\n",
      "iter 5780, loss: 37.342566\n",
      "iter 5790, loss: 52.340112\n",
      "iter 5800, loss: 42.211011\n",
      "iter 5810, loss: 39.414555\n",
      "iter 5820, loss: 45.692173\n",
      "iter 5830, loss: 43.470839\n",
      "iter 5840, loss: 40.244810\n",
      "iter 5850, loss: 50.843101\n",
      "iter 5860, loss: 46.436918\n",
      "iter 5870, loss: 42.114373\n",
      "iter 5880, loss: 45.925349\n",
      "iter 5890, loss: 56.817327\n",
      "iter 5900, loss: 43.126997\n",
      "iter 5910, loss: 48.838324\n",
      "iter 5920, loss: 46.961575\n",
      "iter 5930, loss: 41.104084\n",
      "iter 5940, loss: 38.868227\n",
      "iter 5950, loss: 57.479017\n",
      "iter 5960, loss: 46.461645\n",
      "iter 5970, loss: 51.299678\n",
      "iter 5980, loss: 44.694672\n",
      "iter 5990, loss: 47.995354\n",
      "iter 6000, loss: 46.837224\n",
      "iter 6010, loss: 49.793150\n",
      "iter 6020, loss: 45.874824\n",
      "iter 6030, loss: 46.369369\n",
      "iter 6040, loss: 40.844430\n",
      "iter 6050, loss: 33.926755\n",
      "iter 6060, loss: 61.222016\n",
      "iter 6070, loss: 55.320665\n",
      "iter 6080, loss: 40.868876\n",
      "iter 6090, loss: 42.426657\n",
      "iter 6100, loss: 43.282136\n",
      "iter 6110, loss: 49.679226\n",
      "iter 6120, loss: 43.806871\n",
      "iter 6130, loss: 48.146648\n",
      "iter 6140, loss: 42.780521\n",
      "iter 6150, loss: 49.769998\n",
      "iter 6160, loss: 45.912734\n",
      "iter 6170, loss: 42.879129\n",
      "iter 6180, loss: 54.518808\n",
      "iter 6190, loss: 49.735570\n",
      "iter 6200, loss: 44.292121\n",
      "iter 6210, loss: 51.206526\n",
      "iter 6220, loss: 40.768062\n",
      "iter 6230, loss: 44.532320\n",
      "iter 6240, loss: 43.912396\n",
      "iter 6250, loss: 42.349063\n",
      "iter 6260, loss: 48.154130\n",
      "iter 6270, loss: 43.244524\n",
      "iter 6280, loss: 41.188031\n",
      "iter 6290, loss: 43.904570\n",
      "iter 6300, loss: 42.375849\n",
      "iter 6310, loss: 42.290644\n",
      "iter 6320, loss: 57.823888\n",
      "iter 6330, loss: 51.713331\n",
      "iter 6340, loss: 63.127774\n",
      "iter 6350, loss: 49.821882\n",
      "iter 6360, loss: 49.063560\n",
      "iter 6370, loss: 49.370773\n",
      "iter 6380, loss: 42.388099\n",
      "iter 6390, loss: 48.646432\n",
      "iter 6400, loss: 49.918806\n",
      "iter 6410, loss: 42.574127\n",
      "iter 6420, loss: 45.868905\n",
      "iter 6430, loss: 39.056998\n",
      "iter 6440, loss: 48.370869\n",
      "iter 6450, loss: 52.315026\n",
      "iter 6460, loss: 50.333473\n",
      "iter 6470, loss: 40.471857\n",
      "iter 6480, loss: 40.667204\n",
      "iter 6490, loss: 57.076032\n",
      "iter 6500, loss: 45.787878\n",
      "iter 6510, loss: 44.210499\n",
      "iter 6520, loss: 47.549868\n",
      "iter 6530, loss: 45.203959\n",
      "iter 6540, loss: 45.444386\n",
      "iter 6550, loss: 49.377425\n",
      "iter 6560, loss: 54.554303\n",
      "iter 6570, loss: 50.126444\n",
      "iter 6580, loss: 52.132386\n",
      "iter 6590, loss: 45.812192\n",
      "iter 6600, loss: 54.425075\n",
      "iter 6610, loss: 43.452544\n",
      "iter 6620, loss: 52.363477\n",
      "iter 6630, loss: 46.029231\n",
      "iter 6640, loss: 50.573210\n",
      "iter 6650, loss: 48.672949\n",
      "iter 6660, loss: 49.782927\n",
      "iter 6670, loss: 35.009371\n",
      "iter 6680, loss: 44.062416\n",
      "iter 6690, loss: 43.966351\n",
      "iter 6700, loss: 46.454877\n",
      "iter 6710, loss: 44.283554\n",
      "iter 6720, loss: 36.696454\n",
      "iter 6730, loss: 46.638751\n",
      "iter 6740, loss: 40.751022\n",
      "iter 6750, loss: 42.465934\n",
      "iter 6760, loss: 41.880097\n",
      "iter 6770, loss: 53.716309\n",
      "iter 6780, loss: 40.986559\n",
      "iter 6790, loss: 58.303507\n",
      "iter 6800, loss: 50.751111\n",
      "iter 6810, loss: 44.349839\n",
      "iter 6820, loss: 36.290764\n",
      "iter 6830, loss: 40.927891\n",
      "iter 6840, loss: 42.730166\n",
      "iter 6850, loss: 43.835318\n",
      "iter 6860, loss: 38.901716\n",
      "iter 6870, loss: 48.391656\n",
      "iter 6880, loss: 55.705697\n",
      "iter 6890, loss: 50.431690\n",
      "iter 6900, loss: 45.310661\n",
      "iter 6910, loss: 48.695682\n",
      "iter 6920, loss: 49.064594\n",
      "iter 6930, loss: 51.627266\n",
      "iter 6940, loss: 43.531427\n",
      "iter 6950, loss: 52.394579\n",
      "iter 6960, loss: 42.234548\n",
      "iter 6970, loss: 44.284075\n",
      "iter 6980, loss: 37.723920\n",
      "iter 6990, loss: 48.737147\n",
      "iter 7000, loss: 40.268386\n",
      "iter 7010, loss: 44.314399\n",
      "iter 7020, loss: 44.202327\n",
      "iter 7030, loss: 39.617550\n",
      "iter 7040, loss: 52.885919\n",
      "iter 7050, loss: 48.705545\n",
      "iter 7060, loss: 46.260681\n",
      "iter 7070, loss: 43.614497\n",
      "iter 7080, loss: 45.108252\n",
      "iter 7090, loss: 40.113015\n",
      "iter 7100, loss: 43.930363\n",
      "iter 7110, loss: 45.085160\n",
      "iter 7120, loss: 41.187197\n",
      "iter 7130, loss: 47.849124\n",
      "iter 7140, loss: 56.028547\n",
      "iter 7150, loss: 40.861310\n",
      "iter 7160, loss: 50.105493\n",
      "iter 7170, loss: 41.536554\n",
      "iter 7180, loss: 51.169051\n",
      "iter 7190, loss: 42.081006\n",
      "iter 7200, loss: 54.845991\n",
      "iter 7210, loss: 36.718276\n",
      "iter 7220, loss: 43.216878\n",
      "iter 7230, loss: 48.079668\n",
      "iter 7240, loss: 47.619399\n",
      "iter 7250, loss: 45.994194\n",
      "iter 7260, loss: 38.585373\n",
      "iter 7270, loss: 52.043319\n",
      "iter 7280, loss: 52.684366\n",
      "iter 7290, loss: 45.066203\n",
      "iter 7300, loss: 52.954811\n",
      "iter 7310, loss: 49.920020\n",
      "iter 7320, loss: 47.509049\n",
      "iter 7330, loss: 45.990284\n",
      "iter 7340, loss: 51.486606\n",
      "iter 7350, loss: 43.344714\n",
      "iter 7360, loss: 39.282881\n",
      "iter 7370, loss: 54.107563\n",
      "iter 7380, loss: 56.719486\n",
      "iter 7390, loss: 42.851965\n",
      "iter 7400, loss: 55.592841\n",
      "iter 7410, loss: 52.569883\n",
      "iter 7420, loss: 46.688220\n",
      "iter 7430, loss: 39.837084\n",
      "iter 7440, loss: 56.104717\n",
      "iter 7450, loss: 51.126856\n",
      "iter 7460, loss: 47.959185\n",
      "iter 7470, loss: 40.778473\n",
      "iter 7480, loss: 46.257291\n",
      "iter 7490, loss: 27.838251\n",
      "iter 7500, loss: 61.133495\n",
      "iter 7510, loss: 57.083183\n",
      "iter 7520, loss: 51.704846\n",
      "iter 7530, loss: 53.774231\n",
      "iter 7540, loss: 50.259658\n",
      "iter 7550, loss: 50.448293\n",
      "iter 7560, loss: 37.608047\n",
      "iter 7570, loss: 44.744032\n"
     ]
    },
    {
     "name": "stdout",
     "output_type": "stream",
     "text": [
      "iter 7580, loss: 52.245992\n",
      "iter 7590, loss: 39.682072\n",
      "iter 7600, loss: 42.125573\n",
      "iter 7610, loss: 47.469673\n",
      "iter 7620, loss: 45.716486\n",
      "iter 7630, loss: 41.355220\n",
      "iter 7640, loss: 57.242924\n",
      "iter 7650, loss: 43.180213\n",
      "iter 7660, loss: 42.627850\n",
      "iter 7670, loss: 52.239464\n",
      "iter 7680, loss: 38.959283\n",
      "iter 7690, loss: 46.848278\n",
      "iter 7700, loss: 40.909716\n",
      "iter 7710, loss: 54.717638\n",
      "iter 7720, loss: 46.218922\n",
      "iter 7730, loss: 52.094211\n",
      "iter 7740, loss: 41.096205\n",
      "iter 7750, loss: 50.325478\n",
      "iter 7760, loss: 35.710337\n",
      "iter 7770, loss: 38.092494\n",
      "iter 7780, loss: 51.301988\n",
      "iter 7790, loss: 44.439617\n",
      "iter 7800, loss: 41.667749\n",
      "iter 7810, loss: 41.366712\n",
      "iter 7820, loss: 41.516491\n",
      "iter 7830, loss: 53.071316\n",
      "iter 7840, loss: 50.265368\n",
      "iter 7850, loss: 37.986791\n",
      "iter 7860, loss: 33.623053\n",
      "iter 7870, loss: 43.757147\n",
      "iter 7880, loss: 44.639271\n",
      "iter 7890, loss: 60.472348\n",
      "iter 7900, loss: 40.617018\n",
      "iter 7910, loss: 43.047286\n",
      "iter 7920, loss: 49.546051\n",
      "iter 7930, loss: 45.419311\n",
      "iter 7940, loss: 45.370908\n",
      "iter 7950, loss: 48.194861\n",
      "iter 7960, loss: 44.017026\n",
      "iter 7970, loss: 44.565258\n",
      "iter 7980, loss: 46.954868\n",
      "iter 7990, loss: 55.858600\n",
      "iter 8000, loss: 46.692369\n",
      "iter 8010, loss: 51.494788\n",
      "iter 8020, loss: 35.336995\n",
      "iter 8030, loss: 59.330580\n",
      "iter 8040, loss: 34.039661\n",
      "iter 8050, loss: 49.462052\n",
      "iter 8060, loss: 47.597887\n",
      "iter 8070, loss: 47.476236\n",
      "iter 8080, loss: 37.113888\n",
      "iter 8090, loss: 44.279707\n",
      "iter 8100, loss: 42.527398\n",
      "iter 8110, loss: 34.655704\n",
      "iter 8120, loss: 46.108899\n",
      "iter 8130, loss: 46.832815\n",
      "iter 8140, loss: 48.883249\n",
      "iter 8150, loss: 39.905829\n",
      "iter 8160, loss: 42.734769\n",
      "iter 8170, loss: 44.583924\n",
      "iter 8180, loss: 41.988805\n",
      "iter 8190, loss: 41.476105\n",
      "iter 8200, loss: 44.011342\n",
      "iter 8210, loss: 43.818906\n",
      "iter 8220, loss: 41.471698\n",
      "iter 8230, loss: 45.926596\n",
      "iter 8240, loss: 51.685367\n",
      "iter 8250, loss: 46.510328\n",
      "iter 8260, loss: 53.541952\n",
      "iter 8270, loss: 44.519458\n",
      "iter 8280, loss: 42.140639\n",
      "iter 8290, loss: 50.449460\n",
      "iter 8300, loss: 48.530322\n",
      "iter 8310, loss: 46.521433\n",
      "iter 8320, loss: 41.705264\n",
      "iter 8330, loss: 44.620720\n",
      "iter 8340, loss: 50.294735\n",
      "iter 8350, loss: 45.841572\n",
      "iter 8360, loss: 41.130824\n",
      "iter 8370, loss: 44.075454\n",
      "iter 8380, loss: 44.191913\n",
      "iter 8390, loss: 46.220906\n",
      "iter 8400, loss: 44.458063\n",
      "iter 8410, loss: 44.699276\n",
      "iter 8420, loss: 45.770425\n",
      "iter 8430, loss: 52.252040\n",
      "iter 8440, loss: 37.301625\n",
      "iter 8450, loss: 50.354887\n",
      "iter 8460, loss: 49.750936\n",
      "iter 8470, loss: 40.714506\n",
      "iter 8480, loss: 47.200237\n",
      "iter 8490, loss: 46.619158\n",
      "iter 8500, loss: 40.313623\n",
      "iter 8510, loss: 47.457056\n",
      "iter 8520, loss: 40.190412\n",
      "iter 8530, loss: 47.138353\n",
      "iter 8540, loss: 40.093886\n",
      "iter 8550, loss: 35.728351\n",
      "iter 8560, loss: 50.268311\n",
      "iter 8570, loss: 45.496288\n",
      "iter 8580, loss: 50.866519\n",
      "iter 8590, loss: 42.460977\n",
      "iter 8600, loss: 54.150994\n",
      "iter 8610, loss: 47.983200\n",
      "iter 8620, loss: 45.953427\n",
      "iter 8630, loss: 45.073675\n",
      "iter 8640, loss: 49.420310\n",
      "iter 8650, loss: 30.852483\n",
      "iter 8660, loss: 49.143517\n",
      "iter 8670, loss: 43.361981\n",
      "iter 8680, loss: 46.930547\n",
      "iter 8690, loss: 36.918175\n",
      "iter 8700, loss: 40.470724\n",
      "iter 8710, loss: 48.113192\n",
      "iter 8720, loss: 39.946185\n",
      "iter 8730, loss: 38.993485\n",
      "iter 8740, loss: 55.616745\n",
      "iter 8750, loss: 38.920551\n",
      "iter 8760, loss: 47.325269\n",
      "iter 8770, loss: 44.681331\n",
      "iter 8780, loss: 36.336238\n",
      "iter 8790, loss: 42.942176\n",
      "iter 8800, loss: 46.865446\n",
      "iter 8810, loss: 43.088495\n",
      "iter 8820, loss: 57.487084\n",
      "iter 8830, loss: 51.171681\n",
      "iter 8840, loss: 50.597823\n",
      "iter 8850, loss: 54.323833\n",
      "iter 8860, loss: 42.801127\n",
      "iter 8870, loss: 47.661301\n",
      "iter 8880, loss: 45.183716\n",
      "iter 8890, loss: 41.284619\n",
      "iter 8900, loss: 40.380500\n",
      "iter 8910, loss: 54.175571\n",
      "iter 8920, loss: 46.550561\n",
      "iter 8930, loss: 50.268456\n",
      "iter 8940, loss: 45.273701\n",
      "iter 8950, loss: 60.783126\n",
      "iter 8960, loss: 50.409726\n",
      "iter 8970, loss: 46.305693\n",
      "iter 8980, loss: 54.538255\n",
      "iter 8990, loss: 46.595934\n",
      "iter 9000, loss: 50.619702\n",
      "iter 9010, loss: 54.407304\n",
      "iter 9020, loss: 45.816675\n",
      "iter 9030, loss: 47.522902\n",
      "iter 9040, loss: 47.302650\n",
      "iter 9050, loss: 46.624228\n",
      "iter 9060, loss: 54.086045\n",
      "iter 9070, loss: 40.994794\n",
      "iter 9080, loss: 47.324900\n",
      "iter 9090, loss: 43.066789\n",
      "iter 9100, loss: 37.554422\n",
      "iter 9110, loss: 44.973176\n",
      "iter 9120, loss: 48.690753\n",
      "iter 9130, loss: 41.023541\n",
      "iter 9140, loss: 41.982568\n",
      "iter 9150, loss: 53.621351\n",
      "iter 9160, loss: 58.600728\n",
      "iter 9170, loss: 45.677756\n",
      "iter 9180, loss: 44.964933\n",
      "iter 9190, loss: 53.077682\n",
      "iter 9200, loss: 50.734767\n",
      "iter 9210, loss: 50.009389\n",
      "iter 9220, loss: 40.648827\n",
      "iter 9230, loss: 55.396126\n",
      "iter 9240, loss: 42.921072\n",
      "iter 9250, loss: 36.412310\n",
      "iter 9260, loss: 41.605021\n",
      "iter 9270, loss: 46.122931\n",
      "iter 9280, loss: 45.607343\n",
      "iter 9290, loss: 47.065598\n",
      "iter 9300, loss: 42.959502\n",
      "iter 9310, loss: 43.272078\n",
      "iter 9320, loss: 45.133473\n",
      "iter 9330, loss: 49.964618\n",
      "iter 9340, loss: 50.527722\n",
      "iter 9350, loss: 47.659159\n",
      "iter 9360, loss: 51.072091\n",
      "iter 9370, loss: 41.497312\n",
      "iter 9380, loss: 50.266367\n",
      "iter 9390, loss: 47.665136\n",
      "iter 9400, loss: 53.447597\n",
      "iter 9410, loss: 57.908151\n",
      "iter 9420, loss: 40.874082\n",
      "iter 9430, loss: 43.896370\n",
      "iter 9440, loss: 44.061914\n",
      "iter 9450, loss: 45.748951\n",
      "iter 9460, loss: 47.625683\n",
      "iter 9470, loss: 42.155220\n",
      "iter 9480, loss: 46.456341\n",
      "iter 9490, loss: 49.267834\n",
      "iter 9500, loss: 45.392173\n",
      "iter 9510, loss: 43.446513\n",
      "iter 9520, loss: 45.063132\n",
      "iter 9530, loss: 47.309783\n",
      "iter 9540, loss: 51.497340\n",
      "iter 9550, loss: 52.581830\n",
      "iter 9560, loss: 49.000458\n",
      "iter 9570, loss: 47.277012\n",
      "iter 9580, loss: 54.355687\n",
      "iter 9590, loss: 40.540240\n",
      "iter 9600, loss: 50.519961\n",
      "iter 9610, loss: 40.678653\n",
      "iter 9620, loss: 47.948563\n",
      "iter 9630, loss: 40.766399\n",
      "iter 9640, loss: 49.133643\n",
      "iter 9650, loss: 46.909014\n",
      "iter 9660, loss: 54.885034\n",
      "iter 9670, loss: 41.572090\n",
      "iter 9680, loss: 56.917208\n",
      "iter 9690, loss: 42.398681\n",
      "iter 9700, loss: 41.299011\n",
      "iter 9710, loss: 43.743705\n",
      "iter 9720, loss: 46.093699\n",
      "iter 9730, loss: 49.960086\n",
      "iter 9740, loss: 45.305726\n",
      "iter 9750, loss: 42.909652\n",
      "iter 9760, loss: 39.809653\n",
      "iter 9770, loss: 49.406572\n",
      "iter 9780, loss: 54.897960\n",
      "iter 9790, loss: 40.592038\n",
      "iter 9800, loss: 42.324490\n",
      "iter 9810, loss: 49.029290\n",
      "iter 9820, loss: 47.904937\n",
      "iter 9830, loss: 44.461185\n",
      "iter 9840, loss: 41.875157\n",
      "iter 9850, loss: 42.057573\n",
      "iter 9860, loss: 43.558825\n",
      "iter 9870, loss: 42.591659\n",
      "iter 9880, loss: 45.612718\n",
      "iter 9890, loss: 43.985300\n",
      "iter 9900, loss: 48.153430\n",
      "iter 9910, loss: 48.787570\n",
      "iter 9920, loss: 47.114116\n",
      "iter 9930, loss: 38.299801\n",
      "iter 9940, loss: 54.507276\n",
      "iter 9950, loss: 51.282808\n",
      "iter 9960, loss: 47.928229\n",
      "iter 9970, loss: 53.589454\n",
      "iter 9980, loss: 56.751941\n",
      "iter 9990, loss: 43.657391\n",
      "iter 10000, loss: 50.198708\n"
     ]
    },
    {
     "data": {
      "text/plain": [
       "[<matplotlib.lines.Line2D at 0x7f9bd970aca0>]"
      ]
     },
     "execution_count": 65,
     "metadata": {},
     "output_type": "execute_result"
    },
    {
     "data": {
      "image/png": "[encoded data removed]",
      "text/plain": [
       "<Figure size 432x288 with 1 Axes>"
      ]
     },
     "metadata": {
      "needs_background": "light"
     },
     "output_type": "display_data"
    }
   ],
   "source": [
    "import matplotlib.pyplot as plt\n",
    "\n",
    "batch_size = 3\n",
    "input_dim = vocab_size\n",
    "output_dim= vocab_size\n",
    "hidden_size=100\n",
    "params = rnn_params_init(input_dim, hidden_size,output_dim)\n",
    "H = rnn_hidden_state_init(batch_size,hidden_size)\n",
    "seq_length = 25\n",
    "\n",
    "loss_function = lambda F,Y:rnn_loss_grad(F,Y) #,util.loss_grad_least)\n",
    "\n",
    "\n",
    "epoches = 3\n",
    "learning_rate = 1e-2\n",
    "iterations  =10000\n",
    "losses = []\n",
    "\n",
    "optimizer = AdaGrad(params,learning_rate)\n",
    "momentum = 0.9\n",
    "optimizer = SGD(params,learning_rate,momentum)\n",
    "\n",
    "for epoch in range(epoches):\n",
    "    data_it =  character_seq_data_iter_consecutive(data,batch_size,seq_length,vocab_size,100)\n",
    "   # epoch_losses,param,H = rnn_train(params,data_it,learning_rate,iterations,loss_function,print_n=100)\n",
    "    epoch_losses,H = rnn_train_epoch(params,data_it,optimizer,iterations,loss_function,print_n=10)\n",
    "    losses.extend(epoch_losses)  \n",
    "    #epoch_losses = np.array(epoch_losses).mean()   \n",
    "    #losses.append(epoch_losses)  \n",
    "plt.plot(losses[:])"
   ]
  },
  {
   "cell_type": "markdown",
   "metadata": {
    "pycharm": {
     "name": "#%% md\n"
    }
   },
   "source": [
    "用训练后的RNN再次进行预测："
   ]
  },
  {
   "cell_type": "code",
   "execution_count": 66,
   "metadata": {
    "pycharm": {
     "name": "#%%\n"
    }
   },
   "outputs": [
    {
     "name": "stdout",
     "output_type": "stream",
     "text": [
      "hew frighs; of dit moow Frilider: well or thing adsor;\n",
      "Youncizedarrio, \n",
      "Clock, werns I'lm'd ever in dep.\n",
      "Koth swend,\n",
      "Cite?\n",
      "I deyorse enioth Low, you.\n",
      "\n",
      "HED ALA:\n",
      "Afe cond his comine, well bromariasane, Su\n"
     ]
    }
   ],
   "source": [
    "str = predict_rnn(params,\"he\",200)\n",
    "print(str)"
   ]
  },
  {
   "cell_type": "markdown",
   "metadata": {
    "pycharm": {
     "name": "#%% md\n"
    }
   },
   "source": [
    "### 7.7.3  LSTM的代码实现\n",
    "\n",
    "初始化这些模型参数"
   ]
  },
  {
   "cell_type": "code",
   "execution_count": 67,
   "metadata": {
    "pycharm": {
     "name": "#%%\n"
    }
   },
   "outputs": [],
   "source": [
    "import numpy as np\n",
    "def lstm_params_init(input_dim,hidden_dim,output_dim,scale=0.01):\n",
    "    normal = lambda m,n : np.random.randn(m, n)*scale\n",
    "    two = lambda : (normal(input_dim+hidden_dim, hidden_dim),np.zeros((1,hidden_dim)))\n",
    "    \n",
    "    Wi, bi = two()  # Input gate parameters\n",
    "    Wf, bf = two()  # Forget gate parameters\n",
    "    Wo, bo = two()  # Output gate parameters\n",
    "    Wc, bc = two()  # Candidate cell parameters\n",
    "    \n",
    "    Wy = normal(hidden_dim, output_dim)\n",
    "    by = np.zeros((1,output_dim))\n",
    "   \n",
    "    params = [Wi, bi,Wf, bf, Wo,bo, Wc,bc,Wy,by]\n",
    "    return params"
   ]
  },
  {
   "cell_type": "markdown",
   "metadata": {
    "pycharm": {
     "name": "#%% md\n"
    }
   },
   "source": [
    "初始化元胞状态$C_t$和隐状态$h_t$："
   ]
  },
  {
   "cell_type": "code",
   "execution_count": 68,
   "metadata": {
    "pycharm": {
     "name": "#%%\n"
    }
   },
   "outputs": [],
   "source": [
    "def lstm_state_init(batch_size, hidden_size):\n",
    "    return (np.zeros((batch_size, hidden_size)),\n",
    "            np.zeros((batch_size, hidden_size)))"
   ]
  },
  {
   "cell_type": "markdown",
   "metadata": {
    "pycharm": {
     "name": "#%% md\n"
    }
   },
   "source": [
    "正向计算（前向传播）："
   ]
  },
  {
   "cell_type": "code",
   "execution_count": 69,
   "metadata": {
    "pycharm": {
     "name": "#%%\n"
    }
   },
   "outputs": [],
   "source": [
    "def sigmoid(x):\n",
    "    return 1 / (1 + np.exp(-x))\n",
    "\n",
    "def lstm_forward(params,Xs, state):\n",
    "    [Wi, bi,Wf, bf, Wo,bo,Wc,bc,Wy,by] = params   \n",
    "    \n",
    "    (H, C) = state         #初始状态\n",
    "    Hs = {}\n",
    "    Cs = {}\n",
    "    Zs = []\n",
    "    \n",
    "    Hs[-1] = np.copy(H)\n",
    "    Cs[-1] = np.copy(C)\n",
    "    \n",
    "    Is = []\n",
    "    Fs = []\n",
    "    Os = []\n",
    "    C_tildas = []\n",
    "    \n",
    "    for t in range(len(Xs)): \n",
    "        X = Xs[t]\n",
    "        XH = np.column_stack((X, H))\n",
    "        if False:\n",
    "            print(\"XH.shape\",XH.shape)\n",
    "            print(\"Wi.shape\",Wi.shape)\n",
    "            break\n",
    "        I = sigmoid(np.dot(XH, Wi)+bi)\n",
    "        F = sigmoid(np.dot(XH, Wf)+bf)\n",
    "        O = sigmoid(np.dot(XH, Wo)+bo)\n",
    "        C_tilda = np.tanh(np.dot(XH, Wc)+bc)\n",
    "    \n",
    "        C = F * C + I * C_tilda\n",
    "        H = O*np.tanh(C)       #O * C.tanh()  #输出状态 \n",
    "        \n",
    "        Y = np.dot(H, Wy) + by        # 输出\n",
    "        \n",
    "        Zs.append(Y)\n",
    "        Hs[t] = H\n",
    "        Cs[t] = C\n",
    "        \n",
    "        Is.append(I)\n",
    "        Fs.append(F)\n",
    "        Os.append(O)\n",
    "        C_tildas.append(C_tilda)\n",
    "    return Zs,Hs,Cs,(Is,Fs,Os,C_tildas)"
   ]
  },
  {
   "cell_type": "markdown",
   "metadata": {
    "pycharm": {
     "name": "#%% md\n"
    }
   },
   "source": [
    "同样，也可以将其中某个时刻的正向计算单独作为一个函数："
   ]
  },
  {
   "cell_type": "code",
   "execution_count": null,
   "metadata": {
    "pycharm": {
     "name": "#%%\n"
    }
   },
   "outputs": [],
   "source": [
    "def lstm_forward_step(params,X,H,C):\n",
    "    [Wi, bi,Wf, bf, Wo,bo,Wc,bc,Wy,by] = params\n",
    "    \n",
    "    XH = np.column_stack((X, H))\n",
    "    I = sigmoid(np.dot(XH, Wi)+bi)\n",
    "    F = sigmoid(np.dot(XH, Wf)+bf)\n",
    "    O = sigmoid(np.dot(XH, Wo)+bo)\n",
    "    C_tilda = np.tanh(np.dot(XH, Wc)+bc)\n",
    "    \n",
    "    C = F * C + I * C_tilda\n",
    "    H = O*np.tanh(C)       #O * tanh(C)  #输出状态 \n",
    "    Y = np.dot(H, Wy) + by        # 输出\n",
    "    \n",
    "    return Y,H,C,(I,F,O,C_tilda)"
   ]
  },
  {
   "cell_type": "markdown",
   "metadata": {
    "pycharm": {
     "name": "#%% md\n"
    }
   },
   "source": [
    "反向求导："
   ]
  },
  {
   "cell_type": "code",
   "execution_count": null,
   "metadata": {
    "pycharm": {
     "name": "#%%\n"
    }
   },
   "outputs": [],
   "source": [
    "import math\n",
    "\n",
    "def dsigmoid(x):\n",
    "    return sigmoid(x) * (1 - sigmoid(x))\n",
    "\n",
    "def dtanh(x):\n",
    "    return 1 - np.tanh(x) * np.tanh(x)\n",
    "\n",
    "def grad_clipping(grads,alpha):\n",
    "    norm = math.sqrt(sum((grad ** 2).sum() for grad in grads))\n",
    "    if norm > alpha:\n",
    "        ratio = alpha / norm\n",
    "        for i in range(len(grads)):\n",
    "            grads[i]*=ratio \n",
    "            \n",
    "def lstm_backward(params,Xs,Hs,Cs,dZs,cache,clip_value = 5.): # Ys,loss_function):\n",
    "    [Wi, bi,Wf, bf, Wo,bo,Wc, bc,Wy,by] = params\n",
    "    \n",
    "    Is,Fs,Os,C_tildas = cache    \n",
    "    \n",
    "    dWi,dWf,dWo,dWc,dWy  = np.zeros_like(Wi), np.zeros_like(Wf), np.zeros_like(Wo), np.zeros_like(Wc), np.zeros_like(Wy)\n",
    "    dbi,dbf,dbo,dbc,dby = np.zeros_like(bi), np.zeros_like(bf),  np.zeros_like(bo), np.zeros_like(bc), np.zeros_like(by)\n",
    "\n",
    "    dH_next = np.zeros_like(Hs[0])\n",
    "    dC_next = np.zeros_like(Cs[0])\n",
    "    \n",
    "    input_dim = Xs[0].shape[1]\n",
    "  \n",
    "    h = Hs\n",
    "    x = Xs\n",
    "    \n",
    "    T = len(Xs)  \n",
    "    for t in reversed(range(T)):     \n",
    "        I = Is[t]\n",
    "        F = Fs[t]\n",
    "        O = Os[t]\n",
    "        C_tilda = C_tildas[t]\n",
    "        H = Hs[t]\n",
    "        X = Xs[t]\n",
    "        C = Cs[t]\n",
    "        H_pre =  Hs[t-1]\n",
    "        C_prev = Cs[t-1]\n",
    "        XH_pre = np.column_stack((X, H_pre))\n",
    "        XH_ = XH_pre\n",
    "        \n",
    "        dZ = dZs[t]  \n",
    "    \n",
    "        #输出f的模型参数的idu\n",
    "        dWy += np.dot(H.T,dZ)      \n",
    "        dby += np.sum(dZ, axis=0, keepdims=True)   \n",
    "        \n",
    "        #隐状态h的梯度\n",
    "        dH = np.dot(dZ, Wy.T) + dH_next      \n",
    "     \n",
    "        dC = dH*O*dtanh(C) +dC_next  # H_t= O_t*tanh(C_t)\n",
    "        \n",
    "        dO = np.tanh(C) *dH     \n",
    "        dOZ = O * (1-O)*dO          #O = sigma(Z_o)            \n",
    "        dWo += np.dot(XH_.T,dOZ)    # Z_o = (X,H_)W_o+b_o\n",
    "        dbo += np.sum(dOZ, axis=0, keepdims=True)              \n",
    "        \n",
    "         #di                         \n",
    "        di =  C_tilda*dC\n",
    "        diZ = I*(1-I) * di\n",
    "        dWi += np.dot(XH_.T,diZ)\n",
    "        dbi += np.sum(diZ, axis=0, keepdims=True)  \n",
    "        \n",
    "        #df\n",
    "        df = C_prev*dC\n",
    "        dfZ = F*(1-F) * df\n",
    "        dWf += np.dot(XH_.T,dfZ)\n",
    "        dbf += np.sum(dfZ, axis=0, keepdims=True)          \n",
    "        \n",
    "        # dC_bar       \n",
    "        dC_tilda = I*dC                         #C = F * C + I * C_tilda        \n",
    "        dC_tilda_Z =(1-np.square(C_tilda))*dC_tilda    # C_tilda = tanh(C_tilda_Z)         \n",
    "        dWc += np.dot(XH_.T,dC_tilda_Z)     # C_tilda_Z = (X,H_)W_c+b_c    \n",
    "        dbc += np.sum(dC_tilda_Z, axis=0, keepdims=True)\n",
    "       \n",
    "        dXH_ = (np.dot(dfZ, Wf.T)\n",
    "             + np.dot(diZ, Wi.T)\n",
    "             + np.dot(dC_tilda_Z, Wc.T)\n",
    "             + np.dot(dOZ, Wo.T))\n",
    "    \n",
    "        dX_prev = dXH_[:, :input_dim]\n",
    "        dH_prev = dXH_[:, input_dim:]\n",
    "        dC_prev = F * dC\n",
    "        \n",
    "        dC_next = dC_prev\n",
    "        dH_next = dH_prev      \n",
    "\n",
    "    grads = [dWi, dbi,dWf, dbf, dWo,dbo,dWc, dbc,dWy,dby]\n",
    "    grad_clipping(grads,clip_value)\n",
    "    #for dparam in [dWi, dbi,dWf, dbf, dWo,dbo,dWc, dbc,dWy,dby]:\n",
    "    #    np.clip(dparam, -5, 5, out=dparam) # clip to mitigate exploding gradients\n",
    "    return grads"
   ]
  },
  {
   "cell_type": "markdown",
   "metadata": {
    "pycharm": {
     "name": "#%% md\n"
    }
   },
   "source": [
    "梯度检验"
   ]
  },
  {
   "cell_type": "code",
   "execution_count": null,
   "metadata": {
    "pycharm": {
     "name": "#%%\n"
    }
   },
   "outputs": [],
   "source": [
    "T  = 3\n",
    "input_dim, hidden_dim,output_dim = 4,3,4\n",
    "batch_size = 2        \n",
    "Xs = np.random.randn(T,batch_size,input_dim)\n",
    "Ys = np.random.randint(output_dim, size=(T,batch_size))\n",
    " \n",
    "print(\"Xs\",Xs)\n",
    "print(\"Ys\",Ys)        \n",
    "        \n",
    "# cheack gradient  \n",
    "params = lstm_params_init(input_dim, hidden_dim,output_dim)\n",
    "HC = lstm_state_init(batch_size,hidden_dim)\n",
    "\n",
    "Zs,Hs,Cs,cache = lstm_forward(params,Xs,HC) \n",
    "loss_function = rnn_loss_grad\n",
    "loss,dZs = loss_function(Zs,Ys)  \n",
    "\n",
    "grads = lstm_backward(params,Xs,Hs,Cs,dZs,cache)\n",
    "\n",
    "def rnn_loss():\n",
    "    HC = lstm_state_init(batch_size,hidden_dim)    \n",
    "    Zs,Hs,Cs,cache= lstm_forward(params,Xs,HC) \n",
    "    loss_function = rnn_loss_grad\n",
    "    loss,dZs = loss_function(Zs,Ys)     \n",
    "    return loss\n",
    "\n",
    "numerical_grads = util.numerical_gradient(rnn_loss,params,1e-6) #rnn_numerical_gradient(rnn_loss,params,1e-10)\n",
    "#diff_error = lambda x, y: np.max( np.abs(x - y)/(np.maximum(1e-8, np.abs(x) + np.abs(y))))\n",
    "diff_error = lambda x, y: np.max( np.abs(x - y))\n",
    "                                 \n",
    "def rel_error(x, y):\n",
    "  \"\"\" returns relative error \"\"\"\n",
    "  return np.max(np.abs(x - y) / (np.maximum(1e-8, np.abs(x) + np.abs(y))))\n",
    "\n",
    "print(\"loss\",loss)\n",
    "print(\"[Wi, bi,Wf, bf, Wo,bo,Wc, bc,Wy,by] \")\n",
    "for i in range(len(grads)):\n",
    "    print(diff_error(grads[i],numerical_grads[i]))\n",
    "\n",
    "print(\"grads\",grads[0])\n",
    "print(\"numerical_grads\",numerical_grads[0])"
   ]
  },
  {
   "cell_type": "markdown",
   "metadata": {
    "pycharm": {
     "name": "#%% md\n"
    }
   },
   "source": [
    "同样，可以定义梯度下降法的一次迭代过程："
   ]
  },
  {
   "cell_type": "code",
   "execution_count": null,
   "metadata": {
    "pycharm": {
     "name": "#%%\n"
    }
   },
   "outputs": [],
   "source": [
    "def lstm_train_epoch(params,data_iter,optimizer,iterations,loss_function,print_n=100):\n",
    "    Wi, bi,Wf, bf, Wo,bo,Wc, bc,Wy,by = params\n",
    "    #Wxh, Whh,Why, bh, by =params[\"Wxh\"],params[\"Whh\"],params[\"Why\"],params[\"bh\"],params[\"by\"]\n",
    "    losses = []      \n",
    "    iter = 0\n",
    "    \n",
    "    batch_size = None\n",
    "    hidden_size = Wy.shape[0]\n",
    "   \n",
    "    for Xs,Ys,start in data_iter:\n",
    "        if not batch_size:\n",
    "            batch_size = Xs[0].shape[0]            \n",
    "        if start:\n",
    "            HC = lstm_state_init(batch_size,hidden_size) \n",
    "        \n",
    "        Zs,Hs,Cs,cache = lstm_forward(params,Xs,HC) \n",
    "        loss,dZs = loss_function(Zs,Ys)  \n",
    "        grads = lstm_backward(params,Xs,Hs,Cs,dZs,cache)\n",
    "      \n",
    "        optimizer.step(grads)\n",
    "        losses.append(loss)\n",
    "        \n",
    "        if iter % print_n == 0: \n",
    "            print ('iter %d, loss: %f' % (iter, loss)) \n",
    "        iter+=1\n",
    "        \n",
    "        if iter>iterations:break\n",
    "    return losses,H"
   ]
  },
  {
   "cell_type": "markdown",
   "metadata": {
    "pycharm": {
     "name": "#%% md\n"
    }
   },
   "source": [
    "文本生成"
   ]
  },
  {
   "cell_type": "code",
   "execution_count": null,
   "metadata": {
    "pycharm": {
     "name": "#%%\n"
    }
   },
   "outputs": [],
   "source": [
    "filename = 'input.txt'\n",
    "data = open(filename, 'r').read()\n",
    "chars = list(set(data))\n",
    "data_size, vocab_size = len(data), len(chars)\n",
    "print ('总字符个数 %d,字符表的长度 %d unique.' % (data_size, vocab_size))\n",
    "\n",
    "char_to_idx = { ch:i for i,ch in enumerate(chars) }\n",
    "idx_to_char = { i:ch for i,ch in enumerate(chars) }\n",
    "\n",
    "input_dim, hidden_dim,output_dim = vocab_size,100,vocab_size\n",
    "batch_size = 2   \n",
    "\n",
    "params = lstm_params_init(input_dim, hidden_dim,output_dim)\n",
    "H = lstm_state_init(batch_size,hidden_dim)\n",
    "seq_length = 25\n",
    "\n",
    "loss_function = lambda F,Y:rnn_loss_grad(F,Y) #,util.loss_grad_least)\n",
    "\n",
    "epoches = 3\n",
    "learning_rate = 1e-2\n",
    "iterations  =10000\n",
    "losses = []\n",
    "\n",
    "optimizer = AdaGrad(params,learning_rate)\n",
    "momentum = 0.9\n",
    "optimizer = SGD(params,learning_rate,momentum)\n",
    "\n",
    "for epoch in range(epoches):\n",
    "    data_it =  character_seq_data_iter_consecutive(data,batch_size,seq_length,vocab_size,100)\n",
    "   # epoch_losses,param,H = rnn_train(params,data_it,learning_rate,iterations,loss_function,print_n=100)\n",
    "    epoch_losses,H = lstm_train_epoch(params,data_it,optimizer,iterations,loss_function,print_n=10)\n",
    "    losses.extend(epoch_losses)  \n",
    "    #epoch_losses = np.array(epoch_losses).mean()   \n",
    "    #losses.append(epoch_losses)"
   ]
  },
  {
   "cell_type": "markdown",
   "metadata": {
    "pycharm": {
     "name": "#%% md\n"
    }
   },
   "source": [
    "#### 预测\n",
    "\n",
    "和rnn类似，可以定义如下的预测函数："
   ]
  },
  {
   "cell_type": "code",
   "execution_count": null,
   "metadata": {
    "pycharm": {
     "name": "#%%\n"
    }
   },
   "outputs": [],
   "source": [
    "def predict_lstm(params,prefix,n): \n",
    "    Wi, bi,Wf, bf, Wo,bo,Wc, bc,Wy,by = params\n",
    "    vocab_size,hidden_dim = Wi.shape[0]-Wy.shape[0],Wy.shape[0]\n",
    "    h,c = lstm_state_init(1,hidden_dim) \n",
    "    \n",
    "    output = [char_to_idx[prefix[0]]]\n",
    "   \n",
    "    for t in range(len(prefix) +n - 1):        \n",
    "        # 将上⼀时间步的输出作为当前时间步的输⼊。\n",
    "        x = one_hot_idx(output[-1], vocab_size)\n",
    "        \n",
    "        z,h,c,_ = lstm_forward_step(params,x,h,c)\n",
    "              \n",
    "        if t < len(prefix) - 1:\n",
    "            output.append(char_to_idx[prefix[t + 1]])\n",
    "        else:\n",
    "            p = np.exp(z) / np.sum(np.exp(z)) \n",
    "           # idx = int(p.argmax(axis=1))\n",
    "            idx = np.random.choice(range(vocab_size), p=p.ravel())\n",
    "            output.append(idx)     \n",
    "        \n",
    "    return ''.join([idx_to_char[i] for i in output]) "
   ]
  },
  {
   "cell_type": "code",
   "execution_count": null,
   "metadata": {
    "pycharm": {
     "name": "#%%\n"
    }
   },
   "outputs": [],
   "source": [
    "str = predict_lstm(params,\"he\",200)\n",
    "print(str)"
   ]
  },
  {
   "cell_type": "markdown",
   "metadata": {
    "pycharm": {
     "name": "#%% md\n"
    }
   },
   "source": [
    "可以用一个类LSTMCell来表示包裹上述的LSTM相关的函数："
   ]
  },
  {
   "cell_type": "code",
   "execution_count": null,
   "metadata": {
    "pycharm": {
     "name": "#%%\n"
    }
   },
   "outputs": [],
   "source": [
    "import numpy as np\n",
    "def grad_clipping(grads,alpha):\n",
    "    norm = math.sqrt(sum((grad ** 2).sum() for grad in grads))\n",
    "    if norm > alpha:\n",
    "        ratio = alpha / norm\n",
    "        for i in range(len(grads)):\n",
    "            grads[i]*=ratio \n",
    "            \n",
    "class LSTM_cell(object):\n",
    "    def __init__(self,input_dim,hidden_dim,output_dim,scale=0.01):\n",
    "        #super(LSTM_cell, self).__init__()\n",
    "        self.input_dim,self.hidden_dim,self.output_dim = input_dim,hidden_dim,output_dim\n",
    "        normal = lambda m,n : np.random.randn(m, n)*scale\n",
    "        two = lambda : (normal(input_dim+hidden_dim, hidden_dim),np.zeros((1,hidden_dim)))\n",
    "\n",
    "        Wi, bi = two()  # Input gate parameters\n",
    "        Wf, bf = two()  # Forget gate parameters\n",
    "        Wo, bo = two()  # Output gate parameters\n",
    "        Wc, bc = two()  # Candidate cell parameters\n",
    "\n",
    "        Wy = normal(hidden_dim, output_dim)\n",
    "        by = np.zeros((1,output_dim))\n",
    "\n",
    "        #params = [Wi, bi,Wf, bf, Wo,bo, Wc,bc,Wy,by]\n",
    "        #  return params\n",
    "        self.params = [Wi, bi,Wf, bf, Wo,bo, Wc,bc,Wy,by]\n",
    "        self.grads = [np.zeros_like(param) for param in self.params]\n",
    "        self.H,self,C = None,None\n",
    "      \n",
    "    def reset_state(selfmbatch_size):\n",
    "        self.H,self.C = (np.zeros((batch_size, self.hidden_dim)),\n",
    "            np.zeros((batch_size, self.hidden_dim)))\n",
    "\n",
    "    def forward(self,Xs):\n",
    "        [Wi, bi,Wf, bf, Wo,bo,Wc,bc,Wy,by] = self.params   \n",
    "\n",
    "        if not self.H or self.C:\n",
    "            reset_state(Xs[0].shape[0])        \n",
    "        H, C =  self.H,self.C\n",
    "        Hs = {}\n",
    "        Cs = {}\n",
    "        Zs = []\n",
    "\n",
    "        Hs[-1] = np.copy(H)\n",
    "        Cs[-1] = np.copy(C)\n",
    "\n",
    "        Is = []\n",
    "        Fs = []\n",
    "        Os = []\n",
    "        C_tildas = []\n",
    "\n",
    "        for t in range(len(Xs)): \n",
    "            X = Xs[t]\n",
    "            XH = np.column_stack((X, H))\n",
    "            #print(\"XH.shape\",XH.shape)\n",
    "            #print(\"Wi.shape\",Wi.shape)\n",
    "            #break\n",
    "            I = sigmoid(np.dot(XH, Wi)+bi)\n",
    "            F = sigmoid(np.dot(XH, Wf)+bf)\n",
    "            O = sigmoid(np.dot(XH, Wo)+bo)\n",
    "            C_tilda = np.tanh(np.dot(XH, Wc)+bc)\n",
    "\n",
    "            C = F * C + I * C_tilda\n",
    "            H = O*np.tanh(C)       #O * C.tanh()  #输出状态 \n",
    "\n",
    "            Y = np.dot(H, Wy) + by        # 输出\n",
    "\n",
    "            Zs.append(Y)\n",
    "            Hs[t] = H\n",
    "            Cs[t] = C\n",
    "\n",
    "            Is.append(I)\n",
    "            Fs.append(F)\n",
    "            Os.append(O)\n",
    "            C_tildas.append(C_tilda)\n",
    "        self.Zs,self.Hs,self.Cs,self.Is,self.Fs,self.Os,self.C_tildas =  Zs,Hs,Cs,Is,Fs,Os,C_tildas\n",
    "        self.Xs  =Xs\n",
    "        \n",
    "        #return Zs,Hs,Cs,(Is,Fs,Os,C_tildas)\n",
    "        return Zs,Hs\n",
    "\n",
    "    def backward(self): # Ys,loss_function):\n",
    "        [Wi, bi,Wf, bf, Wo,bo,Wc, bc,Wy,by] = self.params\n",
    "\n",
    "        self.Hs,self.Cs,self.Is,self.Fs,self.Os,self.C_tildas = Hs,Cs,Is,Fs,Os,C_tildas\n",
    "        Xs = self.Xs\n",
    "\n",
    "        dWi,dWf,dWo,dWc,dWy  = np.zeros_like(Wi), np.zeros_like(Wf), np.zeros_like(Wo), np.zeros_like(Wc), np.zeros_like(Wy)\n",
    "        dbi,dbf,dbo,dbc,dby = np.zeros_like(bi), np.zeros_like(bf),  np.zeros_like(bo), np.zeros_like(bc), np.zeros_like(by)\n",
    "\n",
    "        dH_next = np.zeros_like(Hs[0])\n",
    "        dC_next = np.zeros_like(Cs[0])\n",
    "\n",
    "        input_dim = Xs[0].shape[1]\n",
    "\n",
    "        h = Hs\n",
    "        x = Xs\n",
    "\n",
    "        T = len(Xs)  \n",
    "        for t in reversed(range(T)):     \n",
    "            I = Is[t]\n",
    "            F = Fs[t]\n",
    "            O = Os[t]\n",
    "            C_tilda = C_tildas[t]\n",
    "            H = Hs[t]\n",
    "            X = Xs[t]\n",
    "            C = Cs[t]\n",
    "            H_pre =  Hs[t-1]\n",
    "            C_prev = Cs[t-1]\n",
    "            XH_pre = np.column_stack((X, H_pre))\n",
    "            XH_ = XH_pre\n",
    "\n",
    "            dZ = dZs[t]  \n",
    "\n",
    "            #输出f的模型参数的idu\n",
    "            dWy += np.dot(H.T,dZ)      \n",
    "            dby += np.sum(dZ, axis=0, keepdims=True)   \n",
    "\n",
    "            #隐状态h的梯度\n",
    "            dH = np.dot(dZ, Wy.T) + dH_next       \n",
    "          #  dC = dH_next*O*dtanh(C) +dC_next    #* H = O*np.tanh(C) \n",
    "          #  dC = dH_next*O*(1-np.square(np.tanh(C))) +dC_next\n",
    "            dC = dH*O*dtanh(C) +dC_next \n",
    "\n",
    "            dO = np.tanh(C) *dH \n",
    "            dOZ = O * (1-O)*dO                      \n",
    "            dWo += np.dot(XH_.T,dOZ)\n",
    "            dbo += np.sum(dOZ, axis=0, keepdims=True)              \n",
    "\n",
    "             #di                         \n",
    "            di =  C_tilda*dC\n",
    "            diZ = I*(1-I) * di\n",
    "            dWi += np.dot(XH_.T,diZ)\n",
    "            dbi += np.sum(diZ, axis=0, keepdims=True)  \n",
    "\n",
    "            #df\n",
    "            df = C_prev*dC\n",
    "            dfZ = F*(1-F) * df\n",
    "            dWf += np.dot(XH_.T,dfZ)\n",
    "            dbf += np.sum(dfZ, axis=0, keepdims=True)          \n",
    "\n",
    "            # dC_bar       \n",
    "            dC_tilda = I*dC                         #C = F * C + I * C_tilda        \n",
    "            dC_tilda_Z =(1-np.square(C_tilda))*dC_tilda    # C_tilda = sigmoid(np.dot(XH, Wc)+bc)         \n",
    "            dWc += np.dot(XH_.T,dC_tilda_Z)       \n",
    "            dbc += np.sum(dC_tilda_Z, axis=0, keepdims=True)\n",
    "\n",
    "\n",
    "            dXH_ = (np.dot(dfZ, Wf.T)\n",
    "                 + np.dot(diZ, Wi.T)\n",
    "                 + np.dot(dC_tilda_Z, Wc.T)\n",
    "                 + np.dot(dOZ, Wo.T))\n",
    "\n",
    "            dX_prev = dXH_[:, :input_dim]\n",
    "            dH_prev = dXH_[:, input_dim:]\n",
    "            dC_prev = F * dC\n",
    "\n",
    "            dC_next = dC_prev\n",
    "            dH_next = dH_prev              \n",
    "\n",
    "\n",
    "        #for dparam in [dWi, dbi,dWf, dbf, dWo,dbo,dWc, dbc,dWy,dby]:\n",
    "        #    np.clip(dparam, -5, 5, out=dparam) # clip to mitigate exploding gradients\n",
    "        grads = [dWi, dbi,dWf, dbf, dWo,dbo,dWc, dbc,dWy,dby]\n",
    "        grad_clipping(grads,5.)\n",
    "        for i,_ in enumerate(self.grads):\n",
    "            self.grads[i]+=grads[i]  \n",
    "    \n",
    "        return [dWi, dbi,dWf, dbf, dWo,dbo,dWc, dbc,dWy,dby]\n",
    "    \n",
    "    def parameters(self):\n",
    "        params = []\n",
    "        for i,_ in enumerate(self.params):\n",
    "            params.append([self.params[i],self.grads[i]])\n",
    "        return params\n",
    "\n",
    "import util\n",
    "def rnn_loss_grad_n2n(Fs,Ys,loss_fn = util.loss_gradient_softmax_crossentropy,flatten = True):   #rnn_loss_grad_t): #\n",
    "    loss = 0\n",
    "    dFs = {}\n",
    "    #losses = []\n",
    "    #dFs = []\n",
    "   \n",
    "    for t in range(len(Fs)):\n",
    "        F = Fs[t]\n",
    "        Y = Ys[t]   \n",
    "        if flatten and Y.ndim>=2:\n",
    "            #print(\"ffffffffffff\")\n",
    "            Y = Y.flatten()\n",
    "        loss_t,dF_t = loss_fn(F,Y)\n",
    "        loss += loss_t        \n",
    "        dFs[t] = dF_t\n",
    "        #losses.append(loss_t)\n",
    "        #dFs.append(dF_t)\n",
    "    return loss,dFs"
   ]
  },
  {
   "cell_type": "markdown",
   "metadata": {
    "pycharm": {
     "name": "#%% md\n"
    }
   },
   "source": [
    "7.8.2 GRU的代码实现"
   ]
  },
  {
   "cell_type": "code",
   "execution_count": null,
   "metadata": {
    "pycharm": {
     "name": "#%%\n"
    }
   },
   "outputs": [],
   "source": [
    "import numpy as np\n",
    "\n",
    "def sigmoid(x):\n",
    "    return 1 / (1 + np.exp(-x))\n",
    "\n",
    "def gru_init_params(input_dim,hidden_dim,output_dim,scale=0.01):\n",
    "    normal = lambda m,n : np.random.randn(m, n)*scale\n",
    "    three = lambda : (normal(input_dim,hidden_dim), normal(hidden_dim,hidden_dim),np.zeros((1,hidden_dim)))\n",
    "    \n",
    "    Wxu, Whu, bu = three()  # Update gate parameter\n",
    "    Wxr, Whr, br = three()  # Reset gate parameter\n",
    "    Wxh, Whh, bh = three()  # Candidate hidden state parameter\n",
    "    \n",
    "    Wy = normal(hidden_dim, output_dim)\n",
    "    by = np.zeros((1,output_dim))\n",
    "    \n",
    "    params = [Wxu, Whu, bu, Wxr, Whr, br, Wxh, Whh, bh, Wy,by]\n",
    "    return params\n",
    "\n",
    "def gru_state_init(batch_size, hidden_size):\n",
    "    return np.zeros((batch_size, hidden_size))\n",
    "\n",
    "def gru_forward(params,Xs, H_0):\n",
    "    Wxu, Whu, bu, Wxr, Whr, br, Wxh, Whh, bh, Wy,by = params\n",
    "    H = H_0   \n",
    "    Hs = {}\n",
    "    Ys = []\n",
    "    Hs[-1] = np.copy(H)    \n",
    "    Rs = []\n",
    "    Us = [] \n",
    "    H_tildas = [] \n",
    "\n",
    "    for t in range(len(Xs)):\n",
    "        X = Xs[t]\n",
    "        U = sigmoid(np.dot(X, Wxu) + np.dot(H, Whu) + bu)\n",
    "        R = sigmoid(np.dot(X, Wxr) + np.dot(H, Whr) + br)\n",
    "        H_tilda = np.tanh(np.dot(X, Wxh) + np.dot(R * H, Whh) + bh)\n",
    "        H = U * H + (1 - U) * H_tilda\n",
    "        Y = np.dot(H, Wy) + by\n",
    "                \n",
    "        Hs[t] = H\n",
    "        Ys.append(Y)\n",
    "        Rs.append(R)\n",
    "        Us.append(U) \n",
    "        H_tildas.append(H_tilda) \n",
    "                \n",
    "    return Ys,Hs,(Rs,Us,H_tildas)\n",
    "                \n",
    "def gru_backward(params,Xs,Hs,dZs,cache): # Ys,loss_function):\n",
    "    Wxu, Whu, bu, Wxr, Whr, br, Wxh, Whh, bh, Wy,by = params\n",
    "    Rs,Us,H_tildas = cache\n",
    "    \n",
    "    dWxu,dWhu,dWxr,dWhr,dWxh,dWhh,dWy  = np.zeros_like(Wxu), np.zeros_like(Whu), np.zeros_like(Wxr), np.zeros_like(Whr)\\\n",
    "                , np.zeros_like(Wxh), np.zeros_like(Whh), np.zeros_like(Wy)\n",
    "    dbu,dbr,dbh,dby = np.zeros_like(bu), np.zeros_like(br),  np.zeros_like(bh), np.zeros_like(by)\n",
    "\n",
    "    dH_next = np.zeros_like(Hs[0])\n",
    "       \n",
    "    input_dim = Xs[0].shape[1]  \n",
    " \n",
    "    T = len(Xs)  \n",
    "    for t in reversed(range(T)):     \n",
    "        R = Rs[t]\n",
    "        U = Us[t]      \n",
    "        H = Hs[t]\n",
    "        X = Xs[t]\n",
    "        H_tilda = H_tildas[t]\n",
    "        H_pre =  Hs[t-1]\n",
    "       \n",
    "        dZ = dZs[t]\n",
    "         #输出f的模型参数的梯度\n",
    "        dWy += np.dot(H.T,dZ)      \n",
    "        dby += np.sum(dZ, axis=0, keepdims=True)   \n",
    "        \n",
    "        #隐状态h的梯度\n",
    "        dH = np.dot(dZ, Wy.T) + dH_next       \n",
    "   \n",
    "        #  H =  U H_pre+(1-U)H_tildas\n",
    "        dH_tilda = dH*(1-U)\n",
    "        dH_pre = dH*U\n",
    "        dU = H_pre*dH -H_tilda*dH\n",
    "\n",
    "        # H_tilda = tanh(X Wxh+(R*H_)Whh+bh)\n",
    "        dH_tildaZ = (1-np.square(H_tilda))*dH_tilda\n",
    "        dWxh+= np.dot(X.T,dH_tildaZ)\n",
    "        dWhh+= np.dot((R*H_pre).T,dH_tildaZ)\n",
    "        dbh += np.sum(dH_tildaZ, axis=0, keepdims=True)\n",
    "        \n",
    "        dR = np.dot(dH_tildaZ, Whh.T)*H_pre\n",
    "        dH_pre += np.dot(dH_tildaZ, Whh.T)*R\n",
    "                \n",
    "        # U = \\sigma(UZ)   R = \\sigma(RZ)                \n",
    "        dUZ = U*(1-U)*dU\n",
    "        dRZ = R*(1-R)*dR       \n",
    "       \n",
    "        dH_pre += np.dot(dUZ, Whu.T)\n",
    "        dH_pre += np.dot(dRZ, Whr.T)\n",
    "        \n",
    "        # R = \\sigma(X Wxr+H_ Whr + br)        \n",
    "        dWxr+= np.dot(X.T,dRZ)\n",
    "        dWhr+= np.dot(H_pre.T,dRZ)\n",
    "        dbr += np.sum(dRZ, axis=0, keepdims=True)\n",
    "        \n",
    "        dWxu+= np.dot(X.T,dUZ)\n",
    "        dWhu+= np.dot(H_pre.T,dUZ)\n",
    "        dbu += np.sum(dUZ, axis=0, keepdims=True)\n",
    "        \n",
    "        if True:\n",
    "            dX_RZ = np.dot(dRZ,Wxr.T)\n",
    "            dX_UZ = np.dot(dUZ,Wxu.T)\n",
    "            dX_H_tildaZ = np.dot(dH_tildaZ,Wxh.T)\n",
    "            dX = dX_RZ+dX_UZ+dX_H_tildaZ\n",
    "                \n",
    "        dH_next = dH_pre\n",
    "        \n",
    "    return [dWxu, dWhu, dbu, dWxr, dWhr, dbr, dWxh, dWhh, dbh, dWy,dby]"
   ]
  },
  {
   "cell_type": "markdown",
   "metadata": {
    "pycharm": {
     "name": "#%% md\n"
    }
   },
   "source": [
    "用下面的代码检查分析梯度和数值梯度是否一致："
   ]
  },
  {
   "cell_type": "code",
   "execution_count": null,
   "metadata": {
    "pycharm": {
     "name": "#%%\n"
    }
   },
   "outputs": [],
   "source": [
    "T  = 3\n",
    "input_dim, hidden_dim,output_dim = 4,3,4\n",
    "batch_size = 1        \n",
    "Xs = np.random.randn(T,batch_size,input_dim)\n",
    "Ys = np.random.randint(output_dim, size=(T,batch_size))\n",
    " \n",
    "\n",
    "print(\"Xs\",Xs)\n",
    "print(\"Ys\",Ys)        \n",
    "        \n",
    "# cheack gradient  \n",
    "params = gru_init_params(input_dim, hidden_dim,output_dim)\n",
    "HC = gru_state_init(batch_size,hidden_dim)\n",
    "\n",
    "Zs,Hs,cache = gru_forward(params,Xs,HC) \n",
    "loss_function = rnn_loss_grad\n",
    "loss,dZs = loss_function(Zs,Ys)  \n",
    "grads = gru_backward(params,Xs,Hs,dZs,cache)\n",
    "\n",
    "def rnn_loss():\n",
    "    HC = gru_state_init(batch_size,hidden_dim)    \n",
    "    Zs,Hs,cache= gru_forward(params,Xs,HC) \n",
    "    loss_function = rnn_loss_grad\n",
    "    loss,dZs = loss_function(Zs,Ys)     \n",
    "    return loss\n",
    "\n",
    "numerical_grads = util.numerical_gradient(rnn_loss,params,1e-6) #rnn_numerical_gradient(rnn_loss,params,1e-10)\n",
    "#diff_error = lambda x, y: np.max( np.abs(x - y)/(np.maximum(1e-8, np.abs(x) + np.abs(y))))\n",
    "diff_error = lambda x, y: np.max( np.abs(x - y))\n",
    "                                 \n",
    "def rel_error(x, y):\n",
    "  \"\"\" returns relative error \"\"\"\n",
    "  return np.max(np.abs(x - y) / (np.maximum(1e-8, np.abs(x) + np.abs(y))))\n",
    "\n",
    "print(\"loss\",loss)\n",
    "print(\"[Wi, bi,Wf, bf, Wo,bo,Wc, bc,Wy,by] \")\n",
    "for i in range(len(grads)):\n",
    "    print(diff_error(grads[i],numerical_grads[i]))\n",
    "\n",
    "print(\"grads\",grads[0])\n",
    "print(\"numerical_grads\",numerical_grads[0])"
   ]
  },
  {
   "cell_type": "markdown",
   "metadata": {
    "pycharm": {
     "name": "#%% md\n"
    }
   },
   "source": [
    "## 7.9 循环神经网络的类表示与实现\n",
    "\n",
    "### 7.9.1  用类实现循环神经网络\n",
    "\n",
    "用一个类LSTM来表示前面的LSTM相关的函数："
   ]
  },
  {
   "cell_type": "code",
   "execution_count": null,
   "metadata": {
    "pycharm": {
     "name": "#%%\n"
    }
   },
   "outputs": [],
   "source": [
    "import numpy as np\n",
    "\n",
    "def grad_clipping(grads,alpha):\n",
    "    norm = math.sqrt(sum((grad ** 2).sum() for grad in grads))\n",
    "    if norm > alpha:\n",
    "        ratio = alpha / norm\n",
    "        for i in range(len(grads)):\n",
    "            grads[i]*=ratio \n",
    "            \n",
    "class LSTM(object):\n",
    "    def __init__(self,input_dim,hidden_dim,output_dim,scale=0.01):\n",
    "        #super(LSTM_cell, self).__init__()\n",
    "        self.input_dim,self.hidden_dim,self.output_dim = input_dim,hidden_dim,output_dim\n",
    "        normal = lambda m,n : np.random.randn(m, n)*scale\n",
    "        two = lambda : (normal(input_dim+hidden_dim, hidden_dim),np.zeros((1,hidden_dim)))\n",
    "\n",
    "        Wi, bi = two()  # Input gate parameters\n",
    "        Wf, bf = two()  # Forget gate parameters\n",
    "        Wo, bo = two()  # Output gate parameters\n",
    "        Wc, bc = two()  # Candidate cell parameters\n",
    "\n",
    "        Wy = normal(hidden_dim, output_dim)\n",
    "        by = np.zeros((1,output_dim))\n",
    "\n",
    "        #params = [Wi, bi,Wf, bf, Wo,bo, Wc,bc,Wy,by]\n",
    "        #  return params\n",
    "        self.params = [Wi, bi,Wf, bf, Wo,bo, Wc,bc,Wy,by]\n",
    "        self.grads = [np.zeros_like(param) for param in self.params]\n",
    "        self.H,self.C = None,None\n",
    "      \n",
    "    def reset_state(self,batch_size):\n",
    "        self.H,self.C = (np.zeros((batch_size, self.hidden_dim)),\n",
    "            np.zeros((batch_size, self.hidden_dim)))\n",
    "\n",
    "    def forward(self,Xs):\n",
    "        [Wi, bi,Wf, bf, Wo,bo,Wc,bc,Wy,by] = self.params   \n",
    "\n",
    "        if self.H is None or self.C is None:\n",
    "            self.reset_state(Xs[0].shape[0])  \n",
    "            \n",
    "        H, C =  self.H,self.C\n",
    "        Hs = {}\n",
    "        Cs = {}\n",
    "        Zs = []\n",
    "\n",
    "        Hs[-1] = np.copy(H)\n",
    "        Cs[-1] = np.copy(C)\n",
    "\n",
    "        Is = []\n",
    "        Fs = []\n",
    "        Os = []\n",
    "        C_tildas = []\n",
    "\n",
    "        for t in range(len(Xs)): \n",
    "            X = Xs[t]\n",
    "            XH = np.column_stack((X, H))\n",
    "            \n",
    "            I = sigmoid(np.dot(XH, Wi)+bi)\n",
    "            F = sigmoid(np.dot(XH, Wf)+bf)\n",
    "            O = sigmoid(np.dot(XH, Wo)+bo)\n",
    "            C_tilda = np.tanh(np.dot(XH, Wc)+bc)\n",
    "\n",
    "            C = F * C + I * C_tilda\n",
    "            H = O*np.tanh(C)       #O * C.tanh()  #输出状态 \n",
    "\n",
    "            Y = np.dot(H, Wy) + by        # 输出\n",
    "\n",
    "            Zs.append(Y)\n",
    "            Hs[t] = H\n",
    "            Cs[t] = C\n",
    "\n",
    "            Is.append(I)\n",
    "            Fs.append(F)\n",
    "            Os.append(O)\n",
    "            C_tildas.append(C_tilda)\n",
    "        self.Zs,self.Hs,self.Cs,self.Is,self.Fs,self.Os,self.C_tildas =  Zs,Hs,Cs,Is,Fs,Os,C_tildas\n",
    "        self.Xs  =Xs\n",
    "        \n",
    "        #return Zs,Hs,Cs,(Is,Fs,Os,C_tildas)\n",
    "        return Zs,Hs\n",
    "\n",
    "    def backward(self,dZs): # Ys,loss_function):\n",
    "        [Wi, bi,Wf, bf, Wo,bo,Wc, bc,Wy,by] = self.params\n",
    "\n",
    "        Hs,Cs,Is,Fs,Os,C_tildas = self.Hs,self.Cs,self.Is,self.Fs,self.Os,self.C_tildas\n",
    "        Xs = self.Xs\n",
    "\n",
    "        dWi,dWf,dWo,dWc,dWy  = np.zeros_like(Wi), np.zeros_like(Wf), np.zeros_like(Wo), np.zeros_like(Wc), np.zeros_like(Wy)\n",
    "        dbi,dbf,dbo,dbc,dby = np.zeros_like(bi), np.zeros_like(bf),  np.zeros_like(bo), np.zeros_like(bc), np.zeros_like(by)\n",
    "\n",
    "        dH_next = np.zeros_like(Hs[0])\n",
    "        dC_next = np.zeros_like(Cs[0])\n",
    "\n",
    "        input_dim = Xs[0].shape[1]\n",
    "\n",
    "        h = Hs\n",
    "        x = Xs\n",
    "\n",
    "        T = len(Xs)  \n",
    "        for t in reversed(range(T)):     \n",
    "            I = Is[t]\n",
    "            F = Fs[t]\n",
    "            O = Os[t]\n",
    "            C_tilda = C_tildas[t]\n",
    "            H = Hs[t]\n",
    "            X = Xs[t]\n",
    "            C = Cs[t]\n",
    "            H_pre =  Hs[t-1]\n",
    "            C_prev = Cs[t-1]\n",
    "            XH_pre = np.column_stack((X, H_pre))\n",
    "            XH_ = XH_pre\n",
    "\n",
    "            dZ = dZs[t]  \n",
    "\n",
    "            #输出f的模型参数的idu\n",
    "            dWy += np.dot(H.T,dZ)      \n",
    "            dby += np.sum(dZ, axis=0, keepdims=True)   \n",
    "\n",
    "            #隐状态h的梯度\n",
    "            dH = np.dot(dZ, Wy.T) + dH_next       \n",
    "          #  dC = dH_next*O*dtanh(C) +dC_next    #* H = O*np.tanh(C) \n",
    "          #  dC = dH_next*O*(1-np.square(np.tanh(C))) +dC_next\n",
    "            dC = dH*O*dtanh(C) +dC_next \n",
    "\n",
    "            dO = np.tanh(C) *dH \n",
    "            dOZ = O * (1-O)*dO                      \n",
    "            dWo += np.dot(XH_.T,dOZ)\n",
    "            dbo += np.sum(dOZ, axis=0, keepdims=True)              \n",
    "\n",
    "             #di                         \n",
    "            di =  C_tilda*dC\n",
    "            diZ = I*(1-I) * di\n",
    "            dWi += np.dot(XH_.T,diZ)\n",
    "            dbi += np.sum(diZ, axis=0, keepdims=True)  \n",
    "\n",
    "            #df\n",
    "            df = C_prev*dC\n",
    "            dfZ = F*(1-F) * df\n",
    "            dWf += np.dot(XH_.T,dfZ)\n",
    "            dbf += np.sum(dfZ, axis=0, keepdims=True)          \n",
    "\n",
    "            # dC_bar       \n",
    "            dC_tilda = I*dC                         #C = F * C + I * C_tilda        \n",
    "            dC_tilda_Z =(1-np.square(C_tilda))*dC_tilda    # C_tilda = sigmoid(np.dot(XH, Wc)+bc)         \n",
    "            dWc += np.dot(XH_.T,dC_tilda_Z)       \n",
    "            dbc += np.sum(dC_tilda_Z, axis=0, keepdims=True)\n",
    "\n",
    "\n",
    "            dXH_ = (np.dot(dfZ, Wf.T)\n",
    "                 + np.dot(diZ, Wi.T)\n",
    "                 + np.dot(dC_tilda_Z, Wc.T)\n",
    "                 + np.dot(dOZ, Wo.T))\n",
    "\n",
    "            dX_prev = dXH_[:, :input_dim]\n",
    "            dH_prev = dXH_[:, input_dim:]\n",
    "            dC_prev = F * dC\n",
    "\n",
    "            dC_next = dC_prev\n",
    "            dH_next = dH_prev              \n",
    "\n",
    "\n",
    "        #for dparam in [dWi, dbi,dWf, dbf, dWo,dbo,dWc, dbc,dWy,dby]:\n",
    "        #    np.clip(dparam, -5, 5, out=dparam) # clip to mitigate exploding gradients\n",
    "        grads = [dWi, dbi,dWf, dbf, dWo,dbo,dWc, dbc,dWy,dby]\n",
    "        grad_clipping(grads,5.)\n",
    "        for i,_ in enumerate(self.grads):\n",
    "            self.grads[i]+=grads[i]  \n",
    "    \n",
    "        return [dWi, dbi,dWf, dbf, dWo,dbo,dWc, dbc,dWy,dby]\n",
    "    \n",
    "    def parameters(self):\n",
    "        return self.params"
   ]
  },
  {
   "cell_type": "code",
   "execution_count": null,
   "metadata": {
    "pycharm": {
     "name": "#%%\n"
    }
   },
   "outputs": [],
   "source": [
    "T  = 3\n",
    "input_dim, hidden_dim,output_dim = 4,3,4\n",
    "batch_size = 2        \n",
    "Xs = np.random.randn(T,batch_size,input_dim)\n",
    "Ys = np.random.randint(output_dim, size=(T,batch_size))\n",
    " \n",
    "print(\"Xs\",Xs)\n",
    "print(\"Ys\",Ys)   \n",
    "\n",
    "lstm = LSTM(input_dim, hidden_dim,output_dim)\n",
    "Zs,Hs = lstm.forward(Xs) \n",
    "\n",
    "loss_function = rnn_loss_grad\n",
    "loss,dZs = loss_function(Zs,Ys)  \n",
    "grads = lstm.backward(dZs)\n",
    "\n",
    "def rnn_loss():\n",
    "    lstm.reset_state(batch_size)    \n",
    "    Zs,Hs = lstm.forward(Xs) \n",
    "    loss_function = rnn_loss_grad\n",
    "    loss,dZs = loss_function(Zs,Ys)     \n",
    "    return loss\n",
    "\n",
    "params = lstm.parameters()\n",
    "numerical_grads = util.numerical_gradient(rnn_loss,params,1e-6) #rnn_numerical_gradient(rnn_loss,params,1e-10)\n",
    "#diff_error = lambda x, y: np.max( np.abs(x - y)/(np.maximum(1e-8, np.abs(x) + np.abs(y))))\n",
    "diff_error = lambda x, y: np.max( np.abs(x - y))\n",
    "\n",
    "print(\"loss\",loss)\n",
    "print(\"[Wi, bi,Wf, bf, Wo,bo,Wc, bc,Wy,by] \")\n",
    "for i in range(len(grads)):\n",
    "    print(diff_error(grads[i],numerical_grads[i]))\n",
    "\n",
    "print(\"grads\",grads[0])\n",
    "print(\"numerical_grads\",numerical_grads[0])"
   ]
  },
  {
   "cell_type": "markdown",
   "metadata": {
    "pycharm": {
     "name": "#%% md\n"
    }
   },
   "source": [
    "下面的GRU实现了一个GRU结构的循环神经网络："
   ]
  },
  {
   "cell_type": "code",
   "execution_count": null,
   "metadata": {
    "pycharm": {
     "name": "#%%\n"
    }
   },
   "outputs": [],
   "source": [
    "class GRU(object):\n",
    "    def __init__(self, input_dim,hidden_dim,output_dim,scale=0.01): \n",
    "        super(GRU, self).__init__()\n",
    "        self.input_dim,self.hidden_dim,self.output_dim,self.scale = input_dim,hidden_dim,output_dim,scale\n",
    "        \n",
    "        normal = lambda m,n : np.random.randn(m, n)*scale\n",
    "        three = lambda : (normal(input_dim,hidden_dim), normal(hidden_dim,hidden_dim),np.zeros((1,hidden_dim)))\n",
    "\n",
    "        Wxu, Whu, bu = three()  # Update gate parameter\n",
    "        Wxr, Whr, br = three()  # Reset gate parameter\n",
    "        Wxh, Whh, bh = three()  # Candidate hidden state parameter\n",
    "\n",
    "        Wy = normal(hidden_dim, output_dim)\n",
    "        by = np.zeros((1,output_dim))\n",
    "\n",
    "        self.Wxu, self.Whu, self.bu, self.Wxr, self.Whr, self.br, self.Wxh, self.Whh, self.bh, self.Wy,self.by = Wxu, Whu, bu, Wxr, Whr, br, Wxh, Whh, bh, Wy,by\n",
    "        \n",
    "        self.params = [Wxu, Whu, bu, Wxr, Whr, br, Wxh, Whh, bh, Wy,by]\n",
    "            # [dWxu, dWhu, dbu, dWxr, dWhr, dbr, dWxh, dWhh, dbh, dWy,dby]\n",
    "        self.grads = [np.zeros_like(param) for param in self.params]\n",
    "        \n",
    "        self.H = None\n",
    "        #params = [Wxu, Whu, bu, Wxr, Whr, br, Wxh, Whh, bh, Wy,by] \n",
    "        #return params   \n",
    "\n",
    "    def reset_state(self,batch_size):\n",
    "        self.H = np.zeros((batch_size, self.hidden_dim))       \n",
    "\n",
    "    def forward_step(self,X):\n",
    "        Wxu, Whu, bu, Wxr, Whr, br, Wxh, Whh, bh, Wy,by = self.params            \n",
    "        H = self.H # previous state\n",
    "        X = Xs[t]\n",
    "        U = sigmoid(np.dot(X, Wxu) + np.dot(H, Whu) + bu)\n",
    "        R = sigmoid(np.dot(X, Wxr) + np.dot(H, Whr) + br)\n",
    "        H_tilda = np.tanh(np.dot(X, Wxh) + np.dot(R * H, Whh) + bh)\n",
    "        H = U * H + (1 - U) * H_tilda\n",
    "        Y = np.dot(H, Wy) + by\n",
    "\n",
    "        \n",
    "        Hs[t] = H\n",
    "        Ys.append(Y)\n",
    "        Rs.append(R)\n",
    "        Us.append(U) \n",
    "        H_tildas.append(H_tilda)\n",
    "\n",
    "    def forward(self,Xs):\n",
    "        Wxu, Whu, bu, Wxr, Whr, br, Wxh, Whh, bh, Wy,by = self.params\n",
    "        if self.H is None:\n",
    "            self.reset_state(Xs[0].shape[0])  \n",
    "        H = self.H   \n",
    "        Hs = {}\n",
    "        Ys = []\n",
    "        Hs[-1] = np.copy(H)    \n",
    "        Rs = []\n",
    "        Us = [] \n",
    "        H_tildas = [] \n",
    "\n",
    "        for t in range(len(Xs)):\n",
    "            X = Xs[t]\n",
    "            U = sigmoid(np.dot(X, Wxu) + np.dot(H, Whu) + bu)\n",
    "            R = sigmoid(np.dot(X, Wxr) + np.dot(H, Whr) + br)\n",
    "            H_tilda = np.tanh(np.dot(X, Wxh) + np.dot(R * H, Whh) + bh)\n",
    "            H = U * H + (1 - U) * H_tilda\n",
    "            Y = np.dot(H, Wy) + by\n",
    "\n",
    "            Hs[t] = H\n",
    "            Ys.append(Y)\n",
    "            Rs.append(R)\n",
    "            Us.append(U) \n",
    "            H_tildas.append(H_tilda)\n",
    "        \n",
    "        self.Ys,self.Hs,self.Rs,self.Us,self.H_tildas = Ys,Hs,Rs,Us,H_tildas\n",
    "        return Ys,Hs\n",
    "        #return Ys,Hs,(Rs,Us,H_tildas)\n",
    "\n",
    "    def backward(self,dZs): # Ys,loss_function):\n",
    "        Wxu, Whu, bu, Wxr, Whr, br, Wxh, Whh, bh, Wy,by = self.params\n",
    "        Ys,Hs,Rs,Us,H_tildas = self.Ys,self.Hs,self.Rs,self.Us,self.H_tildas\n",
    "        \n",
    "\n",
    "        dWxu,dWhu,dWxr,dWhr,dWxh,dWhh,dWy  = np.zeros_like(Wxu), np.zeros_like(Whu), np.zeros_like(Wxr), np.zeros_like(Whr)\\\n",
    "                    , np.zeros_like(Wxh), np.zeros_like(Whh), np.zeros_like(Wy)        \n",
    "        dbu,dbr,dbh,dby = np.zeros_like(bu), np.zeros_like(br),  np.zeros_like(bh), np.zeros_like(by)\n",
    "\n",
    "        dH_next = np.zeros_like(Hs[0])\n",
    "\n",
    "        input_dim = Xs[0].shape[1]  \n",
    "\n",
    "        T = len(Xs)  \n",
    "        for t in reversed(range(T)):     \n",
    "            R = Rs[t]\n",
    "            U = Us[t]      \n",
    "            H = Hs[t]\n",
    "            X = Xs[t]\n",
    "            H_tilda = H_tildas[t]\n",
    "            H_pre =  Hs[t-1]\n",
    "\n",
    "            dZ = dZs[t]\n",
    "             #输出f的模型参数的idu\n",
    "            dWy += np.dot(H.T,dZ)      \n",
    "            dby += np.sum(dZ, axis=0, keepdims=True)   \n",
    "\n",
    "            #隐状态h的梯度\n",
    "            dH = np.dot(dZ, Wy.T) + dH_next       \n",
    "\n",
    "            #  H =  U H_pre+(1-U)H_tildas\n",
    "            dH_tilda = dH*(1-U)\n",
    "            dH_pre = dH*U\n",
    "            dU = H_pre*dH -H_tilda*dH\n",
    "\n",
    "            # H_tilda = tanh(X Wxh+(R*H_)Whh+bh)\n",
    "            dH_tildaZ = (1-np.square(H_tilda))*dH_tilda\n",
    "            dWxh+= np.dot(X.T,dH_tildaZ)\n",
    "            dWhh+= np.dot((R*H_pre).T,dH_tildaZ)\n",
    "            dbh += np.sum(dH_tildaZ, axis=0, keepdims=True)\n",
    "\n",
    "            dR = np.dot(dH_tildaZ, Whh.T)*H_pre\n",
    "            dH_pre += np.dot(dH_tildaZ, Whh.T)*R\n",
    "\n",
    "            # U = \\sigma(UZ)   R = \\sigma(RZ)                \n",
    "            dUZ = U*(1-U)*dU\n",
    "            dRZ = R*(1-R)*dR       \n",
    "\n",
    "            dH_pre += np.dot(dUZ, Whu.T)\n",
    "            dH_pre += np.dot(dRZ, Whr.T)\n",
    "\n",
    "            # R = \\sigma(X Wxr+H_ Whr + br)        \n",
    "            dWxr+= np.dot(X.T,dRZ)\n",
    "            dWhr+= np.dot(H_pre.T,dRZ)\n",
    "            dbr += np.sum(dRZ, axis=0, keepdims=True)\n",
    "\n",
    "            dWxu+= np.dot(X.T,dUZ)\n",
    "            dWhu+= np.dot(H_pre.T,dUZ)\n",
    "            dbu += np.sum(dUZ, axis=0, keepdims=True)\n",
    "\n",
    "            if True:\n",
    "                dX_RZ = np.dot(dRZ,Wxr.T)\n",
    "                dX_UZ = np.dot(dUZ,Wxu.T)\n",
    "                dX_H_tildaZ = np.dot(dH_tildaZ,Wxh.T)\n",
    "                dX = dX_RZ+dX_UZ+dX_H_tildaZ\n",
    "            \n",
    "            dH_next = dH_pre\n",
    "        \n",
    "        grads = [dWxu, dWhu, dbu, dWxr, dWhr, dbr, dWxh, dWhh, dbh, dWy,dby]\n",
    "        for i,_ in enumerate(self.grads):\n",
    "            self.grads[i]+=grads[i]\n",
    "         \n",
    "        return self.grads\n",
    "        #return [dWxu, dWhu, dbu, dWxr, dWhr, dbr, dWxh, dWhh, dbh, dWy,dby]\n",
    "    \n",
    "\n",
    "    def get_states(self):\n",
    "        return self.Hs  \n",
    "\n",
    "    def get_outputs(self):\n",
    "        return self.Ys\n",
    "    \n",
    "    def parameters(self):\n",
    "        return self.params"
   ]
  },
  {
   "cell_type": "code",
   "execution_count": null,
   "metadata": {
    "pycharm": {
     "name": "#%%\n"
    }
   },
   "outputs": [],
   "source": [
    "T  = 3\n",
    "input_dim, hidden_dim,output_dim = 4,3,4\n",
    "batch_size = 2        \n",
    "Xs = np.random.randn(T,batch_size,input_dim)\n",
    "Ys = np.random.randint(output_dim, size=(T,batch_size))\n",
    " \n",
    "print(\"Xs\",Xs)\n",
    "print(\"Ys\",Ys)   \n",
    "\n",
    "gru = GRU(input_dim, hidden_dim,output_dim)\n",
    "Zs,Hs = gru.forward(Xs) \n",
    "\n",
    "loss_function = rnn_loss_grad\n",
    "loss,dZs = loss_function(Zs,Ys)  \n",
    "grads = gru.backward(dZs)\n",
    "\n",
    "def rnn_loss():\n",
    "    lstm.reset_state(batch_size)    \n",
    "    Zs,Hs = gru.forward(Xs) \n",
    "    loss_function = rnn_loss_grad\n",
    "    loss,dZs = loss_function(Zs,Ys)     \n",
    "    return loss\n",
    "\n",
    "params = gru.parameters()\n",
    "numerical_grads = util.numerical_gradient(rnn_loss,params,1e-6) #rnn_numerical_gradient(rnn_loss,params,1e-10)\n",
    "#diff_error = lambda x, y: np.max( np.abs(x - y)/(np.maximum(1e-8, np.abs(x) + np.abs(y))))\n",
    "diff_error = lambda x, y: np.max( np.abs(x - y))\n",
    "\n",
    "print(\"loss\",loss)\n",
    "print(\"[Wxu, Whu, bu, Wxr, Whr, br, Wxh, Whh, bh, Wy,by] \")\n",
    "for i in range(len(grads)):  \n",
    "    print(diff_error(grads[i],numerical_grads[i]))\n",
    "\n",
    "print(\"grads\",grads[0])\n",
    "print(\"numerical_grads\",numerical_grads[0])"
   ]
  },
  {
   "cell_type": "markdown",
   "metadata": {
    "pycharm": {
     "name": "#%% md\n"
    }
   },
   "source": [
    "### 7.9.2 循环神经网络单元的类实现\n",
    "\n",
    "循环神经网络的最基本计算是神经网络单元的在某个时刻的正向和反向计算，在某个时刻，神经网络单元接受数据输入$x$和上一个时间步的状态输入$h$，对于简单RNN和GRU，输出的是当前时间步的状态$h'$，对于LSTM输出的当前记忆存储$c'$和传入下一时间步的$h'$。例如，对简单的RNN，其正向计算公式是：\n",
    "\n",
    "$$h' = \\tanh(W_{ih} x + b_{ih}  +  W_{hh} h + b_{hh}) \\tag{7-39}$$\n",
    "\n",
    "这里将原来的偏置$b_h$拆成了2项：$b_{ih},b_{hh}$。分别表示数据输入加权和的偏置和隐状态加权和的偏置。同样的，对于LSTM，也可以将原来的每个加权和的一个偏置拆成2个偏置，即LSTM的计算公式：\n",
    "\n",
    "$$\\begin{array}{ll}\n",
    "        i = \\sigma(W_{ii} x + b_{ii} + W_{hi} h + b_{hi}) \\\\\n",
    "        f = \\sigma(W_{if} x + b_{if} + W_{hf} h + b_{hf}) \\\\\n",
    "        g = \\tanh(W_{ig} x + b_{ig} + W_{hg} h + b_{hg}) \\\\\n",
    "        o = \\sigma(W_{io} x + b_{io} + W_{ho} h + b_{ho}) \\\\\n",
    "        c' = f * c + i * g \\\\\n",
    "        h' = o * \\tanh(c') \\\\\n",
    "        \\end{array} \\tag{7-40} $$\n",
    "\n",
    "类似的，GRU神经网络单元的计算公式为：\n",
    "\n",
    "$$\\begin{array}{ll}\n",
    "        r = \\sigma(W_{ir} x + b_{ir} + W_{hr} h + b_{hr}) \\\\\n",
    "        z = \\sigma(W_{iz} x + b_{iz} + W_{hz} h + b_{hz}) \\\\\n",
    "        n = \\tanh(W_{in} x + b_{in} + r * (W_{hn} h + b_{hn})) \\\\\n",
    "        h' = (1 - z) * n + z * h\n",
    "        \\end{array} \\tag{7-41} $$\n",
    "可以用一个公共的基类表示这3个不同神经网络单元的公共属性："
   ]
  },
  {
   "cell_type": "code",
   "execution_count": null,
   "metadata": {
    "pycharm": {
     "name": "#%%\n"
    }
   },
   "outputs": [],
   "source": [
    "import numpy as np\n",
    "import math \n",
    "class RNNCellBase(object):\n",
    "    __constants__ = ['input_size', 'hidden_size']\n",
    "    def __init__(self, input_size, hidden_size,bias, num_chunks):\n",
    "        super(RNNCellBase, self).__init__()        \n",
    "        self.input_size, self.hidden_size = input_size, hidden_size\n",
    "        self.bias = bias\n",
    "        self.W_ih= np.empty((input_size, num_chunks*hidden_size))   # input to hidden\n",
    "        self.W_hh = np.empty((hidden_size, num_chunks*hidden_size))  # hidden to hidden\n",
    "        if bias:\n",
    "            self.b_ih = np.zeros((1,num_chunks*hidden_size))\n",
    "            self.b_hh = np.zeros((1,num_chunks*hidden_size))\n",
    "            self.params = [self.W_ih,self.W_hh,self.b_ih,self.b_hh]\n",
    "        else:\n",
    "            self.b_ih = None\n",
    "            self.b_hh = None\n",
    "            self.params = [self.W_ih,self.W_hh]      \n",
    "        \n",
    "        self.grads = [np.zeros_like(param)for param in self.params]\n",
    "        self.param_grads = self.params.copy()\n",
    "        self.param_grads.extend(self.grads)\n",
    "        \n",
    "        self.reset_parameters()\n",
    "      \n",
    "    def parameters(self,no_grad = True):\n",
    "        if no_grad:   return self.params;  \n",
    "        return self.param_grads;            \n",
    "            \n",
    "    def reset_parameters(self):\n",
    "        stdv = 1.0 / math.sqrt(self.hidden_size)\n",
    "        for param in self.params:\n",
    "            w = param\n",
    "            w[:] = np.random.uniform(-stdv, stdv,(w.shape))\n",
    "            \n",
    "    def check_forward_input(self, input):\n",
    "        if input.shape[1] != self.input_size:\n",
    "            raise RuntimeError(\n",
    "                \"input has inconsistent input_size: got {}, expected {}\".format(\n",
    "                    input.shape[1], self.input_size))\n",
    "\n",
    "    def check_forward_hidden(self, input, h, hidden_label=''):      \n",
    "        if input.shape[0] != h.shape[0]:\n",
    "            raise RuntimeError(\n",
    "                \"Input batch size {} doesn't match hidden{} batch size {}\".format(\n",
    "                    input.shape[0], hidden_label, h.shape[0]))\n",
    "\n",
    "        if h.shape[1] != self.hidden_size:\n",
    "            raise RuntimeError(\n",
    "                \"hidden{} has inconsistent hidden_size: got {}, expected {}\".format(\n",
    "                    hidden_label, h.shape[1], self.hidden_size)) "
   ]
  },
  {
   "cell_type": "markdown",
   "metadata": {
    "pycharm": {
     "name": "#%% md\n"
    }
   },
   "source": [
    "定义了表示简单RNN单元的类RNNCell:"
   ]
  },
  {
   "cell_type": "code",
   "execution_count": null,
   "metadata": {
    "pycharm": {
     "name": "#%%\n"
    }
   },
   "outputs": [],
   "source": [
    "def relu(x):\n",
    "    return x * (x > 0)\n",
    "\n",
    "def rnn_tanh_cell(x, h,W_ih, W_hh,b_ih, b_hh):\n",
    "    #h' = \\tanh(W_{ih} x + b_{ih}  +  W_{hh} h + b_{hh})\n",
    "    if b_ih is None:        \n",
    "        return np.tanh(np.dot(x,W_ih) +  np.dot(h,W_hh))\n",
    "    else:\n",
    "        return np.tanh(np.dot(x,W_ih) + b_ih  +  np.dot(h,W_hh) + b_hh)   \n",
    "    \n",
    "def rnn_relu_cell(x, h,W_ih,W_hh,b_ih, b_hh):\n",
    "    #h' = \\relu(W_{ih} x + b_{ih}  +  W_{hh} h + b_{hh})\n",
    "    if b_ih is None:\n",
    "        return relu(np.dot(x,W_ih) +  np.dot(h,W_hh) )\n",
    "    else:\n",
    "        return relu(np.dot(x,W_ih) + b_ih  +  np.dot(h,W_hh) + b_hh)       \n",
    "    \n",
    "class RNNCell(RNNCellBase):\n",
    "    \"\"\"        h' = \\tanh(W_{ih} x + b_{ih}  +  W_{hh} h + b_{hh})\"\"\"    \n",
    "    __constants__ = ['input_size', 'hidden_size',  'nonlinearity']\n",
    "\n",
    "    def __init__(self, input_size, hidden_size,bias=True, nonlinearity=\"tanh\"):\n",
    "        super(RNNCell, self).__init__(input_size, hidden_size,bias,num_chunks=1)\n",
    "        self.nonlinearity = nonlinearity\n",
    "        \n",
    "    def forward(self, input, h=None): \n",
    "        self.check_forward_input(input)\n",
    "        if h is None:\n",
    "            h = np.zeros(input.shape[0], self.hidden_size, dtype=input.dtype)\n",
    "        self.check_forward_hidden(input, h, '')\n",
    "        if self.nonlinearity == \"tanh\":\n",
    "            ret = rnn_tanh_cell( input, h,\n",
    "                self.W_ih, self.W_hh,\n",
    "                self.b_ih, self.b_hh,)\n",
    "        elif self.nonlinearity == \"relu\":\n",
    "            ret = rnn_relu_cell( input, h,\n",
    "                self.W_ih, self.W_hh,\n",
    "                self.b_ih, self.b_hh,)\n",
    "        else:\n",
    "            ret = input  \n",
    "            raise RuntimeError(\n",
    "                \"Unknown nonlinearity: {}\".format(self.nonlinearity))\n",
    "        return ret\n",
    "    def __call__(self, input, h=None): \n",
    "        return self.forward(input,h)\n",
    "    \n",
    "    def backward(self,dh,H,X,H_pre):\n",
    "        if self.nonlinearity == \"tanh\":\n",
    "            dZh = (1 - H * H) * dh # backprop through tanh nonlinearity\n",
    "        else:\n",
    "            dZh = H*(1-H)* dh        \n",
    "        db_hh = np.sum(dZh, axis=0, keepdims=True) \n",
    "        db_ih = np.sum(dZh, axis=0, keepdims=True) \n",
    "        dW_ih = np.dot(X.T,dZh)\n",
    "        dW_hh = np.dot(H_pre.T,dZh)\n",
    "        dh_pre = np.dot(dZh,self.W_hh.T)\n",
    "        dx =  np.dot(dZh,self.W_ih.T)\n",
    "        grads = (dW_ih,dW_hh,db_ih,db_hh)\n",
    "        for a, b in zip(self.grads,grads):\n",
    "            a+=b        \n",
    "        return dx,dh_pre,grads"
   ]
  },
  {
   "cell_type": "markdown",
   "metadata": {
    "pycharm": {
     "name": "#%% md\n"
    }
   },
   "source": [
    "下面代码示范了RNNCell的一个时间步的正向和反向计算，其中x是批大小为3的输入数据，而h是对应批大小为3的状态："
   ]
  },
  {
   "cell_type": "code",
   "execution_count": 58,
   "metadata": {
    "pycharm": {
     "name": "#%%\n"
    }
   },
   "outputs": [
    {
     "name": "stdout",
     "output_type": "stream",
     "text": [
      "h_: [[ 0.42816071 -0.93391142 -0.09318246  0.36981243  0.58315586  0.58441657\n",
      "  -0.64776787 -0.24944403 -0.13190592  0.31128476  0.55425403 -0.1986646\n",
      "   0.52432852 -0.60473608  0.43623263 -0.48959648 -0.71410221  0.70237457\n",
      "  -0.73622656  0.01598786]\n",
      " [ 0.72310225 -0.5286474   0.26030019 -0.013299    0.40588113  0.44826108\n",
      "   0.54452866 -0.52664533  0.03804185 -0.54873226  0.36711887 -0.05333279\n",
      "   0.60378345 -0.7142368  -0.42034846 -0.70053035 -0.71392327 -0.37169453\n",
      "  -0.07726286  0.45857011]\n",
      " [ 0.82057664 -0.75346798  0.09852887  0.0913517  -0.14855558  0.22773312\n",
      "  -0.07206941 -0.11684849 -0.63141815  0.77970711 -0.28520141  0.52957509\n",
      "  -0.38418741 -0.10004893 -0.31241743  0.25673323 -0.28579384  0.7648889\n",
      "  -0.61030835 -0.43727677]]\n",
      "dh: [[-0.24924055 -0.60182045 -0.46673386  0.27244745 -0.71112983 -0.1528452\n",
      "   0.02957395 -0.14058541 -0.55421028 -0.53787714 -0.26997871 -0.3888154\n",
      "  -0.27366057  0.73394301  0.76371757 -0.32362572 -0.72360284  0.0827917\n",
      "  -0.10417667 -0.06167717]\n",
      " [-0.01478511  0.11647635  0.65959522  0.03227447  0.56160275  0.42892556\n",
      "  -0.02010594  0.61050929 -0.04549744 -0.05391427  0.51613862  0.04445541\n",
      "  -0.05494767  0.35450059 -1.03299634 -0.07851641  0.85444196 -0.0639933\n",
      "  -0.13658307  0.01579437]\n",
      " [-0.35543278  0.36188807 -0.76171418  0.29340666  0.22050786  0.05230421\n",
      "  -0.04009951  0.05390205  0.33079738 -0.3180523  -0.6626584  -0.02439556\n",
      "  -0.24605205  0.03644055  0.40583728 -0.29546359 -0.51967787 -0.34771026\n",
      "   0.39365535 -0.22932589]]\n"
     ]
    }
   ],
   "source": [
    "import numpy as np\n",
    "np.random.seed(1)\n",
    "x = np.random.randn(3, 10)  #(batch_size,input_dim)\n",
    "h = np.random.randn(3, 20)  #(batch_size,hidden_dim)\n",
    "rnn = RNNCell(10, 20)       #(input_dim,hidden_dim)\n",
    "\n",
    "h_ = rnn(x, h)\n",
    "print(\"h_:\",h_)\n",
    "dh_ = np.random.randn(*h.shape)\n",
    "dx,dh,_ = rnn.backward(dh_,h_,x,h)\n",
    "print(\"dh:\",dh)"
   ]
  },
  {
   "cell_type": "markdown",
   "metadata": {
    "pycharm": {
     "name": "#%% md\n"
    }
   },
   "source": [
    "下面代码用序列数据x，演示了步长为6的RNNCell的计算过程："
   ]
  },
  {
   "cell_type": "code",
   "execution_count": 59,
   "metadata": {
    "pycharm": {
     "name": "#%%\n"
    }
   },
   "outputs": [
    {
     "name": "stdout",
     "output_type": "stream",
     "text": [
      "h: [[ 0.02591013  0.55596904  0.88776786 -0.30259903 -0.52486047  0.52424018\n",
      "  -0.27195195 -0.39829933  0.26264842 -0.41462555  0.85312201 -0.07127092\n",
      "   0.5249446   0.56521169 -0.96605763 -0.56399649 -0.42170925  0.51792634\n",
      "  -0.48083172  0.8081585 ]\n",
      " [-0.41431091 -0.19629144  0.07812999  0.60036895 -0.66809188  0.01850902\n",
      "  -0.13318301  0.05429666 -0.52273399  0.0511763   0.6836469  -0.49816267\n",
      "  -0.65907586  0.06392608 -0.21453917  0.64064104 -0.71027156 -0.65742462\n",
      "   0.85250721  0.7947783 ]\n",
      " [ 0.0963808  -0.0801268  -0.29529377 -0.15654982 -0.26685841  0.42867349\n",
      "   0.10294473 -0.33910771  0.08601856 -0.208398    0.12351004 -0.21096505\n",
      "  -0.03701162  0.24458415  0.02940568  0.07932559 -0.18343557  0.32865606\n",
      "   0.60922849  0.71300271]]\n",
      "dh: [[-0.00019024  0.0064997   0.00700269  0.00023613 -0.00990561 -0.00226841\n",
      "   0.0012073   0.00569657 -0.00382987  0.00562598 -0.00281138 -0.00601363\n",
      "  -0.00523546 -0.00048767  0.00336776  0.0004302   0.00309408 -0.00344074\n",
      "  -0.00433494  0.00014678]\n",
      " [ 0.02580657  0.04296269  0.00574297 -0.01487176 -0.01743256  0.03280786\n",
      "  -0.01896186 -0.01698244  0.0395379   0.01565118 -0.0044575   0.01083449\n",
      "  -0.00330879  0.05841741  0.00425834  0.02722163 -0.01025379  0.02958938\n",
      "   0.03793763 -0.01245477]\n",
      " [ 0.02612048  0.02278542 -0.00309881 -0.03783893 -0.01705496  0.02166877\n",
      "  -0.00804965  0.00863808 -0.00988581  0.02456897 -0.00800725 -0.00319803\n",
      "  -0.01548033 -0.00579467 -0.00242898  0.00414448  0.0034383   0.00126782\n",
      "   0.00624222 -0.0068162 ]]\n"
     ]
    }
   ],
   "source": [
    "import numpy as np\n",
    "x = np.random.randn(6, 3, 10)\n",
    "h = np.random.randn(3, 20)\n",
    "rnn = RNNCell(10, 20)\n",
    "\n",
    "h_0 = h.copy()\n",
    "hs = []\n",
    "for i in range(6):\n",
    "    h = rnn(x[i], h)\n",
    "    hs.append(h)\n",
    "print(\"h:\",hs[0])\n",
    "\n",
    "dh = np.random.randn(*h.shape)\n",
    "for i in reversed(range(6)):\n",
    "    if i==0:\n",
    "        dx,dh,_ = rnn.backward(dh,hs[i],x[i],h_0)\n",
    "    else:\n",
    "        dx,dh,_ = rnn.backward(dh,hs[i],x[i],hs[i-1])\n",
    "print(\"dh:\",dh)"
   ]
  },
  {
   "cell_type": "markdown",
   "metadata": {
    "pycharm": {
     "name": "#%% md\n"
    }
   },
   "source": [
    "同样的，可以定义LSTM和GRU类型的循环神经网络单元LSTMCell和 GRUCell。LSTMCell的代码如下："
   ]
  },
  {
   "cell_type": "code",
   "execution_count": 60,
   "metadata": {
    "pycharm": {
     "name": "#%%\n"
    }
   },
   "outputs": [],
   "source": [
    "def sigmoid(x):\n",
    "    return (1 / (1 + np.exp(-x)))\n",
    "def lstm_cell(x, hc,w_ih, w_hh,b_ih, b_hh): \n",
    "    h,c = hc[0],hc[1]\n",
    "    hidden_size = w_ih.shape[1]//4\n",
    "    ifgo_Z = np.dot(x,w_ih) + b_ih  +  np.dot(h,w_hh) + b_hh\n",
    "    i = sigmoid(ifgo_Z[:,:hidden_size])\n",
    "    f = sigmoid(ifgo_Z[:,hidden_size:2*hidden_size])\n",
    "    g = np.tanh(ifgo_Z[:,2*hidden_size:3*hidden_size])\n",
    "    o = sigmoid(ifgo_Z[:,3*hidden_size:])   \n",
    "    c_ = f*c+i*g\n",
    "    h_ = o*np.tanh(c_)\n",
    "    return (h_,c_),np.column_stack((i,f,g,o))\n",
    "\n",
    "def lstm_cell_back(dhc,ifgo,x,hc_pre,w_ih, w_hh,b_ih, b_hh):\n",
    "    hidden_size = w_ih.shape[1]//4\n",
    "    if isinstance(dhc, tuple):\n",
    "        dh_,dc_next = dhc\n",
    "    else:\n",
    "        dh_ = dhc\n",
    "        dc_next = np.zeros_like(dh_)\n",
    "    h_pre,c = hc_pre\n",
    "    i,f,g,o = ifgo[:,:hidden_size],ifgo[:,hidden_size:2*hidden_size]\\\n",
    "              , ifgo[:,2*hidden_size:3*hidden_size],ifgo[:,3*hidden_size:]\n",
    "    c_ = f*c+i*g\n",
    "    dc_ = dc_next+dh_*o*(1-np.square(np.tanh(c_)))\n",
    "    do = dh_*np.tanh(c_)\n",
    "    di = dc_*g\n",
    "    dg = dc_*i\n",
    "    df = dc_*c\n",
    "    \n",
    "    diz = i*(1-i)*di\n",
    "    dfz = f*(1-f)*df\n",
    "    dgz = (1-np.square(g))*dg\n",
    "    doz = o*(1-o)*do\n",
    "    \n",
    "    dZ = np.column_stack((diz,dfz,dgz,doz))\n",
    "    \n",
    "    dW_ih = np.dot(x.T,dZ)\n",
    "    dW_hh = np.dot(h_pre.T,dZ)\n",
    "    db_hh = np.sum(dZ, axis=0, keepdims=True) \n",
    "    db_ih = np.sum(dZ, axis=0, keepdims=True) \n",
    "    dx =  np.dot(dZ,w_ih.T)\n",
    "    dh_pre = np.dot(dZ,w_hh.T)\n",
    "    #return dx,dh_pre,(dW_ih,dW_hh,db_ih,db_hh)\n",
    "    dc = dc_*f\n",
    "    return dx,(dh_pre,dc),(dW_ih,dW_hh,db_ih,db_hh)\n",
    "\n",
    "class LSTMCell(RNNCellBase):\n",
    "    \"\"\"   \\begin{array}{ll}\n",
    "        i = \\sigma(W_{ii} x + b_{ii} + W_{hi} h + b_{hi}) \\\\\n",
    "        f = \\sigma(W_{if} x + b_{if} + W_{hf} h + b_{hf}) \\\\\n",
    "        g = \\tanh(W_{ig} x + b_{ig} + W_{hg} h + b_{hg}) \\\\\n",
    "        o = \\sigma(W_{io} x + b_{io} + W_{ho} h + b_{ho}) \\\\\n",
    "        c' = f * c + i * g \\\\\n",
    "        h' = o * \\tanh(c') \\\\\n",
    "        \\end{array}\n",
    "        \n",
    "        Inputs: input, (h_0, c_0)\n",
    "        If `(h_0, c_0)` is not provided, both **h_0** and **c_0** default to zero.\n",
    "        \n",
    "        Outputs: (h_1, c_1)\n",
    "        - **h_1** of shape `(batch, hidden_size)`: tensor containing the next hidden state\n",
    "          for each element in the batch\n",
    "        - **c_1** of shape `(batch, hidden_size)`: tensor containing the next cell state\n",
    "          for each element in the batch \n",
    "        \"\"\"\n",
    "\n",
    "    def __init__(self, input_size, hidden_size, bias=True):\n",
    "        super(LSTMCell, self).__init__(input_size, hidden_size,bias, num_chunks=4)\n",
    "     \n",
    "    def init_hidden(batch_size):\n",
    "        zeros= np.zeros(input.shape[0], self.hidden_size, dtype=input.dtype)  \n",
    "        return (zeros, zeros)#np.array([zeros, zeros])\n",
    "                \n",
    "    def forward(self, input, h=None): \n",
    "        self.check_forward_input(input)\n",
    "        if h is None:\n",
    "            h = init_hidden(input.shape[0])\n",
    "            #zeros= np.zeros(input.shape[0], self.hidden_size, dtype=input.dtype)  \n",
    "            #h = (zeros, zeros)#np.array([zeros, zeros])\n",
    "        self.check_forward_hidden(input, h[0], '[0]')\n",
    "        self.check_forward_hidden(input, h[1], '[1]')\n",
    "        return lstm_cell(\n",
    "                input, h,\n",
    "                self.W_ih, self.W_hh,\n",
    "                self.b_ih, self.b_hh,\n",
    "            )\n",
    "    def __call__(self, input, h=None): \n",
    "        return self.forward(input,h)\n",
    "    \n",
    "    def backward(self, dhc,ifgo,input,hc_pre):\n",
    "        if hc_pre is None:\n",
    "            hc_pre = init_hidden(input.shape[0])\n",
    "        dx,dh_pre,grads = lstm_cell_back(\n",
    "                            dhc,ifgo,\n",
    "                            input, hc_pre,\n",
    "                            self.W_ih, self.W_hh,\n",
    "                            self.b_ih, self.b_hh)\n",
    "            \n",
    "        #grads = (dW_ih,dW_hh,db_ih,db_hh)\n",
    "        for a, b in zip(self.grads,grads):\n",
    "            a+=b \n",
    "        return dx,dh_pre,grads "
   ]
  },
  {
   "cell_type": "markdown",
   "metadata": {
    "pycharm": {
     "name": "#%% md\n"
    }
   },
   "source": [
    "GRUCell的代码如下："
   ]
  },
  {
   "cell_type": "code",
   "execution_count": 61,
   "metadata": {
    "pycharm": {
     "name": "#%%\n"
    }
   },
   "outputs": [],
   "source": [
    "def gru_cell(x, h,w_ih, w_hh,b_ih, b_hh):\n",
    "    Z_ih,Z_hh = np.dot(x,w_ih) + b_ih, np.dot(h,w_hh) + b_hh\n",
    "    hidden_size = w_ih.shape[1]//3\n",
    "    r = sigmoid(Z_ih[:,:hidden_size]+Z_hh[:,:hidden_size])\n",
    "    u = sigmoid(Z_ih[:,hidden_size:2*hidden_size]+Z_hh[:,hidden_size:2*hidden_size]) \n",
    "    n = np.tanh(Z_ih[:,2*hidden_size:]+r*Z_hh[:,2*hidden_size:]) \n",
    "    h_next= u*h+(1-u)*n \n",
    "    run = np.column_stack((r,u,n))\n",
    "    #return h_next,(r,u,n)  \n",
    "    return h_next,run \n",
    "\n",
    "def gru_cell_back(dh,run,x,h_pre,w_ih, w_hh,b_ih, b_hh):\n",
    "    hidden_size = w_ih.shape[1]//3\n",
    "    #r,u,n = run\n",
    "    r,u,n = run[:,:hidden_size],run[:,hidden_size:2*hidden_size]\\\n",
    "              , run[:,2*hidden_size:]\n",
    "              \n",
    "    #  H =  U H_pre+(1-U)H_tildas\n",
    "    dn = dh*(1-u)\n",
    "    dh_pre = dh*u\n",
    "    du = h_pre*dh -n*dh   \n",
    "  \n",
    "    #n = \\tanh(W_{in} x + b_{in} + r * (W_{hn} h + b_{hn})) \n",
    "    dnz = (1-np.square(n))*dn \n",
    "        \n",
    "    Z_hn = np.dot(h_pre,w_hh[:,2*hidden_size:])+b_hh[:,2*hidden_size:]\n",
    "    dr = dnz*Z_hn\n",
    "    dZ_ih_n = dnz\n",
    "    dZ_hh_n = dnz*r\n",
    "                \n",
    "    duz = u*(1-u)*du\n",
    "    dZ_ih_u = duz\n",
    "    dZ_hh_u = duz\n",
    "     \n",
    "    drz = r*(1-r)*dr\n",
    "    dZ_ih_r = drz\n",
    "    dZ_hh_r = drz    \n",
    "    \n",
    "    dZ_ih = np.column_stack((dZ_ih_r,dZ_ih_u,dZ_ih_n))\n",
    "    dZ_hh = np.column_stack((dZ_hh_r,dZ_hh_u,dZ_hh_n))            \n",
    "    \n",
    "    dW_ih = np.dot(x.T,dZ_ih)\n",
    "    dW_hh = np.dot(h_pre.T,dZ_hh)\n",
    "    db_ih = np.sum(dZ_ih, axis=0, keepdims=True) \n",
    "    db_hh = np.sum(dZ_hh, axis=0, keepdims=True)             \n",
    "  \n",
    "    dh_pre+=np.dot(dZ_hh,w_hh.T)\n",
    "    dx =  np.dot(dZ_ih,w_ih.T)\n",
    "    return dx,dh_pre,(dW_ih,dW_hh,db_ih,db_hh)\n",
    "\n",
    "class GRUCell(RNNCellBase):\n",
    "    \"\"\"  \\begin{array}{ll}\n",
    "        r = \\sigma(W_{ir} x + b_{ir} + W_{hr} h + b_{hr}) \\\\\n",
    "        z = \\sigma(W_{iz} x + b_{iz} + W_{hz} h + b_{hz}) \\\\\n",
    "        n = \\tanh(W_{in} x + b_{in} + r * (W_{hn} h + b_{hn})) \\\\\n",
    "        h' = (1 - z) * n + z * h\n",
    "        \\end{array}\n",
    "        \n",
    "        Inputs: input, hidden\n",
    "        - **input** of shape `(batch, input_size)`: tensor containing input features\n",
    "        - **hidden** of shape `(batch, hidden_size)`: tensor containing the initial hidden\n",
    "          state for each element in the batch.\n",
    "          Defaults to zero if not provided.\n",
    "          \n",
    "        Outputs: h'\n",
    "        - **h'** of shape `(batch, hidden_size)`: tensor containing the next hidden state\n",
    "          for each element in the batch\n",
    "          \n",
    "        Attributes:\n",
    "            weight_ih: the learnable input-hidden weights, of shape\n",
    "                `(3*hidden_size, input_size)`\n",
    "            weight_hh: the learnable hidden-hidden weights, of shape\n",
    "                `(3*hidden_size, hidden_size)`\n",
    "            bias_ih: the learnable input-hidden bias, of shape `(3*hidden_size)`\n",
    "            bias_hh: the learnable hidden-hidden bias, of shape `(3*hidden_size)`\n",
    "        \n",
    "        \"\"\"\n",
    "\n",
    "    def __init__(self, input_size, hidden_size, bias=True):\n",
    "        super(GRUCell, self).__init__(input_size, hidden_size,bias, num_chunks=3)\n",
    "        \n",
    "    def forward(self, input, h=None): \n",
    "        self.check_forward_input(input)\n",
    "        if h is None:\n",
    "            h= np.zeros(input.shape[0], self.hidden_size, dtype=input.dtype) \n",
    "        self.check_forward_hidden(input, h, '')\n",
    "        return gru_cell(\n",
    "                input, h,\n",
    "                self.W_ih, self.W_hh,\n",
    "                self.b_ih, self.b_hh,\n",
    "            )  \n",
    "    def __call__(self, input, h=None): \n",
    "        return self.forward(input,h)\n",
    "    \n",
    "    def backward(self, dh,run,input,h_pre):       \n",
    "        if  h_pre is None:\n",
    "            h_pre = np.zeros(input.shape[0], self.hidden_size, dtype=input.dtype)      \n",
    "        dx,dh_pre,grads = gru_cell_back(\n",
    "                            dh,run,\n",
    "                            input, h_pre,\n",
    "                            self.W_ih, self.W_hh,\n",
    "                            self.b_ih, self.b_hh )\n",
    "        #grads = (dW_ih,dW_hh,db_ih,db_hh)\n",
    "        for a, b in zip(self.grads,grads):\n",
    "            a+=b \n",
    "        return dx,dh_pre,grads"
   ]
  },
  {
   "cell_type": "markdown",
   "metadata": {
    "pycharm": {
     "name": "#%% md\n"
    }
   },
   "source": [
    "##  7.10 多层、双向循环神经网络\n",
    "\n",
    "### 7.10.1 多层循环神经网络\n",
    "\n",
    "可以用前面的循环神经网络单元构建多层循环神经网络，下面的代码在神经网络单元的基础上构建了一个表示多层的循环神经网络的基类RNNBase："
   ]
  },
  {
   "cell_type": "code",
   "execution_count": 62,
   "metadata": {
    "pycharm": {
     "name": "#%%\n"
    }
   },
   "outputs": [],
   "source": [
    "from Layers import * \n",
    "class RNNBase(Layer):\n",
    "    def __init__(self,mode,input_size, hidden_size, n_layers,bias = True):\n",
    "        super(RNNBase, self).__init__()        \n",
    "        self.mode = mode\n",
    "        if mode == 'RNN_TANH':\n",
    "            self.cells = [RNNCell(input_size, hidden_size,bias,nonlinearity=\"tanh\")]\n",
    "            self.cells += [RNNCell(hidden_size, hidden_size,bias,nonlinearity=\"tanh\") for i in range(n_layers-1)]\n",
    "        elif mode == 'RNN_RELU':\n",
    "            self.cells = [RNNCell(input_size, hidden_size,bias,nonlinearity=\"relu\")]\n",
    "            self.cells += [RNNCell(hidden_size, hidden_size,bias,nonlinearity=\"relu\") for i in range(n_layers-1)]\n",
    "        elif mode == 'LSTM':\n",
    "            self.cells = [LSTMCell(input_size, hidden_size,bias)]\n",
    "            self.cells += [LSTMCell(hidden_size, hidden_size,bias) for i in range(n_layers-1)]\n",
    "        elif mode == 'GRU':\n",
    "            self.cells = [GRUCell(input_size, hidden_size,bias)]\n",
    "            self.cells += [GRUCell(hidden_size, hidden_size,bias) for i in range(n_layers-1)]\n",
    "        \n",
    "        self.input_size, self.hidden_size = input_size,hidden_size\n",
    "        self.n_layers = n_layers\n",
    "        self.flatten_parameters()\n",
    "        self._params = None\n",
    "     \n",
    "    def flatten_parameters(self):\n",
    "        self.params = []\n",
    "        self.grads = []\n",
    "        for i in range(self.n_layers):\n",
    "            rnn = self.cells[i]\n",
    "            for j,p in enumerate(rnn.params):\n",
    "                self.params.append(p)\n",
    "                self.grads.append(rnn.grads[j])\n",
    "                \n",
    "    def forward(self, x,h=None):\n",
    "        seq_len,batch_size = x.shape[0], x.shape[1]\n",
    "        n_layers = self.n_layers\n",
    "        mode = self.mode\n",
    "        \n",
    "        hs = [[] for i in range(n_layers)]\n",
    "        zs = [[] for i in range(n_layers)]        \n",
    "        if h is None:\n",
    "            h = self.init_hidden(batch_size)\n",
    "        if False:\n",
    "            if mode == 'LSTM':#isinstance(h, tuple):\n",
    "                self.h = (h[0].copy(),h[1].copy())       \n",
    "            else:\n",
    "                self.h = h.copy()     \n",
    "        else:\n",
    "            self.h = h\n",
    "       \n",
    "        for i in range(n_layers):\n",
    "            cell = self.cells[i]\n",
    "            if i!=0:\n",
    "                x = hs[i-1]  # out h of pre layer\n",
    "                if mode == 'LSTM':\n",
    "                    x = np.array([h for h,c in x])\n",
    "                    \n",
    "            hi = h[i]\n",
    "            if mode == 'LSTM':\n",
    "                hi = (h[0][i],h[1][i])\n",
    "            for t in range(seq_len):\n",
    "                hi =  cell(x[t],hi) \n",
    "                if isinstance(hi, tuple):\n",
    "                    hi,z = hi[0],hi[1]\n",
    "                    zs[i].append(z) \n",
    "             \n",
    "                hs[i].append(hi)                \n",
    "              #  if mode == 'LSTM' or mode == 'GRU':\n",
    "              #      zs[i].append(z)                 \n",
    "                \n",
    "        self.hs = np.array(hs)  #(layer_size,seq_size,batch_size,hidden_size)\n",
    "        if len(zs[0])>0:\n",
    "            self.zs = np.array(zs)\n",
    "        else:self.zs = None\n",
    "        \n",
    "        output = hs[-1] # containing the output features (`h_t`) \n",
    "                        # from the last layer of the RNN,\n",
    "        if mode == 'LSTM':\n",
    "            output = [h for h,c in output]\n",
    "        hn = self.hs[:,-1,:,:]  # containing the hidden state for `t = seq_len`\n",
    "        return np.array(output),hn\n",
    "    \n",
    "    def __call__(self, x,h=None):\n",
    "        return self.forward(x,h)\n",
    "    \n",
    "    def init_hidden(self, batch_size):\n",
    "        zeros = np.zeros((self.n_layers, batch_size, self.hidden_size))\n",
    "        if self.mode=='LSTM':\n",
    "            self.h = (zeros,zeros)\n",
    "        else:\n",
    "            self.h = zeros\n",
    "        return self.h\n",
    "    \n",
    "    def backward(self,dhs,input):#,hs):      \n",
    "        if self.hs is None:\n",
    "            self.hs,_ = self.forward(input)\n",
    "        hs = self.hs\n",
    "        zs = self.zs if self.zs is not None else hs        \n",
    "        seq_len,batch_size = input.shape[0], input.shape[1]       \n",
    "        dinput = [None for i in range(seq_len)]\n",
    "     \n",
    "        if len(dhs.shape)==2:  # dh at last time(batch,hidden)\n",
    "            dhs_ = [np.zeros_like(dhs) for i in range(seq_len)]\n",
    "            dhs_[-1] = dhs\n",
    "            dhs = np.array(dhs_)\n",
    "        elif dhs.shape[0]!=seq_len:            \n",
    "            raise RuntimeError(\n",
    "                \"dhs has inconsistent seq_len: got {}, expected {}\".format(\n",
    "                    dhs.shape[0], seq_len))\n",
    "        else:           \n",
    "            pass     \n",
    "\n",
    "         #----dhidden--------    \n",
    "        dhidden = [None for i in range(self.n_layers)]        \n",
    "        for layer in reversed(range(self.n_layers)):\n",
    "            layer_hs = hs[layer]\n",
    "            layer_zs = zs[layer]\n",
    "            cell = self.cells[layer]\n",
    "            if layer==0:\n",
    "                layer_input = input\n",
    "            else:\n",
    "                if self.mode =='LSTM':\n",
    "                    layer_input  = self.hs[layer-1]\n",
    "                    layer_input = [h for h,c in layer_input]\n",
    "                else:\n",
    "                    layer_input = self.hs[layer-1]\n",
    "\n",
    "            h_0 = self.h[layer]                 \n",
    "            dh = np.zeros_like(dhs[0]) #来自后一时刻的梯度                \n",
    "            if self.mode =='LSTM':\n",
    "                h_0 = (self.h[0][layer],self.h[1][layer])\n",
    "                dc = np.zeros_like(dhs[0])\n",
    "            for t in reversed(range(seq_len)):\n",
    "                dh += dhs[t]          #后一时刻的梯度+当前时刻的梯度\n",
    "                h_pre = h_0 if t==0 else layer_hs[t-1]\n",
    "                if self.mode=='LSTM':\n",
    "                    dhc = (dh,dc)\n",
    "                    dx,dhc,_ = cell.backward(dhc,layer_zs[t],layer_input[t],h_pre)  \n",
    "                    dh,dc = dhc\n",
    "                else:\n",
    "                    dx,dh,_ = cell.backward(dh,layer_zs[t],layer_input[t],h_pre)  \n",
    "                if layer>0:\n",
    "                    dhs[t] = dx\n",
    "                else :\n",
    "                    dinput[t] = dx\n",
    "                #----dhidden--------    \n",
    "                if t==0:\n",
    "                    if self.mode=='LSTM':\n",
    "                        dhidden[layer] = dhc\n",
    "                    else:\n",
    "                        dhidden[layer] = dh                    \n",
    "        return np.array(dinput),np.array(dhidden)\n",
    "\n",
    "    def parameters(self):\n",
    "        if self._params is None:\n",
    "            self._params = []           \n",
    "            for  i, _ in enumerate(self.params):  \n",
    "                self._params.append([self.params[i],self.grads[i]])  \n",
    "        return self._params"
   ]
  },
  {
   "cell_type": "markdown",
   "metadata": {
    "pycharm": {
     "name": "#%% md\n"
    }
   },
   "source": [
    "在这个基类的基础上，可以实现类型的多层循环神经网络，例如下面的表示RNN、LSTM、GRU分别实现了多层的简单循环网络、LSTM和GRU循环神经网络："
   ]
  },
  {
   "cell_type": "code",
   "execution_count": 63,
   "metadata": {
    "pycharm": {
     "name": "#%%\n"
    }
   },
   "outputs": [],
   "source": [
    "class RNN(RNNBase):\n",
    "    def __init__(self,*args, **kwargs):\n",
    "        if 'nonlinearity' in kwargs:\n",
    "            if kwargs['nonlinearity'] == 'tanh':\n",
    "                mode = 'RNN_TANH'\n",
    "            elif kwargs['nonlinearity'] == 'relu':\n",
    "                mode = 'RNN_RELU'\n",
    "            else:\n",
    "                raise ValueError(\"Unknown nonlinearity '{}'\".format(\n",
    "                    kwargs['nonlinearity']))\n",
    "            del kwargs['nonlinearity']\n",
    "        else:\n",
    "            mode = 'RNN_TANH'\n",
    "        super(RNN, self).__init__(mode, *args, **kwargs)\n",
    "\n",
    "class LSTM(RNNBase):\n",
    "    def __init__(self,*args, **kwargs):        \n",
    "        super(LSTM, self).__init__('LSTM', *args, **kwargs)\n",
    "        \n",
    "class GRU(RNNBase):\n",
    "    def __init__(self,*args, **kwargs):        \n",
    "        super(GRU, self).__init__('GRU', *args, **kwargs)"
   ]
  },
  {
   "cell_type": "markdown",
   "metadata": {
    "pycharm": {
     "name": "#%% md\n"
    }
   },
   "source": [
    "可以用下面的代码测试这些多层循环神经网络："
   ]
  },
  {
   "cell_type": "code",
   "execution_count": 64,
   "metadata": {
    "pycharm": {
     "name": "#%%\n"
    }
   },
   "outputs": [
    {
     "name": "stdout",
     "output_type": "stream",
     "text": [
      "input.shape (6, 3, 5)\n",
      "h_0.shape (2, 3, 8)\n",
      "c_0.shape (2, 3, 8)\n",
      "output.shape (6, 3, 8)\n",
      "output [[[-1.41332952e-01  1.01403706e-01 -2.85916340e-02 -9.87413739e-02\n",
      "    9.33856770e-03  6.02946596e-02  1.81926512e-01 -3.19521866e-01]\n",
      "  [ 1.16079351e-01  3.32220063e-01  6.13840909e-02  4.80895026e-02\n",
      "    2.66551843e-01  2.13127872e-02 -1.83932741e-02  2.46244947e-01]\n",
      "  [-6.38352520e-02  1.31319471e-01 -1.25023626e-01 -1.65318605e-01\n",
      "   -2.73226230e-01 -3.07002126e-01  3.00010024e-03  3.13673563e-01]]\n",
      "\n",
      " [[-1.73038422e-01  1.31192289e-02  3.03686087e-02 -8.07275142e-02\n",
      "    1.63274056e-01  8.71913480e-02  1.02719109e-02 -2.85726641e-01]\n",
      "  [-8.93547979e-02  2.28040942e-01  1.36844426e-01  8.24556301e-02\n",
      "    3.26063109e-01  6.35332440e-02  3.03777141e-04 -5.60717166e-03]\n",
      "  [-1.79679229e-01  1.87130354e-01 -1.31782501e-01  1.08536411e-02\n",
      "   -1.01416870e-02 -1.13561668e-01  9.82197446e-03  2.02974940e-01]]\n",
      "\n",
      " [[-1.98514725e-01  6.29468711e-03  7.55194285e-02 -1.20916418e-02\n",
      "    2.63115727e-01  9.14563312e-02 -2.49205445e-02 -2.25903885e-01]\n",
      "  [-1.74012049e-01  8.58055294e-02  1.61814488e-01  7.63295391e-02\n",
      "    3.30887749e-01  7.54041027e-02 -5.19134411e-03 -1.20295169e-01]\n",
      "  [-2.14429521e-01  1.15476652e-01 -7.46819687e-02  7.90751963e-02\n",
      "    1.13905002e-01 -3.07949194e-02 -5.94549980e-03  3.41307453e-02]]\n",
      "\n",
      " [[-2.18822742e-01 -1.17900297e-02  5.64256932e-02  6.72026637e-02\n",
      "    2.69448784e-01  7.94663225e-02 -4.49694090e-02 -2.13955227e-01]\n",
      "  [-2.11523721e-01  3.34232404e-02  1.68715402e-01  9.58796009e-02\n",
      "    3.34953355e-01  7.03128389e-02 -7.44313038e-05 -1.70653685e-01]\n",
      "  [-2.36888973e-01  5.89951549e-02 -5.43605914e-02  1.43248809e-01\n",
      "    1.76261559e-01  5.09680500e-03 -1.16623079e-02 -6.15580537e-02]]\n",
      "\n",
      " [[-2.31250034e-01 -1.41271533e-02  6.03347644e-02  1.13391079e-01\n",
      "    2.94025901e-01  6.82063746e-02 -3.73624994e-02 -2.05344178e-01]\n",
      "  [-2.21608983e-01 -5.17014142e-03  1.50915088e-01  1.06572322e-01\n",
      "    3.23104663e-01  6.05834754e-02 -1.52396152e-02 -1.93866644e-01]\n",
      "  [-2.44174725e-01  3.16578889e-02 -3.74989622e-02  1.75250718e-01\n",
      "    2.11648022e-01  1.07629315e-02 -1.88288895e-02 -1.12641486e-01]]\n",
      "\n",
      " [[-2.54583297e-01 -4.74430159e-03  6.82104685e-02  1.22602260e-01\n",
      "    3.12361336e-01  5.79044388e-02 -3.30529915e-02 -1.82420982e-01]\n",
      "  [-2.30894274e-01 -2.04957184e-02  1.45215764e-01  9.06556985e-02\n",
      "    3.31000539e-01  5.90061328e-02 -2.51147617e-02 -1.89354873e-01]\n",
      "  [-2.81921217e-01  3.08401690e-02 -2.68353637e-02  1.42356918e-01\n",
      "    2.54187772e-01  2.25654343e-02 -7.32796192e-03 -1.09110074e-01]]]\n",
      "hn [[[[ 0.09645903  0.04969926  0.37169596 -0.14119736  0.3287604\n",
      "    -0.1250236   0.22541772 -0.07196655]\n",
      "   [ 0.16603822  0.14429172  0.20019071 -0.12523335  0.29628868\n",
      "     0.21202227  0.13106821 -0.02808015]\n",
      "   [-0.12050428 -0.13985964  0.58623291 -0.17074305 -0.23311151\n",
      "    -0.28519532  0.22746292 -0.18068336]]\n",
      "\n",
      "  [[ 0.24488731  0.11305883  0.62084169 -0.37942143  0.44604925\n",
      "    -0.23343854  0.53975388 -0.12627864]\n",
      "   [ 0.37166115  0.27236822  0.37262794 -0.50381242  0.44055602\n",
      "     0.34815519  0.39526646 -0.05167814]\n",
      "   [-0.19497399 -0.36481165  0.80692177 -0.2547238  -0.50870011\n",
      "    -0.77412778  0.39446254 -0.52366144]]]\n",
      "\n",
      "\n",
      " [[[-0.2545833  -0.0047443   0.06821047  0.12260226  0.31236134\n",
      "     0.05790444 -0.03305299 -0.18242098]\n",
      "   [-0.23089427 -0.02049572  0.14521576  0.0906557   0.33100054\n",
      "     0.05900613 -0.02511476 -0.18935487]\n",
      "   [-0.28192122  0.03084017 -0.02683536  0.14235692  0.25418777\n",
      "     0.02256543 -0.00732796 -0.10911007]]\n",
      "\n",
      "  [[-0.47205098 -0.01212039  0.1794584   0.19875715  0.63503604\n",
      "     0.13478924 -0.05923049 -0.32697245]\n",
      "   [-0.43786722 -0.04943713  0.39691116  0.15679702  0.65199092\n",
      "     0.1456739  -0.0433396  -0.33724216]\n",
      "   [-0.57893445  0.08227842 -0.07455036  0.20376939  0.53587268\n",
      "     0.04590336 -0.01334409 -0.18276796]]]]\n",
      "dinput.shape: (6, 3, 5)\n",
      "dinput: [[[-3.05724316e-02  3.95340786e-03  7.66018796e-04 -3.90778155e-02\n",
      "    4.77033039e-02]\n",
      "  [ 2.02112289e-02 -1.93243434e-02  1.80640962e-02 -1.79143059e-02\n",
      "   -3.78011102e-02]\n",
      "  [-1.46870749e-02 -6.61252840e-03  1.72205826e-03 -1.23474989e-02\n",
      "   -3.47530763e-02]]\n",
      "\n",
      " [[-3.77989901e-02  1.57486148e-02 -2.01571917e-02 -3.09397909e-02\n",
      "    4.64715150e-02]\n",
      "  [ 1.59308978e-02 -1.80281694e-02  1.55637298e-02 -1.40080877e-02\n",
      "    5.01858980e-04]\n",
      "  [ 1.23932625e-02  2.56878981e-02 -2.36552869e-02 -1.94397356e-04\n",
      "   -1.19059471e-02]]\n",
      "\n",
      " [[-2.31335353e-02  2.22115062e-02  4.65019110e-04 -2.90895805e-02\n",
      "    6.41608183e-02]\n",
      "  [ 1.39058135e-02 -2.47179503e-02  2.42928234e-02 -3.09275445e-02\n",
      "    2.73211669e-02]\n",
      "  [-1.02014458e-02  2.72877561e-02 -1.20315702e-02  4.68807180e-03\n",
      "    3.53646331e-03]]\n",
      "\n",
      " [[-3.40038387e-02  5.41998467e-02 -1.65087883e-02 -2.69517195e-02\n",
      "    3.40499874e-02]\n",
      "  [-2.45905730e-02 -4.37383984e-03 -3.72624879e-03 -3.58383725e-02\n",
      "    2.41563060e-02]\n",
      "  [-9.20556186e-03  3.16019929e-02 -4.25767873e-02 -5.63197303e-05\n",
      "   -2.25173901e-02]]\n",
      "\n",
      " [[-2.69704222e-02  1.35870725e-02 -2.23332467e-02 -5.16818238e-02\n",
      "    2.43392369e-02]\n",
      "  [ 7.56591682e-04 -2.50561314e-02  2.56696546e-02 -1.55584617e-02\n",
      "   -5.11610331e-03]\n",
      "  [-1.79085339e-02 -1.89453382e-02  1.12750879e-02  9.39168521e-03\n",
      "   -4.98088836e-02]]\n",
      "\n",
      " [[-1.65909057e-02  1.32470445e-02 -2.05614034e-02 -1.72013748e-02\n",
      "   -1.38522114e-03]\n",
      "  [-4.45504453e-03 -5.29148696e-03  5.59126899e-03 -3.64788982e-03\n",
      "    7.14069734e-03]\n",
      "  [-3.91099199e-02  4.02649831e-03 -1.92630209e-02  1.66485122e-02\n",
      "   -2.26481421e-02]]]\n",
      "dhidden: [[[[ 4.16122396e-02 -1.07007176e-02 -9.69533240e-03 -2.47613485e-02\n",
      "     5.40732942e-04 -1.04418357e-02 -3.27476600e-03  4.91882991e-04]\n",
      "   [-7.82127765e-03  1.53033691e-02  8.48431933e-03  1.49939928e-02\n",
      "    -1.89639278e-02  2.19290779e-03 -1.65035479e-03 -9.58252008e-03]\n",
      "   [ 1.79076946e-02  3.47038640e-02 -2.95481308e-03  2.34217102e-04\n",
      "    -2.42610915e-03 -3.91801167e-02 -1.86080318e-03  1.53085468e-02]]\n",
      "\n",
      "  [[-2.23206480e-02 -2.64329909e-02  1.15344046e-03 -2.66880551e-02\n",
      "     5.26493431e-04 -7.52089094e-02 -3.88463290e-03  4.04954909e-03]\n",
      "   [ 2.63176481e-02  3.09893495e-02  2.68454165e-02  6.96664634e-03\n",
      "     2.05050313e-02  2.21679327e-02  1.92271304e-03  2.77727669e-02]\n",
      "   [ 3.46178722e-02  7.66792936e-03  4.84681212e-02  5.26726043e-03\n",
      "    -7.52977082e-02 -1.92551343e-02 -2.89106877e-02 -6.32467473e-02]]]\n",
      "\n",
      "\n",
      " [[[ 1.22778396e-01 -1.43327236e-01 -2.41624653e-02  3.23142204e-02\n",
      "    -1.10995269e-01  7.95120090e-02 -6.40622077e-02  1.22640495e-01]\n",
      "   [-6.30538295e-02  1.04246004e-01 -8.11837983e-02  2.30229004e-02\n",
      "    -4.81679325e-02  7.10759185e-02 -1.62665013e-01 -1.40321129e-01]\n",
      "   [-3.19695693e-01  9.21002653e-02 -2.48428043e-01 -1.48841358e-01\n",
      "    -3.87719412e-02 -1.43423807e-01  2.55663044e-02  4.08578161e-02]]\n",
      "\n",
      "  [[ 1.75977727e-03  5.08437772e-01 -4.83143354e-01 -2.41983135e-02\n",
      "     9.16293573e-03  2.37729503e-02  2.50141613e-01  1.96956501e-01]\n",
      "   [ 1.71731932e-01  7.42050682e-02  6.74040121e-01 -1.12127051e-01\n",
      "    -3.95439169e-02  8.26141106e-03 -9.41731325e-01  3.38355311e-02]\n",
      "   [ 1.68743583e-01 -1.26725720e-01 -5.73708141e-01 -7.65622735e-01\n",
      "    -2.20044706e-01  2.03210773e-01  5.63961467e-01  4.28330547e-01]]]]\n"
     ]
    }
   ],
   "source": [
    "import numpy as np\n",
    "#from rnn import *\n",
    "np.random.seed(1)\n",
    "\n",
    "num_layers= 2\n",
    "batch_size,input_size,hidden_size= 3,5,8\n",
    "seg_len = 6\n",
    " \n",
    "test_RNN = \"LSTM\"\n",
    "\n",
    "if test_RNN == \"rnnTANH\":\n",
    "    rnn = RNN(input_size,hidden_size,num_layers )\n",
    "elif test_RNN == \"rnnRELU\":\n",
    "    rnn = RNN(input_size,hidden_size, num_layers,nonlinearity= 'relu')\n",
    "elif test_RNN == \"GRU\":\n",
    "    rnn = GRU(input_size,hidden_size, num_layers)\n",
    "elif test_RNN == \"LSTM\":\n",
    "    rnn = LSTM(input_size,hidden_size, num_layers)\n",
    "    c_0 = np.random.randn(num_layers, batch_size, hidden_size)\n",
    "    \n",
    "input = np.random.randn(seg_len, batch_size, input_size)\n",
    "h_0 = np.random.randn(num_layers, batch_size, hidden_size)\n",
    "\n",
    "print(\"input.shape\",input.shape)\n",
    "print(\"h_0.shape\",h_0.shape)\n",
    "print(\"c_0.shape\",c_0.shape)\n",
    "\n",
    "if test_RNN == \"LSTM\":   \n",
    "    output, hn = rnn(input, (h_0,c_0))\n",
    "else:\n",
    "    output, hn = rnn(input, h_0)\n",
    "\n",
    "print(\"output.shape\",output.shape)\n",
    "print(\"output\",output)\n",
    "print(\"hn\",hn)\n",
    "\n",
    "#------test backward---    \n",
    "do = np.random.randn(*output.shape)\n",
    "dinput,dhidden = rnn.backward(do,input)#,rnn.hs)#output)\n",
    "print(\"dinput.shape:\",dinput.shape)\n",
    "print(\"dinput:\",dinput)\n",
    "print(\"dhidden:\",dhidden)"
   ]
  },
  {
   "cell_type": "markdown",
   "metadata": {
    "pycharm": {
     "name": "#%% md\n"
    }
   },
   "source": [
    "上面的多层LSTM循环神经网络的每个隐含层的隐状态大小都是一样的，为了使这个多层神经网络适应不同输出值大小的问题，可以在多层LSTM循环神经单元的基础上，再增加一个全连接的输出层，以输出针对不同输出向量大小的特定问题。下面的LSTM_RNN就是一个这样的多层循环神经网络，其中input_size, hidden_size, output_size分别是输入数据大小、隐状态大小和输出值大小，num_layers则是循环神经网络的层数。"
   ]
  },
  {
   "cell_type": "code",
   "execution_count": 65,
   "metadata": {
    "pycharm": {
     "name": "#%%\n"
    }
   },
   "outputs": [],
   "source": [
    "from Layers import *\n",
    "class  LSTM_RNN(object):\n",
    "    def __init__(self, input_size, hidden_size, output_size,num_layers):\n",
    "        super(LSTM_RNN, self).__init__()\n",
    "        self.input_size = input_size\n",
    "        self.hidden_size = hidden_size       \n",
    "        self.num_layers = num_layers\n",
    "\n",
    "        # Define the LSTM layer\n",
    "        self.lstm = LSTM(input_size,hidden_size,num_layers)\n",
    "\n",
    "        # Define the output layer\n",
    "        self.linear = Dense(hidden_size, output_size)\n",
    "        self.layers = [self.lstm,self.linear]\n",
    "        self._params = None\n",
    "\n",
    "    def init_hidden(self,batch_size):\n",
    "        # This is what we'll initialise our hidden state as\n",
    "        self.h_0 =  (np.zeros((self.num_layers, batch_size, self.hidden_size)),\n",
    "                np.zeros((self.num_layers, batch_size, self.hidden_size)))\n",
    "\n",
    "    def forward(self, input):\n",
    "        # input:(seq_len, batch, input_size)\n",
    "        # shape of hs_out: [input_size, batch_size, hidden_dim]\n",
    "        # shape of self.h_0: (a, b), where a and b both \n",
    "        # have shape (num_layers, batch_size, hidden_dim).\n",
    "      \n",
    "        hs_out, self.h_0 = self.lstm(input,self.h_0)\n",
    "      \n",
    "        batch_size = input.shape[1]\n",
    "        y_pred = self.linear(hs_out[-1].reshape(batch_size, -1))\n",
    "        return y_pred#.reshape(batch_size, -1)#.flatten() #view(-1)\n",
    "    \n",
    "    def __call__(self, input):\n",
    "        return self.forward(input)\n",
    "    \n",
    "    def backward(self,dZs,input):\n",
    "        dhs = self.linear.backward(dZs)\n",
    "        dinput = self.lstm.backward(dhs,input)          \n",
    "\n",
    "    def parameters(self):\n",
    "        if self._params is None:\n",
    "            self._params = []\n",
    "            for layer in self.layers:\n",
    "                for  i, _ in enumerate(layer.params):  \n",
    "                    self._params.append([layer.params[i],layer.grads[i]])  \n",
    "        return self._params"
   ]
  },
  {
   "cell_type": "code",
   "execution_count": 66,
   "metadata": {
    "pycharm": {
     "name": "#%%\n"
    }
   },
   "outputs": [
    {
     "name": "stdout",
     "output_type": "stream",
     "text": [
      "(20, 80, 1)\n",
      "(20, 80, 1)\n",
      "(1, 80, 20)\n",
      "Epoch  0 MSE:  0.03588440890477615\n",
      "Epoch  100 MSE:  0.010732580011911729\n",
      "Epoch  200 MSE:  0.010387283087887647\n",
      "Epoch  300 MSE:  0.010223361294028982\n",
      "Epoch  400 MSE:  0.010150461486744412\n"
     ]
    },
    {
     "data": {
      "image/png": "[encoded data removed]",
      "text/plain": [
       "<Figure size 432x288 with 1 Axes>"
      ]
     },
     "metadata": {
      "needs_background": "light"
     },
     "output_type": "display_data"
    },
    {
     "data": {
      "image/png": "[encoded data removed]",
      "text/plain": [
       "<Figure size 432x288 with 1 Axes>"
      ]
     },
     "metadata": {
      "needs_background": "light"
     },
     "output_type": "display_data"
    }
   ],
   "source": [
    "import util\n",
    "from train import *\n",
    "from generate_data import *\n",
    "import matplotlib.pyplot as plt\n",
    "%matplotlib inline\n",
    "\n",
    "input_size = 20\n",
    "\n",
    "# Data params\n",
    "noise_var = 0\n",
    "num_datapoints = 100\n",
    "test_size = 0.2\n",
    "num_train = int((1-test_size) * num_datapoints)\n",
    "\n",
    "data = ARData(num_datapoints, num_prev=input_size, test_size=test_size, noise_var=noise_var, \\\n",
    "              coeffs=fixed_ar_coefficients[input_size])\n",
    "X_train =data.X_train\n",
    "y_train =data.y_train\n",
    "\n",
    "hidden_size = 32\n",
    "lstm_input_size = input_size\n",
    "output_dim = 1\n",
    "num_layers = 2\n",
    "batch_size =num_train #80\n",
    "\n",
    "X_train = X_train.reshape(input_size, -1, 1)\n",
    "print(X_train.shape)\n",
    "X_train = X_train.reshape(len(X_train), batch_size, 1)\n",
    "print(X_train.shape)\n",
    "X_train = X_train.swapaxes(0,2)\n",
    "y_train = y_train.reshape(-1,1)\n",
    "\n",
    "model = LSTM_RNN(lstm_input_size, hidden_size,  output_size=output_dim, num_layers=num_layers)\n",
    "\n",
    "loss_fn = util.mse_loss_grad#(f,y)#torch.nn.MSELoss(size_average=False)\n",
    "\n",
    "learning_rate = 1e-3\n",
    "momentum = 0.9\n",
    "#optimizer = SGD(model.parameters(),learning_rate,momentum)\n",
    "optimizer = Adam(model.parameters(),learning_rate)\n",
    "num_epochs = 500\n",
    "\n",
    "print(X_train.shape)\n",
    "hist = np.zeros(num_epochs)\n",
    "for t in range(num_epochs):    \n",
    "    model.hidden = model.init_hidden(batch_size)   \n",
    "    y_pred = model(X_train) # Forward pass\n",
    "    \n",
    "    loss,grad = loss_fn(y_pred, y_train)\n",
    "    if t % 100 == 0:\n",
    "        print(\"Epoch \", t, \"MSE: \", loss)        \n",
    "    hist[t] = loss\n",
    "\n",
    "    optimizer.zero_grad()  # Zero out gradient, else they will accumulate between epochs \n",
    "    model.backward(grad,X_train)# Backward pass   \n",
    "    optimizer.step() # Update parameters\n",
    "    \n",
    "plt.plot(y_pred, label=\"Preds\")\n",
    "plt.plot(y_train, label=\"Data\")\n",
    "plt.legend()\n",
    "plt.show()\n",
    "\n",
    "plt.plot(hist, label=\"Training loss\")\n",
    "plt.legend()\n",
    "plt.show()"
   ]
  },
  {
   "cell_type": "markdown",
   "metadata": {
    "pycharm": {
     "name": "#%% md\n"
    }
   },
   "source": [
    "### 7.10.3 双向循环神经网络\n",
    "\n",
    "下面的RNNLayer表示了一个循环神经网络层。其构造函数的一个参数mode表示不同类型的循环神经网络单元，参数reverse表示这个神经网络层是正向的还是反向的。"
   ]
  },
  {
   "cell_type": "code",
   "execution_count": 67,
   "metadata": {
    "pycharm": {
     "name": "#%%\n"
    }
   },
   "outputs": [],
   "source": [
    "from Layers import *\n",
    "#from rnn import *\n",
    "class RNNLayer(Layer):\n",
    "    def __init__(self,mode,input_size, hidden_size,bias=True, batch_first=False,reverse=False):\n",
    "        super(RNNLayer, self).__init__()\n",
    "        self.mode = mode\n",
    "        if mode == 'RNN_TANH':\n",
    "            self.cell = RNNCell(input_size, hidden_size,bias,nonlinearity=\"tanh\")\n",
    "        elif mode == 'RNN_RELU':\n",
    "            self.cell = RNNCell(input_size, hidden_size,bias,nonlinearity=\"relu\")\n",
    "        elif mode == 'LSTM':\n",
    "            self.cell = LSTMCell(input_size, hidden_size,bias)\n",
    "        elif mode == 'GRU':\n",
    "            self.cell = GRUCell(input_size, hidden_size,bias)        \n",
    "        self.reverse = reverse\n",
    "        self.batch_first = batch_first\n",
    "        self.zs = None\n",
    "        \n",
    "    def init_hidden(self, batch_size):\n",
    "        #self.h = np.random.zeros(batch_size, self.hidden_dim)\n",
    "        self.h = self.cell.init_hidden(batch_size)\n",
    "        return self.h  \n",
    "    \n",
    "    def forward(self,input,h=None,batch_sizes = None):\n",
    "        mode = self.mode\n",
    "        if self.batch_first and batch_sizes is None:\n",
    "            input = input.transpose(0, 1)\n",
    "        seq_len,batch_size = input.shape[0], input.shape[1]   \n",
    "        if h is None:  \n",
    "            h = self.init_hidden(batch_size)\n",
    "        self.h = h #h.copy()\n",
    "        \n",
    "        output = []\n",
    "        zs=[] \n",
    "        hs = []\n",
    "        steps = range(seq_len - 1, -1, -1) if self.reverse else range(seq_len)\n",
    "        for t in steps:\n",
    "            h = self.cell(input[t], h)\n",
    "            #h,z = self.cell(input[t], h)\n",
    "            #output.append(h) \n",
    "            if isinstance(h, tuple):\n",
    "                h,z = h[0],h[1]\n",
    "                if mode == 'LSTM' or mode == 'GRU':\n",
    "                    zs.append(z)            \n",
    "            hs.append(h)           \n",
    "        \n",
    "        self.hs = np.array(hs)\n",
    "        output = [h[0] if isinstance(h, tuple) else h for h in self.hs]\n",
    "        if mode == 'LSTM' or mode == 'GRU':\n",
    "            self.zs = np.array(zs)\n",
    "        return np.array(output),h\n",
    "    \n",
    "    def __call__(self,input,h=None,batch_sizes = None):\n",
    "            return self.forward(input,h,batch_sizes)\n",
    "        \n",
    "    def backward(self, dhs,input):#,hs):     \n",
    "        if False:\n",
    "            if hs is None:\n",
    "                hs,_ = self.forward(input)\n",
    "        else:\n",
    "            if self.hs is None:\n",
    "                self.hs,_ = self.forward(input)\n",
    "            hs = self.hs\n",
    "        \n",
    "        if False:\n",
    "            if self.zs is  None:\n",
    "                zs = hs\n",
    "            else:\n",
    "                zs = self.zs\n",
    "        zs = self.zs if self.zs is not None else hs\n",
    "      \n",
    "        seq_len,batch_size = input.shape[0], input.shape[1]\n",
    "        cell = self.cell\n",
    "      \n",
    "        if len(dhs)==len(hs):#.shape==hs.shape: #(seq,batch,hidden)          \n",
    "            dinput = [None for i in range(seq_len)]\n",
    "            steps = range(seq_len)   if self.reverse else range(seq_len - 1, -1, -1)\n",
    "            t0 = seq_len - 1 if self.reverse else 0 \n",
    "            dh = np.zeros_like(dhs[0]) #来自后一时刻的梯度\n",
    "            for t in steps:  \n",
    "                dh += dhs[t]          #后一时刻的梯度+当前时刻的梯度\n",
    "                h_pre = self.h if t==t0 else hs[t-1]             \n",
    "                dx,dh,_ = cell.backward(dh,zs[t],input[t],h_pre)                \n",
    "              \n",
    "                dinput[t] = dx\n",
    "        return dinput"
   ]
  },
  {
   "cell_type": "markdown",
   "metadata": {
    "pycharm": {
     "name": "#%% md\n"
    }
   },
   "source": [
    "测试一下这个循环神经网络层类："
   ]
  },
  {
   "cell_type": "code",
   "execution_count": 68,
   "metadata": {
    "pycharm": {
     "name": "#%%\n"
    }
   },
   "outputs": [
    {
     "name": "stdout",
     "output_type": "stream",
     "text": [
      "output [[[ 0.98529853  0.54226394  0.87067973  0.11520828 -1.14269267\n",
      "    0.42582622]\n",
      "  [-0.13334087  0.04401171 -0.38530585  0.07464463 -0.20277516\n",
      "   -0.09243082]\n",
      "  [ 0.61308805  1.13157874 -0.37547481 -0.93738494 -0.72714967\n",
      "   -0.13471224]]\n",
      "\n",
      " [[ 0.12271983  0.72744884  0.07499603  0.19624746 -0.97130027\n",
      "    0.24047751]\n",
      "  [-0.10838374  0.36549895 -0.53044892  0.21920808 -0.41894674\n",
      "   -0.12161373]\n",
      "  [ 0.5756363   0.66192994  0.34478068 -0.41911888 -0.36571545\n",
      "   -0.21699069]]\n",
      "\n",
      " [[ 0.34313284  0.47791973 -0.07421252  0.20662352 -0.87125816\n",
      "   -0.02436402]\n",
      "  [ 0.09468831  0.31269736 -0.31467632  0.29748552 -0.54153618\n",
      "   -0.2947006 ]\n",
      "  [-0.02346966  0.63947901 -0.47209297 -0.04324441 -0.51834788\n",
      "   -0.01982571]]\n",
      "\n",
      " [[ 0.19181091  0.43937988  0.01072851  0.30992938 -0.64633399\n",
      "   -0.29797874]\n",
      "  [ 0.30171129  0.34000351  0.21123339  0.26620739  0.0670621\n",
      "   -0.44782343]\n",
      "  [ 0.30767592  0.60060431 -0.19535927 -0.0969966  -0.56337432\n",
      "    0.35244878]]\n",
      "\n",
      " [[ 0.11799502  0.29109034  0.43016514  0.03683311 -0.57986611\n",
      "   -0.17879448]\n",
      "  [ 0.36295293  0.64516397  0.239593    0.2867203  -0.0407612\n",
      "   -0.25947846]\n",
      "  [ 0.18901916  0.49459898 -0.4339055   0.08245769 -0.64307492\n",
      "   -0.02548672]]]\n",
      "hn [[ 0.11799502  0.29109034  0.43016514  0.03683311 -0.57986611 -0.17879448]\n",
      " [ 0.36295293  0.64516397  0.239593    0.2867203  -0.0407612  -0.25947846]\n",
      " [ 0.18901916  0.49459898 -0.4339055   0.08245769 -0.64307492 -0.02548672]]\n",
      "dinput: [array([[-0.23489668, -0.12348896, -0.05190273,  0.57847168],\n",
      "       [-0.15558714, -0.13020407, -0.05741823,  0.1094274 ],\n",
      "       [-0.14672895,  0.07799611, -0.21999369,  0.13940936]]), array([[ 0.13680377,  0.08637206,  0.21385975, -0.41469662],\n",
      "       [ 0.10127119,  0.17435545,  0.16505576, -0.03071139],\n",
      "       [ 0.06449638,  0.06019229,  0.01392103,  0.04667557]]), array([[ 0.12388398, -0.2657362 ,  0.0933225 , -0.35417794],\n",
      "       [-0.34105004,  0.74396999, -0.32571019,  0.36628756],\n",
      "       [ 0.15553805,  0.04390188,  0.0305535 ,  0.06263394]]), array([[-0.38271394,  0.2701076 , -0.90961594,  0.64856717],\n",
      "       [-0.08300746, -0.07048701, -0.03863535, -0.01807233],\n",
      "       [ 0.01510749, -0.05689009, -0.013502  , -0.03747616]]), array([[ 0.10931122,  0.10393491, -0.33652039,  0.15005094],\n",
      "       [-0.14981198, -0.86746276,  0.57690117, -0.07357825],\n",
      "       [ 0.18013041,  0.26644269,  0.04031855, -0.0781936 ]])]\n"
     ]
    }
   ],
   "source": [
    "#test_LSTM=\"LSTM\"\n",
    "test_LSTM=\"GRU\"\n",
    "reverse = True\n",
    "np.random.seed(1)\n",
    "\n",
    "seq_len,batch_size,input_size,hidden_size = 5,3,4,6\n",
    "\n",
    "if  test_LSTM==\"RNN_TANH\":\n",
    "    rnn_ = RNNLayer(\"RNN_TANH\",input_size, hidden_size,reverse = reverse)\n",
    "elif test_LSTM==\"GRU\":\n",
    "    rnn_ = RNNLayer('GRU',input_size, hidden_size,reverse = reverse)\n",
    "else:\n",
    "    rnn_ = RNNLayer('LSTM',input_size, hidden_size,reverse = reverse)\n",
    "\n",
    "input  = np.random.randn(seq_len,batch_size,input_size) \n",
    "if reverse:\n",
    "    input = input[::-1]\n",
    "\n",
    "h0 = np.random.randn(batch_size, hidden_size)\n",
    "c0 = np.random.randn(batch_size, hidden_size)\n",
    "\n",
    "if  test_LSTM==\"LSTM\":\n",
    "    output,hn= rnn_(input, (h0,c0))\n",
    "else:\n",
    "    output,hn= rnn_(input, h0)\n",
    "print(\"output\",output)\n",
    "print(\"hn\",hn)\n",
    "\n",
    "#------test backward---    \n",
    "do = np.random.randn(*output.shape)\n",
    "dinput = rnn_.backward(do,input)#,rnn_.hs)#output)\n",
    "print(\"dinput:\",dinput)"
   ]
  },
  {
   "cell_type": "markdown",
   "metadata": {
    "pycharm": {
     "name": "#%% md\n"
    }
   },
   "source": [
    "在上述循环神经网络层的基础上，可以很方便地实现多层双向循环神经网络，RNNBase实现了一个双向多层循环神经网络："
   ]
  },
  {
   "cell_type": "code",
   "execution_count": 69,
   "metadata": {
    "pycharm": {
     "name": "#%%\n"
    }
   },
   "outputs": [],
   "source": [
    "from Layers  import *\n",
    "class RNNBase_(Layer):\n",
    "    __constants__ = ['mode', 'input_size', 'hidden_size', 'num_layers', 'bias',\n",
    "                     'batch_first', 'dropout', 'bidirectional']\n",
    "\n",
    "    def __init__(self, mode, input_size, hidden_size,\n",
    "                 num_layers=1, bias=True, batch_first=False,\n",
    "                 dropout=0., bidirectional=False):\n",
    "        super(RNNBase_, self).__init__()\n",
    "        self.mode = mode\n",
    "        self.input_size = input_size\n",
    "        self.hidden_size = hidden_size\n",
    "        self.num_layers = num_layers\n",
    "        self.bias = bias\n",
    "        self.batch_first = batch_first\n",
    "        self.dropout = float(dropout)\n",
    "        self.bidirectional = bidirectional\n",
    "        num_directions = 2 if bidirectional else 1\n",
    "        self.num_directions = num_directions\n",
    "\n",
    "        if not isinstance(dropout, float) or not 0 <= dropout <= 1 or \\\n",
    "                isinstance(dropout, bool):\n",
    "            raise ValueError(\"dropout should be a number in range [0, 1] \"\n",
    "                             \"representing the probability of an element being \"\n",
    "                             \"zeroed\")\n",
    "        if dropout > 0 and num_layers == 1:\n",
    "            warnings.warn(\"dropout option adds dropout after all but last \"\n",
    "                          \"recurrent layer, so non-zero dropout expects \"\n",
    "                          \"num_layers greater than 1, but got dropout={} and \"\n",
    "                          \"num_layers={}\".format(dropout, num_layers))\n",
    "\n",
    "        if False:\n",
    "            if mode == 'LSTM':\n",
    "                gate_size = 4 * hidden_size\n",
    "            elif mode == 'GRU':\n",
    "                gate_size = 3 * hidden_size\n",
    "            elif mode == 'RNN_TANH':\n",
    "                gate_size = hidden_size\n",
    "            elif mode == 'RNN_RELU':\n",
    "                gate_size = hidden_size\n",
    "            else:\n",
    "                raise ValueError(\"Unrecognized RNN mode: \" + mode)\n",
    "\n",
    "        self.layers = []\n",
    "        self.params = []\n",
    "        self.grads = []\n",
    "        self._all_weights = []\n",
    "        for layer in range(num_layers):\n",
    "            layer_input_size = input_size if layer == 0 else hidden_size\n",
    "            for direction in range(num_directions):\n",
    "                if direction==0:\n",
    "                    rnnlayer = RNNLayer(mode,layer_input_size, hidden_size,reverse = False)\n",
    "                else:\n",
    "                    rnnlayer = RNNLayer(mode,layer_input_size, hidden_size,reverse = True)\n",
    "                self.layers.append(rnnlayer)\n",
    "                \n",
    "                self.params+=   rnnlayer.cell.params\n",
    "                self.grads+=   rnnlayer.cell.grads\n",
    "    def init_hidden(self, batch_size):\n",
    "        num_layers,num_directions = self.num_layers,self.num_directions\n",
    "        selh.h0 = []\n",
    "        for layer in self.layers:\n",
    "            h0 = layer.init_hidden(batch_size)  \n",
    "            selh.h0.append(h0)\n",
    "        return self.h0\n",
    "    \n",
    "    def forward(self,input,h=None,batch_sizes = None):\n",
    "        num_layers,num_directions = self.num_layers,self.num_directions  \n",
    "        mode = self.mode  \n",
    "        seq_len,batch_size = input.shape[0], input.shape[1]   \n",
    "        if h is None:  \n",
    "            h = self.init_hidden(batch_size)\n",
    "        self.h = h #h.copy()\n",
    "        hs = []\n",
    "        hns = []                                \n",
    "        for i in range(num_layers):  \n",
    "            for j in range(num_directions):\n",
    "                l=  i*num_directions+j     \n",
    "                x = input if i == 0 else hs[l-num_directions]\n",
    "                layer = self.layers[l]\n",
    "                print(i,j,x.shape,h[l].shape)\n",
    "                output,hn = layer(x,h[l])\n",
    "                hs.append(output)\n",
    "                hns.append(hn)\n",
    "        self.hs = np.array(hs)\n",
    "        #return output,hns\n",
    "        output = self.hs[-1] if num_directions==1 else self.hs[-num_directions:]\n",
    "        return output,np.array(hns)\n",
    "        #return self.hs[-num_directions:],np.array(hns)\n",
    "    \n",
    "    def __call__(self,input,h=None,batch_sizes = None):\n",
    "        return self.forward(input,h,batch_sizes)\n",
    "    \n",
    "    def backward(self, dhs,input):#,hs):  \n",
    "        num_layers,num_directions = self.num_layers,self.num_directions\n",
    "        if False:        \n",
    "            if hs is None:\n",
    "                hs,_ = self.forward(input)\n",
    "        else:\n",
    "            if self.hs is None:\n",
    "                self.hs,_ = self.forward(input)\n",
    "            hs = self.hs\n",
    "        \n",
    "        dhs = [dhs[j] for j in range(num_directions)] if num_directions==2 else [dhs]\n",
    "        for i in reversed(range(num_layers)):  \n",
    "            for j in (range(num_directions)):\n",
    "                l=  i*num_directions+j   \n",
    "                layer = self.layers[l]\n",
    "                if i==0:\n",
    "                    x = input\n",
    "                else:\n",
    "                    x = self.layers[l-num_directions].hs\n",
    "                dhs[j] = layer.backward(dhs[j],x)\n",
    "        \n",
    "        return dhs"
   ]
  },
  {
   "cell_type": "markdown",
   "metadata": {
    "pycharm": {
     "name": "#%% md\n"
    }
   },
   "source": [
    "测试一下这个RNNBase_类："
   ]
  },
  {
   "cell_type": "code",
   "execution_count": 70,
   "metadata": {
    "pycharm": {
     "name": "#%%\n"
    }
   },
   "outputs": [
    {
     "name": "stdout",
     "output_type": "stream",
     "text": [
      "0 0 (5, 3, 4) (3, 6)\n",
      "1 0 (5, 3, 6) (3, 6)\n",
      "output.shape (5, 3, 6)\n",
      "output [[[ 3.24486260e-01  6.56674130e-01  8.68435304e-01  5.09315941e-01\n",
      "    5.29784714e-01 -1.05821617e+00]\n",
      "  [-4.45235395e-01 -8.78507584e-04  4.82631427e-03  1.92588270e-02\n",
      "   -2.76288768e-01 -1.64919319e-01]\n",
      "  [-1.18117119e-01  6.58384960e-01 -5.01438389e-01  2.11906306e-01\n",
      "    7.13512787e-01 -1.10509111e-01]]\n",
      "\n",
      " [[ 1.28929605e-01  3.34295888e-01  8.06758802e-01 -1.71076528e-02\n",
      "    5.93009642e-01 -8.17782989e-01]\n",
      "  [-5.68243320e-01 -2.31040963e-01  8.08523747e-02 -6.52589763e-02\n",
      "    1.64704303e-01 -2.64589517e-01]\n",
      "  [ 2.41632617e-02  2.03820943e-01 -5.26430939e-01 -1.68229509e-01\n",
      "    5.49005106e-01 -6.66190458e-02]]\n",
      "\n",
      " [[-9.59243983e-02  1.39907427e-01  6.87706734e-01 -1.99017474e-01\n",
      "    6.20206686e-01 -6.20928098e-01]\n",
      "  [-5.70379783e-01 -2.27599285e-01  2.93622403e-02 -6.17578519e-02\n",
      "    3.58629218e-01 -1.63406067e-01]\n",
      "  [-1.32293952e-01 -8.84043163e-02 -4.81944935e-01 -1.72222810e-01\n",
      "    4.80312719e-01 -1.44052329e-01]]\n",
      "\n",
      " [[-2.33828461e-01 -7.94904476e-02  3.78104418e-01 -2.71385688e-01\n",
      "    5.63950924e-01 -5.28886447e-01]\n",
      "  [-5.89455407e-01 -3.06188324e-01  1.79936900e-01 -2.99958067e-02\n",
      "    4.63449151e-01 -2.46309325e-01]\n",
      "  [-3.21599178e-01 -2.70264480e-01 -2.88450946e-01 -1.01845976e-01\n",
      "    4.89243868e-01 -2.96653100e-01]]\n",
      "\n",
      " [[-3.37791446e-01 -1.35121176e-01  9.17178348e-02 -2.07543708e-01\n",
      "    5.00013950e-01 -3.60088562e-01]\n",
      "  [-6.07269374e-01 -3.49723084e-01  1.78905060e-01 -1.72220078e-02\n",
      "    5.12119093e-01 -2.48211954e-01]\n",
      "  [-4.24259363e-01 -2.86555458e-01 -1.68159396e-01 -4.35218931e-02\n",
      "    4.90992103e-01 -2.67618575e-01]]]\n",
      "dinput: [[array([[ 0.29715672,  0.36176309,  0.03057361, -0.15006458],\n",
      "       [-0.19732804,  0.07178479, -0.00349377, -0.04084217],\n",
      "       [ 0.12726689,  0.13620428, -0.00775011, -0.13197159]]), array([[ 0.25373234,  0.20271913,  0.01523221, -0.13262727],\n",
      "       [-0.17376956,  0.21947404,  0.16231807, -0.14760013],\n",
      "       [ 0.09063624,  0.01170992, -0.11187428,  0.02442987]]), array([[ 0.13731726,  0.05736737, -0.01935522,  0.07918607],\n",
      "       [-0.14284039,  0.15649727,  0.15710445, -0.10660712],\n",
      "       [-0.00252188, -0.0009455 ,  0.10236473, -0.13039081]]), array([[ 0.14238246, -0.02298069, -0.05433976,  0.04703113],\n",
      "       [-0.02046404,  0.017567  ,  0.08004208, -0.11585003],\n",
      "       [ 0.01844267, -0.0293929 ,  0.12016862, -0.18702739]]), array([[-0.03153968,  0.03676516, -0.04423979,  0.07732338],\n",
      "       [-0.00162189, -0.002211  ,  0.01068066, -0.00083353],\n",
      "       [ 0.06420445, -0.05281708,  0.05388969, -0.09821359]])]]\n"
     ]
    }
   ],
   "source": [
    "import numpy  as np\n",
    "np.random.seed(1)\n",
    "reverse = False\n",
    "num_layers = 2\n",
    "\n",
    "seq_len,batch_size,input_size,hidden_size = 5,3,4,6\n",
    "\n",
    "input = np.random.randn(seq_len,batch_size,input_size) \n",
    "test_LSTM = 'GRU'\n",
    "if  test_LSTM==\"RNN_TANH\":\n",
    "    rnn = RNNBase_(\"RNN_TANH\",input_size,hidden_size,num_layers)\n",
    "elif test_LSTM==\"GRU\":\n",
    "    rnn = RNNBase_('GRU',input_size,hidden_size,num_layers)\n",
    "else:\n",
    "    rnn = RNNBase_('LSTM',input_size,hidden_size,num_layers)\n",
    "    \n",
    "h_0 = np.random.randn(num_layers, batch_size, hidden_size) \n",
    "output, hn = rnn(input, h_0)\n",
    "print(\"output.shape\",output.shape)  #(seq_len,batch_size,hidden_size)\n",
    "print(\"output\",output) \n",
    "\n",
    "do = np.random.randn(*output.shape)\n",
    "dinput = rnn.backward(do,input)\n",
    "print(\"dinput:\",dinput)"
   ]
  },
  {
   "cell_type": "markdown",
   "metadata": {
    "pycharm": {
     "name": "#%% md\n"
    }
   },
   "source": [
    "## 7.11 序列到序列（seq2seq）模型\n",
    "\n",
    "### 7.11.2 Seq2Seq模型的实现\n",
    "\n",
    "下面的编码器EncoderRNN就是一个GRU神经网络，和前面的GRU类唯一不同的就是添加了一个辅助函数 word2vec()，将单词索引序列word_indices_input转化为one-hot向量，EncoderRNN就是一个GRU，因此其构造函数的参数和GRU的参数是一样的，input_size, hidden_size分别表示输入数据的长度和隐状态向量的长度。"
   ]
  },
  {
   "cell_type": "code",
   "execution_count": null,
   "metadata": {
    "pycharm": {
     "name": "#%%\n"
    }
   },
   "outputs": [],
   "source": [
    "#from rnn import *\n",
    "def one_hot(size,indices,expend = False):\n",
    "    x =  np.eye(size)[indices.reshape(-1)]\n",
    "    if expend:\n",
    "        x = np.expand_dims(x, axis=1) \n",
    "    return x\n",
    "\n",
    "class EncoderRNN(object):\n",
    "    def __init__(self, input_size, hidden_size,num_layers = 1):\n",
    "        super(EncoderRNN, self).__init__()\n",
    "        self.input_size,self.hidden_size = input_size,hidden_size\n",
    "        self.num_layers = num_layers\n",
    "        #self.embedding = Embedding(input_size, hidden_size)\n",
    "        self.gru = GRU(input_size, hidden_size,1)\n",
    "\n",
    "    def word2vec(self,word_indices_input):\n",
    "        return one_hot(self.input_size,word_indices_input,True)  \n",
    "    \n",
    "    def forward(self, word_indices_input, hidden):\n",
    "        #self.encode_input = one_hot(self.input_size,word_indices_input,True) \n",
    "        self.encode_input =self.word2vec(word_indices_input)       \n",
    "        output, hidden = self.gru(self.encode_input, hidden)       \n",
    "        return output, hidden\n",
    "      \n",
    "    def __call__(self,word_indices_input, hidden):\n",
    "        return self.forward(word_indices_input, hidden)\n",
    "    \n",
    "    def initHidden(self,batch_size=1):       \n",
    "        return   np.zeros((self.num_layers, batch_size, self.hidden_size))      \n",
    "    \n",
    "    def parameters(self):\n",
    "        return self.gru.parameters()\n",
    " \n",
    "    def backward(self,dhs): \n",
    "        dinput,dhidden = self.gru.backward(dhs,self.encode_input) "
   ]
  },
  {
   "cell_type": "markdown",
   "metadata": {
    "pycharm": {
     "name": "#%% md\n"
    }
   },
   "source": [
    "解码器DecoderRNN类的代码如下："
   ]
  },
  {
   "cell_type": "code",
   "execution_count": null,
   "metadata": {
    "pycharm": {
     "name": "#%%\n"
    }
   },
   "outputs": [],
   "source": [
    "class  DecoderRNN(object):\n",
    "    def __init__(self,input_size,hidden_size, output_size,num_layers=1,teacher_forcing_ratio = 0.5):\n",
    "       # super(DecoderRNN, self).__init__()    \n",
    "        super().__init__()    \n",
    "        self.input_size = input_size\n",
    "        self.hidden_size = hidden_size       \n",
    "        self.num_layers = num_layers   \n",
    "        self.teacher_forcing_ratio = teacher_forcing_ratio\n",
    "        \n",
    "        self.gru = GRU(input_size,hidden_size,num_layers)\n",
    "        self.out = Dense(hidden_size, output_size)\n",
    "        \n",
    "        self.layers = [self.gru,self.out]        \n",
    "        self._params = None        \n",
    "\n",
    "    def initHidden(self,batch_size=1):      \n",
    "        self.h_0 =  np.zeros((self.num_layers, batch_size, self.hidden_size))\n",
    "    \n",
    "    def word2vec(self,input_t):\n",
    "        return one_hot(self.input_size,input_t,True)\n",
    "    \n",
    "    def forward_step(self, input_t, hidden):        \n",
    "        gru_input = self.word2vec(input_t)        \n",
    "        self.input.append(gru_input) \n",
    "        output_hs, hidden = self.gru(gru_input,hidden)\n",
    "        output = self.out(output_hs[0])        \n",
    "        return output,hidden,output_hs[0]     \n",
    "   \n",
    "    def forward(self,input_tensor,hidden):   \n",
    "        teacher_forcing_ratio = self.teacher_forcing_ratio\n",
    "        use_teacher_forcing = True if random.random() < teacher_forcing_ratio else False\n",
    "        #use_teacher_forcing = True\n",
    "        self.input = []        \n",
    "        \n",
    "        output_hs = []\n",
    "        output = []\n",
    "        hidden_t = hidden\n",
    "        h_0 = hidden.copy()\n",
    "        \n",
    "        input_t = np.array([SOS_token])\n",
    "        #input_seq = []       \n",
    "        hs = []\n",
    "        zs = []\n",
    "     \n",
    "        target_length = input_tensor.shape[0]\n",
    "        for t in range(target_length):\n",
    "           # input_seq.append(input_t[0])        \n",
    "           # print(\"type(input_t),input_t\",type(input_t),input_t)\n",
    "            \n",
    "            output_t, hidden_t,output_hs_t = self.forward_step(\n",
    "                input_t, hidden_t)\n",
    "           \n",
    "            #保存每一时刻的计算结果\n",
    "            hs.append(self.gru.hs) #隐状态\n",
    "            zs.append(self.gru.zs) #中间变量            \n",
    "            output_hs.append(output_hs_t)\n",
    "            output.append(output_t)\n",
    "           \n",
    "            if use_teacher_forcing:\n",
    "                input_t = input_tensor[t]  # Teacher forcing\n",
    "            else:             \n",
    "                input_t = np.argmax(output_t)  #最大概率\n",
    "                if input_t== EOS_token:\n",
    "                    break \n",
    "                input_t = np.array([input_t])\n",
    "         \n",
    "        output = np.array(output)\n",
    "        self.output_hs = np.array(output_hs)\n",
    "        self.h_0 = h_0         \n",
    "        self.hs = np.concatenate(hs, axis=1)\n",
    "        self.zs = np.concatenate(zs, axis=1)\n",
    "        \n",
    "        #self.input_seq = input_seq        \n",
    "        #return  output,input_seq\n",
    "        return  output    \n",
    "    \n",
    "    def __call__(self, input, hidden):\n",
    "        return self.forward(input, hidden)       \n",
    "    \n",
    "    def evaluate(self, hidden,max_length):\n",
    "        # input:(1, batch_size=1, input_size)  \n",
    "        input = np.array([SOS_token])\n",
    "        decoded_word_indices = []\n",
    "        for t in range(max_length):         \n",
    "            output,hidden,_ = self.forward_step(input, hidden)\n",
    "            output = np.argmax(output)         \n",
    "            if output==EOS_token:\n",
    "                break;\n",
    "            else:           \n",
    "                decoded_word_indices.append(output)\n",
    "                input = np.array([output])\n",
    "                \n",
    "        return decoded_word_indices\n",
    "        #return  indexToSentence(output_lang,decoded_words)\n",
    "        #return  indexToSentence(output_verb,decoded_words)       \n",
    "    \n",
    "    def backward(self,dZs):\n",
    "        dhs = []\n",
    "        #output_hs,input_seq = self.output_hs,self.input_seq       \n",
    "        output_hs = self.output_hs\n",
    "        input = np.concatenate(self.input,axis=0)        \n",
    "        \n",
    "        for i in range(len(input)):\n",
    "            self.out.x = output_hs[i]\n",
    "            dh = self.out.backward(dZs[i])\n",
    "            dhs.append(dh)\n",
    "        dhs = np.array(dhs)\n",
    "        \n",
    "        self.gru.hs = self.hs\n",
    "        self.gru.zs = self.zs\n",
    "        self.gru.h = self.h_0\n",
    "      \n",
    "        dinput,dhidden = self.gru.backward(dhs,input) \n",
    "        return dinput,dhidden \n",
    "    \n",
    "  #  def backward_dh(self,dZ):\n",
    "  #      dh = self.out.backward(dZ)\n",
    "  #      return dh \n",
    "    \n",
    "    def parameters(self):\n",
    "        if self._params is None:\n",
    "            self._params = []\n",
    "            for layer in self.layers:\n",
    "                for  i, _ in enumerate(layer.params):  \n",
    "                    self._params.append([layer.params[i],layer.grads[i]])  \n",
    "        return self._params"
   ]
  },
  {
   "cell_type": "markdown",
   "metadata": {
    "pycharm": {
     "name": "#%% md\n"
    }
   },
   "source": [
    "下面的函数train()接受输入的一对输入输出序列input_tensor和target_tensor，以及编码器、解码器及其优化器encoder, decoder, encoder_optimizer, decoder_optimizer，还有用于计算模型损失的函数loss_fn和正则项系数reg。train()对模型进行一次模型参数的训练更新，先根据input_tensor计算编码器的输出encoder_output, encoder_hidden，然后将最后时刻的隐状态encoder_hidden作为解码器的输入，并和target_tensor一起用于计算解码器最终的预测输出output。然后根据这个预测的输出output和target计算交叉熵损失和该损失关于output的梯度grad，接着用decoder.backward(grad)对解码器反向求导，输出的是关于编码器的输出encoder_hidden的梯度dhidden，根据这个梯度继续对编码器进行反向求导。最后更新模型参数。在更新模型参数前，可以用clip_grad_norm_nn对梯度进行裁剪，防止梯度爆炸。"
   ]
  },
  {
   "cell_type": "code",
   "execution_count": null,
   "metadata": {
    "pycharm": {
     "name": "#%%\n"
    }
   },
   "outputs": [],
   "source": [
    "def train_step(input_tensor, target_tensor, encoder, decoder, encoder_optimizer, decoder_optimizer, loss_fn,reg,max_length=0):\n",
    "    clip = 5.\n",
    "  #  encoder_hidden = encoder.initHidden()\n",
    "\n",
    "    encoder_optimizer.zero_grad()\n",
    "    decoder_optimizer.zero_grad()\n",
    "\n",
    "    input_length = input_tensor.shape[0] #input_tensor.size(0)\n",
    "    \n",
    "    loss = 0\n",
    "    encode_input = input_tensor    \n",
    "    encoder_output, encoder_hidden = encoder(encode_input, None)   \n",
    "    decoder_hidden = encoder_hidden\n",
    "    #output,input_seq = decoder(target_tensor, decoder_hidden) \n",
    "    output = decoder(target_tensor, decoder_hidden) \n",
    "    \n",
    "    target = target_tensor.reshape(-1,1)\n",
    "    if output.shape[0]!= target.shape[0]:       \n",
    "        target = target[:output.shape[0],:]      \n",
    "    loss,grad = loss_fn(output, target)    \n",
    "    loss /=(output.shape[0])\n",
    "    \n",
    "    dinput,dhidden = decoder.backward(grad)\n",
    "    encoder.backward(dhidden[0]) #,encode_input)\n",
    "  \n",
    "    if reg is not None:\n",
    "        loss+=encoder_optimizer.regularization(reg)\n",
    "        loss+=decoder_optimizer.regularization(reg)\n",
    "\n",
    "    util.clip_grad_norm_nn(encoder_optimizer.parameters(),clip,None)\n",
    "    util.clip_grad_norm_nn(decoder_optimizer.parameters(),clip,None)\n",
    "    \n",
    "    encoder_optimizer.step()\n",
    "    decoder_optimizer.step()\n",
    "    \n",
    "    return loss\n",
    "    #return loss.item() / target_length"
   ]
  },
  {
   "cell_type": "markdown",
   "metadata": {
    "pycharm": {
     "name": "#%% md\n"
    }
   },
   "source": [
    "迭代调用train()函数可以迭代的更新模型参数。函数trainIters()完成这个过程，并在迭代过程中可以输出中间的一些训练结果模型，如输出训练误差和验证误差。"
   ]
  },
  {
   "cell_type": "code",
   "execution_count": null,
   "metadata": {
    "pycharm": {
     "name": "#%%\n"
    }
   },
   "outputs": [],
   "source": [
    "import numpy as np\n",
    "import time\n",
    "import math\n",
    "import matplotlib.pyplot as plt\n",
    "%matplotlib inline\n",
    "\n",
    "def timeSince(start):\n",
    "    now = time.time()\n",
    "    s = now - start  \n",
    "    m = math.floor(s / 60)\n",
    "    s -= m * 60\n",
    "    return '%dm %ds' % (m, s)\n",
    "\n",
    "def trainIters(encoder, decoder, encoder_optimizer,decoder_optimizer,train_pairs,valid_pairs,print_every=1000, plot_every=100, reg =None):\n",
    "    start = time.time()\n",
    "    valid_losses = []\n",
    "    plot_losses = []\n",
    "    print_loss_total = 0  # Reset every print_every\n",
    "    plot_loss_total = 0  # Reset every plot_every    \n",
    "   \n",
    "#    training_pairs = [tensorsFromPair(random.choice(train_pairs))      for i in range(n_iters)]\n",
    "    training_pairs = train_pairs\n",
    " \n",
    "    #criterion = nn.CrossEntropyLoss() #nn.NLLLoss()\n",
    "    loss_fn =  util.rnn_loss_grad\n",
    "    \n",
    "    for iter in range(1, n_iters + 1):        \n",
    "        pair = training_pairs[iter - 1]\n",
    "        input_tensor,target_tensor = pair[0],pair[1]     \n",
    "       \n",
    "        loss = train_step(input_tensor, target_tensor, encoder,\n",
    "                     decoder, encoder_optimizer, decoder_optimizer, loss_fn,reg)\n",
    "        if loss is None: continue\n",
    "       \n",
    "        print_loss_total += loss\n",
    "        plot_loss_total += loss\n",
    "\n",
    "        if iter % print_every == 0:\n",
    "            print_loss_avg = print_loss_total / print_every\n",
    "            print_loss_total = 0\n",
    "            print('%s (%d %d%%) %.4f' % (timeSince(start),\n",
    "                                         iter, iter / n_iters * 100, print_loss_avg))\n",
    "\n",
    "        if iter % plot_every == 0:\n",
    "            plot_loss_avg = plot_loss_total / plot_every\n",
    "            plot_losses.append(plot_loss_avg)\n",
    "         #   plot_losses.append(loss)\n",
    "            plot_loss_total = 0\n",
    "            \n",
    "            plt.plot(plot_losses)\n",
    "            \n",
    "            valid_losses.append(validation_loss(encoder, decoder, valid_pairs,20,reg))\n",
    "            plt.plot(valid_losses)           \n",
    "            plt.legend([\"train_losses\",\"valid_losses\"])\n",
    "            plt.show()\n",
    "\n",
    "def validation_loss(encoder, decoder, valid_pairs,validation_size = None,reg =None):    \n",
    "    if validation_size is not None:\n",
    "        #valid_pairs = [tensorsFromPair(random.choice(valid_pairs))for i in range(validation_size)]\n",
    "        valid_pairs = [random.choice(valid_pairs) for i in range(validation_size)]\n",
    "    total_loss = 0\n",
    "    loss_fn =  util.rnn_loss_grad\n",
    "    \n",
    "    teacher_forcing_ratio = decoder.teacher_forcing_ratio \n",
    "    decoder.teacher_forcing_ratio = 1.1\n",
    "    for pair in valid_pairs:\n",
    "        encode_input = pair[0]   \n",
    "        target_tensor = pair[1]   \n",
    "        \n",
    "        encoder_output, encoder_hidden = encoder(encode_input, None)   \n",
    "        decoder_hidden = encoder_hidden\n",
    "        output = decoder(target_tensor, decoder_hidden) \n",
    "\n",
    "        \n",
    "        target = target_tensor.reshape(-1,1)\n",
    "        if output.shape[0]!= target.shape[0]:\n",
    "            target = target[:output.shape[0],:]        \n",
    "        loss,grad = loss_fn(output, target)    \n",
    "        loss /=(output.shape[0])\n",
    "       \n",
    "        if reg is not None:\n",
    "            params = encoder.parameters()+decoder.parameters()\n",
    "            reg_loss =0\n",
    "            for p,grad in params:            \n",
    "                 reg_loss+= np.sum(p**2)\n",
    "            loss += reg*reg_loss\n",
    "    \n",
    "        total_loss += loss\n",
    "        \n",
    "    decoder.teacher_forcing_ratio = teacher_forcing_ratio \n",
    "    return total_loss/len(valid_pairs)"
   ]
  },
  {
   "cell_type": "markdown",
   "metadata": {
    "pycharm": {
     "name": "#%% md\n"
    }
   },
   "source": [
    "### 7.11.3 字符级机器翻译的Seq2Seq\n",
    "\n",
    "类ChVerb用于表示一种语言的字符单词表，即其中记录了有哪些字符、每个字符和其在字符单词表中的索引的对应关系。其中用'\\t','\\n'分别表示特殊的开始字符和结束字符，它们对应的单词表索引分别为0和1。\n",
    "\n",
    "#### 1. 字符单词表"
   ]
  },
  {
   "cell_type": "code",
   "execution_count": null,
   "metadata": {
    "pycharm": {
     "name": "#%%\n"
    }
   },
   "outputs": [],
   "source": [
    "SOS_token = 0\n",
    "EOS_token = 1\n",
    "\n",
    "class ChVerb:\n",
    "    def __init__(self, name):\n",
    "        self.name = name\n",
    "       \n",
    "        self.char2index = {'\\t':0, '\\n':1}      \n",
    "        self.index2char = {0: '\\t', 1: '\\n'}\n",
    "        self.n_chars = 2  # Count SOS and EOS\n",
    "\n",
    "    def addChars(self, chars):\n",
    "        for char in chars:\n",
    "            self.addChar(char)\n",
    "\n",
    "    def addChar(self, char):\n",
    "        if char not in self.char2index:\n",
    "            self.char2index[char] = self.n_chars           \n",
    "            self.index2char[self.n_chars] = char\n",
    "            self.n_chars += 1  "
   ]
  },
  {
   "cell_type": "markdown",
   "metadata": {
    "pycharm": {
     "name": "#%% md\n"
    }
   },
   "source": [
    "#### 2 读取训练样本、构建字符单词表"
   ]
  },
  {
   "cell_type": "code",
   "execution_count": null,
   "metadata": {
    "pycharm": {
     "name": "#%%\n"
    }
   },
   "outputs": [],
   "source": [
    "import numpy as np\n",
    "import random\n",
    "import re\n",
    "import unicodedata\n",
    "random.seed(1)\n",
    "\n",
    "#Normalize every sentence\n",
    "#you will normalize it to lower case,\n",
    "#remove all non-character\n",
    "#convert to ASCII from Unicode\n",
    "#split the sentences, so you have each word in it.\n",
    "\n",
    "def unicodeToAscii(sentence):\n",
    "    return ''.join(\n",
    "        c for c in unicodedata.normalize('NFD', sentence)\n",
    "        if unicodedata.category(c) != 'Mn'\n",
    "    )\n",
    "\n",
    "def normalize_sentence(sentence):    \n",
    "    sentence = unicodeToAscii(sentence.lower().strip())\n",
    "    #return sentence\n",
    "    sentence = re.sub(r\"([.!?])\", r\" \\1\", sentence)\n",
    "    sentence = re.sub(r\"[^a-zA-Z.!?]+\", r\" \", sentence)\n",
    "    return sentence\n",
    "\n",
    "\n",
    "MAX_LENGTH  =10\n",
    "\n",
    "eng_prefixes = (\n",
    "    \"i am \", \"i m \",\n",
    "    \"he is\", \"he s \",\n",
    "    \"she is\", \"she s \",\n",
    "    \"you are\", \"you re \",\n",
    "    \"we are\", \"we re \",\n",
    "    \"they are\", \"they re \"\n",
    ")\n",
    "\n",
    "def filterPair(p):  \n",
    "    return  True\n",
    "    return len(p[0].split(' ')) < MAX_LENGTH and \\\n",
    "        len(p[1].split(' ')) < MAX_LENGTH and \\\n",
    "        p[1].startswith(eng_prefixes)\n",
    "\n",
    "\n",
    "def filterPairs(pairs):\n",
    "    return [pair for pair in pairs if filterPair(pair)]\n",
    "\n",
    "\n",
    "def prepareData(lang_from, lang_to, reverse=False):   \n",
    "     # construct verb   \n",
    "    if reverse:\n",
    "        in_verb = ChVerb(lang_to)\n",
    "        out_verb = ChVerb(lang_from)\n",
    "    else:\n",
    "        in_verb = ChVerb(lang_from)\n",
    "        out_verb = ChVerb(lang_to)\n",
    "        \n",
    "    #read pairs    \n",
    "    data_path = 'data/%s-%s/%s.txt' % (lang_to, lang_from,lang_to) \n",
    "    with open(data_path, 'r', encoding='utf-8') as f:\n",
    "        lines = f.read().strip().split('\\n')\n",
    "        pairs = [[normalize_sentence(s) for s in l.split('\\t')][:2] for l in lines]\n",
    "        \n",
    "        if reverse:\n",
    "            pairs = [list(reversed(p)) for p in pairs]\n",
    "\n",
    "    pairs = filterPairs(pairs)\n",
    "    for pair in pairs:        \n",
    "        in_verb.addChars(pair[0])\n",
    "        out_verb.addChars(pair[1])\n",
    "       \n",
    "    return in_verb, out_verb, pairs\n",
    "\n",
    "\n",
    "in_verb, out_verb, pairs = prepareData( 'eng','fra',True) # False)\n",
    "\n",
    "print(\"Read %s sentence pairs\" % len(pairs))  \n",
    "print(\"Counted chars:\")\n",
    "print(in_verb.name, in_verb.n_chars)\n",
    "print(out_verb.name, out_verb.n_chars)\n",
    "for i in range(5):\n",
    "    print(random.choice(pairs))\n",
    "print(pairs[3])"
   ]
  },
  {
   "cell_type": "markdown",
   "metadata": {
    "pycharm": {
     "name": "#%% md\n"
    }
   },
   "source": [
    "下面的代码在这些训练样本的文字句子的字符单词和单词表索引进行互相转换："
   ]
  },
  {
   "cell_type": "code",
   "execution_count": null,
   "metadata": {
    "pycharm": {
     "name": "#%%\n"
    }
   },
   "outputs": [],
   "source": [
    "def indexToSentence(verb, indexes):\n",
    "    sentense = [verb.index2char[idx] for idx in indexes]    \n",
    "    return ''.join(sentense)\n",
    "\n",
    "def indexesFromSentence(verb, sentence):\n",
    "    return [verb.char2index[char] for char in sentence]\n",
    "    \n",
    "def tensorFromSentence(verb, sentence):\n",
    "    indexes = indexesFromSentence(verb, sentence)\n",
    "    indexes.append(EOS_token)\n",
    "    return np.array(indexes).reshape(-1,1)\n",
    "#    return np.array(indexes,dtype = np.int64).reshape(-1,1)\n",
    "\n",
    "def tensorsFromPair(pair):\n",
    "    input_tensor = tensorFromSentence(in_verb, pair[0])\n",
    "    target_tensor = tensorFromSentence(out_verb, pair[1])\n",
    "    return (input_tensor, target_tensor)\n",
    "\n",
    "print(pairs[3])\n",
    "en_input, de_target = tensorsFromPair(pairs[3]) #random.choice(pairs))\n",
    "\n",
    "print(en_input.shape)\n",
    "print(de_target.shape)\n",
    "print(en_input)\n",
    "print(de_target)"
   ]
  },
  {
   "cell_type": "markdown",
   "metadata": {
    "pycharm": {
     "name": "#%% md\n"
    }
   },
   "source": [
    "#### 3. 训练字符级的Seq2Seq模型"
   ]
  },
  {
   "cell_type": "code",
   "execution_count": null,
   "metadata": {
    "pycharm": {
     "name": "#%%\n"
    }
   },
   "outputs": [],
   "source": [
    "from train import *\n",
    "from Layers import *\n",
    "from rnn import *\n",
    "import util\n",
    "\n",
    "hidden_size = 50 #256 \n",
    "num_layers = 1\n",
    "\n",
    "clip = 5.#50.\n",
    "learning_rate = 0.1\n",
    "decoder_learning_ratio = 1.0 \n",
    "teacher_forcing_ratio =0.5\n",
    "\n",
    "encoder = EncoderRNN(in_verb.n_chars, hidden_size)\n",
    "decoder = DecoderRNN(out_verb.n_chars,hidden_size,out_verb.n_chars,num_layers,teacher_forcing_ratio)\n",
    "\n",
    "momentum = 0.5\n",
    "decay_every  =1000\n",
    "encoder_optimizer = SGD(encoder.parameters(), learning_rate, momentum,decay_every)\n",
    "decoder_optimizer = SGD(decoder.parameters(), learning_rate*decoder_learning_ratio, momentum,decay_every)\n",
    "\n",
    "reg= None#1e-2\n",
    "\n",
    "if True:\n",
    "    pairs = pairs[:80000]\n",
    "\n",
    "np.random.shuffle(pairs)\n",
    "train_n = (int)(len(pairs)*0.98)\n",
    "train_pairs = pairs[:train_n]\n",
    "valid_pairs = pairs[train_n:]\n",
    "\n",
    "n_iters = 50000\n",
    "print_every, plot_every = 100,100  #10,10\n",
    "idx_train_pairs = [tensorsFromPair(random.choice(train_pairs))      for i in range(n_iters)]\n",
    "idx_valid_pairs  =  [tensorsFromPair(pair)  for pair in valid_pairs]\n",
    "trainIters(encoder, decoder,encoder_optimizer,decoder_optimizer,idx_train_pairs,idx_valid_pairs,print_every, plot_every,reg)"
   ]
  },
  {
   "cell_type": "markdown",
   "metadata": {
    "pycharm": {
     "name": "#%% md\n"
    }
   },
   "source": [
    "可以用训练的模型进行语言翻译，将待翻译的语言的单词序列（句子）输入到编码器产生一个输出的上下文信息，该信息输入到解码器，解码器从初始时刻的输入SOS和这个上下文新产生翻译的单词序列（句子）。"
   ]
  },
  {
   "cell_type": "code",
   "execution_count": null,
   "metadata": {
    "pycharm": {
     "name": "#%%\n"
    }
   },
   "outputs": [],
   "source": [
    "MAX_LENGTH = 60\n",
    "def evaluate(encoder, decoder,in_vocab,out_vocab,sentence, max_length=MAX_LENGTH):    \n",
    "    #batch_size  = 1  \n",
    "    #encoder_hidden = encoder.init_hidden(batch_size)    \n",
    "    #encode_input = one_hot(input_verb.n_chars,en_input,True)\n",
    "    encode_input = tensorFromSentence(in_vocab,sentence)\n",
    "    encoder_output, encoder_hidden = encoder(encode_input, None)\n",
    " \n",
    "    output_sentence =  decoder.evaluate(encoder_hidden,max_length)     \n",
    "    output_sentence = indexToSentence(out_vocab,output_sentence)\n",
    "    return output_sentence"
   ]
  },
  {
   "cell_type": "markdown",
   "metadata": {
    "pycharm": {
     "name": "#%% md\n"
    }
   },
   "source": [
    "随机选择几个输入句子，用evaluate预测翻译的句子："
   ]
  },
  {
   "cell_type": "code",
   "execution_count": null,
   "metadata": {
    "pycharm": {
     "name": "#%%\n"
    }
   },
   "outputs": [],
   "source": [
    "indices = np.random.randint(len(pairs), size=3)\n",
    "for i in indices:\n",
    "    pair = pairs[i]\n",
    "    print(pair)\n",
    "    sentence = pair[0]   \n",
    "    sentence = evaluate(encoder, decoder,in_verb,out_verb, sentence)\n",
    "    print(sentence)"
   ]
  },
  {
   "cell_type": "code",
   "execution_count": null,
   "metadata": {
    "pycharm": {
     "name": "#%%\n"
    }
   },
   "outputs": [],
   "source": []
  }
 ],
 "metadata": {
  "kernelspec": {
   "display_name": "Python 3 (ipykernel)",
   "language": "python",
   "name": "python3"
  },
  "language_info": {
   "codemirror_mode": {
    "name": "ipython",
    "version": 3
   },
   "file_extension": ".py",
   "mimetype": "text/x-python",
   "name": "python",
   "nbconvert_exporter": "python",
   "pygments_lexer": "ipython3",
   "version": "3.9.12"
  }
 },
 "nbformat": 4,
 "nbformat_minor": 4
}